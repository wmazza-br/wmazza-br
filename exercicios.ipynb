{
  "nbformat": 4,
  "nbformat_minor": 0,
  "metadata": {
    "colab": {
      "name": "exercicios.ipynb",
      "provenance": [],
      "authorship_tag": "ABX9TyOb6Y07hnKklI/DgNJ3ygYr",
      "include_colab_link": true
    },
    "kernelspec": {
      "name": "python3",
      "display_name": "Python 3"
    },
    "language_info": {
      "name": "python"
    }
  },
  "cells": [
    {
      "cell_type": "markdown",
      "metadata": {
        "id": "view-in-github",
        "colab_type": "text"
      },
      "source": [
        "<a href=\"https://colab.research.google.com/github/wmazza-br/wmazza-br/blob/main/exercicios.ipynb\" target=\"_parent\"><img src=\"https://colab.research.google.com/assets/colab-badge.svg\" alt=\"Open In Colab\"/></a>"
      ]
    },
    {
      "cell_type": "markdown",
      "source": [
        "#Exercício 1\n",
        "\n",
        "Sabendo disso, crie uma lista chamada idades para armazenar várias idades. Em seguida, passe essa lista como parâmetro para uma função chamada verifica_se_pode_dirigir e para cada idade dentro da lista, verifique se a idade é maior ou igual a 18 anos. Se for, exiba a idade e a mensagem Tem permissão. Caso contrário, exiba a mensagem Não tem permissão."
      ],
      "metadata": {
        "id": "VoJijSx_jH_r"
      }
    },
    {
      "cell_type": "code",
      "execution_count": 7,
      "metadata": {
        "colab": {
          "base_uri": "https://localhost:8080/"
        },
        "id": "1HmzwonrjAC-",
        "outputId": "24b23a3d-0bf6-44f5-e460-172fbba50add"
      },
      "outputs": [
        {
          "output_type": "stream",
          "name": "stdout",
          "text": [
            "12 Não Tem permissão\n",
            "35 Tem permissão\n",
            "36 Tem permissão\n",
            "28 Tem permissão\n",
            "36 Tem permissão\n",
            "98 Tem permissão\n",
            "65 Tem permissão\n",
            "1 Não Tem permissão\n",
            "2 Não Tem permissão\n",
            "5 Não Tem permissão\n",
            "6 Não Tem permissão\n",
            "33 Tem permissão\n",
            "8 Não Tem permissão\n"
          ]
        }
      ],
      "source": [
        "idades =[12,35,36,28,36,98,65,1,2,5,6,33,8]\n",
        "\n",
        "def verifica_se_pode_dirigir(idades):\n",
        "  for idade in idades:\n",
        "    if idade >= 18:\n",
        "      print(f'{idade} Tem permissão')\n",
        "    else:\n",
        "      print(f'{idade} Não Tem permissão')\n",
        "\n",
        "verifica_se_pode_dirigir(idades)\n"
      ]
    },
    {
      "cell_type": "markdown",
      "source": [
        "#Exercício 2\n",
        "\n",
        "A plataforma da Alura possui diversos cursos de tecnologia e negócios. Podemos afirmar que a plataforma possui:\n",
        "\n",
        "**Cursos de Tecnologia e Negócios Digitais**\n",
        "\n",
        "Sabendo disso observe o código abaixo com todas as palavras em uma lista fora de ordem:"
      ],
      "metadata": {
        "id": "VeUAWHm0kvKD"
      }
    },
    {
      "cell_type": "code",
      "source": [
        "frase_alura = [' Digitais', 'e ', 'Negócios ', 'de ', 'Tecnologia ', 'Cursos ']"
      ],
      "metadata": {
        "id": "UDzgYEFBj-22"
      },
      "execution_count": 8,
      "outputs": []
    },
    {
      "cell_type": "markdown",
      "source": [
        "Sabendo disso, analise as alternativas abaixo e marque aquela que exibe o slogan de forma correta:"
      ],
      "metadata": {
        "id": "9nwnGDz8k4Em"
      }
    },
    {
      "cell_type": "code",
      "source": [
        "frase_alura[-1] + frase_alura[-3] + frase_alura[-2] + frase_alura[-5] + frase_alura[-4] + frase_alura[-6]"
      ],
      "metadata": {
        "colab": {
          "base_uri": "https://localhost:8080/",
          "height": 35
        },
        "id": "HVm1rLQEkyC2",
        "outputId": "b05821da-14aa-4016-c34d-a35c320c2c76"
      },
      "execution_count": 9,
      "outputs": [
        {
          "output_type": "execute_result",
          "data": {
            "text/plain": [
              "'Cursos de Tecnologia e Negócios  Digitais'"
            ],
            "application/vnd.google.colaboratory.intrinsic+json": {
              "type": "string"
            }
          },
          "metadata": {},
          "execution_count": 9
        }
      ]
    },
    {
      "cell_type": "markdown",
      "source": [
        "# Exercício 3\n",
        "\n",
        "A condicional if é uma estrutura condicional que executa um trecho de código, caso a afirmação seja verdadeira. Se for falsa, executa as afirmações dentro de else.\n",
        "\n",
        "Sabendo disso, observe o seguinte código:"
      ],
      "metadata": {
        "id": "QBhkWjDMlqHy"
      }
    },
    {
      "cell_type": "code",
      "source": [
        "a=2\n",
        "\n",
        "if a < 2:\n",
        " a = a + 1\n",
        "else:\n",
        " a = a + 2\n",
        "if a < 4:\n",
        " a = a - 4\n",
        "else:\n",
        " a = a + 6\n",
        "\n",
        "a"
      ],
      "metadata": {
        "colab": {
          "base_uri": "https://localhost:8080/"
        },
        "id": "1nqMk_ZglbX2",
        "outputId": "f751bb04-483c-4431-924c-3368c0ec4a1b"
      },
      "execution_count": 10,
      "outputs": [
        {
          "output_type": "execute_result",
          "data": {
            "text/plain": [
              "10"
            ]
          },
          "metadata": {},
          "execution_count": 10
        }
      ]
    },
    {
      "cell_type": "markdown",
      "source": [
        "#Exercício 4\n",
        "\n",
        "importe os métodos randrange e seed, crie 8 notas de 0 a 10, armazenando seu conteúdo numa variável chamada notas_matematica. Como os números gerados são chamados de pseudo aleatórios, utilize o método seed escolhendo um valor de referência."
      ],
      "metadata": {
        "id": "Ot1fH9FRl0p-"
      }
    },
    {
      "cell_type": "code",
      "source": [
        "from random import randrange, seed\n",
        "\n",
        "seed(105)\n",
        "notas_matematica = []\n",
        "\n",
        "for i in range(0,8):\n",
        "  notas_matematica.append(randrange(0,11))\n",
        "\n",
        "notas_matematica"
      ],
      "metadata": {
        "colab": {
          "base_uri": "https://localhost:8080/"
        },
        "id": "u4ofht1rtpxN",
        "outputId": "30861eb7-88ca-4cac-c369-ca4f4b3a6bbd"
      },
      "execution_count": 17,
      "outputs": [
        {
          "output_type": "execute_result",
          "data": {
            "text/plain": [
              "[9, 5, 9, 1, 0, 4, 8, 9]"
            ]
          },
          "metadata": {},
          "execution_count": 17
        }
      ]
    },
    {
      "cell_type": "code",
      "source": [
        ""
      ],
      "metadata": {
        "id": "f53S5DDPuhto"
      },
      "execution_count": 16,
      "outputs": []
    }
  ]
}