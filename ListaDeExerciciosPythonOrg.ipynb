{
  "nbformat": 4,
  "nbformat_minor": 0,
  "metadata": {
    "colab": {
      "name": "ListaDeExerciciosPythonOrg.ipynb",
      "provenance": [],
      "collapsed_sections": [],
      "authorship_tag": "ABX9TyOjYIUC8AV1F9YR8Cy2ljz5",
      "include_colab_link": true
    },
    "kernelspec": {
      "name": "python3",
      "display_name": "Python 3"
    },
    "language_info": {
      "name": "python"
    }
  },
  "cells": [
    {
      "cell_type": "markdown",
      "metadata": {
        "id": "view-in-github",
        "colab_type": "text"
      },
      "source": [
        "<a href=\"https://colab.research.google.com/github/wmazza-br/wmazza-br/blob/main/ListaDeExerciciosPythonOrg.ipynb\" target=\"_parent\"><img src=\"https://colab.research.google.com/assets/colab-badge.svg\" alt=\"Open In Colab\"/></a>"
      ]
    },
    {
      "cell_type": "markdown",
      "source": [
        "Lista de Exercícios 1-Estrutura Sequencial\n",
        "\n",
        "fonte: https://wiki.python.org.br/ListaDeExercicios"
      ],
      "metadata": {
        "id": "ZREPON5PeU2x"
      }
    },
    {
      "cell_type": "markdown",
      "source": [
        "18. Faça um programa que peça o tamanho de um arquivo para download (em MB) e a velocidade de um link de Internet (em Mbps), calcule e informe o tempo aproximado de download do arquivo usando este link (em minutos)."
      ],
      "metadata": {
        "id": "-e1z-hu9s-8I"
      }
    },
    {
      "cell_type": "code",
      "source": [
        "tamanho_arquivo = float(input(\"Qual tamanho do arquivo para download em MB? \"))\n",
        "velocidade_internet = float(input(\"Qual sua velocidade de internet em Mbps? \"))\n",
        "\n",
        "'''\n",
        "Mbps : Megabit per second (Mbit/s or Mb/s)\n",
        "MB/s : Megabyte per second\n",
        "1 byte = 8 bits\n",
        "1 bit  = (1/8) bytes\n",
        "1 bit  = 0.125 bytes\n",
        "1 megabyte = 10002 bytes\n",
        "1 megabit  = 10002 bits\n",
        "1 megabit  = 0.125 megabytes\n",
        "1 megabit/second = 0.125 megabytes/second\n",
        "1 Mbps = 0.125 MB/s\n",
        "'''\n",
        "\n",
        "velocidade_internet_MBs = 0.125 * velocidade_internet\n",
        "tempo_segundos = tamanho_arquivo / velocidade_internet_MBs\n",
        "tempo_minutos = tempo_segundos / 60\n",
        "\n",
        "print(\"O tempo para download de um arquivo de {} MB, com velocidade de {} Mbps, é de {} minutos.\".format(tamanho_arquivo, velocidade_internet, round(tempo_minutos,2)))\n"
      ],
      "metadata": {
        "id": "IjcNaXW0s-n9",
        "colab": {
          "base_uri": "https://localhost:8080/"
        },
        "outputId": "e6c59232-95cf-477f-9d3d-f4423d393c74"
      },
      "execution_count": null,
      "outputs": [
        {
          "output_type": "stream",
          "name": "stdout",
          "text": [
            "Qual tamanho do arquivo para download em MB? 450\n",
            "Qual sua velocidade de internet em Mbps? 45\n",
            "O tempo para download de um arquivo de 450.0 MB, com velocidade de 45.0 Mbps, é de 1.33 minutos.\n"
          ]
        }
      ]
    },
    {
      "cell_type": "markdown",
      "source": [
        "17. Faça um Programa para uma loja de tintas. O programa deverá pedir o tamanho em metros quadrados da área a ser pintada. Considere que a cobertura da tinta é de 1 litro para cada 6 metros quadrados e que a tinta é vendida em latas de 18 litros, que custam 80.00 reais ou em galões de 3.6 litros, que custam  25.00 reais.\n",
        "Informe ao usuário as quantidades de tinta a serem compradas e os respectivos preços em 3 situações:\n",
        "\n",
        "* comprar apenas latas de 18 litros;\n",
        "* comprar apenas galões de 3,6 litros;\n",
        "* misturar latas e galões, de forma que o desperdício de tinta seja menor. \n",
        "* Acrescente 10% de folga e sempre arredonde os valores para cima, isto é, considere latas cheias."
      ],
      "metadata": {
        "id": "-ryhYbjas1Lk"
      }
    },
    {
      "cell_type": "code",
      "source": [
        "import math\n",
        "\n",
        "area = int(input(\"Informe o tamanho em metros quadrados da área a ser pintada: \"))\n",
        "\n",
        "quantidade_tinta = (area / 6) * 1.1 # 10% de folga a mais\n",
        "\n",
        "numero_de_latas = math.ceil(quantidade_tinta / 18)\n",
        "\n",
        "numero_de_galoes = math.ceil(quantidade_tinta / 3.6)\n",
        "\n",
        "custo_da_lata = numero_de_latas * 80.00\n",
        "\n",
        "custo_do_galao = numero_de_galoes * 25.00\n",
        "\n",
        "\n",
        "# comprar apenas latas de 18 litros\n",
        "\n",
        "if numero_de_latas >= 1:\n",
        "  print(\"Caso opte por comprar só latas, você vai precisar de {} latas de tinta, que custarão R$ {:.2f} \".format(int(numero_de_latas), custo_da_lata))\n",
        "else: print(\"Caso opte por comprar só latas, você vai precisar de 1 lata de tinta, que custará R$ 80.00\")\n",
        "\n",
        "# comprar apenas galões de 3.6 litros\n",
        "\n",
        "if numero_de_galoes >= 1:\n",
        "  print(\"Caso opte por comprar só galões, você vai precisar de {} galões de tinta, que custarão R$ {:.2f} \".format(int(numero_de_galoes), custo_do_galao))\n",
        "else: print(\"Caso opte por comprar só galões, você vai precisar de 1 galão de tinta, que custará R$ 25.00\")\n",
        "\n",
        "# misturar latas e galões, de forma que o desperdício de tinta seja menor\n",
        "\n",
        "# vamos maximizar o número de latas, e o resto em galões, até pq será mais barato também\n",
        "\n",
        "maximo_de_latas = math.ceil(quantidade_tinta // 18) # em número de latas\n",
        "\n",
        "total_de_tinta_em_lata = maximo_de_latas * 18 # em litros\n",
        "\n",
        "faltante_de_tinta = math.ceil(quantidade_tinta - total_de_tinta_em_lata) # em litros\n",
        "\n",
        "restante_em_galoes = math.ceil(faltante_de_tinta / 3.6) # em número de galões\n",
        "\n",
        "# tem que pensar também em áreas muito pequenas\n",
        "\n",
        "if area >= 108:\n",
        "  print(\"A melhor opção - por economia de tinta - é comprar {} latas + {} galões, e custará R$ {:.2f}\".format(maximo_de_latas, restante_em_galoes, (maximo_de_latas*80 + restante_em_galoes*25)))\n",
        "elif area > 21.6 and area < 108: print(\"Nesse caso, você vai precisar de 1 lata de tinta, que custará R$ 80.00\")\n",
        "else: print(\"Nesse caso, você vai precisar de 1 galão de tinta, que custará R$ 25.00\")\n"
      ],
      "metadata": {
        "id": "zEA8xZk_s08E",
        "colab": {
          "base_uri": "https://localhost:8080/"
        },
        "outputId": "f64bd1c5-2afe-4b08-9510-ba64cfb412b9"
      },
      "execution_count": null,
      "outputs": [
        {
          "output_type": "stream",
          "name": "stdout",
          "text": [
            "Informe o tamanho em metros quadrados da área a ser pintada: 20000\n",
            "Caso opte por comprar só latas, você vai precisar de 204 latas de tinta, que custarão R$ 16320.00 \n",
            "Caso opte por comprar só galões, você vai precisar de 1019 galões de tinta, que custarão R$ 25475.00 \n",
            "A melhor opção - por economia de tinta - é comprar 203 latas + 4 galões, e custará R$ 16340.00\n"
          ]
        }
      ]
    },
    {
      "cell_type": "markdown",
      "source": [
        "16. Faça um programa para uma loja de tintas. O programa deverá pedir o tamanho em metros quadrados da área a ser pintada. Considere que a cobertura da tinta é de 1 litro para cada 3 metros quadrados e que a tinta é vendida em latas de 18 litros, que custam R$ 80,00. Informe ao usuário a quantidades de latas de tinta a serem compradas e o preço total."
      ],
      "metadata": {
        "id": "F4rHS2CCsxHl"
      }
    },
    {
      "cell_type": "code",
      "source": [
        "import math # para arredondar sempre pra cima\n",
        "\n",
        "area = int(input(\"Informe o tamanho em metros quadrados da área a ser pintada: \"))\n",
        "\n",
        "quantidade_tinta = area / 3\n",
        "\n",
        "numero_de_latas = math.ceil(quantidade_tinta / 18) # para arredondar sempre pra cima\n",
        "\n",
        "custo_da_tinta = numero_de_latas * 80.00\n",
        "\n",
        "# tem que prever casos onde a cobertura seja menor que uma lata\n",
        "\n",
        "if numero_de_latas >= 1:\n",
        "  print(\"Você vai precisar de {} latas de tinta, que custarão R$ {:.2f} \".format(numero_de_latas, custo_da_tinta))\n",
        "else: print(\"Você vai precisar de 1 lata de tinta, que custará R$ 80.00\")"
      ],
      "metadata": {
        "colab": {
          "base_uri": "https://localhost:8080/"
        },
        "id": "IKYrojSxsw6i",
        "outputId": "7eda48ce-1554-4f19-e3c8-657dbfe94548"
      },
      "execution_count": null,
      "outputs": [
        {
          "output_type": "stream",
          "name": "stdout",
          "text": [
            "Informe o tamanho em metros quadrados da área a ser pintada: 600\n",
            "Você vai precisar de 12 latas de tinta, que custarão R$ 960.00 \n"
          ]
        }
      ]
    },
    {
      "cell_type": "markdown",
      "source": [
        "15. Faça um Programa que pergunte quanto você ganha por hora e o número de horas trabalhadas no mês. Calcule e mostre o total do seu salário no referido mês, sabendo-se que são descontados 11% para o Imposto de Renda, 8% para o INSS e 5% para o sindicato, faça um programa que nos dê:\n",
        "\n",
        "* salário bruto.\n",
        "* quanto pagou ao INSS.\n",
        "* quanto pagou ao sindicato.\n",
        "* o salário líquido.\n",
        "\n",
        "calcule os descontos e o salário líquido, conforme a tabela abaixo:\n",
        "* '+' Salário Bruto : R$\n",
        "\n",
        "* '-' IR (11%) : R$\n",
        "\n",
        "* '-' INSS (8%) : R$\n",
        "\n",
        "* '-' Sindicato ( 5%) : R$\n",
        "\n",
        "* '=' Salário Liquido : R$\n",
        "\n",
        "Obs.: Salário Bruto - Descontos = Salário Líquido."
      ],
      "metadata": {
        "id": "_mjCOgO_rHnB"
      }
    },
    {
      "cell_type": "code",
      "source": [
        "valor_hora, horas_trabalhadas = float(input(\"Diga seu salário por hora: \")), int(input(\"Diga o número horas trabalhadas por mês: \"))\n",
        "\n",
        "salario_bruto = valor_hora * horas_trabalhadas\n",
        "ir = 0.11 * salario_bruto\n",
        "inss = 0.08 * salario_bruto\n",
        "sindicato = 0.05 * salario_bruto\n",
        "salario_liquido = salario_bruto - ir - inss - sindicato\n",
        "\n",
        "print(\"\\nSeu salário bruto é de R$ {:.2f}\".format(salario_bruto))\n",
        "print(\"Seu desconto de IR é de R$ {:.2f}\".format(ir))\n",
        "print(\"Seu desconto de INSS é de R$ {:.2f}\".format(inss))\n",
        "print(\"Seu desconto de sindicato é de R$ {:.2f}\".format(sindicato))\n",
        "print(\"Seu salário liquido é de R$ {:.2f}\".format(salario_liquido))"
      ],
      "metadata": {
        "colab": {
          "base_uri": "https://localhost:8080/"
        },
        "id": "nbIHlnW0rHbg",
        "outputId": "2a9933db-eb42-4aa7-d776-c3b4ed8ce264"
      },
      "execution_count": null,
      "outputs": [
        {
          "output_type": "stream",
          "name": "stdout",
          "text": [
            "Diga seu salário por hora: 100\n",
            "Diga o número horas trabalhadas por mês: 220\n",
            "\n",
            "Seu salário bruto é de R$ 22000.00\n",
            "Seu desconto de IR é de R$ 2420.00\n",
            "Seu desconto de INSS é de R$ 1760.00\n",
            "Seu desconto de sindicato é de R$ 1100.00\n",
            "Seu salário liquido é de R$ 16720.00\n"
          ]
        }
      ]
    },
    {
      "cell_type": "markdown",
      "source": [
        "14. João Papo-de-Pescador, homem de bem, comprou um microcomputador para controlar o rendimento diário de seu trabalho. Toda vez que ele traz um peso de peixes maior que o estabelecido pelo regulamento de pesca do estado de São Paulo (50 quilos) deve pagar uma multa de R$ 4,00 por quilo excedente. João precisa que você faça um programa que leia a variável peso (peso de peixes) e calcule o excesso. Gravar na variável excesso a quantidade de quilos além do limite e na variável multa o valor da multa que João deverá pagar. Imprima os dados do programa com as mensagens adequadas."
      ],
      "metadata": {
        "id": "ih5wleDApk4W"
      }
    },
    {
      "cell_type": "code",
      "source": [
        "peso_de_peixes = float(input('Quantos kg você pescou hoje? '))\n",
        "\n",
        "peso_permitido = 50\n",
        "\n",
        "excesso = peso_de_peixes - peso_permitido\n",
        "\n",
        "if excesso > 0:\n",
        "  print(\"Como você pescou {} kg acima do permitido, pagará uma multa total de R$ {:.2f} reais.\".format(excesso, round(excesso * 4.00,2)))\n",
        "else: print(\"Sua pesca foi dentro da lei.\")"
      ],
      "metadata": {
        "colab": {
          "base_uri": "https://localhost:8080/"
        },
        "id": "niiz4oK5pks3",
        "outputId": "c12761c1-f2ff-4fd8-8043-9563b8f9b718"
      },
      "execution_count": null,
      "outputs": [
        {
          "output_type": "stream",
          "name": "stdout",
          "text": [
            "Quantos kg você pescou hoje? 75\n",
            "Como você pescou 25.0 kg acima do permitido, pagará uma multa total de R$ 100.00 reais.\n"
          ]
        }
      ]
    },
    {
      "cell_type": "markdown",
      "source": [
        "13. Tendo como dado de entrada a altura (h) de uma pessoa, construa um algoritmo que calcule seu peso ideal, utilizando as seguintes fórmulas:\n",
        "\n",
        "* Para homens: (72.7*h) - 58\n",
        "* Para mulheres: (62.1*h) - 44.7"
      ],
      "metadata": {
        "id": "YHYeQnUCoDvy"
      }
    },
    {
      "cell_type": "code",
      "source": [
        "altura = float(input('Forneça sua altura: '))\n",
        "\n",
        "peso_ideal_h = 72.7 * altura - 58\n",
        "peso_ideal_m = 62.1 * altura - 44.7\n",
        "\n",
        "print(\"Seu peso ideal, baseado em sua altura é de {} kg, caso seja homem, e {} kg, caso seja mulher.\".format(round(peso_ideal_h,2), round(peso_ideal_m,2)))"
      ],
      "metadata": {
        "colab": {
          "base_uri": "https://localhost:8080/"
        },
        "id": "l1p9nAUDoDgw",
        "outputId": "c987e9a4-9d63-419e-c7fc-377d5d92c1ca"
      },
      "execution_count": null,
      "outputs": [
        {
          "output_type": "stream",
          "name": "stdout",
          "text": [
            "Forneça sua altura: 1.75\n",
            "Seu peso ideal, baseado em sua altura é de 69.23 kg, caso seja homem, e 63.97 kg, caso seja mulher\n"
          ]
        }
      ]
    },
    {
      "cell_type": "markdown",
      "source": [
        "12. Tendo como dados de entrada a altura de uma pessoa, construa um algoritmo que calcule seu peso ideal, usando a seguinte fórmula: (72.7*altura) - 58"
      ],
      "metadata": {
        "id": "VoQxJx6sm-we"
      }
    },
    {
      "cell_type": "code",
      "source": [
        "altura = float(input('Forneça sua altura: '))\n",
        "\n",
        "peso_ideal = 72.7 * altura - 58\n",
        "\n",
        "print(\"Seu peso ideal, baseado em sua altura é de {} kg\".format(round(peso_ideal,2)))"
      ],
      "metadata": {
        "colab": {
          "base_uri": "https://localhost:8080/"
        },
        "id": "1zH26C9-m-k2",
        "outputId": "b73c6268-37f7-4b3f-e99a-c647b1be50f9"
      },
      "execution_count": null,
      "outputs": [
        {
          "output_type": "stream",
          "name": "stdout",
          "text": [
            "Forneça sua altura: 1.86\n",
            "Seu peso ideal, baseado em sua altura é de 77.22 kg\n"
          ]
        }
      ]
    },
    {
      "cell_type": "markdown",
      "source": [
        "11. Faça um Programa que peça 2 números inteiros e um número real. \n",
        "\n",
        "Calcule e mostre:\n",
        "\n",
        "* o produto do dobro do primeiro com metade do segundo .\n",
        "\n",
        "* a soma do triplo do primeiro com o terceiro.\n",
        "\n",
        "* o terceiro elevado ao cubo."
      ],
      "metadata": {
        "id": "k1-uTi_0lrjH"
      }
    },
    {
      "cell_type": "code",
      "source": [
        "int_1, int_2, real = int(input('Digite um número inteiro: ')), int(input('Digite outro número inteiro: ')), float(input('Digite um número real: '))\n",
        "\n",
        "# o produto do dobro do primeiro com metade do segundo\n",
        "\n",
        "print(2 * int_1 * 0.5 * int_2)\n",
        "\n",
        "# a soma do triplo do primeiro com o terceiro\n",
        "\n",
        "print((3 * int_1) + real)\n",
        "\n",
        "# o terceiro elevado ao cubo\n",
        "\n",
        "print(real ** 3)"
      ],
      "metadata": {
        "colab": {
          "base_uri": "https://localhost:8080/"
        },
        "id": "hu-lCVJ7lrOW",
        "outputId": "e8417b61-b74f-4c53-a8e4-4607a45be2d6"
      },
      "execution_count": null,
      "outputs": [
        {
          "output_type": "stream",
          "name": "stdout",
          "text": [
            "Digite um número inteiro: 10\n",
            "Digite outro número inteiro: 5\n",
            "Digite um número real: 3.5\n",
            "50.0\n",
            "33.5\n",
            "42.875\n"
          ]
        }
      ]
    },
    {
      "cell_type": "markdown",
      "source": [
        "10. Faça um Programa que peça a temperatura em graus Celsius, transforme e mostre em graus Fahrenheit."
      ],
      "metadata": {
        "id": "y7NYvO0flGa_"
      }
    },
    {
      "cell_type": "code",
      "source": [
        "temp_C = float(input('Digite a temperatura em °C: '))\n",
        "\n",
        "temp_F = (temp_C * 9/5) + 32\n",
        "\n",
        "print(\"A temperatura equivalente em °F é: \", temp_F)"
      ],
      "metadata": {
        "colab": {
          "base_uri": "https://localhost:8080/"
        },
        "id": "9Goa_HzDlGQm",
        "outputId": "f0faaf43-2126-4564-f502-1d067aa8d521"
      },
      "execution_count": null,
      "outputs": [
        {
          "output_type": "stream",
          "name": "stdout",
          "text": [
            "Digite a temperatura em °C: 25\n",
            "A temperatura equivalente em °F é:  77.0\n"
          ]
        }
      ]
    },
    {
      "cell_type": "markdown",
      "source": [
        "9. Faça um Programa que peça a temperatura em graus Fahrenheit, transforme e mostre a temperatura em graus Celsius.\n",
        "C = 5 * ((F-32) / 9)."
      ],
      "metadata": {
        "id": "QNOVNzfjkJ49"
      }
    },
    {
      "cell_type": "code",
      "source": [
        "temp_F = float(input('Digite a temperatura em °C: '))\n",
        "\n",
        "temp_C = (temp_F - 32) * 5/9\n",
        "\n",
        "print(\"A temperatura equivalente em °C é: \", temp_C)"
      ],
      "metadata": {
        "colab": {
          "base_uri": "https://localhost:8080/"
        },
        "id": "0tq8GE7SkJnD",
        "outputId": "dd0737a5-728f-4de3-e892-97f63f684c21"
      },
      "execution_count": null,
      "outputs": [
        {
          "output_type": "stream",
          "name": "stdout",
          "text": [
            "Digite a temperatura em °C: 77\n",
            "A temperatura equivalente em °C é:  25.0\n"
          ]
        }
      ]
    },
    {
      "cell_type": "markdown",
      "source": [
        "8. Faça um Programa que pergunte quanto você ganha por hora e o número de horas trabalhadas no mês. Calcule e mostre o total do seu salário no referido mês."
      ],
      "metadata": {
        "id": "zB4dOhZ1jFjD"
      }
    },
    {
      "cell_type": "code",
      "source": [
        "valor_hora, horas_trabalhadas = float(input(\"Diga seu salário por hora: \")), int(input(\"Diga o número horas trabalhadas por mês: \"))\n",
        "\n",
        "salario_mensal = valor_hora * horas_trabalhadas\n",
        "\n",
        "print(\"R$ {:.2f}\".format(salario_mensal))"
      ],
      "metadata": {
        "colab": {
          "base_uri": "https://localhost:8080/"
        },
        "id": "sY3xtoAwjFWk",
        "outputId": "d5800500-cabf-4b21-9ab1-ad6f6fb75d96"
      },
      "execution_count": null,
      "outputs": [
        {
          "output_type": "stream",
          "name": "stdout",
          "text": [
            "Diga seu salário por hora: 5.56\n",
            "Diga o número horas trabalhadas por mês: 220\n",
            "R$ 1223.20\n"
          ]
        }
      ]
    },
    {
      "cell_type": "markdown",
      "source": [
        "7. Faça um Programa que calcule a área de um quadrado, em seguida mostre o dobro desta área para o usuário."
      ],
      "metadata": {
        "id": "esEN5eSnixSv"
      }
    },
    {
      "cell_type": "code",
      "source": [
        "lado = int(input(\"Forneça um lado: \"))\n",
        "\n",
        "area = lado ** 2\n",
        "\n",
        "print(2 * area)"
      ],
      "metadata": {
        "colab": {
          "base_uri": "https://localhost:8080/"
        },
        "id": "N_SM-7cRixEt",
        "outputId": "7cc7e1f6-5f2a-4fd1-bcfd-5704da38ba75"
      },
      "execution_count": null,
      "outputs": [
        {
          "output_type": "stream",
          "name": "stdout",
          "text": [
            "Forneça um lado: 10\n",
            "200\n"
          ]
        }
      ]
    },
    {
      "cell_type": "markdown",
      "source": [
        "6. Faça um Programa que peça o raio de um círculo, calcule e mostre sua área."
      ],
      "metadata": {
        "id": "-2vnSU6giItA"
      }
    },
    {
      "cell_type": "code",
      "source": [
        "raio = int(input(\"Forneça um raio: \"))\n",
        "\n",
        "print(\"Num círculo de raio \", raio, \", sua área é de \", 3.14 * raio ** 2)"
      ],
      "metadata": {
        "colab": {
          "base_uri": "https://localhost:8080/"
        },
        "id": "lJT1JB7riIez",
        "outputId": "e4946928-fc07-4e14-cda6-79211315159d"
      },
      "execution_count": null,
      "outputs": [
        {
          "output_type": "stream",
          "name": "stdout",
          "text": [
            "Forneça um raio: 5\n",
            "Num círculo de raio  5 , sua área é de  78.5\n"
          ]
        }
      ]
    },
    {
      "cell_type": "markdown",
      "source": [
        "5. Faça um Programa que converta metros para centímetros."
      ],
      "metadata": {
        "id": "SoxvLKbwhSjY"
      }
    },
    {
      "cell_type": "code",
      "source": [
        "metros = 1.96\n",
        "\n",
        "centímetros = metros * 100\n",
        "\n",
        "print(metros, \"m, equivalem a\", centímetros, \"cm\")"
      ],
      "metadata": {
        "colab": {
          "base_uri": "https://localhost:8080/"
        },
        "id": "ojyLCxhUhSUA",
        "outputId": "f4cad8bb-6a1e-425b-d1da-28ecf804deaf"
      },
      "execution_count": null,
      "outputs": [
        {
          "output_type": "stream",
          "name": "stdout",
          "text": [
            "1.96 m, equivalem a 196.0 cm\n"
          ]
        }
      ]
    },
    {
      "cell_type": "markdown",
      "source": [
        "4. Faça um Programa que peça as 4 notas bimestrais e mostre a média."
      ],
      "metadata": {
        "id": "iX0es0vPfxML"
      }
    },
    {
      "cell_type": "code",
      "source": [
        "nota_1, nota_2, nota_3, nota_4 = float(input('Digite a 1ª nota: ')), float(input('Digite a 2ª nota: ')), float(input('Digite a 3ª nota: ')), float(input('Digite a 4ª nota: '))\n",
        "\n",
        "media = (nota_1 + nota_2 + nota_3 + nota_4) / 4\n",
        "\n",
        "print(\"A média é \",media)"
      ],
      "metadata": {
        "colab": {
          "base_uri": "https://localhost:8080/"
        },
        "id": "Mqv-Kcayfw4z",
        "outputId": "6edb53d2-73a6-4a16-e868-6f19d778b811"
      },
      "execution_count": null,
      "outputs": [
        {
          "output_type": "stream",
          "name": "stdout",
          "text": [
            "Digite a 1ª nota: 8\n",
            "Digite a 2ª nota: 4.5\n",
            "Digite a 3ª nota: 6.9\n",
            "Digite a 4ª nota: 3.8\n",
            "A média é  5.8\n"
          ]
        }
      ]
    },
    {
      "cell_type": "markdown",
      "source": [
        "3. Faça um Programa que peça dois números e imprima a soma."
      ],
      "metadata": {
        "id": "OkhTFVuzfMAE"
      }
    },
    {
      "cell_type": "code",
      "source": [
        "numero_1 = int(input(\"Digite um número: \"))\n",
        "numero_2 = int(input(\"Digite outro número: \"))\n",
        "\n",
        "print(numero_1 + numero_2)"
      ],
      "metadata": {
        "colab": {
          "base_uri": "https://localhost:8080/"
        },
        "id": "jb0tkLGtfLxm",
        "outputId": "bf5bf11f-1865-4077-d3c1-012207c92c24"
      },
      "execution_count": null,
      "outputs": [
        {
          "output_type": "stream",
          "name": "stdout",
          "text": [
            "Digite um número: 5\n",
            "Digite outro número: 15\n",
            "20\n"
          ]
        }
      ]
    },
    {
      "cell_type": "markdown",
      "source": [
        "2. Faça um Programa que peça um número e então mostre a mensagem O número informado foi [número]."
      ],
      "metadata": {
        "id": "gH8uFCxHe3Fw"
      }
    },
    {
      "cell_type": "code",
      "source": [
        "numero = input(\"Digite um número: \")\n",
        "\n",
        "print(\"O número informado foi \", numero)"
      ],
      "metadata": {
        "colab": {
          "base_uri": "https://localhost:8080/"
        },
        "id": "CaVBXrA-e21x",
        "outputId": "28d6a71c-5804-4a90-eda8-a2480b2a6481"
      },
      "execution_count": null,
      "outputs": [
        {
          "output_type": "stream",
          "name": "stdout",
          "text": [
            "Digite um número: 5\n",
            "O número informado foi  5\n"
          ]
        }
      ]
    },
    {
      "cell_type": "markdown",
      "source": [
        "1. Faça um Programa que mostre a mensagem \"Alo mundo\" na tela."
      ],
      "metadata": {
        "id": "IBIzQkx9epqr"
      }
    },
    {
      "cell_type": "code",
      "execution_count": null,
      "metadata": {
        "colab": {
          "base_uri": "https://localhost:8080/"
        },
        "id": "19kPkiHEeT0a",
        "outputId": "80fed533-706b-4fa4-baf4-e96a67ad9194"
      },
      "outputs": [
        {
          "output_type": "stream",
          "name": "stdout",
          "text": [
            "Alo mundo\n"
          ]
        }
      ],
      "source": [
        "print(\"Alo mundo\")"
      ]
    }
  ]
}