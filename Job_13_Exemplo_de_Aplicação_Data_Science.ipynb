{
  "nbformat": 4,
  "nbformat_minor": 0,
  "metadata": {
    "colab": {
      "name": "Job 13 - Exemplo de Aplicação Data Science.ipynb",
      "provenance": [],
      "collapsed_sections": [],
      "authorship_tag": "ABX9TyO2GUugyYI7MXyHohKPDJen",
      "include_colab_link": true
    },
    "kernelspec": {
      "name": "python3",
      "display_name": "Python 3"
    },
    "language_info": {
      "name": "python"
    }
  },
  "cells": [
    {
      "cell_type": "markdown",
      "metadata": {
        "id": "view-in-github",
        "colab_type": "text"
      },
      "source": [
        "<a href=\"https://colab.research.google.com/github/wmazza-br/wmazza-br/blob/main/Job_13_Exemplo_de_Aplica%C3%A7%C3%A3o_Data_Science.ipynb\" target=\"_parent\"><img src=\"https://colab.research.google.com/assets/colab-badge.svg\" alt=\"Open In Colab\"/></a>"
      ]
    },
    {
      "cell_type": "markdown",
      "source": [
        "#<font color='blue' style='font-size: 30px;'>Avaliação de Despesas Governamentais</font>"
      ],
      "metadata": {
        "id": "EKilN2Q7wXQq"
      }
    },
    {
      "cell_type": "markdown",
      "source": [
        "##<font color='blue' style='font-size: 30px;'>1.   Problema de negócio</font>\n",
        "\n",
        "Auxiliar o governo federal na detecção de possíveis fraudes em seus processos de pagamentos, no período de Janeiro a Abril de 2022, por meio de poderosas ferramentas de inteligência artificial e ciência de dados."
      ],
      "metadata": {
        "id": "orPl92K_sMGM"
      }
    },
    {
      "cell_type": "markdown",
      "source": [
        "<hr></hr>"
      ],
      "metadata": {
        "id": "y2-IxoFQkS7x"
      }
    },
    {
      "cell_type": "markdown",
      "source": [
        "##<font color='blue' style='font-size: 30px;'>2.   Origem dos dados</font>"
      ],
      "metadata": {
        "id": "JWpLua1fkXLn"
      }
    },
    {
      "cell_type": "markdown",
      "source": [
        "*   Fonte da base de dados: Portal da transparência, da Controladoria geral da União"
      ],
      "metadata": {
        "id": "JaOCRawSVJFf"
      }
    },
    {
      "cell_type": "markdown",
      "source": [
        "*   Disponível em: https://www.portaltransparencia.gov.br/download-de-dados/despesas-execucao\n",
        "<hr></hr>"
      ],
      "metadata": {
        "id": "-6lQNTNLVR3S"
      }
    },
    {
      "cell_type": "markdown",
      "source": [
        "##<font color='blue' style='font-size: 30px;'>3.   Importando a base de dados</font>"
      ],
      "metadata": {
        "id": "5AslRnOdjFa8"
      }
    },
    {
      "metadata": {
        "id": "E01201ePA0r2"
      },
      "cell_type": "code",
      "source": [
        "# importando as mais potentes bibliotecas em Python\n",
        "\n",
        "import warnings\n",
        "warnings.simplefilter(action='ignore')\n",
        "import numpy as np\n",
        "import pandas as pd\n",
        "import matplotlib.pyplot as plt \n",
        "import seaborn as sns"
      ],
      "execution_count": null,
      "outputs": []
    },
    {
      "cell_type": "code",
      "source": [
        "from google.colab import drive\n",
        "drive.mount(\"/content/drive\", force_remount=True)"
      ],
      "metadata": {
        "colab": {
          "base_uri": "https://localhost:8080/"
        },
        "id": "CJoERlsWes7M",
        "outputId": "b7ee7155-dedc-448d-cb40-f437648ab221"
      },
      "execution_count": null,
      "outputs": [
        {
          "output_type": "stream",
          "name": "stdout",
          "text": [
            "Mounted at /content/drive\n"
          ]
        }
      ]
    },
    {
      "metadata": {
        "id": "e_IFJSNlBdkJ"
      },
      "cell_type": "code",
      "source": [
        "df = pd.read_csv('/content/drive/MyDrive/Colab Notebooks/Portfólio próprio/despesas_gov_jan_abr_22.csv', encoding='iso-8859-1', sep=';')"
      ],
      "execution_count": null,
      "outputs": []
    },
    {
      "cell_type": "code",
      "source": [
        "df.head(3)"
      ],
      "metadata": {
        "colab": {
          "base_uri": "https://localhost:8080/",
          "height": 515
        },
        "id": "TSyFHLQra3Gh",
        "outputId": "b55a5cd0-7e96-4071-88f8-611148da19dd"
      },
      "execution_count": null,
      "outputs": [
        {
          "output_type": "execute_result",
          "data": {
            "text/plain": [
              "  Ano e mês do lançamento  Código Órgão Superior     Nome Órgão Superior  \\\n",
              "0                 2022/01                  52000    Ministério da Defesa   \n",
              "1                 2022/01                  25000  Ministério da Economia   \n",
              "2                 2022/01                  26000  Ministério da Educação   \n",
              "\n",
              "   Código Órgão Subordinado  \\\n",
              "0                     52121   \n",
              "1                     25205   \n",
              "2                     26416   \n",
              "\n",
              "                              Nome Órgão Subordinado  Código Unidade Gestora  \\\n",
              "0                                Comando do Exército                  160180   \n",
              "1  Fundação Instituto Brasileiro de Geografia e E...                  114639   \n",
              "2                          Instituto Federal do Pará                  158506   \n",
              "\n",
              "                       Nome Unidade Gestora  Código Gestão  \\\n",
              "0  4º B P E - CONTROLE PATRIMONIAL E CUSTOS            NaN   \n",
              "1     UNIDADE ESTADUAL DO IBGE EM TOCANTINS        11301.0   \n",
              "2          INST.FED.DO PARA/CAMPUS BRAGANCA        26416.0   \n",
              "\n",
              "                                    Nome Gestão  Código Unidade Orçamentária  \\\n",
              "0                                           NaN                        52121   \n",
              "1  FUNDACAO INSTITUTO BRAS.GEOGR. E ESTATISTICA                        25301   \n",
              "2         INST.FED.DE EDUC.,CIENC.E TEC.DO PARA                        26298   \n",
              "\n",
              "   ... Código Elemento de Despesa  \\\n",
              "0  ...                         52   \n",
              "1  ...                         39   \n",
              "2  ...                         32   \n",
              "\n",
              "                        Nome Elemento de Despesa Código Modalidade da Despesa  \\\n",
              "0             Equipamentos e Material Permanente                           90   \n",
              "1  Outros Serviços de Terceiros - Pessoa Jurídic                           90   \n",
              "2  Material, Bem ou Serviço para Distribuição Gr                           90   \n",
              "\n",
              "     Modalidade da Despesa Valor Empenhado (R$)  Valor Liquidado (R$)  \\\n",
              "0  Reserva de Contingência                    0                     0   \n",
              "1  Reserva de Contingência                 1050                  1050   \n",
              "2  Reserva de Contingência                    0                     0   \n",
              "\n",
              "  Valor Pago (R$) Valor Restos a Pagar Inscritos (R$)  \\\n",
              "0               0                             2996,96   \n",
              "1            1050                                   0   \n",
              "2               0                                   0   \n",
              "\n",
              "  Valor Restos a Pagar Cancelado (R$) Valor Restos a Pagar Pagos (R$)  \n",
              "0                                   0                               0  \n",
              "1                                   0                         5685,23  \n",
              "2                                   0                           27114  \n",
              "\n",
              "[3 rows x 47 columns]"
            ],
            "text/html": [
              "\n",
              "  <div id=\"df-1d61ebd5-34cd-42bb-8aa4-624d9749d09f\">\n",
              "    <div class=\"colab-df-container\">\n",
              "      <div>\n",
              "<style scoped>\n",
              "    .dataframe tbody tr th:only-of-type {\n",
              "        vertical-align: middle;\n",
              "    }\n",
              "\n",
              "    .dataframe tbody tr th {\n",
              "        vertical-align: top;\n",
              "    }\n",
              "\n",
              "    .dataframe thead th {\n",
              "        text-align: right;\n",
              "    }\n",
              "</style>\n",
              "<table border=\"1\" class=\"dataframe\">\n",
              "  <thead>\n",
              "    <tr style=\"text-align: right;\">\n",
              "      <th></th>\n",
              "      <th>Ano e mês do lançamento</th>\n",
              "      <th>Código Órgão Superior</th>\n",
              "      <th>Nome Órgão Superior</th>\n",
              "      <th>Código Órgão Subordinado</th>\n",
              "      <th>Nome Órgão Subordinado</th>\n",
              "      <th>Código Unidade Gestora</th>\n",
              "      <th>Nome Unidade Gestora</th>\n",
              "      <th>Código Gestão</th>\n",
              "      <th>Nome Gestão</th>\n",
              "      <th>Código Unidade Orçamentária</th>\n",
              "      <th>...</th>\n",
              "      <th>Código Elemento de Despesa</th>\n",
              "      <th>Nome Elemento de Despesa</th>\n",
              "      <th>Código Modalidade da Despesa</th>\n",
              "      <th>Modalidade da Despesa</th>\n",
              "      <th>Valor Empenhado (R$)</th>\n",
              "      <th>Valor Liquidado (R$)</th>\n",
              "      <th>Valor Pago (R$)</th>\n",
              "      <th>Valor Restos a Pagar Inscritos (R$)</th>\n",
              "      <th>Valor Restos a Pagar Cancelado (R$)</th>\n",
              "      <th>Valor Restos a Pagar Pagos (R$)</th>\n",
              "    </tr>\n",
              "  </thead>\n",
              "  <tbody>\n",
              "    <tr>\n",
              "      <th>0</th>\n",
              "      <td>2022/01</td>\n",
              "      <td>52000</td>\n",
              "      <td>Ministério da Defesa</td>\n",
              "      <td>52121</td>\n",
              "      <td>Comando do Exército</td>\n",
              "      <td>160180</td>\n",
              "      <td>4º B P E - CONTROLE PATRIMONIAL E CUSTOS</td>\n",
              "      <td>NaN</td>\n",
              "      <td>NaN</td>\n",
              "      <td>52121</td>\n",
              "      <td>...</td>\n",
              "      <td>52</td>\n",
              "      <td>Equipamentos e Material Permanente</td>\n",
              "      <td>90</td>\n",
              "      <td>Reserva de Contingência</td>\n",
              "      <td>0</td>\n",
              "      <td>0</td>\n",
              "      <td>0</td>\n",
              "      <td>2996,96</td>\n",
              "      <td>0</td>\n",
              "      <td>0</td>\n",
              "    </tr>\n",
              "    <tr>\n",
              "      <th>1</th>\n",
              "      <td>2022/01</td>\n",
              "      <td>25000</td>\n",
              "      <td>Ministério da Economia</td>\n",
              "      <td>25205</td>\n",
              "      <td>Fundação Instituto Brasileiro de Geografia e E...</td>\n",
              "      <td>114639</td>\n",
              "      <td>UNIDADE ESTADUAL DO IBGE EM TOCANTINS</td>\n",
              "      <td>11301.0</td>\n",
              "      <td>FUNDACAO INSTITUTO BRAS.GEOGR. E ESTATISTICA</td>\n",
              "      <td>25301</td>\n",
              "      <td>...</td>\n",
              "      <td>39</td>\n",
              "      <td>Outros Serviços de Terceiros - Pessoa Jurídic</td>\n",
              "      <td>90</td>\n",
              "      <td>Reserva de Contingência</td>\n",
              "      <td>1050</td>\n",
              "      <td>1050</td>\n",
              "      <td>1050</td>\n",
              "      <td>0</td>\n",
              "      <td>0</td>\n",
              "      <td>5685,23</td>\n",
              "    </tr>\n",
              "    <tr>\n",
              "      <th>2</th>\n",
              "      <td>2022/01</td>\n",
              "      <td>26000</td>\n",
              "      <td>Ministério da Educação</td>\n",
              "      <td>26416</td>\n",
              "      <td>Instituto Federal do Pará</td>\n",
              "      <td>158506</td>\n",
              "      <td>INST.FED.DO PARA/CAMPUS BRAGANCA</td>\n",
              "      <td>26416.0</td>\n",
              "      <td>INST.FED.DE EDUC.,CIENC.E TEC.DO PARA</td>\n",
              "      <td>26298</td>\n",
              "      <td>...</td>\n",
              "      <td>32</td>\n",
              "      <td>Material, Bem ou Serviço para Distribuição Gr</td>\n",
              "      <td>90</td>\n",
              "      <td>Reserva de Contingência</td>\n",
              "      <td>0</td>\n",
              "      <td>0</td>\n",
              "      <td>0</td>\n",
              "      <td>0</td>\n",
              "      <td>0</td>\n",
              "      <td>27114</td>\n",
              "    </tr>\n",
              "  </tbody>\n",
              "</table>\n",
              "<p>3 rows × 47 columns</p>\n",
              "</div>\n",
              "      <button class=\"colab-df-convert\" onclick=\"convertToInteractive('df-1d61ebd5-34cd-42bb-8aa4-624d9749d09f')\"\n",
              "              title=\"Convert this dataframe to an interactive table.\"\n",
              "              style=\"display:none;\">\n",
              "        \n",
              "  <svg xmlns=\"http://www.w3.org/2000/svg\" height=\"24px\"viewBox=\"0 0 24 24\"\n",
              "       width=\"24px\">\n",
              "    <path d=\"M0 0h24v24H0V0z\" fill=\"none\"/>\n",
              "    <path d=\"M18.56 5.44l.94 2.06.94-2.06 2.06-.94-2.06-.94-.94-2.06-.94 2.06-2.06.94zm-11 1L8.5 8.5l.94-2.06 2.06-.94-2.06-.94L8.5 2.5l-.94 2.06-2.06.94zm10 10l.94 2.06.94-2.06 2.06-.94-2.06-.94-.94-2.06-.94 2.06-2.06.94z\"/><path d=\"M17.41 7.96l-1.37-1.37c-.4-.4-.92-.59-1.43-.59-.52 0-1.04.2-1.43.59L10.3 9.45l-7.72 7.72c-.78.78-.78 2.05 0 2.83L4 21.41c.39.39.9.59 1.41.59.51 0 1.02-.2 1.41-.59l7.78-7.78 2.81-2.81c.8-.78.8-2.07 0-2.86zM5.41 20L4 18.59l7.72-7.72 1.47 1.35L5.41 20z\"/>\n",
              "  </svg>\n",
              "      </button>\n",
              "      \n",
              "  <style>\n",
              "    .colab-df-container {\n",
              "      display:flex;\n",
              "      flex-wrap:wrap;\n",
              "      gap: 12px;\n",
              "    }\n",
              "\n",
              "    .colab-df-convert {\n",
              "      background-color: #E8F0FE;\n",
              "      border: none;\n",
              "      border-radius: 50%;\n",
              "      cursor: pointer;\n",
              "      display: none;\n",
              "      fill: #1967D2;\n",
              "      height: 32px;\n",
              "      padding: 0 0 0 0;\n",
              "      width: 32px;\n",
              "    }\n",
              "\n",
              "    .colab-df-convert:hover {\n",
              "      background-color: #E2EBFA;\n",
              "      box-shadow: 0px 1px 2px rgba(60, 64, 67, 0.3), 0px 1px 3px 1px rgba(60, 64, 67, 0.15);\n",
              "      fill: #174EA6;\n",
              "    }\n",
              "\n",
              "    [theme=dark] .colab-df-convert {\n",
              "      background-color: #3B4455;\n",
              "      fill: #D2E3FC;\n",
              "    }\n",
              "\n",
              "    [theme=dark] .colab-df-convert:hover {\n",
              "      background-color: #434B5C;\n",
              "      box-shadow: 0px 1px 3px 1px rgba(0, 0, 0, 0.15);\n",
              "      filter: drop-shadow(0px 1px 2px rgba(0, 0, 0, 0.3));\n",
              "      fill: #FFFFFF;\n",
              "    }\n",
              "  </style>\n",
              "\n",
              "      <script>\n",
              "        const buttonEl =\n",
              "          document.querySelector('#df-1d61ebd5-34cd-42bb-8aa4-624d9749d09f button.colab-df-convert');\n",
              "        buttonEl.style.display =\n",
              "          google.colab.kernel.accessAllowed ? 'block' : 'none';\n",
              "\n",
              "        async function convertToInteractive(key) {\n",
              "          const element = document.querySelector('#df-1d61ebd5-34cd-42bb-8aa4-624d9749d09f');\n",
              "          const dataTable =\n",
              "            await google.colab.kernel.invokeFunction('convertToInteractive',\n",
              "                                                     [key], {});\n",
              "          if (!dataTable) return;\n",
              "\n",
              "          const docLinkHtml = 'Like what you see? Visit the ' +\n",
              "            '<a target=\"_blank\" href=https://colab.research.google.com/notebooks/data_table.ipynb>data table notebook</a>'\n",
              "            + ' to learn more about interactive tables.';\n",
              "          element.innerHTML = '';\n",
              "          dataTable['output_type'] = 'display_data';\n",
              "          await google.colab.output.renderOutput(dataTable, element);\n",
              "          const docLink = document.createElement('div');\n",
              "          docLink.innerHTML = docLinkHtml;\n",
              "          element.appendChild(docLink);\n",
              "        }\n",
              "      </script>\n",
              "    </div>\n",
              "  </div>\n",
              "  "
            ]
          },
          "metadata": {},
          "execution_count": 4
        }
      ]
    },
    {
      "cell_type": "markdown",
      "source": [
        "<hr></hr>"
      ],
      "metadata": {
        "id": "TbqYNIbIkQVd"
      }
    },
    {
      "cell_type": "markdown",
      "source": [
        "##<font color='blue' style='font-size: 30px;'>4.   Conhecendo e minerando a base de dados</font>"
      ],
      "metadata": {
        "id": "TYTdcxvajbht"
      }
    },
    {
      "cell_type": "code",
      "source": [
        "begin = df.shape[1] * df.shape[0]\n",
        "\n",
        "print (\"Número de registros da base de dados: \", df.shape[0])\n",
        "print (\"Número de colunas da base de dados: \", df.shape[1])\n",
        "print (\"O total de dados é de: \", df.shape[1] * df.shape[0])"
      ],
      "metadata": {
        "colab": {
          "base_uri": "https://localhost:8080/"
        },
        "id": "0Ng4n7iV10K4",
        "outputId": "a2f1a491-580c-4514-bb78-99d507342150"
      },
      "execution_count": null,
      "outputs": [
        {
          "output_type": "stream",
          "name": "stdout",
          "text": [
            "Número de registros da base de dados:  204110\n",
            "Número de colunas da base de dados:  47\n",
            "O total de dados é de:  9593170\n"
          ]
        }
      ]
    },
    {
      "metadata": {
        "id": "2FJJAb7EQSDk",
        "outputId": "48dd8bd2-c1bd-49f7-8a61-8e8fc40eb640",
        "colab": {
          "base_uri": "https://localhost:8080/"
        }
      },
      "cell_type": "code",
      "source": [
        "df.nunique()"
      ],
      "execution_count": null,
      "outputs": [
        {
          "output_type": "execute_result",
          "data": {
            "text/plain": [
              "Ano e mês do lançamento                    4\n",
              "Código Órgão Superior                     21\n",
              "Nome Órgão Superior                       21\n",
              "Código Órgão Subordinado                 242\n",
              "Nome Órgão Subordinado                   242\n",
              "Código Unidade Gestora                  3348\n",
              "Nome Unidade Gestora                    2953\n",
              "Código Gestão                            187\n",
              "Nome Gestão                              187\n",
              "Código Unidade Orçamentária              364\n",
              "Nome Unidade Orçamentária                352\n",
              "Código Função                             28\n",
              "Nome Função                               28\n",
              "Código Subfução                           97\n",
              "Nome Subfunção                            97\n",
              "Código Programa Orçamentário             192\n",
              "Nome Programa Orçamentário               176\n",
              "Código Ação                             1162\n",
              "Nome Ação                               1137\n",
              "Código Plano Orçamentário                215\n",
              "Plano Orçamentário                      2980\n",
              "Código Programa Governo                   14\n",
              "Nome Programa Governo                     12\n",
              "UF                                        27\n",
              "Município                                760\n",
              "Código Subtítulo                        4405\n",
              "Nome Subtítulo                          3840\n",
              "Código Localizador                       999\n",
              "Nome Localizador                          35\n",
              "Sigla Localizador                         34\n",
              "Descrição Complementar Localizador         1\n",
              "Código Autor Emenda                      258\n",
              "Nome Autor Emenda                       6581\n",
              "Código Categoria Econômica                 2\n",
              "Nome Categoria Econômica                   2\n",
              "Código Grupo de Despesa                    6\n",
              "Nome Grupo de Despesa                      6\n",
              "Código Elemento de Despesa                68\n",
              "Nome Elemento de Despesa                  68\n",
              "Código Modalidade da Despesa              13\n",
              "Modalidade da Despesa                     16\n",
              "Valor Empenhado (R$)                   76343\n",
              "Valor Liquidado (R$)                   81102\n",
              "Valor Pago (R$)                        72885\n",
              "Valor Restos a Pagar Inscritos (R$)      376\n",
              "Valor Restos a Pagar Cancelado (R$)     9013\n",
              "Valor Restos a Pagar Pagos (R$)        84051\n",
              "dtype: int64"
            ]
          },
          "metadata": {},
          "execution_count": 6
        }
      ]
    },
    {
      "cell_type": "code",
      "source": [
        "df.isnull().sum()"
      ],
      "metadata": {
        "colab": {
          "base_uri": "https://localhost:8080/"
        },
        "id": "GwFJ5bbov9As",
        "outputId": "37474e99-e220-4df9-d634-0e8498555ccb"
      },
      "execution_count": null,
      "outputs": [
        {
          "output_type": "execute_result",
          "data": {
            "text/plain": [
              "Ano e mês do lançamento                     0\n",
              "Código Órgão Superior                       0\n",
              "Nome Órgão Superior                         0\n",
              "Código Órgão Subordinado                    0\n",
              "Nome Órgão Subordinado                      0\n",
              "Código Unidade Gestora                      0\n",
              "Nome Unidade Gestora                        0\n",
              "Código Gestão                            6135\n",
              "Nome Gestão                              6135\n",
              "Código Unidade Orçamentária                 0\n",
              "Nome Unidade Orçamentária                   0\n",
              "Código Função                               0\n",
              "Nome Função                                 0\n",
              "Código Subfução                             0\n",
              "Nome Subfunção                              0\n",
              "Código Programa Orçamentário                0\n",
              "Nome Programa Orçamentário                  0\n",
              "Código Ação                                 0\n",
              "Nome Ação                                   0\n",
              "Código Plano Orçamentário                   0\n",
              "Plano Orçamentário                          0\n",
              "Código Programa Governo                     0\n",
              "Nome Programa Governo                       0\n",
              "UF                                     136510\n",
              "Município                              201920\n",
              "Código Subtítulo                            0\n",
              "Nome Subtítulo                              0\n",
              "Código Localizador                          0\n",
              "Nome Localizador                            0\n",
              "Sigla Localizador                      126882\n",
              "Descrição Complementar Localizador          0\n",
              "Código Autor Emenda                    189604\n",
              "Nome Autor Emenda                           0\n",
              "Código Categoria Econômica                  0\n",
              "Nome Categoria Econômica                    0\n",
              "Código Grupo de Despesa                     0\n",
              "Nome Grupo de Despesa                       0\n",
              "Código Elemento de Despesa                  0\n",
              "Nome Elemento de Despesa                    0\n",
              "Código Modalidade da Despesa                0\n",
              "Modalidade da Despesa                       0\n",
              "Valor Empenhado (R$)                        0\n",
              "Valor Liquidado (R$)                        0\n",
              "Valor Pago (R$)                             0\n",
              "Valor Restos a Pagar Inscritos (R$)         0\n",
              "Valor Restos a Pagar Cancelado (R$)         0\n",
              "Valor Restos a Pagar Pagos (R$)             0\n",
              "dtype: int64"
            ]
          },
          "metadata": {},
          "execution_count": 7
        }
      ]
    },
    {
      "cell_type": "markdown",
      "source": [
        "Informações relevantes, refrentes aos dados faltantes:\n",
        "\n",
        "\n",
        "\n",
        "> **Código Gestão**: pouca informação faltante; <font color='green'>MANTER  COLUNA</font>\n",
        "\n",
        "\n",
        "> **Nome Gestão**: pouca informação faltante; <font color='green'>MANTER  COLUNA</font>\n",
        "\n",
        "\n",
        "> **UF**: por se tratar de compra federal, nem sempre é possível atribuir uma compra a um estado; <font color='red'>ELIMINAR COLUNA</font>\n",
        "\n",
        "\n",
        "> **Município**: por se tratar de compra federal, nem sempre é possível atribuir uma compra a um município; <font color='red'>ELIMINAR COLUNA</font>\n",
        "\n",
        "\n",
        "> **Sigla Localizador**: muita informação faltante; <font color='red'>ELIMINAR COLUNA</font>\n",
        "\n",
        "\n",
        "\n",
        "> **Código Autor Emenda**: muita informação faltante. <font color='red'>ELIMINAR COLUNA</font>\n",
        "\n",
        "<hr></hr>"
      ],
      "metadata": {
        "id": "rOH-nMGCYGKt"
      }
    },
    {
      "cell_type": "code",
      "source": [
        "#Retirando variáveis que não agregam valor ao entendimento do caso\n",
        "\n",
        "df2 = df.copy() # df2 é df1 sem 4 variáveis\n",
        "df2.drop(['UF', 'Município','Sigla Localizador', 'Código Autor Emenda'], axis=1, inplace=True)"
      ],
      "metadata": {
        "id": "YJK7rMOgejbR"
      },
      "execution_count": null,
      "outputs": []
    },
    {
      "cell_type": "code",
      "source": [
        "df2.info()"
      ],
      "metadata": {
        "colab": {
          "base_uri": "https://localhost:8080/"
        },
        "id": "DEQAV8zOr-tT",
        "outputId": "2664208f-8b2d-40d6-f5a3-46156eedfb77"
      },
      "execution_count": null,
      "outputs": [
        {
          "output_type": "stream",
          "name": "stdout",
          "text": [
            "<class 'pandas.core.frame.DataFrame'>\n",
            "RangeIndex: 204110 entries, 0 to 204109\n",
            "Data columns (total 43 columns):\n",
            " #   Column                               Non-Null Count   Dtype  \n",
            "---  ------                               --------------   -----  \n",
            " 0   Ano e mês do lançamento              204110 non-null  object \n",
            " 1   Código Órgão Superior                204110 non-null  int64  \n",
            " 2   Nome Órgão Superior                  204110 non-null  object \n",
            " 3   Código Órgão Subordinado             204110 non-null  int64  \n",
            " 4   Nome Órgão Subordinado               204110 non-null  object \n",
            " 5   Código Unidade Gestora               204110 non-null  int64  \n",
            " 6   Nome Unidade Gestora                 204110 non-null  object \n",
            " 7   Código Gestão                        197975 non-null  float64\n",
            " 8   Nome Gestão                          197975 non-null  object \n",
            " 9   Código Unidade Orçamentária          204110 non-null  int64  \n",
            " 10  Nome Unidade Orçamentária            204110 non-null  object \n",
            " 11  Código Função                        204110 non-null  int64  \n",
            " 12  Nome Função                          204110 non-null  object \n",
            " 13  Código Subfução                      204110 non-null  int64  \n",
            " 14  Nome Subfunção                       204110 non-null  object \n",
            " 15  Código Programa Orçamentário         204110 non-null  int64  \n",
            " 16  Nome Programa Orçamentário           204110 non-null  object \n",
            " 17  Código Ação                          204110 non-null  object \n",
            " 18  Nome Ação                            204110 non-null  object \n",
            " 19  Código Plano Orçamentário            204110 non-null  object \n",
            " 20  Plano Orçamentário                   204110 non-null  object \n",
            " 21  Código Programa Governo              204110 non-null  object \n",
            " 22  Nome Programa Governo                204110 non-null  object \n",
            " 23  Código Subtítulo                     204110 non-null  object \n",
            " 24  Nome Subtítulo                       204110 non-null  object \n",
            " 25  Código Localizador                   204110 non-null  int64  \n",
            " 26  Nome Localizador                     204110 non-null  object \n",
            " 27  Descrição Complementar Localizador   204110 non-null  object \n",
            " 28  Nome Autor Emenda                    204110 non-null  object \n",
            " 29  Código Categoria Econômica           204110 non-null  int64  \n",
            " 30  Nome Categoria Econômica             204110 non-null  object \n",
            " 31  Código Grupo de Despesa              204110 non-null  int64  \n",
            " 32  Nome Grupo de Despesa                204110 non-null  object \n",
            " 33  Código Elemento de Despesa           204110 non-null  int64  \n",
            " 34  Nome Elemento de Despesa             204110 non-null  object \n",
            " 35  Código Modalidade da Despesa         204110 non-null  int64  \n",
            " 36  Modalidade da Despesa                204110 non-null  object \n",
            " 37  Valor Empenhado (R$)                 204110 non-null  object \n",
            " 38  Valor Liquidado (R$)                 204110 non-null  object \n",
            " 39  Valor Pago (R$)                      204110 non-null  object \n",
            " 40  Valor Restos a Pagar Inscritos (R$)  204110 non-null  object \n",
            " 41  Valor Restos a Pagar Cancelado (R$)  204110 non-null  object \n",
            " 42  Valor Restos a Pagar Pagos (R$)      204110 non-null  object \n",
            "dtypes: float64(1), int64(12), object(30)\n",
            "memory usage: 67.0+ MB\n"
          ]
        }
      ]
    },
    {
      "cell_type": "code",
      "source": [
        "# converter de 'object' para 'float'\n",
        "\n",
        "lista1 = ['Valor Empenhado (R$)',\n",
        "          'Valor Pago (R$)',\n",
        "          'Valor Liquidado (R$)',\n",
        "          'Valor Restos a Pagar Inscritos (R$)',\n",
        "          'Valor Restos a Pagar Cancelado (R$)',\n",
        "          'Valor Restos a Pagar Pagos (R$)']\n",
        "\n",
        "for i in lista1:\n",
        "  df2[i] = df2[i].apply(lambda x: float(x.split()[0].replace(',', '.')))"
      ],
      "metadata": {
        "id": "9wD_lQRz-Hrr"
      },
      "execution_count": null,
      "outputs": []
    },
    {
      "cell_type": "code",
      "source": [
        "# converter de 'int' para 'object'\n",
        "\n",
        "lista2 = ['Código Órgão Superior',\n",
        "         'Código Órgão Subordinado',\n",
        "         'Código Unidade Gestora',\n",
        "         'Código Gestão',\n",
        "         'Código Unidade Orçamentária',\n",
        "         'Código Função',\n",
        "         'Código Subfução',\n",
        "         'Código Programa Orçamentário',\n",
        "         'Código Localizador',\n",
        "         'Código Categoria Econômica',\n",
        "         'Código Grupo de Despesa',\n",
        "         'Código Elemento de Despesa',\n",
        "         'Código Modalidade da Despesa']\n",
        "\n",
        "for i in lista2:\n",
        "  df2[i] = df2[i].astype(object)"
      ],
      "metadata": {
        "id": "sgqeMlOZBG5c"
      },
      "execution_count": null,
      "outputs": []
    },
    {
      "cell_type": "code",
      "source": [
        "a_renomear = {\n",
        "              'Valor Empenhado (R$)' : 'Valor_Empenhado',\n",
        "              'Valor Liquidado (R$)' : 'Valor_Liquidado',\n",
        "              'Valor Pago (R$)' : 'Valor_Pago',\n",
        "              'Valor Restos a Pagar Inscritos (R$)' : 'Valor_Restos_a_Pagar_Inscritos',\n",
        "              'Valor Restos a Pagar Cancelado (R$)' : 'Valor_Restos_a_Pagar_Cancelado',\n",
        "              'Valor Restos a Pagar Pagos (R$)' : 'Valor_Restos_a_Pagar_Pagos',\n",
        "              }\n",
        "df2 = df2.rename(columns = a_renomear)"
      ],
      "metadata": {
        "id": "Ig-ItYxxgp0I"
      },
      "execution_count": null,
      "outputs": []
    },
    {
      "cell_type": "markdown",
      "source": [
        "<hr></hr>"
      ],
      "metadata": {
        "id": "25GhSVM7Frp1"
      }
    },
    {
      "cell_type": "markdown",
      "source": [
        "##<font color='blue' style='font-size: 30px;'>5.   Explorando a base de dados</font>"
      ],
      "metadata": {
        "id": "KxZJI1iNaQv9"
      }
    },
    {
      "cell_type": "code",
      "source": [
        "# checando dados estatísticos da base\n",
        "\n",
        "df2.describe().T.round()"
      ],
      "metadata": {
        "colab": {
          "base_uri": "https://localhost:8080/",
          "height": 238
        },
        "id": "o_l4I0enxxEz",
        "outputId": "ae301c00-ade7-42a1-98b9-6f10a60e45ec"
      },
      "execution_count": null,
      "outputs": [
        {
          "output_type": "execute_result",
          "data": {
            "text/plain": [
              "                                   count        mean          std  \\\n",
              "Valor_Empenhado                 204110.0  10325937.0  958963337.0   \n",
              "Valor_Liquidado                 204110.0   6679922.0  760313000.0   \n",
              "Valor_Pago                      204110.0   6239973.0  751733729.0   \n",
              "Valor_Restos_a_Pagar_Inscritos  204110.0         0.0     180023.0   \n",
              "Valor_Restos_a_Pagar_Cancelado  204110.0     21171.0    3106325.0   \n",
              "Valor_Restos_a_Pagar_Pagos      204110.0    634565.0   65749005.0   \n",
              "\n",
              "                                         min  25%    50%      75%  \\\n",
              "Valor_Empenhado                -3.421393e+10  0.0  217.0  19702.0   \n",
              "Valor_Liquidado                -7.158832e+09  0.0    0.0   9117.0   \n",
              "Valor_Pago                     -7.158832e+09  0.0    0.0   5429.0   \n",
              "Valor_Restos_a_Pagar_Inscritos -4.238261e+07  0.0    0.0      0.0   \n",
              "Valor_Restos_a_Pagar_Cancelado -8.364612e+06  0.0    0.0      0.0   \n",
              "Valor_Restos_a_Pagar_Pagos     -9.471028e+06  0.0    0.0  10973.0   \n",
              "\n",
              "                                         max  \n",
              "Valor_Empenhado                 2.175200e+11  \n",
              "Valor_Liquidado                 2.115960e+11  \n",
              "Valor_Pago                      2.115960e+11  \n",
              "Valor_Restos_a_Pagar_Inscritos  4.238261e+07  \n",
              "Valor_Restos_a_Pagar_Cancelado  1.103292e+09  \n",
              "Valor_Restos_a_Pagar_Pagos      2.609654e+10  "
            ],
            "text/html": [
              "\n",
              "  <div id=\"df-4a75d365-0411-4704-a19f-7e2d2548bc99\">\n",
              "    <div class=\"colab-df-container\">\n",
              "      <div>\n",
              "<style scoped>\n",
              "    .dataframe tbody tr th:only-of-type {\n",
              "        vertical-align: middle;\n",
              "    }\n",
              "\n",
              "    .dataframe tbody tr th {\n",
              "        vertical-align: top;\n",
              "    }\n",
              "\n",
              "    .dataframe thead th {\n",
              "        text-align: right;\n",
              "    }\n",
              "</style>\n",
              "<table border=\"1\" class=\"dataframe\">\n",
              "  <thead>\n",
              "    <tr style=\"text-align: right;\">\n",
              "      <th></th>\n",
              "      <th>count</th>\n",
              "      <th>mean</th>\n",
              "      <th>std</th>\n",
              "      <th>min</th>\n",
              "      <th>25%</th>\n",
              "      <th>50%</th>\n",
              "      <th>75%</th>\n",
              "      <th>max</th>\n",
              "    </tr>\n",
              "  </thead>\n",
              "  <tbody>\n",
              "    <tr>\n",
              "      <th>Valor_Empenhado</th>\n",
              "      <td>204110.0</td>\n",
              "      <td>10325937.0</td>\n",
              "      <td>958963337.0</td>\n",
              "      <td>-3.421393e+10</td>\n",
              "      <td>0.0</td>\n",
              "      <td>217.0</td>\n",
              "      <td>19702.0</td>\n",
              "      <td>2.175200e+11</td>\n",
              "    </tr>\n",
              "    <tr>\n",
              "      <th>Valor_Liquidado</th>\n",
              "      <td>204110.0</td>\n",
              "      <td>6679922.0</td>\n",
              "      <td>760313000.0</td>\n",
              "      <td>-7.158832e+09</td>\n",
              "      <td>0.0</td>\n",
              "      <td>0.0</td>\n",
              "      <td>9117.0</td>\n",
              "      <td>2.115960e+11</td>\n",
              "    </tr>\n",
              "    <tr>\n",
              "      <th>Valor_Pago</th>\n",
              "      <td>204110.0</td>\n",
              "      <td>6239973.0</td>\n",
              "      <td>751733729.0</td>\n",
              "      <td>-7.158832e+09</td>\n",
              "      <td>0.0</td>\n",
              "      <td>0.0</td>\n",
              "      <td>5429.0</td>\n",
              "      <td>2.115960e+11</td>\n",
              "    </tr>\n",
              "    <tr>\n",
              "      <th>Valor_Restos_a_Pagar_Inscritos</th>\n",
              "      <td>204110.0</td>\n",
              "      <td>0.0</td>\n",
              "      <td>180023.0</td>\n",
              "      <td>-4.238261e+07</td>\n",
              "      <td>0.0</td>\n",
              "      <td>0.0</td>\n",
              "      <td>0.0</td>\n",
              "      <td>4.238261e+07</td>\n",
              "    </tr>\n",
              "    <tr>\n",
              "      <th>Valor_Restos_a_Pagar_Cancelado</th>\n",
              "      <td>204110.0</td>\n",
              "      <td>21171.0</td>\n",
              "      <td>3106325.0</td>\n",
              "      <td>-8.364612e+06</td>\n",
              "      <td>0.0</td>\n",
              "      <td>0.0</td>\n",
              "      <td>0.0</td>\n",
              "      <td>1.103292e+09</td>\n",
              "    </tr>\n",
              "    <tr>\n",
              "      <th>Valor_Restos_a_Pagar_Pagos</th>\n",
              "      <td>204110.0</td>\n",
              "      <td>634565.0</td>\n",
              "      <td>65749005.0</td>\n",
              "      <td>-9.471028e+06</td>\n",
              "      <td>0.0</td>\n",
              "      <td>0.0</td>\n",
              "      <td>10973.0</td>\n",
              "      <td>2.609654e+10</td>\n",
              "    </tr>\n",
              "  </tbody>\n",
              "</table>\n",
              "</div>\n",
              "      <button class=\"colab-df-convert\" onclick=\"convertToInteractive('df-4a75d365-0411-4704-a19f-7e2d2548bc99')\"\n",
              "              title=\"Convert this dataframe to an interactive table.\"\n",
              "              style=\"display:none;\">\n",
              "        \n",
              "  <svg xmlns=\"http://www.w3.org/2000/svg\" height=\"24px\"viewBox=\"0 0 24 24\"\n",
              "       width=\"24px\">\n",
              "    <path d=\"M0 0h24v24H0V0z\" fill=\"none\"/>\n",
              "    <path d=\"M18.56 5.44l.94 2.06.94-2.06 2.06-.94-2.06-.94-.94-2.06-.94 2.06-2.06.94zm-11 1L8.5 8.5l.94-2.06 2.06-.94-2.06-.94L8.5 2.5l-.94 2.06-2.06.94zm10 10l.94 2.06.94-2.06 2.06-.94-2.06-.94-.94-2.06-.94 2.06-2.06.94z\"/><path d=\"M17.41 7.96l-1.37-1.37c-.4-.4-.92-.59-1.43-.59-.52 0-1.04.2-1.43.59L10.3 9.45l-7.72 7.72c-.78.78-.78 2.05 0 2.83L4 21.41c.39.39.9.59 1.41.59.51 0 1.02-.2 1.41-.59l7.78-7.78 2.81-2.81c.8-.78.8-2.07 0-2.86zM5.41 20L4 18.59l7.72-7.72 1.47 1.35L5.41 20z\"/>\n",
              "  </svg>\n",
              "      </button>\n",
              "      \n",
              "  <style>\n",
              "    .colab-df-container {\n",
              "      display:flex;\n",
              "      flex-wrap:wrap;\n",
              "      gap: 12px;\n",
              "    }\n",
              "\n",
              "    .colab-df-convert {\n",
              "      background-color: #E8F0FE;\n",
              "      border: none;\n",
              "      border-radius: 50%;\n",
              "      cursor: pointer;\n",
              "      display: none;\n",
              "      fill: #1967D2;\n",
              "      height: 32px;\n",
              "      padding: 0 0 0 0;\n",
              "      width: 32px;\n",
              "    }\n",
              "\n",
              "    .colab-df-convert:hover {\n",
              "      background-color: #E2EBFA;\n",
              "      box-shadow: 0px 1px 2px rgba(60, 64, 67, 0.3), 0px 1px 3px 1px rgba(60, 64, 67, 0.15);\n",
              "      fill: #174EA6;\n",
              "    }\n",
              "\n",
              "    [theme=dark] .colab-df-convert {\n",
              "      background-color: #3B4455;\n",
              "      fill: #D2E3FC;\n",
              "    }\n",
              "\n",
              "    [theme=dark] .colab-df-convert:hover {\n",
              "      background-color: #434B5C;\n",
              "      box-shadow: 0px 1px 3px 1px rgba(0, 0, 0, 0.15);\n",
              "      filter: drop-shadow(0px 1px 2px rgba(0, 0, 0, 0.3));\n",
              "      fill: #FFFFFF;\n",
              "    }\n",
              "  </style>\n",
              "\n",
              "      <script>\n",
              "        const buttonEl =\n",
              "          document.querySelector('#df-4a75d365-0411-4704-a19f-7e2d2548bc99 button.colab-df-convert');\n",
              "        buttonEl.style.display =\n",
              "          google.colab.kernel.accessAllowed ? 'block' : 'none';\n",
              "\n",
              "        async function convertToInteractive(key) {\n",
              "          const element = document.querySelector('#df-4a75d365-0411-4704-a19f-7e2d2548bc99');\n",
              "          const dataTable =\n",
              "            await google.colab.kernel.invokeFunction('convertToInteractive',\n",
              "                                                     [key], {});\n",
              "          if (!dataTable) return;\n",
              "\n",
              "          const docLinkHtml = 'Like what you see? Visit the ' +\n",
              "            '<a target=\"_blank\" href=https://colab.research.google.com/notebooks/data_table.ipynb>data table notebook</a>'\n",
              "            + ' to learn more about interactive tables.';\n",
              "          element.innerHTML = '';\n",
              "          dataTable['output_type'] = 'display_data';\n",
              "          await google.colab.output.renderOutput(dataTable, element);\n",
              "          const docLink = document.createElement('div');\n",
              "          docLink.innerHTML = docLinkHtml;\n",
              "          element.appendChild(docLink);\n",
              "        }\n",
              "      </script>\n",
              "    </div>\n",
              "  </div>\n",
              "  "
            ]
          },
          "metadata": {},
          "execution_count": 13
        }
      ]
    },
    {
      "cell_type": "code",
      "source": [
        "# valor pago por mês\n",
        "\n",
        "df2.groupby(\"Ano e mês do lançamento\")[\"Valor_Pago\"].sum()"
      ],
      "metadata": {
        "colab": {
          "base_uri": "https://localhost:8080/"
        },
        "id": "UmMw7qeEuXAq",
        "outputId": "36144801-fb33-433d-f8c6-3c1f3b9570db"
      },
      "execution_count": null,
      "outputs": [
        {
          "output_type": "execute_result",
          "data": {
            "text/plain": [
              "Ano e mês do lançamento\n",
              "2022/01    2.757362e+11\n",
              "2022/02    2.100290e+11\n",
              "2022/03    4.571713e+11\n",
              "2022/04    3.307045e+11\n",
              "Name: Valor_Pago, dtype: float64"
            ]
          },
          "metadata": {},
          "execution_count": 14
        }
      ]
    },
    {
      "cell_type": "markdown",
      "source": [
        "<font color='red'>mês de março chama atenção: checar.</font>"
      ],
      "metadata": {
        "id": "7xwR5k-1Oq1n"
      }
    },
    {
      "cell_type": "markdown",
      "source": [
        "### <font color='blue'>5.1 Avaliar 'curva A' dos gastos do Governo Federal</font>"
      ],
      "metadata": {
        "id": "-T72xzBfPd-H"
      }
    },
    {
      "cell_type": "code",
      "source": [
        "# estratificação dos gastos por Órgão Superior\n",
        "\n",
        "a = df2.groupby(\"Nome Órgão Superior\")[\"Valor_Pago\"].sum()\n",
        "a.sort_values(ascending=False, inplace=True)\n",
        "a"
      ],
      "metadata": {
        "colab": {
          "base_uri": "https://localhost:8080/"
        },
        "id": "5wZm_7EKxDwR",
        "outputId": "696f2d50-573f-41f8-83ad-a79f6cccf47d"
      },
      "execution_count": null,
      "outputs": [
        {
          "output_type": "execute_result",
          "data": {
            "text/plain": [
              "Nome Órgão Superior\n",
              "Ministério da Economia                           8.442075e+11\n",
              "Ministério do Trabalho                           2.647565e+11\n",
              "Ministério da Educação                           3.908289e+10\n",
              "Ministério da Saúde                              3.756886e+10\n",
              "Ministério da Cidadania                          3.064035e+10\n",
              "Ministério da Defesa                             2.507008e+10\n",
              "Ministério de Minas e Energia                    1.324459e+10\n",
              "Ministério do Desenvolvimento Regional           5.355856e+09\n",
              "Ministério da Justiça e Segurança Pública        3.770955e+09\n",
              "Ministério da Agricultura, Pecuária e Abastec    2.468733e+09\n",
              "Ministério da Ciência, Tecnologia, Inovações     1.604880e+09\n",
              "Ministério das Relações Exteriores               1.148029e+09\n",
              "Advocacia-Geral da União                         1.032774e+09\n",
              "Ministério da Infraestrutura                     1.005193e+09\n",
              "Banco Central do Brasil - Orçamento Fiscal e     9.216193e+08\n",
              "Ministério do Meio Ambiente                      5.323143e+08\n",
              "Ministério das Comunicações                      3.851863e+08\n",
              "Presidência da República                         2.864318e+08\n",
              "Controladoria-Geral da União                     2.849339e+08\n",
              "Ministério do Turismo                            2.382423e+08\n",
              "Ministério da Mulher, Família e Direitos Huma    3.510351e+07\n",
              "Name: Valor_Pago, dtype: float64"
            ]
          },
          "metadata": {},
          "execution_count": 15
        }
      ]
    },
    {
      "cell_type": "code",
      "source": [
        "# cálculo da curva A do Órgão Superior\n",
        "\n",
        "soma = 0\n",
        "\n",
        "for i,row in a.iteritems():\n",
        "  soma += row\n",
        "\n",
        "curva_a = 0\n",
        "\n",
        "for j,row2 in a.iteritems():\n",
        "  curva_a += row2\n",
        "  if curva_a > (0.8 * soma):\n",
        "    break\n",
        "\n",
        "print('O montante equivalente da curva A é: ', curva_a, '\\nEquivalente a ', round(curva_a / soma * 100), '% do total.\\nQue engloba até o', j)"
      ],
      "metadata": {
        "colab": {
          "base_uri": "https://localhost:8080/"
        },
        "id": "Wiplh2ETN17b",
        "outputId": "fe849b0a-3bb2-48ee-c206-02c7ec5976f3"
      },
      "execution_count": null,
      "outputs": [
        {
          "output_type": "stream",
          "name": "stdout",
          "text": [
            "O montante equivalente da curva A é:  1108963971591.54 \n",
            "Equivalente a  87 % do total.\n",
            "Que engloba até o Ministério do Trabalho\n"
          ]
        }
      ]
    },
    {
      "cell_type": "markdown",
      "source": [
        "###<font color='blue'>5.2 Aprofundar análise no Ministério da Economia"
      ],
      "metadata": {
        "id": "nkdtf8cOdDzZ"
      }
    },
    {
      "cell_type": "code",
      "source": [
        "# criação do df3, com dados só do Ministério da Economia\n",
        "\n",
        "df3 = df2.groupby('Nome Órgão Superior').get_group('Ministério da Economia')\n",
        "\n",
        "a1 = df3.groupby(\"Nome Órgão Superior\")[\"Valor_Pago\"].sum()\n",
        "a1.sort_values(ascending=False, inplace=True)\n",
        "a1"
      ],
      "metadata": {
        "colab": {
          "base_uri": "https://localhost:8080/"
        },
        "id": "pcMJAlXUdNCP",
        "outputId": "e269ee1c-aa31-44f7-a649-4612030ca714"
      },
      "execution_count": null,
      "outputs": [
        {
          "output_type": "execute_result",
          "data": {
            "text/plain": [
              "Nome Órgão Superior\n",
              "Ministério da Economia    8.442075e+11\n",
              "Name: Valor_Pago, dtype: float64"
            ]
          },
          "metadata": {},
          "execution_count": 17
        }
      ]
    },
    {
      "cell_type": "code",
      "source": [
        "# estratificação dos gastos por Órgão Subordinado\n",
        "\n",
        "b = df3.groupby(\"Nome Órgão Subordinado\")[\"Valor_Pago\"].sum()\n",
        "b.sort_values(ascending=False, inplace=True)\n",
        "b"
      ],
      "metadata": {
        "colab": {
          "base_uri": "https://localhost:8080/"
        },
        "outputId": "07864a86-a098-439e-af3e-e38c7d220046",
        "id": "9R1M4gKmumNE"
      },
      "execution_count": null,
      "outputs": [
        {
          "output_type": "execute_result",
          "data": {
            "text/plain": [
              "Nome Órgão Subordinado\n",
              "Ministério da Economia - Unidades com vínculo direto        8.386047e+11\n",
              "Fundo Constitucional do Distrito Federal                    4.309817e+09\n",
              "Fundação Instituto Brasileiro de Geografia e Estatística    6.325219e+08\n",
              "Instituto Nacional de Metrologia, Qualidade e Tecnologia    1.951392e+08\n",
              "Instituto Nacional da Propriedade Industrial                9.211762e+07\n",
              "Instituto de Pesquisa Econômica Aplicada                    8.927045e+07\n",
              "Fundo de Garantia à Exportação                              6.717698e+07\n",
              "Superintendência de Seguros Privados                        6.339954e+07\n",
              "Fundo de Compensação de Variações Salariais                 5.260871e+07\n",
              "Comissão de Valores Mobiliários                             4.623088e+07\n",
              "Superintendência da Zona Franca de Manaus                   3.985621e+07\n",
              "Fundação Escola Nacional de Administração Pública           1.323606e+07\n",
              "Fundo de Estabilidade do Seguro Rural                       1.389426e+06\n",
              "Name: Valor_Pago, dtype: float64"
            ]
          },
          "metadata": {},
          "execution_count": 18
        }
      ]
    },
    {
      "cell_type": "code",
      "source": [
        "# cálculo da curva A do Órgão Subordinado\n",
        "\n",
        "soma = 0\n",
        "\n",
        "for i,row in b.iteritems():\n",
        "  soma += row\n",
        "\n",
        "curva_a = 0\n",
        "\n",
        "for j,row2 in b.iteritems():\n",
        "  curva_a += row2\n",
        "  if curva_a > (0.8 * soma):\n",
        "    break\n",
        "\n",
        "print('O montante equivalente da curva A é: ', curva_a, '\\nEquivalente a ', round(curva_a / soma * 100), '% do total.\\nQue engloba até o', j)"
      ],
      "metadata": {
        "colab": {
          "base_uri": "https://localhost:8080/"
        },
        "id": "yeMPEphQdM7i",
        "outputId": "b822615f-0f5c-4973-a5a7-daf00d7c033e"
      },
      "execution_count": null,
      "outputs": [
        {
          "output_type": "stream",
          "name": "stdout",
          "text": [
            "O montante equivalente da curva A é:  838604699046.54 \n",
            "Equivalente a  99 % do total.\n",
            "Que engloba até o Ministério da Economia - Unidades com vínculo direto\n"
          ]
        }
      ]
    },
    {
      "cell_type": "markdown",
      "source": [
        "####<font color='blue'>5.2.1 Análise das 'Unidades com vínculo direto'"
      ],
      "metadata": {
        "id": "Qy6fqtdy6CYe"
      }
    },
    {
      "cell_type": "code",
      "source": [
        "# criação de df4, apenas com dados do Órgão Subordinado\n",
        "\n",
        "orgao_subordinado = ['Ministério da Economia - Unidades com vínculo direto']\n",
        "selecao = df3['Nome Órgão Subordinado'].isin(orgao_subordinado)\n",
        "df4 = df3[selecao]\n",
        "df4.sample(1)"
      ],
      "metadata": {
        "colab": {
          "base_uri": "https://localhost:8080/",
          "height": 313
        },
        "outputId": "38eda032-c381-493b-f9f2-a4044e7494a7",
        "id": "1SdJ-hxwiFmT"
      },
      "execution_count": null,
      "outputs": [
        {
          "output_type": "execute_result",
          "data": {
            "text/plain": [
              "       Ano e mês do lançamento Código Órgão Superior     Nome Órgão Superior  \\\n",
              "108407                 2022/03                 25000  Ministério da Economia   \n",
              "\n",
              "       Código Órgão Subordinado  \\\n",
              "108407                    25000   \n",
              "\n",
              "                                   Nome Órgão Subordinado  \\\n",
              "108407  Ministério da Economia - Unidades com vínculo ...   \n",
              "\n",
              "       Código Unidade Gestora                         Nome Unidade Gestora  \\\n",
              "108407                 201057  CENTRAL DE COMPRAS E CONTRATACOES - CENTRAL   \n",
              "\n",
              "       Código Gestão       Nome Gestão Código Unidade Orçamentária  ...  \\\n",
              "108407           1.0  TESOURO NACIONAL                       52902  ...   \n",
              "\n",
              "       Código Elemento de Despesa  \\\n",
              "108407                         39   \n",
              "\n",
              "                             Nome Elemento de Despesa  \\\n",
              "108407  Outros Serviços de Terceiros - Pessoa Jurídic   \n",
              "\n",
              "       Código Modalidade da Despesa    Modalidade da Despesa Valor_Empenhado  \\\n",
              "108407                           90  Reserva de Contingência             0.0   \n",
              "\n",
              "       Valor_Liquidado Valor_Pago Valor_Restos_a_Pagar_Inscritos  \\\n",
              "108407         9498.58    9498.58                            0.0   \n",
              "\n",
              "       Valor_Restos_a_Pagar_Cancelado Valor_Restos_a_Pagar_Pagos  \n",
              "108407                            0.0                    1974.88  \n",
              "\n",
              "[1 rows x 43 columns]"
            ],
            "text/html": [
              "\n",
              "  <div id=\"df-29693b9b-3d3c-474d-bf98-9563065e375e\">\n",
              "    <div class=\"colab-df-container\">\n",
              "      <div>\n",
              "<style scoped>\n",
              "    .dataframe tbody tr th:only-of-type {\n",
              "        vertical-align: middle;\n",
              "    }\n",
              "\n",
              "    .dataframe tbody tr th {\n",
              "        vertical-align: top;\n",
              "    }\n",
              "\n",
              "    .dataframe thead th {\n",
              "        text-align: right;\n",
              "    }\n",
              "</style>\n",
              "<table border=\"1\" class=\"dataframe\">\n",
              "  <thead>\n",
              "    <tr style=\"text-align: right;\">\n",
              "      <th></th>\n",
              "      <th>Ano e mês do lançamento</th>\n",
              "      <th>Código Órgão Superior</th>\n",
              "      <th>Nome Órgão Superior</th>\n",
              "      <th>Código Órgão Subordinado</th>\n",
              "      <th>Nome Órgão Subordinado</th>\n",
              "      <th>Código Unidade Gestora</th>\n",
              "      <th>Nome Unidade Gestora</th>\n",
              "      <th>Código Gestão</th>\n",
              "      <th>Nome Gestão</th>\n",
              "      <th>Código Unidade Orçamentária</th>\n",
              "      <th>...</th>\n",
              "      <th>Código Elemento de Despesa</th>\n",
              "      <th>Nome Elemento de Despesa</th>\n",
              "      <th>Código Modalidade da Despesa</th>\n",
              "      <th>Modalidade da Despesa</th>\n",
              "      <th>Valor_Empenhado</th>\n",
              "      <th>Valor_Liquidado</th>\n",
              "      <th>Valor_Pago</th>\n",
              "      <th>Valor_Restos_a_Pagar_Inscritos</th>\n",
              "      <th>Valor_Restos_a_Pagar_Cancelado</th>\n",
              "      <th>Valor_Restos_a_Pagar_Pagos</th>\n",
              "    </tr>\n",
              "  </thead>\n",
              "  <tbody>\n",
              "    <tr>\n",
              "      <th>108407</th>\n",
              "      <td>2022/03</td>\n",
              "      <td>25000</td>\n",
              "      <td>Ministério da Economia</td>\n",
              "      <td>25000</td>\n",
              "      <td>Ministério da Economia - Unidades com vínculo ...</td>\n",
              "      <td>201057</td>\n",
              "      <td>CENTRAL DE COMPRAS E CONTRATACOES - CENTRAL</td>\n",
              "      <td>1.0</td>\n",
              "      <td>TESOURO NACIONAL</td>\n",
              "      <td>52902</td>\n",
              "      <td>...</td>\n",
              "      <td>39</td>\n",
              "      <td>Outros Serviços de Terceiros - Pessoa Jurídic</td>\n",
              "      <td>90</td>\n",
              "      <td>Reserva de Contingência</td>\n",
              "      <td>0.0</td>\n",
              "      <td>9498.58</td>\n",
              "      <td>9498.58</td>\n",
              "      <td>0.0</td>\n",
              "      <td>0.0</td>\n",
              "      <td>1974.88</td>\n",
              "    </tr>\n",
              "  </tbody>\n",
              "</table>\n",
              "<p>1 rows × 43 columns</p>\n",
              "</div>\n",
              "      <button class=\"colab-df-convert\" onclick=\"convertToInteractive('df-29693b9b-3d3c-474d-bf98-9563065e375e')\"\n",
              "              title=\"Convert this dataframe to an interactive table.\"\n",
              "              style=\"display:none;\">\n",
              "        \n",
              "  <svg xmlns=\"http://www.w3.org/2000/svg\" height=\"24px\"viewBox=\"0 0 24 24\"\n",
              "       width=\"24px\">\n",
              "    <path d=\"M0 0h24v24H0V0z\" fill=\"none\"/>\n",
              "    <path d=\"M18.56 5.44l.94 2.06.94-2.06 2.06-.94-2.06-.94-.94-2.06-.94 2.06-2.06.94zm-11 1L8.5 8.5l.94-2.06 2.06-.94-2.06-.94L8.5 2.5l-.94 2.06-2.06.94zm10 10l.94 2.06.94-2.06 2.06-.94-2.06-.94-.94-2.06-.94 2.06-2.06.94z\"/><path d=\"M17.41 7.96l-1.37-1.37c-.4-.4-.92-.59-1.43-.59-.52 0-1.04.2-1.43.59L10.3 9.45l-7.72 7.72c-.78.78-.78 2.05 0 2.83L4 21.41c.39.39.9.59 1.41.59.51 0 1.02-.2 1.41-.59l7.78-7.78 2.81-2.81c.8-.78.8-2.07 0-2.86zM5.41 20L4 18.59l7.72-7.72 1.47 1.35L5.41 20z\"/>\n",
              "  </svg>\n",
              "      </button>\n",
              "      \n",
              "  <style>\n",
              "    .colab-df-container {\n",
              "      display:flex;\n",
              "      flex-wrap:wrap;\n",
              "      gap: 12px;\n",
              "    }\n",
              "\n",
              "    .colab-df-convert {\n",
              "      background-color: #E8F0FE;\n",
              "      border: none;\n",
              "      border-radius: 50%;\n",
              "      cursor: pointer;\n",
              "      display: none;\n",
              "      fill: #1967D2;\n",
              "      height: 32px;\n",
              "      padding: 0 0 0 0;\n",
              "      width: 32px;\n",
              "    }\n",
              "\n",
              "    .colab-df-convert:hover {\n",
              "      background-color: #E2EBFA;\n",
              "      box-shadow: 0px 1px 2px rgba(60, 64, 67, 0.3), 0px 1px 3px 1px rgba(60, 64, 67, 0.15);\n",
              "      fill: #174EA6;\n",
              "    }\n",
              "\n",
              "    [theme=dark] .colab-df-convert {\n",
              "      background-color: #3B4455;\n",
              "      fill: #D2E3FC;\n",
              "    }\n",
              "\n",
              "    [theme=dark] .colab-df-convert:hover {\n",
              "      background-color: #434B5C;\n",
              "      box-shadow: 0px 1px 3px 1px rgba(0, 0, 0, 0.15);\n",
              "      filter: drop-shadow(0px 1px 2px rgba(0, 0, 0, 0.3));\n",
              "      fill: #FFFFFF;\n",
              "    }\n",
              "  </style>\n",
              "\n",
              "      <script>\n",
              "        const buttonEl =\n",
              "          document.querySelector('#df-29693b9b-3d3c-474d-bf98-9563065e375e button.colab-df-convert');\n",
              "        buttonEl.style.display =\n",
              "          google.colab.kernel.accessAllowed ? 'block' : 'none';\n",
              "\n",
              "        async function convertToInteractive(key) {\n",
              "          const element = document.querySelector('#df-29693b9b-3d3c-474d-bf98-9563065e375e');\n",
              "          const dataTable =\n",
              "            await google.colab.kernel.invokeFunction('convertToInteractive',\n",
              "                                                     [key], {});\n",
              "          if (!dataTable) return;\n",
              "\n",
              "          const docLinkHtml = 'Like what you see? Visit the ' +\n",
              "            '<a target=\"_blank\" href=https://colab.research.google.com/notebooks/data_table.ipynb>data table notebook</a>'\n",
              "            + ' to learn more about interactive tables.';\n",
              "          element.innerHTML = '';\n",
              "          dataTable['output_type'] = 'display_data';\n",
              "          await google.colab.output.renderOutput(dataTable, element);\n",
              "          const docLink = document.createElement('div');\n",
              "          docLink.innerHTML = docLinkHtml;\n",
              "          element.appendChild(docLink);\n",
              "        }\n",
              "      </script>\n",
              "    </div>\n",
              "  </div>\n",
              "  "
            ]
          },
          "metadata": {},
          "execution_count": 20
        }
      ]
    },
    {
      "cell_type": "markdown",
      "source": [
        "####<font color='blue'>5.2.1.1 Análise das 'Unidades com vínculo direto', por Nome Função"
      ],
      "metadata": {
        "id": "1jtMjIQj61gs"
      }
    },
    {
      "cell_type": "code",
      "source": [
        "# estratificação dos gastos por Nome Função\n",
        "\n",
        "c = df4.groupby(\"Nome Função\")[\"Valor_Pago\"].sum()\n",
        "c.sort_values(ascending=False, inplace=True)\n",
        "c"
      ],
      "metadata": {
        "colab": {
          "base_uri": "https://localhost:8080/"
        },
        "id": "Q9XWXBZygrWK",
        "outputId": "333f7e08-c635-4562-d730-c38317aa01f4"
      },
      "execution_count": null,
      "outputs": [
        {
          "output_type": "execute_result",
          "data": {
            "text/plain": [
              "Nome Função\n",
              "Encargos especiais       8.274271e+11\n",
              "Previdência social       4.630088e+09\n",
              "Administração            3.720795e+09\n",
              "Agricultura              1.636128e+09\n",
              "Trabalho                 7.152769e+08\n",
              "Comércio e serviços      4.682574e+08\n",
              "Transporte               4.490037e+06\n",
              "Assistência social       1.041639e+06\n",
              "Saúde                    5.396044e+05\n",
              "Essencial à justiça      2.394005e+05\n",
              "Legislativa              1.461216e+05\n",
              "Indústria                1.129782e+05\n",
              "Cultura                  8.814166e+04\n",
              "Segurança pública        8.445388e+04\n",
              "Comunicações             5.556050e+04\n",
              "Ciência e Tecnologia     4.701708e+04\n",
              "Judiciária               3.910689e+04\n",
              "Energia                  3.743725e+04\n",
              "Direitos da cidadania    3.540424e+04\n",
              "Educação                 2.767895e+04\n",
              "Defesa nacional          2.587025e+04\n",
              "Relações exteriores      1.747876e+04\n",
              "Gestão ambiental         1.448651e+04\n",
              "Organização agrária      0.000000e+00\n",
              "Name: Valor_Pago, dtype: float64"
            ]
          },
          "metadata": {},
          "execution_count": 21
        }
      ]
    },
    {
      "cell_type": "code",
      "source": [
        "# cálculo da curva A do Órgão Subordinado, por Nome Função\n",
        "\n",
        "soma = 0\n",
        "\n",
        "for i,row in c.iteritems():\n",
        "  soma += row\n",
        "\n",
        "curva_a = 0\n",
        "\n",
        "for j,row2 in c.iteritems():\n",
        "  curva_a += row2\n",
        "  if curva_a > (0.8 * soma):\n",
        "    break\n",
        "\n",
        "print('O montante equivalente da curva A é: ', curva_a, '\\nEquivalente a ', round(curva_a / soma * 100), '% do total.\\nQue engloba até o', j)"
      ],
      "metadata": {
        "colab": {
          "base_uri": "https://localhost:8080/"
        },
        "outputId": "35997b88-3881-4dcc-ab12-8b5eda859704",
        "id": "sO2Zh9aip8ga"
      },
      "execution_count": null,
      "outputs": [
        {
          "output_type": "stream",
          "name": "stdout",
          "text": [
            "O montante equivalente da curva A é:  827427112404.21 \n",
            "Equivalente a  99 % do total.\n",
            "Que engloba até o Encargos especiais\n"
          ]
        }
      ]
    },
    {
      "cell_type": "markdown",
      "source": [
        "####<font color='blue'>5.2.1.2 Análise das 'Unidades com vínculo direto', por Nome Unidade Gestora"
      ],
      "metadata": {
        "id": "Qq7ytpp37cUs"
      }
    },
    {
      "cell_type": "code",
      "source": [
        "# estratificação dos gastos por Nome Unidade Gestora\n",
        "\n",
        "d = df4.groupby(\"Nome Unidade Gestora\")[\"Valor_Pago\"].sum()\n",
        "d.sort_values(ascending=False, inplace=True)\n",
        "d"
      ],
      "metadata": {
        "colab": {
          "base_uri": "https://localhost:8080/"
        },
        "outputId": "54eb5a7c-049c-4b73-b08b-fd98719cd0b8",
        "id": "hW7qdtDHjUib"
      },
      "execution_count": null,
      "outputs": [
        {
          "output_type": "execute_result",
          "data": {
            "text/plain": [
              "Nome Unidade Gestora\n",
              "COORD.GERAL DE CONTROLE DA DIVIDA PUBLICA        7.212976e+11\n",
              "COORD. ANALISE E INF TRANS FIN INTERGOV/STN      1.012251e+11\n",
              "DPTO CENTRAL.SERV.INATIVOS,PENSIONIST.ORG.EXT    4.085461e+09\n",
              "COORDENACAO-GERAL DE GESTAO DE PESSOAS - MF      3.776376e+09\n",
              "COORD.GERAL DE CONTR.E EXEC.DE OPER.FISCAIS.     3.493346e+09\n",
              "                                                     ...     \n",
              "SECRETARIA DE ORCAMENTO FEDERAL                  4.843100e+02\n",
              "FUNDO NACIONAL DE DESESTATIZACAO                 0.000000e+00\n",
              "SECRETARIA DE GOVERNO DIGITAL                    0.000000e+00\n",
              "COORDENACAO GERAL DE CONTABILIDADE               0.000000e+00\n",
              "MDIC/CAIXA ECONOMICA FEDERAL                     0.000000e+00\n",
              "Name: Valor_Pago, Length: 128, dtype: float64"
            ]
          },
          "metadata": {},
          "execution_count": 23
        }
      ]
    },
    {
      "cell_type": "code",
      "source": [
        "# cálculo da curva A do Órgão Subordinado, por Nome Unidade Gestora\n",
        "\n",
        "soma = 0\n",
        "\n",
        "for i,row in d.iteritems():\n",
        "  soma += row\n",
        "\n",
        "curva_a = 0\n",
        "\n",
        "for j,row2 in d.iteritems():\n",
        "  curva_a += row2\n",
        "  if curva_a > (0.8 * soma):\n",
        "    break\n",
        "\n",
        "print('O montante equivalente da curva A é: ', curva_a, '\\nEquivalente a ', round(curva_a / soma * 100), '% do total.\\nQue engloba até o', j)"
      ],
      "metadata": {
        "colab": {
          "base_uri": "https://localhost:8080/"
        },
        "outputId": "17ea0e00-6894-4578-84d0-5ef4d3910b14",
        "id": "bzR4BkOPqPbg"
      },
      "execution_count": null,
      "outputs": [
        {
          "output_type": "stream",
          "name": "stdout",
          "text": [
            "O montante equivalente da curva A é:  721297595762.31 \n",
            "Equivalente a  86 % do total.\n",
            "Que engloba até o COORD.GERAL DE CONTROLE DA DIVIDA PUBLICA\n"
          ]
        }
      ]
    },
    {
      "cell_type": "markdown",
      "source": [
        "####<font color='blue'>5.2.1.3 Análise das 'Unidades com vínculo direto', por Nome Unidade Orçamentária"
      ],
      "metadata": {
        "id": "ZenLrPcy7p6K"
      }
    },
    {
      "cell_type": "code",
      "source": [
        "# estratificação dos gastos por Nome Unidade Orçamentária\n",
        "\n",
        "e = df4.groupby(\"Nome Unidade Orçamentária\")[\"Valor_Pago\"].sum()\n",
        "e.sort_values(ascending=False, inplace=True)\n",
        "e"
      ],
      "metadata": {
        "colab": {
          "base_uri": "https://localhost:8080/"
        },
        "outputId": "e81f8ba0-b39b-45a2-8296-4b5d2179d497",
        "id": "MhB_5-09j3uK"
      },
      "execution_count": null,
      "outputs": [
        {
          "output_type": "execute_result",
          "data": {
            "text/plain": [
              "Nome Unidade Orçamentária\n",
              "REC.SOB SUPERV. DO ME - DIVIDA PUB FED           7.213221e+11\n",
              "TRANSF.CONSTITUCIONAIS-REC.SOB SUP. ME           9.989579e+10\n",
              "RECURSOS SOB SUPERVISAO DO ME - EFU              4.624404e+09\n",
              "SEC ESPECIAL DA RECEITA FEDERAL DO BRASIL        3.819855e+09\n",
              "RECURSOS SOB SUPERVISAO DO ME - TRF.ME           2.829797e+09\n",
              "                                                     ...     \n",
              "INST.FED.DE EDUC.,CIENC.E TEC.DA BAHIA           0.000000e+00\n",
              "INST.FED.DE EDUC.,CIENC.E TEC.DO MATO GROSSO     0.000000e+00\n",
              "INST.FED.DE EDUC.,CIENC.E TEC.DO PARA            0.000000e+00\n",
              "INSTITUTO DE PESQUISA ECONOMICA APLICADA-IPEA    0.000000e+00\n",
              "INST.NAC. METROLOGIA QUALIDADE E TEC  INMETRO    0.000000e+00\n",
              "Name: Valor_Pago, Length: 77, dtype: float64"
            ]
          },
          "metadata": {},
          "execution_count": 25
        }
      ]
    },
    {
      "cell_type": "code",
      "source": [
        "# cálculo da curva A do Órgão Subordinado, por Nome Unidade Orçamentária\n",
        "\n",
        "soma = 0\n",
        "\n",
        "for i,row in e.iteritems():\n",
        "  soma += row\n",
        "\n",
        "curva_a = 0\n",
        "\n",
        "for j,row2 in e.iteritems():\n",
        "  curva_a += row2\n",
        "  if curva_a > (0.8 * soma):\n",
        "    break\n",
        "\n",
        "print('O montante equivalente da curva A é: ', curva_a, '\\nEquivalente a ', round(curva_a / soma * 100), '% do total.\\nQue engloba até o', j)"
      ],
      "metadata": {
        "colab": {
          "base_uri": "https://localhost:8080/"
        },
        "outputId": "9f7f9eae-91a8-4bc6-bcab-4973664cc044",
        "id": "DyHxwEAsqdMm"
      },
      "execution_count": null,
      "outputs": [
        {
          "output_type": "stream",
          "name": "stdout",
          "text": [
            "O montante equivalente da curva A é:  721322085521.32 \n",
            "Equivalente a  86 % do total.\n",
            "Que engloba até o REC.SOB SUPERV. DO ME - DIVIDA PUB FED\n"
          ]
        }
      ]
    },
    {
      "cell_type": "markdown",
      "source": [
        "####<font color='blue'>5.2.1.4 Análise das 'Unidades com vínculo direto', por Nome Subfunção"
      ],
      "metadata": {
        "id": "vBPs9BKM75uM"
      }
    },
    {
      "cell_type": "code",
      "source": [
        "# estratificação dos gastos por Nome Subfunção\n",
        "\n",
        "f = df4.groupby(\"Nome Subfunção\")[\"Valor_Pago\"].sum()\n",
        "f.sort_values(ascending=False, inplace=True)\n",
        "f"
      ],
      "metadata": {
        "colab": {
          "base_uri": "https://localhost:8080/"
        },
        "outputId": "72b6c4a3-ad8b-4b05-a3da-7d59b63393bd",
        "id": "0MIudLwfkjiy"
      },
      "execution_count": null,
      "outputs": [
        {
          "output_type": "execute_result",
          "data": {
            "text/plain": [
              "Nome Subfunção\n",
              "Refinanciamento da dívida interna                     5.464438e+11\n",
              "Serviço da dívida interna                             1.658971e+11\n",
              "Outras transferências                                 8.119861e+10\n",
              "Transferências para a educação básica                 2.002647e+10\n",
              "Serviço da dívida externa                             6.760970e+09\n",
              "Outros encargos especiais                             5.534287e+09\n",
              "Previdência do regime estatutário                     4.630073e+09\n",
              "Administração geral                                   3.469491e+09\n",
              "Refinanciamento da dívida externa                     2.216399e+09\n",
              "Abastecimento                                         9.790255e+08\n",
              "Promoção da produção agropecuária                     6.570869e+08\n",
              "Comércio exterior                                     4.682342e+08\n",
              "Atenção básica                                        1.355729e+08\n",
              "Tecnologia da informação                              7.807291e+07\n",
              "Representação judicial e extrajudicial                5.596939e+07\n",
              "Administração de receitas                             3.162936e+07\n",
              "Ordenamento territorial                               8.308093e+06\n",
              "Normatização e fiscalização                           6.176325e+06\n",
              "Controle interno                                      3.646671e+06\n",
              "Assistência ao portador de deficiência                1.041639e+06\n",
              "Administração financeira                              8.282038e+05\n",
              "Planejamento e orçamento                              6.032902e+05\n",
              "Ensino superior                                       4.849480e+05\n",
              "Informação e inteligência                             3.577534e+05\n",
              "Controle externo                                      1.461216e+05\n",
              "Relações diplomáticas                                 1.305412e+05\n",
              "Promoção industrial                                   1.009914e+05\n",
              "Ação judiciária                                       3.910689e+04\n",
              "Promoção comercial                                    1.270988e+04\n",
              "Difusão do conhecimento científico e tecnológico      1.122124e+04\n",
              "Controle ambiental                                    9.499220e+03\n",
              "Formação de recursos humanos                          6.359610e+03\n",
              "Previdência básica                                    2.263240e+03\n",
              "Meteorologia                                          1.331780e+03\n",
              "Defesa do interesse público no processo judiciário    9.095400e+02\n",
              "Patrimônio histórico, artístico e arqueológico        1.376900e+02\n",
              "Direitos individuais, coletivos e difusos             0.000000e+00\n",
              "Difusão cultural                                      0.000000e+00\n",
              "Desenvolvimento tecnológico e engenharia              0.000000e+00\n",
              "Defesa agropecuária                                   0.000000e+00\n",
              "Assistência comunitária                               0.000000e+00\n",
              "Vigilância sanitária                                  0.000000e+00\n",
              "Name: Valor_Pago, dtype: float64"
            ]
          },
          "metadata": {},
          "execution_count": 27
        }
      ]
    },
    {
      "cell_type": "code",
      "source": [
        "# cálculo da curva A do Órgão Subordinado, por Nome Subfunção\n",
        "\n",
        "soma = 0\n",
        "\n",
        "for i,row in f.iteritems():\n",
        "  soma += row\n",
        "\n",
        "curva_a = 0\n",
        "\n",
        "for j,row2 in f.iteritems():\n",
        "  curva_a += row2\n",
        "  if curva_a > (0.8 * soma):\n",
        "    break\n",
        "\n",
        "print('O montante equivalente da curva A é: ', curva_a, '\\nEquivalente a ', round(curva_a / soma * 100), '% do total.\\nQue engloba até o', j)"
      ],
      "metadata": {
        "colab": {
          "base_uri": "https://localhost:8080/"
        },
        "outputId": "33a24afc-461f-4756-b28a-307f4838de65",
        "id": "tBK0VjxZqy01"
      },
      "execution_count": null,
      "outputs": [
        {
          "output_type": "stream",
          "name": "stdout",
          "text": [
            "O montante equivalente da curva A é:  712340901034.1299 \n",
            "Equivalente a  85 % do total.\n",
            "Que engloba até o Serviço da dívida interna\n"
          ]
        }
      ]
    },
    {
      "cell_type": "markdown",
      "source": [
        "####<font color='blue'>5.2.1.5 Análise das 'Unidades com vínculo direto', por Nome Programa Orçamentário"
      ],
      "metadata": {
        "id": "aLZP3J6f8FDq"
      }
    },
    {
      "cell_type": "code",
      "source": [
        "# estratificação dos gastos por Nome Programa Orçamentário\n",
        "\n",
        "g = df4.groupby(\"Nome Programa Orçamentário\")[\"Valor_Pago\"].sum()\n",
        "g.sort_values(ascending=False, inplace=True)\n",
        "g"
      ],
      "metadata": {
        "colab": {
          "base_uri": "https://localhost:8080/"
        },
        "outputId": "ae005731-4583-46aa-a338-2f69e992517f",
        "id": "UvWgBTE1lYJh"
      },
      "execution_count": null,
      "outputs": [
        {
          "output_type": "execute_result",
          "data": {
            "text/plain": [
              "Nome Programa Orçamentário\n",
              "OPERACOES ESPECIAIS: REFINANCIAMENTO DA DIVIDA INTERNA                                                            5.464438e+11\n",
              "OPERACOES ESPECIAIS: SERVICO DA DIVIDA INTERNA (JUROS EAMORTIZACOES)                                              1.658971e+11\n",
              "OPERACOES ESPECIAIS: TRANSFERENCIAS CONSTITUCIONAIS E AS DECORRENTES DE LEGISLACAO ESPECIFICA                     1.012251e+11\n",
              "PROGRAMA DE GESTAO E MANUTENCAO DO PODER EXECUTIVO                                                                9.004172e+09\n",
              "OPERACOES ESPECIAIS: SERVICO DA DIVIDA EXTERNA (JUROS EAMORTIZACOES)                                              6.760970e+09\n",
              "OPERACOES ESPECIAIS: OUTROS ENCARGOS ESPECIAIS                                                                    4.693918e+09\n",
              "OPERACOES ESPECIAIS: REFINANCIAMENTO DA DIVIDA EXTERNA                                                            2.216399e+09\n",
              "AGROPECUARIA SUSTENTAVEL                                                                                          1.636114e+09\n",
              "INSERCAO ECONOMICA INTERNACIONAL                                                                                  4.683175e+08\n",
              "OPERACOES ESPECIAIS - INTEGRALIZACAO DE COTAS EM ORGANISMOS FINANCEIROS INTERNACIONAIS                            1.304459e+08\n",
              "POLITICA ECONOMICA E EQUILIBRIO FISCAL                                                                            5.062187e+07\n",
              "OPERACOES ESPECIAIS - REMUNERACAO DE AGENTES FINANCEIROS                                                          3.255501e+07\n",
              "OPERACOES ESPECIAIS: CUMPRIMENTO DE SENTENCAS JUDICIAIS                                                           1.360003e+07\n",
              "OPERACOES ESPECIAIS: GESTAO DA PARTICIPACAO EM ORGANISMOS E ENTIDADES NACIONAIS E INTERNACIONAIS                  1.330693e+07\n",
              "BRASIL, NOSSO PROPOSITO                                                                                           8.953218e+06\n",
              "TRANSPARENCIA, INTEGRIDADE E COMBATE A CORRUPCAO                                                                  3.646671e+06\n",
              "BRASIL MODERNIZA                                                                                                  2.976668e+06\n",
              "PROTECAO A VIDA, FORTALECIMENTO DA FAMILIA, PROMOCAO E DEFESA DOS DIREITOS HUMANOS PARA TODOS                     1.041639e+06\n",
              "MODERNIZACAO TRABALHISTA E TRABALHO DIGNO                                                                         7.003883e+05\n",
              "SEGURANCA INSTITUCIONAL                                                                                           3.577534e+05\n",
              "PROTECAO JURIDICA DA UNIAO                                                                                        2.366733e+05\n",
              "PROGRAMA DE GESTAO E MANUTENCAO DO PODER LEGISLATIVO                                                              1.461216e+05\n",
              "MELHORIA DO AMBIENTE DE NEGOCIOS E DA PRODUTIVIDADE                                                               1.137013e+05\n",
              "TRANSPORTE TERRESTRE E TRANSITO                                                                                   3.932742e+04\n",
              "PROGRAMA DE GESTAO E MANUTENCAO DO PODER JUDICIARIO                                                               3.910689e+04\n",
              "PETROLEO, GAS, DERIVADOS E BIOCOMBUSTIVEIS                                                                        3.243411e+04\n",
              "COOPERACAO COM O DESENVOLVIMENTO NACIONAL                                                                         9.499220e+03\n",
              "NOVA PREVIDENCIA                                                                                                  2.263240e+03\n",
              "PROGRAMA DE GESTAO E MANUTENCAO DA DEFENSORIA PUBLICA DA UNIAO                                                    1.817620e+03\n",
              "DEFESA NACIONAL                                                                                                   1.189400e+03\n",
              "PROGRAMA DE GESTAO E MANUTENCAO DO MINISTERIO PUBLICO                                                             9.095400e+02\n",
              "JUSTICA                                                                                                           1.376900e+02\n",
              "FORTALECIMENTO DO SISTEMA UNICO DE SAUDE (SUS)                                                                    0.000000e+00\n",
              "GESTAO DA POLITICA ECONOMICA, GARANTIA DA ESTABILIDADE DO SISTEMA FINANCEIRO NACIONAL E MELHORIA DO AMBIENTE D    0.000000e+00\n",
              "AGROPECUARIA SUSTENTAVEL, ABASTECIMENTO E COMERCIALIZACAO                                                         0.000000e+00\n",
              "SIMPLIFICACAO DA VIDA DA EMPRESA E DO CIDADAO: BEM MAISSIMPLES BRASIL                                             0.000000e+00\n",
              "AVIACAO CIVIL                                                                                                     0.000000e+00\n",
              "SEGURANCA ALIMENTAR E NUTRICIONAL                                                                                 0.000000e+00\n",
              "COMERCIO EXTERIOR                                                                                                 0.000000e+00\n",
              "PROMOCAO DO TRABALHO DECENTE E ECONOMIA SOLIDARIA                                                                 0.000000e+00\n",
              "CULTURA                                                                                                           0.000000e+00\n",
              "DEFESA AGROPECUARIA                                                                                               0.000000e+00\n",
              "ENGENHO DAS ARTES                                                                                                 0.000000e+00\n",
              "PROGRAMA DE GESTAO E MANUTENCAO DO MINISTERIO DA ECONOMIA                                                         0.000000e+00\n",
              "JUSTICA, CIDADANIA E SEGURANCA PUBLICA                                                                            0.000000e+00\n",
              "PROGRAMA DE GESTAO E MANUTENCAO DA CONTROLADORIA-GERAL DA UNIAO                                                   0.000000e+00\n",
              "GARANTIA DA ESTABILIDADE MONETARIA E FINANCEIRA                                                                   0.000000e+00\n",
              "DEMOCRACIA E APERFEICOAMENTO DA GESTAO PUBLICA                                                                    0.000000e+00\n",
              "DESENVOLVIMENTO DA INDUSTRIA, COMERCIO E SERVICOS                                                                 0.000000e+00\n",
              "EDUCACAO SUPERIOR - GRADUACAO, POS-GRADUACAO, ENSINO, PESQUISA E EXTENSAO                                         0.000000e+00\n",
              "ADMINISTRACAO TRIBUTARIA E ADUANEIRA                                                                              0.000000e+00\n",
              "Name: Valor_Pago, dtype: float64"
            ]
          },
          "metadata": {},
          "execution_count": 29
        }
      ]
    },
    {
      "cell_type": "code",
      "source": [
        "# cálculo da curva A do Órgão Subordinado, por Nome Subfunção\n",
        "\n",
        "soma = 0\n",
        "\n",
        "for i,row in g.iteritems():\n",
        "  soma += row\n",
        "\n",
        "curva_a = 0\n",
        "\n",
        "for j,row2 in g.iteritems():\n",
        "  curva_a += row2\n",
        "  if curva_a > (0.8 * soma):\n",
        "    break\n",
        "\n",
        "print('O montante equivalente da curva A é: ', curva_a, '\\nEquivalente a ', round(curva_a / soma * 100), '% do total.\\nQue engloba até o', j)"
      ],
      "metadata": {
        "colab": {
          "base_uri": "https://localhost:8080/"
        },
        "outputId": "e42cd5b4-b8d0-4583-efa6-f5cfa753dcdf",
        "id": "3WIIxewYrYOI"
      },
      "execution_count": null,
      "outputs": [
        {
          "output_type": "stream",
          "name": "stdout",
          "text": [
            "O montante equivalente da curva A é:  712340901034.1299 \n",
            "Equivalente a  85 % do total.\n",
            "Que engloba até o OPERACOES ESPECIAIS: SERVICO DA DIVIDA INTERNA (JUROS EAMORTIZACOES)\n"
          ]
        }
      ]
    },
    {
      "cell_type": "markdown",
      "source": [
        "####<font color='blue'>5.2.1.6 Análise das 'Unidades com vínculo direto', por Nome Ação"
      ],
      "metadata": {
        "id": "ogLj-a6f8Pip"
      }
    },
    {
      "cell_type": "code",
      "source": [
        "# estratificação dos gastos por Nome Ação\n",
        "\n",
        "h = df4.groupby(\"Nome Ação\")[\"Valor_Pago\"].sum()\n",
        "h.sort_values(ascending=False, inplace=True)\n",
        "h"
      ],
      "metadata": {
        "colab": {
          "base_uri": "https://localhost:8080/"
        },
        "outputId": "778383dc-62d3-46e0-8e64-8c1febeba025",
        "id": "9fCPrgqyl54j"
      },
      "execution_count": null,
      "outputs": [
        {
          "output_type": "execute_result",
          "data": {
            "text/plain": [
              "Nome Ação\n",
              "REFINANCIAMENTO DA DIVIDA PUBLICA MOBILIARIA FEDERAL INTERNA                                                                         5.464438e+11\n",
              "SERVICOS DA DIVIDA PUBLICA FEDERAL INTERNA                                                                                           1.658764e+11\n",
              "TRANSFERENCIA AO FUNDO DE PARTICIPACAO DOS MUNICIPIOS - FPM (CF, ART.159)                                                            3.950837e+10\n",
              "TRANSFERENCIA AO FUNDO DE PARTICIPACAO DOS ESTADOS E DO DISTRITO FEDERAL - FPE (CF, ART.159)                                         3.838702e+10\n",
              "TRANSFERENCIA AO FUNDO DE MANUTENCAO E DESENVOLVIMENTO DA EDUCACAO BASICA E DE VALORIZACAO DOS PROFISSIONAIS DA EDUCACAO - FUNDEB    2.002647e+10\n",
              "                                                                                                                                         ...     \n",
              "RESSARCIMENTO AO GESTOR DO FUNDO NACIONAL DE DESESTATIZACAO (LEI N. 9.491, DE 1997)                                                  0.000000e+00\n",
              "SENTENCAS JUDICIAIS TRANSITADAS EM JULGADO DE PEQUENO VALOR                                                                          0.000000e+00\n",
              "CAPACITACAO DE SERVIDORES PUBLICOS FEDERAIS EM PROCESSO DE QUALIFICACAO E REQUALIFICACAO                                             0.000000e+00\n",
              "CADASTROS PUBLICOS E SISTEMAS DE INTEGRACAO DAS ACOES DE TRABALHO E EMPREGO                                                          0.000000e+00\n",
              "VIGILANCIA SANITARIA EM PORTOS, AEROPORTOS, FRONTEIRAS E RECINTOS ALFANDEGADOS                                                       0.000000e+00\n",
              "Name: Valor_Pago, Length: 146, dtype: float64"
            ]
          },
          "metadata": {},
          "execution_count": 31
        }
      ]
    },
    {
      "cell_type": "code",
      "source": [
        "# cálculo da curva A do Órgão Subordinado, por Nome Ação\n",
        "\n",
        "soma = 0\n",
        "\n",
        "for i,row in h.iteritems():\n",
        "  soma += row\n",
        "\n",
        "curva_a = 0\n",
        "\n",
        "for j,row2 in h.iteritems():\n",
        "  curva_a += row2\n",
        "  if curva_a > (0.8 * soma):\n",
        "    break\n",
        "\n",
        "print('O montante equivalente da curva A é: ', curva_a, '\\nEquivalente a ', round(curva_a / soma * 100), '% do total.\\nQue engloba até o', j)"
      ],
      "metadata": {
        "colab": {
          "base_uri": "https://localhost:8080/"
        },
        "outputId": "59285448-0347-4f68-9aba-dca24cae2c8a",
        "id": "9ZfjBz6Prk8W"
      },
      "execution_count": null,
      "outputs": [
        {
          "output_type": "stream",
          "name": "stdout",
          "text": [
            "O montante equivalente da curva A é:  712320226398.49 \n",
            "Equivalente a  85 % do total.\n",
            "Que engloba até o SERVICOS DA DIVIDA PUBLICA FEDERAL INTERNA\n"
          ]
        }
      ]
    },
    {
      "cell_type": "markdown",
      "source": [
        "####<font color='blue'>5.2.1.7 Análise das 'Unidades com vínculo direto', por Nome Subtítulo"
      ],
      "metadata": {
        "id": "OX510v2w8WcU"
      }
    },
    {
      "cell_type": "code",
      "source": [
        "# estratificação dos gastos por Nome Subtítulo\n",
        "\n",
        "i1 = df4.groupby(\"Nome Subtítulo\")[\"Valor_Pago\"].sum()\n",
        "i1.sort_values(ascending=False, inplace=True)\n",
        "i1"
      ],
      "metadata": {
        "colab": {
          "base_uri": "https://localhost:8080/"
        },
        "outputId": "5ee3fbfd-485c-461d-b581-223137599549",
        "id": "hxYqDa44mOtx"
      },
      "execution_count": null,
      "outputs": [
        {
          "output_type": "execute_result",
          "data": {
            "text/plain": [
              "Nome Subtítulo\n",
              "REFINANCIAMENTO DA DIVIDA PUBLICA MOB - NACIONAL                5.486602e+11\n",
              "SERVICOS DA DIVIDA PUBLICA FEDERAL IN - NACIONAL                1.658764e+11\n",
              "TRANSFERENCIA AO FUNDO DE PARTICIPACA - NACIONAL                7.789539e+10\n",
              "TRANSFERENCIA AO FUNDO DE MANUTENCAO  - NACIONAL                2.002647e+10\n",
              "SERVICOS DA DIVIDA PUBLICA FEDERAL EX - NACIONAL                6.760970e+09\n",
              "                                                                    ...     \n",
              "GESTAO E APRIMORAMENTO DOS RECURSOS D - NACIONAL                0.000000e+00\n",
              "GESTAO E ADMINISTRACAO DO PROGRAMA    - NACIONAL                0.000000e+00\n",
              "FUNCIONAMENTO DE INSTITUICOES FEDERAI - NO ESTADO DE MINAS G    0.000000e+00\n",
              "FUNCIONAMENTO DAS UNIDADES DESCENTRAL - NO ESTADO DE GOIAS      0.000000e+00\n",
              "VIGILANCIA SANITARIA EM PORTOS, AEROP - NACIONAL                0.000000e+00\n",
              "Name: Valor_Pago, Length: 190, dtype: float64"
            ]
          },
          "metadata": {},
          "execution_count": 33
        }
      ]
    },
    {
      "cell_type": "code",
      "source": [
        "# cálculo da curva A do Órgão Subordinado, por Nome Ação\n",
        "\n",
        "soma = 0\n",
        "\n",
        "for i,row in i1.iteritems():\n",
        "  soma += row\n",
        "\n",
        "curva_a = 0\n",
        "\n",
        "for j,row2 in i1.iteritems():\n",
        "  curva_a += row2\n",
        "  if curva_a > (0.8 * soma):\n",
        "    break\n",
        "\n",
        "print('O montante equivalente da curva A é: ', curva_a, '\\nEquivalente a ', round(curva_a / soma * 100), '% do total.\\nQue engloba até o', j)"
      ],
      "metadata": {
        "colab": {
          "base_uri": "https://localhost:8080/"
        },
        "outputId": "0629816c-c1ae-4a22-bb3a-c2d75343abcc",
        "id": "UqrKsr7Vrxpk"
      },
      "execution_count": null,
      "outputs": [
        {
          "output_type": "stream",
          "name": "stdout",
          "text": [
            "O montante equivalente da curva A é:  714536625398.49 \n",
            "Equivalente a  85 % do total.\n",
            "Que engloba até o SERVICOS DA DIVIDA PUBLICA FEDERAL IN - NACIONAL\n"
          ]
        }
      ]
    },
    {
      "cell_type": "markdown",
      "source": [
        "####<font color='blue'>5.2.1.8 Análise das 'Unidades com vínculo direto', por Nome Localizador"
      ],
      "metadata": {
        "id": "iRC7seBE8hLh"
      }
    },
    {
      "cell_type": "code",
      "source": [
        "# estratificação dos gastos por Nome Localizador\n",
        "\n",
        "j1 = df4.groupby(\"Nome Localizador\")[\"Valor_Pago\"].sum()\n",
        "j1.sort_values(ascending=False, inplace=True)\n",
        "j1"
      ],
      "metadata": {
        "colab": {
          "base_uri": "https://localhost:8080/"
        },
        "outputId": "5f531404-0e03-4eb7-afda-244d01006e30",
        "id": "vfoKoP3lm2rK"
      },
      "execution_count": null,
      "outputs": [
        {
          "output_type": "execute_result",
          "data": {
            "text/plain": [
              "Nome Localizador\n",
              "NACIONAL                            8.377886e+11\n",
              "NO DISTRITO FEDERAL                 6.408313e+08\n",
              "NO EXTERIOR                         1.416833e+08\n",
              "Sem informação                      3.355256e+07\n",
              "NO ESTADO DE SÃO PAULO              1.556629e+04\n",
              "NO ESTADO DE ALAGOAS                0.000000e+00\n",
              "NO ESTADO DE GOIÁS                  0.000000e+00\n",
              "NO ESTADO DA BAHIA                  0.000000e+00\n",
              "NO ESTADO DO TOCANTINS              0.000000e+00\n",
              "NO ESTADO DO RIO GRANDE DO SUL      0.000000e+00\n",
              "NO ESTADO DO RIO GRANDE DO NORTE    0.000000e+00\n",
              "NO ESTADO DO RIO DE JANEIRO         0.000000e+00\n",
              "NO ESTADO DO PIAUÍ                  0.000000e+00\n",
              "NO ESTADO DO PARÁ                   0.000000e+00\n",
              "NO ESTADO DO PARANÁ                 0.000000e+00\n",
              "NO ESTADO DO MARANHÃO               0.000000e+00\n",
              "NO ESTADO DO ESPÍRITO SANTO         0.000000e+00\n",
              "NO ESTADO DO CEARÁ                  0.000000e+00\n",
              "NO ESTADO DO AMAZONAS               0.000000e+00\n",
              "NO ESTADO DO AMAPÁ                  0.000000e+00\n",
              "NO ESTADO DO ACRE                   0.000000e+00\n",
              "NO ESTADO DA PARAÍBA                0.000000e+00\n",
              "NO ESTADO DE SERGIPE                0.000000e+00\n",
              "NO ESTADO DE SANTA CATARINA         0.000000e+00\n",
              "NO ESTADO DE RORAIMA                0.000000e+00\n",
              "NO ESTADO DE RONDÔNIA               0.000000e+00\n",
              "NO ESTADO DE PERNAMBUCO             0.000000e+00\n",
              "NO ESTADO DE MINAS GERAIS           0.000000e+00\n",
              "NO ESTADO DE MATO GROSSO DO SUL     0.000000e+00\n",
              "NO ESTADO DE MATO GROSSO            0.000000e+00\n",
              "NA REGIÃO SUL                       0.000000e+00\n",
              "Name: Valor_Pago, dtype: float64"
            ]
          },
          "metadata": {},
          "execution_count": 35
        }
      ]
    },
    {
      "cell_type": "code",
      "source": [
        "# cálculo da curva A do Órgão Subordinado, por Nome Localizador\n",
        "\n",
        "soma = 0\n",
        "\n",
        "for i,row in j1.iteritems():\n",
        "  soma += row\n",
        "\n",
        "curva_a = 0\n",
        "\n",
        "for j,row2 in j1.iteritems():\n",
        "  curva_a += row2\n",
        "  if curva_a > (0.8 * soma):\n",
        "    break\n",
        "\n",
        "print('O montante equivalente da curva A é: ', curva_a, '\\nEquivalente a ', round(curva_a / soma * 100), '% do total.\\nQue engloba até o', j)"
      ],
      "metadata": {
        "colab": {
          "base_uri": "https://localhost:8080/"
        },
        "outputId": "0b1cd348-1b2a-447d-f3d9-7ca913e03113",
        "id": "zXuU7DhusCO0"
      },
      "execution_count": null,
      "outputs": [
        {
          "output_type": "stream",
          "name": "stdout",
          "text": [
            "O montante equivalente da curva A é:  837788616296.12 \n",
            "Equivalente a  100 % do total.\n",
            "Que engloba até o NACIONAL\n"
          ]
        }
      ]
    },
    {
      "cell_type": "markdown",
      "source": [
        "####<font color='blue'>5.2.1.9 Análise das 'Unidades com vínculo direto', por Nome Elemento de Despesa"
      ],
      "metadata": {
        "id": "s1bUmMfw8zzU"
      }
    },
    {
      "cell_type": "code",
      "source": [
        "# estratificação dos gastos por Nome Elemento de Despesa\n",
        "\n",
        "k = df4.groupby(\"Nome Elemento de Despesa\")[\"Valor_Pago\"].sum()\n",
        "k.sort_values(ascending=False, inplace=True)\n",
        "k"
      ],
      "metadata": {
        "colab": {
          "base_uri": "https://localhost:8080/"
        },
        "outputId": "f6dbcc13-c33d-4c35-bcad-d6a9bcbdb03c",
        "id": "E7GyCcOenXHb"
      },
      "execution_count": null,
      "outputs": [
        {
          "output_type": "execute_result",
          "data": {
            "text/plain": [
              "Nome Elemento de Despesa\n",
              "Principal Corrigido da Dívida Mobiliária Refi    5.486602e+11\n",
              "Distribuição Constitucional ou Legal de Recei    9.897755e+10\n",
              "Juros, Deságios e Descontos da Dívida Mobiliá    9.339712e+10\n",
              "Principal da Dívida Mobiliária Resgatado         7.629420e+10\n",
              "COMPENSACOES A REGIMES DE PREVIDENCIA            3.096090e+09\n",
              "Aposentadorias do RPPS, Reserva Remunerada e     2.818642e+09\n",
              "Vencimentos e Vantagens Fixas - Pessoal Civil    2.753057e+09\n",
              "Principal Corrigido da Dívida Contratual Refi    2.155356e+09\n",
              "Pensões do RPPS e do militar                     2.105818e+09\n",
              "Subvenções econômicas                            1.705740e+09\n",
              "Indenizações e Restituições                      1.463863e+09\n",
              "Contribuições                                    1.331594e+09\n",
              "Despesas de Exercícios Anteriores                1.010779e+09\n",
              "Juros sobre a Dívida por Contrato                7.880895e+08\n",
              "Obrigações Patronais                             6.621838e+08\n",
              "Concessão de Empréstimos e Financiamentos        4.372200e+08\n",
              "Outros Serviços de Terceiros - Pessoa Jurídic    1.550972e+08\n",
              "Sentenças Judiciais                              1.459761e+08\n",
              "Serviços de Tecnologia da Informação e Comuni    1.458158e+08\n",
              "Ressarcimento de Despesas de Pessoal Requisit    9.528732e+07\n",
              "Locação de Mão-de-Obra                           8.887473e+07\n",
              "Auxílio-Alimentação                              6.979973e+07\n",
              "Participação em Fundos, Organismos, ou Entida    6.500000e+07\n",
              "Pensões Especiais                                4.525394e+07\n",
              "Contribuição a Entidades Fechadas de Previdên    2.553276e+07\n",
              "Principal da Dívida Contratual Resgatado         2.009669e+07\n",
              "Vencimentos e Vantagens Fixas - Pessoal Milit    1.778097e+07\n",
              "Outros Serviços de Terceiros - Pessoa Física     1.406621e+07\n",
              "Contratação por Tempo Determinado                1.281661e+07\n",
              "Outros Benefícios Assistenciais do servidor e    9.971562e+06\n",
              "Outros Encargos sobre a Dívida por Contrato      7.007297e+06\n",
              "Indenizações e Restituições Trabalhistas         6.254737e+06\n",
              "Obrigações Tributárias e Contributivas           5.761637e+06\n",
              "Outras Despesas Variáveis - Pessoal Civil        3.698076e+06\n",
              "Auxílio-Transporte                               3.150634e+06\n",
              "Diárias - Civil                                  2.966888e+06\n",
              "Material de Consumo                              2.540201e+06\n",
              "Passagens e Despesas com Locomoção               1.768247e+06\n",
              "Outras Despesas de Pessoal decorrentes de Con    1.174766e+06\n",
              "Serviços de Consultoria                          9.624689e+05\n",
              "Auxílio-Fardamento                               3.443174e+05\n",
              "Equipamentos e Material Permanente               1.714164e+05\n",
              "Obras e Instalações                              7.125640e+03\n",
              "Auxílio Financeiro a Estudantes                  3.508200e+03\n",
              "Indenização pela Execução de Trabalhos de Cam    1.800000e+03\n",
              "Premiações Culturais, Artísticas, Científicas    0.000000e+00\n",
              "Outros Encargos sobre a Dívida Mobiliária        0.000000e+00\n",
              "Auxílios                                         0.000000e+00\n",
              "Name: Valor_Pago, dtype: float64"
            ]
          },
          "metadata": {},
          "execution_count": 37
        }
      ]
    },
    {
      "cell_type": "code",
      "source": [
        "# cálculo da curva A do Órgão Subordinado, por Nome Elemento de Despesa\n",
        "\n",
        "soma = 0\n",
        "\n",
        "for i,row in k.iteritems():\n",
        "  soma += row\n",
        "\n",
        "curva_a = 0\n",
        "\n",
        "for j,row2 in k.iteritems():\n",
        "  curva_a += row2\n",
        "  if curva_a > (0.8 * soma):\n",
        "    break\n",
        "\n",
        "print('O montante equivalente da curva A é: ', curva_a, '\\nEquivalente a ', round(curva_a / soma * 100), '% do total.\\nQue engloba até o', j)"
      ],
      "metadata": {
        "colab": {
          "base_uri": "https://localhost:8080/"
        },
        "outputId": "aa7e3f07-4ede-4de0-9b7f-961650fa468b",
        "id": "kM4bdpGMsTln"
      },
      "execution_count": null,
      "outputs": [
        {
          "output_type": "stream",
          "name": "stdout",
          "text": [
            "O montante equivalente da curva A é:  741034880355.09 \n",
            "Equivalente a  88 % do total.\n",
            "Que engloba até o Juros, Deságios e Descontos da Dívida Mobiliá\n"
          ]
        }
      ]
    },
    {
      "cell_type": "markdown",
      "source": [
        "Análise referente ao aprofundamento dos gastos do Ministério da Economia:\n",
        "\n",
        "> **Conclusão**: as despesas referentes à Amortização/Refinanciamento da Dívida e Juros/Encargos da Dívida totalizam mais de 85% (721 bilhões de Reais) de tudo que o governo desembolsa, via Ministério da Economia (total de 838 bilhões de Reais).\n",
        "\n",
        ">> Como o propósito inicial desse trabalho, seria investigar apenas os itens considerados como 'curva A' dos gastos públicos federais, não há dados para detalhar melhor os gastos do ministério citado acima.\n",
        "\n",
        ">> Seria necessário aprofundar as análises em bases de dados específicas sobre o tema da dívida, para procurar oportunidades ou brechas para eventuais desvios públicos que, aliás, seriam estratosféricos.\n",
        "\n",
        ">> O Brasil está altamente endividado e, por isso, tem grandes dificuldades para investir nas necessidades mais básicas da população.\n",
        "\n",
        "<hr></hr>"
      ],
      "metadata": {
        "id": "iWRl5sQaHFs9"
      }
    },
    {
      "cell_type": "markdown",
      "source": [
        "###<font color='blue'>5.3 Aprofundar análise no Ministério do Trabalho"
      ],
      "metadata": {
        "id": "bxqhDeYJVi1F"
      }
    },
    {
      "cell_type": "code",
      "source": [
        "# criação do df5, com dados só do Ministério do Trabalho\n",
        "\n",
        "df5 = df2.groupby('Nome Órgão Superior').get_group('Ministério do Trabalho')\n",
        "\n",
        "l = df5.groupby(\"Nome Órgão Superior\")[\"Valor_Pago\"].sum()\n",
        "l.sort_values(ascending=False, inplace=True)\n",
        "l"
      ],
      "metadata": {
        "colab": {
          "base_uri": "https://localhost:8080/"
        },
        "outputId": "01fde4be-ac73-4373-fe0d-a13f296f3892",
        "id": "IhNyu5D9Vi1M"
      },
      "execution_count": null,
      "outputs": [
        {
          "output_type": "execute_result",
          "data": {
            "text/plain": [
              "Nome Órgão Superior\n",
              "Ministério do Trabalho    2.647565e+11\n",
              "Name: Valor_Pago, dtype: float64"
            ]
          },
          "metadata": {},
          "execution_count": 39
        }
      ]
    },
    {
      "cell_type": "code",
      "source": [
        "# estratificação dos gastos por Órgão Subordinado\n",
        "\n",
        "m = df5.groupby(\"Nome Órgão Subordinado\")[\"Valor_Pago\"].sum()\n",
        "m.sort_values(ascending=False, inplace=True)\n",
        "m"
      ],
      "metadata": {
        "colab": {
          "base_uri": "https://localhost:8080/"
        },
        "outputId": "a7728e50-7655-4301-c737-aeb5e287e44f",
        "id": "qb4A7L6sXi01"
      },
      "execution_count": null,
      "outputs": [
        {
          "output_type": "execute_result",
          "data": {
            "text/plain": [
              "Nome Órgão Subordinado\n",
              "Fundo do Regime Geral da Previdência Social                              1.965193e+11\n",
              "Fundo de Amparo ao Trabalhador                                           4.321140e+10\n",
              "Instituto Nacional do Seguro Social                                      2.476506e+10\n",
              "Ministério do Trabalho - Unidades com vínculo direto                     2.280283e+08\n",
              "Fundação Jorge Duprat Figueiredo, de Segurança e Medicina do Trabalho    2.374867e+07\n",
              "Superintendência Nacional de Previdência Complementar                    8.972006e+06\n",
              "Name: Valor_Pago, dtype: float64"
            ]
          },
          "metadata": {},
          "execution_count": 40
        }
      ]
    },
    {
      "cell_type": "code",
      "source": [
        "# cálculo da curva A do Órgão Subordinado\n",
        "\n",
        "soma = 0\n",
        "\n",
        "for i,row in m.iteritems():\n",
        "  soma += row\n",
        "\n",
        "curva_a = 0\n",
        "\n",
        "for j,row2 in m.iteritems():\n",
        "  curva_a += row2\n",
        "  if curva_a > (0.8 * soma):\n",
        "    break\n",
        "\n",
        "print('O montante equivalente da curva A é: ', curva_a, '\\nEquivalente a ', round(curva_a / soma * 100), '% do total.\\nQue engloba até o', j)"
      ],
      "metadata": {
        "colab": {
          "base_uri": "https://localhost:8080/"
        },
        "outputId": "36f6ddd3-8fb7-464a-a2ba-f2596cd6026c",
        "id": "Os6KTXVAXi1N"
      },
      "execution_count": null,
      "outputs": [
        {
          "output_type": "stream",
          "name": "stdout",
          "text": [
            "O montante equivalente da curva A é:  239730703915.22 \n",
            "Equivalente a  91 % do total.\n",
            "Que engloba até o Fundo de Amparo ao Trabalhador\n"
          ]
        }
      ]
    },
    {
      "cell_type": "markdown",
      "source": [
        "<hr></hr>"
      ],
      "metadata": {
        "id": "aHPNcnxE3dAZ"
      }
    },
    {
      "cell_type": "markdown",
      "source": [
        "####<font color='blue'>5.3.1 Análise do 'Fundo do Regime Geral da Previdência Social'"
      ],
      "metadata": {
        "id": "OH98a1OEZoaD"
      }
    },
    {
      "cell_type": "markdown",
      "source": [
        "<hr></hr>"
      ],
      "metadata": {
        "id": "ibnRxiTH3fqp"
      }
    },
    {
      "cell_type": "markdown",
      "source": [
        "####<font color='blue'>5.3.1.1 Análise do 'Fundo do Regime Geral da Previdência Social'"
      ],
      "metadata": {
        "id": "kSpUSRlhbZ7F"
      }
    },
    {
      "cell_type": "code",
      "source": [
        "# criação de df6, apenas com dados do Órgão Subordinado\n",
        "\n",
        "orgao_subordinado = ['Fundo do Regime Geral da Previdência Social']\n",
        "selecao = df5['Nome Órgão Subordinado'].isin(orgao_subordinado)\n",
        "df6 = df5[selecao]\n",
        "df6"
      ],
      "metadata": {
        "colab": {
          "base_uri": "https://localhost:8080/",
          "height": 1000
        },
        "outputId": "9b9eaf21-1e92-4994-a4d2-7854ba8b641e",
        "id": "YmXL7kZIZoab"
      },
      "execution_count": null,
      "outputs": [
        {
          "output_type": "execute_result",
          "data": {
            "text/plain": [
              "       Ano e mês do lançamento Código Órgão Superior     Nome Órgão Superior  \\\n",
              "167                    2022/01                 40000  Ministério do Trabalho   \n",
              "201                    2022/01                 40000  Ministério do Trabalho   \n",
              "362                    2022/01                 40000  Ministério do Trabalho   \n",
              "379                    2022/01                 40000  Ministério do Trabalho   \n",
              "626                    2022/01                 40000  Ministério do Trabalho   \n",
              "...                        ...                   ...                     ...   \n",
              "203332                 2022/04                 40000  Ministério do Trabalho   \n",
              "203462                 2022/04                 40000  Ministério do Trabalho   \n",
              "203997                 2022/04                 40000  Ministério do Trabalho   \n",
              "204015                 2022/04                 40000  Ministério do Trabalho   \n",
              "204037                 2022/04                 40000  Ministério do Trabalho   \n",
              "\n",
              "       Código Órgão Subordinado                       Nome Órgão Subordinado  \\\n",
              "167                       37904  Fundo do Regime Geral da Previdência Social   \n",
              "201                       37904  Fundo do Regime Geral da Previdência Social   \n",
              "362                       37904  Fundo do Regime Geral da Previdência Social   \n",
              "379                       37904  Fundo do Regime Geral da Previdência Social   \n",
              "626                       37904  Fundo do Regime Geral da Previdência Social   \n",
              "...                         ...                                          ...   \n",
              "203332                    37904  Fundo do Regime Geral da Previdência Social   \n",
              "203462                    37904  Fundo do Regime Geral da Previdência Social   \n",
              "203997                    37904  Fundo do Regime Geral da Previdência Social   \n",
              "204015                    37904  Fundo do Regime Geral da Previdência Social   \n",
              "204037                    37904  Fundo do Regime Geral da Previdência Social   \n",
              "\n",
              "       Código Unidade Gestora                           Nome Unidade Gestora  \\\n",
              "167                    513580              FRGPS - GERENCIA EXECUTIVA MANAUS   \n",
              "201                    514673  FRGPS - GERENCIA EXECUTIVA VITORIA DA CONQUIS   \n",
              "362                    513830   FRGPS - GERENCIA EXECUTIVA JUAZEIRO DO NORTE   \n",
              "379                    513580              FRGPS - GERENCIA EXECUTIVA MANAUS   \n",
              "626                    515035         FRGPS - GERENCIA EXECUTIVA PORTO VELHO   \n",
              "...                       ...                                            ...   \n",
              "203332                 513001   COORDENACAO DE ORCAMENTO E FINANCAS DO FRGPS   \n",
              "203462                 514852            FRGPS - GERENCIA EXECUTIVA VARGINHA   \n",
              "203997                 513677     FRGPS - SUPERINTENDENCIA REGIONAL NORDESTE   \n",
              "204015                 514770      FRGPS - GERENCIA EXECUTIVA BELO HORIZONTE   \n",
              "204037                 513181          FRGPS - SUPERINTENDENCIA REGIONAL SUL   \n",
              "\n",
              "       Código Gestão                                  Nome Gestão  \\\n",
              "167          57904.0  FUNDO DO REGIME GERAL DA PREVIDENCIA SOCIAL   \n",
              "201          57904.0  FUNDO DO REGIME GERAL DA PREVIDENCIA SOCIAL   \n",
              "362          57904.0  FUNDO DO REGIME GERAL DA PREVIDENCIA SOCIAL   \n",
              "379          57904.0  FUNDO DO REGIME GERAL DA PREVIDENCIA SOCIAL   \n",
              "626          57904.0  FUNDO DO REGIME GERAL DA PREVIDENCIA SOCIAL   \n",
              "...              ...                                          ...   \n",
              "203332       57904.0  FUNDO DO REGIME GERAL DA PREVIDENCIA SOCIAL   \n",
              "203462       57904.0  FUNDO DO REGIME GERAL DA PREVIDENCIA SOCIAL   \n",
              "203997       57904.0  FUNDO DO REGIME GERAL DA PREVIDENCIA SOCIAL   \n",
              "204015       57904.0  FUNDO DO REGIME GERAL DA PREVIDENCIA SOCIAL   \n",
              "204037       57904.0  FUNDO DO REGIME GERAL DA PREVIDENCIA SOCIAL   \n",
              "\n",
              "       Código Unidade Orçamentária  ... Código Elemento de Despesa  \\\n",
              "167                          40904  ...                         91   \n",
              "201                          40904  ...                         91   \n",
              "362                          40904  ...                         91   \n",
              "379                          40904  ...                         91   \n",
              "626                          40904  ...                         91   \n",
              "...                            ...  ...                        ...   \n",
              "203332                       40904  ...                         58   \n",
              "203462                       40904  ...                         91   \n",
              "203997                       40904  ...                         58   \n",
              "204015                       40904  ...                         58   \n",
              "204037                       40904  ...                         91   \n",
              "\n",
              "                       Nome Elemento de Despesa Código Modalidade da Despesa  \\\n",
              "167                         Sentenças Judiciais                           90   \n",
              "201                         Sentenças Judiciais                           90   \n",
              "362                         Sentenças Judiciais                           90   \n",
              "379                         Sentenças Judiciais                           90   \n",
              "626                         Sentenças Judiciais                           90   \n",
              "...                                         ...                          ...   \n",
              "203332  Outros Benefícios do RGPS - Área Urbana                           90   \n",
              "203462                      Sentenças Judiciais                           90   \n",
              "203997  Outros Benefícios do RGPS - Área Urbana                           90   \n",
              "204015  Outros Benefícios do RGPS - Área Urbana                           90   \n",
              "204037                      Sentenças Judiciais                           90   \n",
              "\n",
              "          Modalidade da Despesa Valor_Empenhado Valor_Liquidado    Valor_Pago  \\\n",
              "167     Reserva de Contingência    4.000000e+03    0.000000e+00  0.000000e+00   \n",
              "201     Reserva de Contingência    5.000000e+03    0.000000e+00  0.000000e+00   \n",
              "362     Reserva de Contingência    7.430720e+03    7.430720e+03  2.755400e+03   \n",
              "379     Reserva de Contingência    5.000000e+04    1.445013e+04  1.445013e+04   \n",
              "626     Reserva de Contingência    6.858695e+05    6.858695e+05  6.858695e+05   \n",
              "...                         ...             ...             ...           ...   \n",
              "203332  Reserva de Contingência    3.662267e+09    3.313797e+09  2.857503e+09   \n",
              "203462  Reserva de Contingência   -8.219872e+04    1.000000e+02  6.081700e+02   \n",
              "203997  Reserva de Contingência    3.907062e+05    8.864075e+04  8.528672e+04   \n",
              "204015  Reserva de Contingência   -3.013180e+03   -1.126200e+03  1.014050e+03   \n",
              "204037  Reserva de Contingência    0.000000e+00    8.531457e+05  7.966950e+05   \n",
              "\n",
              "       Valor_Restos_a_Pagar_Inscritos Valor_Restos_a_Pagar_Cancelado  \\\n",
              "167                               0.0                            0.0   \n",
              "201                               0.0                            0.0   \n",
              "362                               0.0                            0.0   \n",
              "379                               0.0                            0.0   \n",
              "626                               0.0                            0.0   \n",
              "...                               ...                            ...   \n",
              "203332                            0.0                            0.0   \n",
              "203462                            0.0                            0.0   \n",
              "203997                            0.0                            0.0   \n",
              "204015                            0.0                            0.0   \n",
              "204037                            0.0                            0.0   \n",
              "\n",
              "       Valor_Restos_a_Pagar_Pagos  \n",
              "167                           0.0  \n",
              "201                           0.0  \n",
              "362                           0.0  \n",
              "379                           0.0  \n",
              "626                           0.0  \n",
              "...                           ...  \n",
              "203332                        0.0  \n",
              "203462                        0.0  \n",
              "203997                        0.0  \n",
              "204015                        0.0  \n",
              "204037                        0.0  \n",
              "\n",
              "[871 rows x 43 columns]"
            ],
            "text/html": [
              "\n",
              "  <div id=\"df-a3a6d4b6-f788-4354-b5bc-da80fb29bc49\">\n",
              "    <div class=\"colab-df-container\">\n",
              "      <div>\n",
              "<style scoped>\n",
              "    .dataframe tbody tr th:only-of-type {\n",
              "        vertical-align: middle;\n",
              "    }\n",
              "\n",
              "    .dataframe tbody tr th {\n",
              "        vertical-align: top;\n",
              "    }\n",
              "\n",
              "    .dataframe thead th {\n",
              "        text-align: right;\n",
              "    }\n",
              "</style>\n",
              "<table border=\"1\" class=\"dataframe\">\n",
              "  <thead>\n",
              "    <tr style=\"text-align: right;\">\n",
              "      <th></th>\n",
              "      <th>Ano e mês do lançamento</th>\n",
              "      <th>Código Órgão Superior</th>\n",
              "      <th>Nome Órgão Superior</th>\n",
              "      <th>Código Órgão Subordinado</th>\n",
              "      <th>Nome Órgão Subordinado</th>\n",
              "      <th>Código Unidade Gestora</th>\n",
              "      <th>Nome Unidade Gestora</th>\n",
              "      <th>Código Gestão</th>\n",
              "      <th>Nome Gestão</th>\n",
              "      <th>Código Unidade Orçamentária</th>\n",
              "      <th>...</th>\n",
              "      <th>Código Elemento de Despesa</th>\n",
              "      <th>Nome Elemento de Despesa</th>\n",
              "      <th>Código Modalidade da Despesa</th>\n",
              "      <th>Modalidade da Despesa</th>\n",
              "      <th>Valor_Empenhado</th>\n",
              "      <th>Valor_Liquidado</th>\n",
              "      <th>Valor_Pago</th>\n",
              "      <th>Valor_Restos_a_Pagar_Inscritos</th>\n",
              "      <th>Valor_Restos_a_Pagar_Cancelado</th>\n",
              "      <th>Valor_Restos_a_Pagar_Pagos</th>\n",
              "    </tr>\n",
              "  </thead>\n",
              "  <tbody>\n",
              "    <tr>\n",
              "      <th>167</th>\n",
              "      <td>2022/01</td>\n",
              "      <td>40000</td>\n",
              "      <td>Ministério do Trabalho</td>\n",
              "      <td>37904</td>\n",
              "      <td>Fundo do Regime Geral da Previdência Social</td>\n",
              "      <td>513580</td>\n",
              "      <td>FRGPS - GERENCIA EXECUTIVA MANAUS</td>\n",
              "      <td>57904.0</td>\n",
              "      <td>FUNDO DO REGIME GERAL DA PREVIDENCIA SOCIAL</td>\n",
              "      <td>40904</td>\n",
              "      <td>...</td>\n",
              "      <td>91</td>\n",
              "      <td>Sentenças Judiciais</td>\n",
              "      <td>90</td>\n",
              "      <td>Reserva de Contingência</td>\n",
              "      <td>4.000000e+03</td>\n",
              "      <td>0.000000e+00</td>\n",
              "      <td>0.000000e+00</td>\n",
              "      <td>0.0</td>\n",
              "      <td>0.0</td>\n",
              "      <td>0.0</td>\n",
              "    </tr>\n",
              "    <tr>\n",
              "      <th>201</th>\n",
              "      <td>2022/01</td>\n",
              "      <td>40000</td>\n",
              "      <td>Ministério do Trabalho</td>\n",
              "      <td>37904</td>\n",
              "      <td>Fundo do Regime Geral da Previdência Social</td>\n",
              "      <td>514673</td>\n",
              "      <td>FRGPS - GERENCIA EXECUTIVA VITORIA DA CONQUIS</td>\n",
              "      <td>57904.0</td>\n",
              "      <td>FUNDO DO REGIME GERAL DA PREVIDENCIA SOCIAL</td>\n",
              "      <td>40904</td>\n",
              "      <td>...</td>\n",
              "      <td>91</td>\n",
              "      <td>Sentenças Judiciais</td>\n",
              "      <td>90</td>\n",
              "      <td>Reserva de Contingência</td>\n",
              "      <td>5.000000e+03</td>\n",
              "      <td>0.000000e+00</td>\n",
              "      <td>0.000000e+00</td>\n",
              "      <td>0.0</td>\n",
              "      <td>0.0</td>\n",
              "      <td>0.0</td>\n",
              "    </tr>\n",
              "    <tr>\n",
              "      <th>362</th>\n",
              "      <td>2022/01</td>\n",
              "      <td>40000</td>\n",
              "      <td>Ministério do Trabalho</td>\n",
              "      <td>37904</td>\n",
              "      <td>Fundo do Regime Geral da Previdência Social</td>\n",
              "      <td>513830</td>\n",
              "      <td>FRGPS - GERENCIA EXECUTIVA JUAZEIRO DO NORTE</td>\n",
              "      <td>57904.0</td>\n",
              "      <td>FUNDO DO REGIME GERAL DA PREVIDENCIA SOCIAL</td>\n",
              "      <td>40904</td>\n",
              "      <td>...</td>\n",
              "      <td>91</td>\n",
              "      <td>Sentenças Judiciais</td>\n",
              "      <td>90</td>\n",
              "      <td>Reserva de Contingência</td>\n",
              "      <td>7.430720e+03</td>\n",
              "      <td>7.430720e+03</td>\n",
              "      <td>2.755400e+03</td>\n",
              "      <td>0.0</td>\n",
              "      <td>0.0</td>\n",
              "      <td>0.0</td>\n",
              "    </tr>\n",
              "    <tr>\n",
              "      <th>379</th>\n",
              "      <td>2022/01</td>\n",
              "      <td>40000</td>\n",
              "      <td>Ministério do Trabalho</td>\n",
              "      <td>37904</td>\n",
              "      <td>Fundo do Regime Geral da Previdência Social</td>\n",
              "      <td>513580</td>\n",
              "      <td>FRGPS - GERENCIA EXECUTIVA MANAUS</td>\n",
              "      <td>57904.0</td>\n",
              "      <td>FUNDO DO REGIME GERAL DA PREVIDENCIA SOCIAL</td>\n",
              "      <td>40904</td>\n",
              "      <td>...</td>\n",
              "      <td>91</td>\n",
              "      <td>Sentenças Judiciais</td>\n",
              "      <td>90</td>\n",
              "      <td>Reserva de Contingência</td>\n",
              "      <td>5.000000e+04</td>\n",
              "      <td>1.445013e+04</td>\n",
              "      <td>1.445013e+04</td>\n",
              "      <td>0.0</td>\n",
              "      <td>0.0</td>\n",
              "      <td>0.0</td>\n",
              "    </tr>\n",
              "    <tr>\n",
              "      <th>626</th>\n",
              "      <td>2022/01</td>\n",
              "      <td>40000</td>\n",
              "      <td>Ministério do Trabalho</td>\n",
              "      <td>37904</td>\n",
              "      <td>Fundo do Regime Geral da Previdência Social</td>\n",
              "      <td>515035</td>\n",
              "      <td>FRGPS - GERENCIA EXECUTIVA PORTO VELHO</td>\n",
              "      <td>57904.0</td>\n",
              "      <td>FUNDO DO REGIME GERAL DA PREVIDENCIA SOCIAL</td>\n",
              "      <td>40904</td>\n",
              "      <td>...</td>\n",
              "      <td>91</td>\n",
              "      <td>Sentenças Judiciais</td>\n",
              "      <td>90</td>\n",
              "      <td>Reserva de Contingência</td>\n",
              "      <td>6.858695e+05</td>\n",
              "      <td>6.858695e+05</td>\n",
              "      <td>6.858695e+05</td>\n",
              "      <td>0.0</td>\n",
              "      <td>0.0</td>\n",
              "      <td>0.0</td>\n",
              "    </tr>\n",
              "    <tr>\n",
              "      <th>...</th>\n",
              "      <td>...</td>\n",
              "      <td>...</td>\n",
              "      <td>...</td>\n",
              "      <td>...</td>\n",
              "      <td>...</td>\n",
              "      <td>...</td>\n",
              "      <td>...</td>\n",
              "      <td>...</td>\n",
              "      <td>...</td>\n",
              "      <td>...</td>\n",
              "      <td>...</td>\n",
              "      <td>...</td>\n",
              "      <td>...</td>\n",
              "      <td>...</td>\n",
              "      <td>...</td>\n",
              "      <td>...</td>\n",
              "      <td>...</td>\n",
              "      <td>...</td>\n",
              "      <td>...</td>\n",
              "      <td>...</td>\n",
              "      <td>...</td>\n",
              "    </tr>\n",
              "    <tr>\n",
              "      <th>203332</th>\n",
              "      <td>2022/04</td>\n",
              "      <td>40000</td>\n",
              "      <td>Ministério do Trabalho</td>\n",
              "      <td>37904</td>\n",
              "      <td>Fundo do Regime Geral da Previdência Social</td>\n",
              "      <td>513001</td>\n",
              "      <td>COORDENACAO DE ORCAMENTO E FINANCAS DO FRGPS</td>\n",
              "      <td>57904.0</td>\n",
              "      <td>FUNDO DO REGIME GERAL DA PREVIDENCIA SOCIAL</td>\n",
              "      <td>40904</td>\n",
              "      <td>...</td>\n",
              "      <td>58</td>\n",
              "      <td>Outros Benefícios do RGPS - Área Urbana</td>\n",
              "      <td>90</td>\n",
              "      <td>Reserva de Contingência</td>\n",
              "      <td>3.662267e+09</td>\n",
              "      <td>3.313797e+09</td>\n",
              "      <td>2.857503e+09</td>\n",
              "      <td>0.0</td>\n",
              "      <td>0.0</td>\n",
              "      <td>0.0</td>\n",
              "    </tr>\n",
              "    <tr>\n",
              "      <th>203462</th>\n",
              "      <td>2022/04</td>\n",
              "      <td>40000</td>\n",
              "      <td>Ministério do Trabalho</td>\n",
              "      <td>37904</td>\n",
              "      <td>Fundo do Regime Geral da Previdência Social</td>\n",
              "      <td>514852</td>\n",
              "      <td>FRGPS - GERENCIA EXECUTIVA VARGINHA</td>\n",
              "      <td>57904.0</td>\n",
              "      <td>FUNDO DO REGIME GERAL DA PREVIDENCIA SOCIAL</td>\n",
              "      <td>40904</td>\n",
              "      <td>...</td>\n",
              "      <td>91</td>\n",
              "      <td>Sentenças Judiciais</td>\n",
              "      <td>90</td>\n",
              "      <td>Reserva de Contingência</td>\n",
              "      <td>-8.219872e+04</td>\n",
              "      <td>1.000000e+02</td>\n",
              "      <td>6.081700e+02</td>\n",
              "      <td>0.0</td>\n",
              "      <td>0.0</td>\n",
              "      <td>0.0</td>\n",
              "    </tr>\n",
              "    <tr>\n",
              "      <th>203997</th>\n",
              "      <td>2022/04</td>\n",
              "      <td>40000</td>\n",
              "      <td>Ministério do Trabalho</td>\n",
              "      <td>37904</td>\n",
              "      <td>Fundo do Regime Geral da Previdência Social</td>\n",
              "      <td>513677</td>\n",
              "      <td>FRGPS - SUPERINTENDENCIA REGIONAL NORDESTE</td>\n",
              "      <td>57904.0</td>\n",
              "      <td>FUNDO DO REGIME GERAL DA PREVIDENCIA SOCIAL</td>\n",
              "      <td>40904</td>\n",
              "      <td>...</td>\n",
              "      <td>58</td>\n",
              "      <td>Outros Benefícios do RGPS - Área Urbana</td>\n",
              "      <td>90</td>\n",
              "      <td>Reserva de Contingência</td>\n",
              "      <td>3.907062e+05</td>\n",
              "      <td>8.864075e+04</td>\n",
              "      <td>8.528672e+04</td>\n",
              "      <td>0.0</td>\n",
              "      <td>0.0</td>\n",
              "      <td>0.0</td>\n",
              "    </tr>\n",
              "    <tr>\n",
              "      <th>204015</th>\n",
              "      <td>2022/04</td>\n",
              "      <td>40000</td>\n",
              "      <td>Ministério do Trabalho</td>\n",
              "      <td>37904</td>\n",
              "      <td>Fundo do Regime Geral da Previdência Social</td>\n",
              "      <td>514770</td>\n",
              "      <td>FRGPS - GERENCIA EXECUTIVA BELO HORIZONTE</td>\n",
              "      <td>57904.0</td>\n",
              "      <td>FUNDO DO REGIME GERAL DA PREVIDENCIA SOCIAL</td>\n",
              "      <td>40904</td>\n",
              "      <td>...</td>\n",
              "      <td>58</td>\n",
              "      <td>Outros Benefícios do RGPS - Área Urbana</td>\n",
              "      <td>90</td>\n",
              "      <td>Reserva de Contingência</td>\n",
              "      <td>-3.013180e+03</td>\n",
              "      <td>-1.126200e+03</td>\n",
              "      <td>1.014050e+03</td>\n",
              "      <td>0.0</td>\n",
              "      <td>0.0</td>\n",
              "      <td>0.0</td>\n",
              "    </tr>\n",
              "    <tr>\n",
              "      <th>204037</th>\n",
              "      <td>2022/04</td>\n",
              "      <td>40000</td>\n",
              "      <td>Ministério do Trabalho</td>\n",
              "      <td>37904</td>\n",
              "      <td>Fundo do Regime Geral da Previdência Social</td>\n",
              "      <td>513181</td>\n",
              "      <td>FRGPS - SUPERINTENDENCIA REGIONAL SUL</td>\n",
              "      <td>57904.0</td>\n",
              "      <td>FUNDO DO REGIME GERAL DA PREVIDENCIA SOCIAL</td>\n",
              "      <td>40904</td>\n",
              "      <td>...</td>\n",
              "      <td>91</td>\n",
              "      <td>Sentenças Judiciais</td>\n",
              "      <td>90</td>\n",
              "      <td>Reserva de Contingência</td>\n",
              "      <td>0.000000e+00</td>\n",
              "      <td>8.531457e+05</td>\n",
              "      <td>7.966950e+05</td>\n",
              "      <td>0.0</td>\n",
              "      <td>0.0</td>\n",
              "      <td>0.0</td>\n",
              "    </tr>\n",
              "  </tbody>\n",
              "</table>\n",
              "<p>871 rows × 43 columns</p>\n",
              "</div>\n",
              "      <button class=\"colab-df-convert\" onclick=\"convertToInteractive('df-a3a6d4b6-f788-4354-b5bc-da80fb29bc49')\"\n",
              "              title=\"Convert this dataframe to an interactive table.\"\n",
              "              style=\"display:none;\">\n",
              "        \n",
              "  <svg xmlns=\"http://www.w3.org/2000/svg\" height=\"24px\"viewBox=\"0 0 24 24\"\n",
              "       width=\"24px\">\n",
              "    <path d=\"M0 0h24v24H0V0z\" fill=\"none\"/>\n",
              "    <path d=\"M18.56 5.44l.94 2.06.94-2.06 2.06-.94-2.06-.94-.94-2.06-.94 2.06-2.06.94zm-11 1L8.5 8.5l.94-2.06 2.06-.94-2.06-.94L8.5 2.5l-.94 2.06-2.06.94zm10 10l.94 2.06.94-2.06 2.06-.94-2.06-.94-.94-2.06-.94 2.06-2.06.94z\"/><path d=\"M17.41 7.96l-1.37-1.37c-.4-.4-.92-.59-1.43-.59-.52 0-1.04.2-1.43.59L10.3 9.45l-7.72 7.72c-.78.78-.78 2.05 0 2.83L4 21.41c.39.39.9.59 1.41.59.51 0 1.02-.2 1.41-.59l7.78-7.78 2.81-2.81c.8-.78.8-2.07 0-2.86zM5.41 20L4 18.59l7.72-7.72 1.47 1.35L5.41 20z\"/>\n",
              "  </svg>\n",
              "      </button>\n",
              "      \n",
              "  <style>\n",
              "    .colab-df-container {\n",
              "      display:flex;\n",
              "      flex-wrap:wrap;\n",
              "      gap: 12px;\n",
              "    }\n",
              "\n",
              "    .colab-df-convert {\n",
              "      background-color: #E8F0FE;\n",
              "      border: none;\n",
              "      border-radius: 50%;\n",
              "      cursor: pointer;\n",
              "      display: none;\n",
              "      fill: #1967D2;\n",
              "      height: 32px;\n",
              "      padding: 0 0 0 0;\n",
              "      width: 32px;\n",
              "    }\n",
              "\n",
              "    .colab-df-convert:hover {\n",
              "      background-color: #E2EBFA;\n",
              "      box-shadow: 0px 1px 2px rgba(60, 64, 67, 0.3), 0px 1px 3px 1px rgba(60, 64, 67, 0.15);\n",
              "      fill: #174EA6;\n",
              "    }\n",
              "\n",
              "    [theme=dark] .colab-df-convert {\n",
              "      background-color: #3B4455;\n",
              "      fill: #D2E3FC;\n",
              "    }\n",
              "\n",
              "    [theme=dark] .colab-df-convert:hover {\n",
              "      background-color: #434B5C;\n",
              "      box-shadow: 0px 1px 3px 1px rgba(0, 0, 0, 0.15);\n",
              "      filter: drop-shadow(0px 1px 2px rgba(0, 0, 0, 0.3));\n",
              "      fill: #FFFFFF;\n",
              "    }\n",
              "  </style>\n",
              "\n",
              "      <script>\n",
              "        const buttonEl =\n",
              "          document.querySelector('#df-a3a6d4b6-f788-4354-b5bc-da80fb29bc49 button.colab-df-convert');\n",
              "        buttonEl.style.display =\n",
              "          google.colab.kernel.accessAllowed ? 'block' : 'none';\n",
              "\n",
              "        async function convertToInteractive(key) {\n",
              "          const element = document.querySelector('#df-a3a6d4b6-f788-4354-b5bc-da80fb29bc49');\n",
              "          const dataTable =\n",
              "            await google.colab.kernel.invokeFunction('convertToInteractive',\n",
              "                                                     [key], {});\n",
              "          if (!dataTable) return;\n",
              "\n",
              "          const docLinkHtml = 'Like what you see? Visit the ' +\n",
              "            '<a target=\"_blank\" href=https://colab.research.google.com/notebooks/data_table.ipynb>data table notebook</a>'\n",
              "            + ' to learn more about interactive tables.';\n",
              "          element.innerHTML = '';\n",
              "          dataTable['output_type'] = 'display_data';\n",
              "          await google.colab.output.renderOutput(dataTable, element);\n",
              "          const docLink = document.createElement('div');\n",
              "          docLink.innerHTML = docLinkHtml;\n",
              "          element.appendChild(docLink);\n",
              "        }\n",
              "      </script>\n",
              "    </div>\n",
              "  </div>\n",
              "  "
            ]
          },
          "metadata": {},
          "execution_count": 42
        }
      ]
    },
    {
      "cell_type": "markdown",
      "source": [
        "####<font color='blue'>5.3.1.1.1 Análise do 'Fundo do Regime Geral da Previdência Social', por Nome Função"
      ],
      "metadata": {
        "id": "7xdKRQ8LbE_C"
      }
    },
    {
      "cell_type": "code",
      "source": [
        "# estratificação dos gastos por Nome Função\n",
        "\n",
        "n = df6.groupby(\"Nome Função\")[\"Valor_Pago\"].sum()\n",
        "n.sort_values(ascending=False, inplace=True)\n",
        "n"
      ],
      "metadata": {
        "colab": {
          "base_uri": "https://localhost:8080/"
        },
        "outputId": "af835177-457e-4390-bce4-c7b73e6c23fc",
        "id": "-zPGLqQJbE_D"
      },
      "execution_count": null,
      "outputs": [
        {
          "output_type": "execute_result",
          "data": {
            "text/plain": [
              "Nome Função\n",
              "Previdência social    1.962575e+11\n",
              "Encargos especiais    2.618104e+08\n",
              "Name: Valor_Pago, dtype: float64"
            ]
          },
          "metadata": {},
          "execution_count": 43
        }
      ]
    },
    {
      "cell_type": "code",
      "source": [
        "# cálculo da curva A do Órgão Subordinado, por Nome Função\n",
        "\n",
        "soma = 0\n",
        "\n",
        "for i,row in n.iteritems():\n",
        "  soma += row\n",
        "\n",
        "curva_a = 0\n",
        "\n",
        "for j,row2 in n.iteritems():\n",
        "  curva_a += row2\n",
        "  if curva_a > (0.8 * soma):\n",
        "    break\n",
        "\n",
        "print('O montante equivalente da curva A é: ', curva_a, '\\nEquivalente a ', round(curva_a / soma * 100), '% do total.\\nQue engloba até o', j)"
      ],
      "metadata": {
        "colab": {
          "base_uri": "https://localhost:8080/"
        },
        "outputId": "9226c252-596a-4463-ad0d-6f66ede6fb7b",
        "id": "LoitSh_YbE_E"
      },
      "execution_count": null,
      "outputs": [
        {
          "output_type": "stream",
          "name": "stdout",
          "text": [
            "O montante equivalente da curva A é:  196257493504.45 \n",
            "Equivalente a  100 % do total.\n",
            "Que engloba até o Previdência social\n"
          ]
        }
      ]
    },
    {
      "cell_type": "markdown",
      "source": [
        "####<font color='blue'>5.3.1.1.2 Análise do 'Fundo do Regime Geral da Previdência Social', por Nome Unidade Gestora"
      ],
      "metadata": {
        "id": "Ff76MET5cxeA"
      }
    },
    {
      "cell_type": "code",
      "source": [
        "# estratificação dos gastos por Nome Unidade Gestora\n",
        "\n",
        "o = df6.groupby(\"Nome Unidade Gestora\")[\"Valor_Pago\"].sum()\n",
        "o.sort_values(ascending=False, inplace=True)\n",
        "o"
      ],
      "metadata": {
        "colab": {
          "base_uri": "https://localhost:8080/"
        },
        "outputId": "a03a35a4-b117-48f0-d498-5c6a9da11306",
        "id": "Y-pxsBc5cxeH"
      },
      "execution_count": null,
      "outputs": [
        {
          "output_type": "execute_result",
          "data": {
            "text/plain": [
              "Nome Unidade Gestora\n",
              "COORDENACAO DE ORCAMENTO E FINANCAS DO FRGPS     1.962286e+11\n",
              "FRGPS - SUPERINTENDENCIA REGIONAL SUDESTE I      1.155562e+08\n",
              "FRGPS - SUPERINTENDENCIA REGIONAL SUL            1.081068e+08\n",
              "FRGPS - SUPERINTENDENCIA REGIONAL NORTE/CENTR    5.966356e+06\n",
              "FRGPS - SUPERINTENDENCIA REGIONAL SUDESTE II     4.409223e+06\n",
              "                                                     ...     \n",
              "FRGPS - APS NANUQUE                              2.395600e+03\n",
              "FRGPS - APS JATAI                                1.947210e+03\n",
              "FRGPS - GERENCIA EXECUTIVA MARINGA               1.802600e+03\n",
              "FRGPS - GERENCIA EXECUTIVA LONDRINA              6.438000e+02\n",
              "FRGPS - APS SINOP                                0.000000e+00\n",
              "Name: Valor_Pago, Length: 75, dtype: float64"
            ]
          },
          "metadata": {},
          "execution_count": 45
        }
      ]
    },
    {
      "cell_type": "code",
      "source": [
        "# cálculo da curva A do Órgão Subordinado, por Nome Unidade Gestora\n",
        "\n",
        "soma = 0\n",
        "\n",
        "for i,row in o.iteritems():\n",
        "  soma += row\n",
        "\n",
        "curva_a = 0\n",
        "\n",
        "for j,row2 in o.iteritems():\n",
        "  curva_a += row2\n",
        "  if curva_a > (0.8 * soma):\n",
        "    break\n",
        "\n",
        "print('O montante equivalente da curva A é: ', curva_a, '\\nEquivalente a ', round(curva_a / soma * 100), '% do total.\\nQue engloba até o', j)"
      ],
      "metadata": {
        "colab": {
          "base_uri": "https://localhost:8080/"
        },
        "outputId": "2902a5e7-2f05-4d97-8db8-e5d00bb2fecf",
        "id": "fo_gtqlWcxeI"
      },
      "execution_count": null,
      "outputs": [
        {
          "output_type": "stream",
          "name": "stdout",
          "text": [
            "O montante equivalente da curva A é:  196228599802.65 \n",
            "Equivalente a  100 % do total.\n",
            "Que engloba até o COORDENACAO DE ORCAMENTO E FINANCAS DO FRGPS\n"
          ]
        }
      ]
    },
    {
      "cell_type": "markdown",
      "source": [
        "####<font color='blue'>5.3.1.1.3 Análise do 'Fundo do Regime Geral da Previdência Social', por Nome Unidade Orçamentária"
      ],
      "metadata": {
        "id": "vkL9eUJPdd9R"
      }
    },
    {
      "cell_type": "code",
      "source": [
        "# estratificação dos gastos por Nome Unidade Orçamentária\n",
        "\n",
        "p = df6.groupby(\"Nome Unidade Orçamentária\")[\"Valor_Pago\"].sum()\n",
        "p.sort_values(ascending=False, inplace=True)\n",
        "p"
      ],
      "metadata": {
        "colab": {
          "base_uri": "https://localhost:8080/"
        },
        "outputId": "aa13ffa7-e61a-4967-f125-510d0effd46f",
        "id": "7va_V0TGdd9o"
      },
      "execution_count": null,
      "outputs": [
        {
          "output_type": "execute_result",
          "data": {
            "text/plain": [
              "Nome Unidade Orçamentária\n",
              "FUNDO DO REGIME GERAL DA PREVID.SOCIAL- FRGPS    1.965193e+11\n",
              "FUNDO DO REGIME GERAL DE PREVIDENCIA SOCIAL      0.000000e+00\n",
              "Name: Valor_Pago, dtype: float64"
            ]
          },
          "metadata": {},
          "execution_count": 47
        }
      ]
    },
    {
      "cell_type": "markdown",
      "source": [
        "####<font color='blue'>5.3.1.1.4 Análise do 'Fundo do Regime Geral da Previdência Social', por Nome Subfunção"
      ],
      "metadata": {
        "id": "DEszKwvCd3nm"
      }
    },
    {
      "cell_type": "code",
      "source": [
        "# estratificação dos gastos por Nome Subfunção\n",
        "\n",
        "q = df6.groupby(\"Nome Subfunção\")[\"Valor_Pago\"].sum()\n",
        "q.sort_values(ascending=False, inplace=True)\n",
        "q"
      ],
      "metadata": {
        "colab": {
          "base_uri": "https://localhost:8080/"
        },
        "outputId": "aee35075-f0c5-4094-dd4c-4cc142e868a0",
        "id": "F2qE_WVWd3n1"
      },
      "execution_count": null,
      "outputs": [
        {
          "output_type": "execute_result",
          "data": {
            "text/plain": [
              "Nome Subfunção\n",
              "Previdência básica           1.962575e+11\n",
              "Outros encargos especiais    2.618104e+08\n",
              "Name: Valor_Pago, dtype: float64"
            ]
          },
          "metadata": {},
          "execution_count": 48
        }
      ]
    },
    {
      "cell_type": "markdown",
      "source": [
        "####<font color='blue'>5.3.1.1.5 Análise do 'Fundo do Regime Geral da Previdência Social', por Nome Programa Orçamentário"
      ],
      "metadata": {
        "id": "9TP-Jy5jf8ty"
      }
    },
    {
      "cell_type": "code",
      "source": [
        "# estratificação dos gastos por Nome Programa Orçamentário\n",
        "\n",
        "r = df6.groupby(\"Nome Programa Orçamentário\")[\"Valor_Pago\"].sum()\n",
        "r.sort_values(ascending=False, inplace=True)\n",
        "r"
      ],
      "metadata": {
        "colab": {
          "base_uri": "https://localhost:8080/"
        },
        "outputId": "dc6c2bfc-726e-4a37-acf0-945fb77e61ec",
        "id": "belfBYNgf8t9"
      },
      "execution_count": null,
      "outputs": [
        {
          "output_type": "execute_result",
          "data": {
            "text/plain": [
              "Nome Programa Orçamentário\n",
              "NOVA PREVIDENCIA                                           1.962575e+11\n",
              "OPERACOES ESPECIAIS: CUMPRIMENTO DE SENTENCAS JUDICIAIS    2.618104e+08\n",
              "PREVIDENCIA SOCIAL                                         0.000000e+00\n",
              "Name: Valor_Pago, dtype: float64"
            ]
          },
          "metadata": {},
          "execution_count": 49
        }
      ]
    },
    {
      "cell_type": "markdown",
      "source": [
        "####<font color='blue'>5.3.1.1.6 Análise do 'Fundo do Regime Geral da Previdência Social', por Nome Ação"
      ],
      "metadata": {
        "id": "mL2zwLFp0tkT"
      }
    },
    {
      "cell_type": "code",
      "source": [
        "# estratificação dos gastos por Nome Ação\n",
        "\n",
        "s = df6.groupby(\"Nome Ação\")[\"Valor_Pago\"].sum()\n",
        "s.sort_values(ascending=False, inplace=True)\n",
        "s"
      ],
      "metadata": {
        "colab": {
          "base_uri": "https://localhost:8080/"
        },
        "outputId": "febada07-9303-4f5b-a91b-75c414545f72",
        "id": "Vkq7uRvx0tku"
      },
      "execution_count": null,
      "outputs": [
        {
          "output_type": "execute_result",
          "data": {
            "text/plain": [
              "Nome Ação\n",
              "BENEFICIOS PREVIDENCIARIOS                                     1.957200e+11\n",
              "COMPENSACAO PREVIDENCIARIA                                     5.375100e+08\n",
              "SENTENCAS JUDICIAIS TRANSITADAS EM JULGADO DE PEQUENO VALOR    2.618104e+08\n",
              "BENEFICIOS PREVIDENCIARIOS RURAIS                              0.000000e+00\n",
              "BENEFICIOS PREVIDENCIARIOS URBANOS                             0.000000e+00\n",
              "SENTENCAS JUDICIAIS TRANSITADAS EM JULGADO (PRECATORIOS)       0.000000e+00\n",
              "Name: Valor_Pago, dtype: float64"
            ]
          },
          "metadata": {},
          "execution_count": 50
        }
      ]
    },
    {
      "cell_type": "code",
      "source": [
        "# cálculo da curva A do Órgão Subordinado, por Nome Ação\n",
        "\n",
        "soma = 0\n",
        "\n",
        "for i,row in s.iteritems():\n",
        "  soma += row\n",
        "\n",
        "curva_a = 0\n",
        "\n",
        "for j,row2 in s.iteritems():\n",
        "  curva_a += row2\n",
        "  if curva_a > (0.8 * soma):\n",
        "    break\n",
        "\n",
        "print('O montante equivalente da curva A é: ', curva_a, '\\nEquivalente a ', round(curva_a / soma * 100), '% do total.\\nQue engloba até o', j)"
      ],
      "metadata": {
        "colab": {
          "base_uri": "https://localhost:8080/"
        },
        "outputId": "620d61b9-56a1-4c53-da0b-d0e03e8067d6",
        "id": "BGIyo_Fm0tku"
      },
      "execution_count": null,
      "outputs": [
        {
          "output_type": "stream",
          "name": "stdout",
          "text": [
            "O montante equivalente da curva A é:  195719983532.75 \n",
            "Equivalente a  100 % do total.\n",
            "Que engloba até o BENEFICIOS PREVIDENCIARIOS\n"
          ]
        }
      ]
    },
    {
      "cell_type": "markdown",
      "source": [
        "####<font color='blue'>5.3.1.1.7 Análise do 'Fundo do Regime Geral da Previdência Social', por Nome Subtítulo"
      ],
      "metadata": {
        "id": "E8GZkM9t1Wut"
      }
    },
    {
      "cell_type": "code",
      "source": [
        "# estratificação dos gastos por Nome Subtítulo\n",
        "\n",
        "t = df6.groupby(\"Nome Subtítulo\")[\"Valor_Pago\"].sum()\n",
        "t.sort_values(ascending=False, inplace=True)\n",
        "t"
      ],
      "metadata": {
        "colab": {
          "base_uri": "https://localhost:8080/"
        },
        "outputId": "e507e9b9-8819-4a8c-b3a2-37a01f291792",
        "id": "yVC78Zo81Wut"
      },
      "execution_count": null,
      "outputs": [
        {
          "output_type": "execute_result",
          "data": {
            "text/plain": [
              "Nome Subtítulo\n",
              "BENEFICIOS PREVIDENCIARIOS            - NACIONAL    1.957200e+11\n",
              "COMPENSACAO PREVIDENCIARIA            - NACIONAL    5.375100e+08\n",
              "SENTENCAS JUDICIAIS TRANSITADAS EM JU - NACIONAL    2.618104e+08\n",
              "BENEFICIOS PREVIDENCIARIOS RURAIS     - NACIONAL    0.000000e+00\n",
              "BENEFICIOS PREVIDENCIARIOS URBANOS    - NACIONAL    0.000000e+00\n",
              "Name: Valor_Pago, dtype: float64"
            ]
          },
          "metadata": {},
          "execution_count": 52
        }
      ]
    },
    {
      "cell_type": "code",
      "source": [
        "# cálculo da curva A do Órgão Subordinado, por Nome Ação\n",
        "\n",
        "soma = 0\n",
        "\n",
        "for i,row in t.iteritems():\n",
        "  soma += row\n",
        "\n",
        "curva_a = 0\n",
        "\n",
        "for j,row2 in t.iteritems():\n",
        "  curva_a += row2\n",
        "  if curva_a > (0.8 * soma):\n",
        "    break\n",
        "\n",
        "print('O montante equivalente da curva A é: ', curva_a, '\\nEquivalente a ', round(curva_a / soma * 100), '% do total.\\nQue engloba até o', j)"
      ],
      "metadata": {
        "colab": {
          "base_uri": "https://localhost:8080/"
        },
        "outputId": "5f200d8b-0b13-47b0-b51a-95912e389875",
        "id": "eh5hDYpH1Wut"
      },
      "execution_count": null,
      "outputs": [
        {
          "output_type": "stream",
          "name": "stdout",
          "text": [
            "O montante equivalente da curva A é:  195719983532.75 \n",
            "Equivalente a  100 % do total.\n",
            "Que engloba até o BENEFICIOS PREVIDENCIARIOS            - NACIONAL\n"
          ]
        }
      ]
    },
    {
      "cell_type": "markdown",
      "source": [
        "####<font color='blue'>5.3.1.1.8 Análise do 'Fundo do Regime Geral da Previdência Social', por Nome Localizador"
      ],
      "metadata": {
        "id": "pXK7xZPw1-Eq"
      }
    },
    {
      "cell_type": "code",
      "source": [
        "# estratificação dos gastos por Nome Localizador\n",
        "\n",
        "u = df6.groupby(\"Nome Localizador\")[\"Valor_Pago\"].sum()\n",
        "u.sort_values(ascending=False, inplace=True)\n",
        "u"
      ],
      "metadata": {
        "colab": {
          "base_uri": "https://localhost:8080/"
        },
        "outputId": "e2e2d5ec-4e53-4112-d667-c7a4d17e55ba",
        "id": "pqVcw_Rr1-Er"
      },
      "execution_count": null,
      "outputs": [
        {
          "output_type": "execute_result",
          "data": {
            "text/plain": [
              "Nome Localizador\n",
              "NACIONAL    1.965193e+11\n",
              "Name: Valor_Pago, dtype: float64"
            ]
          },
          "metadata": {},
          "execution_count": 54
        }
      ]
    },
    {
      "cell_type": "markdown",
      "source": [
        "####<font color='blue'>5.3.1.1.9 Análise do 'Fundo do Regime Geral da Previdência Social', por Nome Elemento de Despesa *****"
      ],
      "metadata": {
        "id": "HNR66M2A2aMK"
      }
    },
    {
      "cell_type": "code",
      "source": [
        "# estratificação dos gastos por Nome Elemento de Despesa\n",
        "\n",
        "v = df6.groupby(\"Nome Elemento de Despesa\")[\"Valor_Pago\"].sum()\n",
        "v.sort_values(ascending=False, inplace=True)\n",
        "v"
      ],
      "metadata": {
        "colab": {
          "base_uri": "https://localhost:8080/"
        },
        "outputId": "03499b39-b6a5-4e2c-80be-15ef3a6e9d53",
        "id": "_bE-mXo92aML"
      },
      "execution_count": null,
      "outputs": [
        {
          "output_type": "execute_result",
          "data": {
            "text/plain": [
              "Nome Elemento de Despesa\n",
              "Aposentadorias do RGPS - Área Urbana       1.048921e+11\n",
              "Pensões do RGPS - Área Urbana              3.632256e+10\n",
              "Aposentadorias do RGPS - Área Rural        3.306164e+10\n",
              "Pensões do RGPS - Área Rural               1.127537e+10\n",
              "Outros Benefícios do RGPS - Área Urbana    9.245410e+09\n",
              "Outros Benefícios do RGPS - Área Rural     8.967614e+08\n",
              "Indenizações e Restituições                5.375100e+08\n",
              "Sentenças Judiciais                        2.878934e+08\n",
              "Despesas de Exercícios Anteriores          6.214155e+04\n",
              "Name: Valor_Pago, dtype: float64"
            ]
          },
          "metadata": {},
          "execution_count": 55
        }
      ]
    },
    {
      "cell_type": "code",
      "source": [
        "# cálculo da curva A do Órgão Subordinado, por Nome Elemento de Despesa\n",
        "\n",
        "soma = 0\n",
        "\n",
        "for i,row in v.iteritems():\n",
        "  soma += row\n",
        "\n",
        "curva_a = 0\n",
        "\n",
        "for j,row2 in v.iteritems():\n",
        "  curva_a += row2\n",
        "  if curva_a > (0.8 * soma):\n",
        "    break\n",
        "\n",
        "print('O montante equivalente da curva A é: ', curva_a, '\\nEquivalente a ', round(curva_a / soma * 100), '% do total.\\nQue engloba até o', j)"
      ],
      "metadata": {
        "colab": {
          "base_uri": "https://localhost:8080/"
        },
        "outputId": "b42b59d8-6006-43cc-cb99-873a9e5e9b1b",
        "id": "ydX1lQtY2aMN"
      },
      "execution_count": null,
      "outputs": [
        {
          "output_type": "stream",
          "name": "stdout",
          "text": [
            "O montante equivalente da curva A é:  174276301944.0 \n",
            "Equivalente a  89 % do total.\n",
            "Que engloba até o Aposentadorias do RGPS - Área Rural\n"
          ]
        }
      ]
    },
    {
      "cell_type": "markdown",
      "source": [
        "<hr></hr>"
      ],
      "metadata": {
        "id": "UHadOKVn3TY-"
      }
    },
    {
      "cell_type": "markdown",
      "source": [
        "####<font color='blue'>5.3.1.2 Análise Fundo de Amparo ao Trabalhador, 'Fundo de Amparo ao Trabalhador'"
      ],
      "metadata": {
        "id": "ss5shVOubk6g"
      }
    },
    {
      "cell_type": "code",
      "source": [
        "# criação de df7, apenas com dados do Órgão Subordinado\n",
        "\n",
        "orgao_subordinado = ['Fundo de Amparo ao Trabalhador']\n",
        "selecao = df5['Nome Órgão Subordinado'].isin(orgao_subordinado)\n",
        "df7 = df5[selecao]\n",
        "df7.sample(1)"
      ],
      "metadata": {
        "colab": {
          "base_uri": "https://localhost:8080/",
          "height": 296
        },
        "outputId": "a79af4c7-3bdd-47ad-a682-00c3b935773f",
        "id": "qDnDaAoxaqtr"
      },
      "execution_count": null,
      "outputs": [
        {
          "output_type": "execute_result",
          "data": {
            "text/plain": [
              "     Ano e mês do lançamento Código Órgão Superior     Nome Órgão Superior  \\\n",
              "1176                 2022/01                 40000  Ministério do Trabalho   \n",
              "\n",
              "     Código Órgão Subordinado          Nome Órgão Subordinado  \\\n",
              "1176                    38901  Fundo de Amparo ao Trabalhador   \n",
              "\n",
              "     Código Unidade Gestora                    Nome Unidade Gestora  \\\n",
              "1176                 380916  COORD-GERAL DE RECURSOS DO FAT - CGFAT   \n",
              "\n",
              "     Código Gestão       Nome Gestão Código Unidade Orçamentária  ...  \\\n",
              "1176           1.0  TESOURO NACIONAL                       40901  ...   \n",
              "\n",
              "     Código Elemento de Despesa            Nome Elemento de Despesa  \\\n",
              "1176                         10  Seguro Desemprego e Abono Salarial   \n",
              "\n",
              "     Código Modalidade da Despesa    Modalidade da Despesa Valor_Empenhado  \\\n",
              "1176                           90  Reserva de Contingência      42811113.0   \n",
              "\n",
              "     Valor_Liquidado  Valor_Pago Valor_Restos_a_Pagar_Inscritos  \\\n",
              "1176      42811113.0  42811113.0                            0.0   \n",
              "\n",
              "     Valor_Restos_a_Pagar_Cancelado Valor_Restos_a_Pagar_Pagos  \n",
              "1176                            0.0                        0.0  \n",
              "\n",
              "[1 rows x 43 columns]"
            ],
            "text/html": [
              "\n",
              "  <div id=\"df-bbc66599-deef-48de-940c-d62ee8adc7f7\">\n",
              "    <div class=\"colab-df-container\">\n",
              "      <div>\n",
              "<style scoped>\n",
              "    .dataframe tbody tr th:only-of-type {\n",
              "        vertical-align: middle;\n",
              "    }\n",
              "\n",
              "    .dataframe tbody tr th {\n",
              "        vertical-align: top;\n",
              "    }\n",
              "\n",
              "    .dataframe thead th {\n",
              "        text-align: right;\n",
              "    }\n",
              "</style>\n",
              "<table border=\"1\" class=\"dataframe\">\n",
              "  <thead>\n",
              "    <tr style=\"text-align: right;\">\n",
              "      <th></th>\n",
              "      <th>Ano e mês do lançamento</th>\n",
              "      <th>Código Órgão Superior</th>\n",
              "      <th>Nome Órgão Superior</th>\n",
              "      <th>Código Órgão Subordinado</th>\n",
              "      <th>Nome Órgão Subordinado</th>\n",
              "      <th>Código Unidade Gestora</th>\n",
              "      <th>Nome Unidade Gestora</th>\n",
              "      <th>Código Gestão</th>\n",
              "      <th>Nome Gestão</th>\n",
              "      <th>Código Unidade Orçamentária</th>\n",
              "      <th>...</th>\n",
              "      <th>Código Elemento de Despesa</th>\n",
              "      <th>Nome Elemento de Despesa</th>\n",
              "      <th>Código Modalidade da Despesa</th>\n",
              "      <th>Modalidade da Despesa</th>\n",
              "      <th>Valor_Empenhado</th>\n",
              "      <th>Valor_Liquidado</th>\n",
              "      <th>Valor_Pago</th>\n",
              "      <th>Valor_Restos_a_Pagar_Inscritos</th>\n",
              "      <th>Valor_Restos_a_Pagar_Cancelado</th>\n",
              "      <th>Valor_Restos_a_Pagar_Pagos</th>\n",
              "    </tr>\n",
              "  </thead>\n",
              "  <tbody>\n",
              "    <tr>\n",
              "      <th>1176</th>\n",
              "      <td>2022/01</td>\n",
              "      <td>40000</td>\n",
              "      <td>Ministério do Trabalho</td>\n",
              "      <td>38901</td>\n",
              "      <td>Fundo de Amparo ao Trabalhador</td>\n",
              "      <td>380916</td>\n",
              "      <td>COORD-GERAL DE RECURSOS DO FAT - CGFAT</td>\n",
              "      <td>1.0</td>\n",
              "      <td>TESOURO NACIONAL</td>\n",
              "      <td>40901</td>\n",
              "      <td>...</td>\n",
              "      <td>10</td>\n",
              "      <td>Seguro Desemprego e Abono Salarial</td>\n",
              "      <td>90</td>\n",
              "      <td>Reserva de Contingência</td>\n",
              "      <td>42811113.0</td>\n",
              "      <td>42811113.0</td>\n",
              "      <td>42811113.0</td>\n",
              "      <td>0.0</td>\n",
              "      <td>0.0</td>\n",
              "      <td>0.0</td>\n",
              "    </tr>\n",
              "  </tbody>\n",
              "</table>\n",
              "<p>1 rows × 43 columns</p>\n",
              "</div>\n",
              "      <button class=\"colab-df-convert\" onclick=\"convertToInteractive('df-bbc66599-deef-48de-940c-d62ee8adc7f7')\"\n",
              "              title=\"Convert this dataframe to an interactive table.\"\n",
              "              style=\"display:none;\">\n",
              "        \n",
              "  <svg xmlns=\"http://www.w3.org/2000/svg\" height=\"24px\"viewBox=\"0 0 24 24\"\n",
              "       width=\"24px\">\n",
              "    <path d=\"M0 0h24v24H0V0z\" fill=\"none\"/>\n",
              "    <path d=\"M18.56 5.44l.94 2.06.94-2.06 2.06-.94-2.06-.94-.94-2.06-.94 2.06-2.06.94zm-11 1L8.5 8.5l.94-2.06 2.06-.94-2.06-.94L8.5 2.5l-.94 2.06-2.06.94zm10 10l.94 2.06.94-2.06 2.06-.94-2.06-.94-.94-2.06-.94 2.06-2.06.94z\"/><path d=\"M17.41 7.96l-1.37-1.37c-.4-.4-.92-.59-1.43-.59-.52 0-1.04.2-1.43.59L10.3 9.45l-7.72 7.72c-.78.78-.78 2.05 0 2.83L4 21.41c.39.39.9.59 1.41.59.51 0 1.02-.2 1.41-.59l7.78-7.78 2.81-2.81c.8-.78.8-2.07 0-2.86zM5.41 20L4 18.59l7.72-7.72 1.47 1.35L5.41 20z\"/>\n",
              "  </svg>\n",
              "      </button>\n",
              "      \n",
              "  <style>\n",
              "    .colab-df-container {\n",
              "      display:flex;\n",
              "      flex-wrap:wrap;\n",
              "      gap: 12px;\n",
              "    }\n",
              "\n",
              "    .colab-df-convert {\n",
              "      background-color: #E8F0FE;\n",
              "      border: none;\n",
              "      border-radius: 50%;\n",
              "      cursor: pointer;\n",
              "      display: none;\n",
              "      fill: #1967D2;\n",
              "      height: 32px;\n",
              "      padding: 0 0 0 0;\n",
              "      width: 32px;\n",
              "    }\n",
              "\n",
              "    .colab-df-convert:hover {\n",
              "      background-color: #E2EBFA;\n",
              "      box-shadow: 0px 1px 2px rgba(60, 64, 67, 0.3), 0px 1px 3px 1px rgba(60, 64, 67, 0.15);\n",
              "      fill: #174EA6;\n",
              "    }\n",
              "\n",
              "    [theme=dark] .colab-df-convert {\n",
              "      background-color: #3B4455;\n",
              "      fill: #D2E3FC;\n",
              "    }\n",
              "\n",
              "    [theme=dark] .colab-df-convert:hover {\n",
              "      background-color: #434B5C;\n",
              "      box-shadow: 0px 1px 3px 1px rgba(0, 0, 0, 0.15);\n",
              "      filter: drop-shadow(0px 1px 2px rgba(0, 0, 0, 0.3));\n",
              "      fill: #FFFFFF;\n",
              "    }\n",
              "  </style>\n",
              "\n",
              "      <script>\n",
              "        const buttonEl =\n",
              "          document.querySelector('#df-bbc66599-deef-48de-940c-d62ee8adc7f7 button.colab-df-convert');\n",
              "        buttonEl.style.display =\n",
              "          google.colab.kernel.accessAllowed ? 'block' : 'none';\n",
              "\n",
              "        async function convertToInteractive(key) {\n",
              "          const element = document.querySelector('#df-bbc66599-deef-48de-940c-d62ee8adc7f7');\n",
              "          const dataTable =\n",
              "            await google.colab.kernel.invokeFunction('convertToInteractive',\n",
              "                                                     [key], {});\n",
              "          if (!dataTable) return;\n",
              "\n",
              "          const docLinkHtml = 'Like what you see? Visit the ' +\n",
              "            '<a target=\"_blank\" href=https://colab.research.google.com/notebooks/data_table.ipynb>data table notebook</a>'\n",
              "            + ' to learn more about interactive tables.';\n",
              "          element.innerHTML = '';\n",
              "          dataTable['output_type'] = 'display_data';\n",
              "          await google.colab.output.renderOutput(dataTable, element);\n",
              "          const docLink = document.createElement('div');\n",
              "          docLink.innerHTML = docLinkHtml;\n",
              "          element.appendChild(docLink);\n",
              "        }\n",
              "      </script>\n",
              "    </div>\n",
              "  </div>\n",
              "  "
            ]
          },
          "metadata": {},
          "execution_count": 57
        }
      ]
    },
    {
      "cell_type": "markdown",
      "source": [
        "####<font color='blue'>5.3.1.2.1 Análise Fundo de Amparo ao Trabalhador, por Nome Função"
      ],
      "metadata": {
        "id": "nUSnwU_I3MOs"
      }
    },
    {
      "cell_type": "code",
      "source": [
        "# estratificação dos gastos por Nome Função\n",
        "\n",
        "w = df7.groupby(\"Nome Função\")[\"Valor_Pago\"].sum()\n",
        "w.sort_values(ascending=False, inplace=True)\n",
        "w"
      ],
      "metadata": {
        "colab": {
          "base_uri": "https://localhost:8080/"
        },
        "outputId": "8c3fdf53-1826-4137-dc0b-221d3c756a4b",
        "id": "-7xaEAR53MOs"
      },
      "execution_count": null,
      "outputs": [
        {
          "output_type": "execute_result",
          "data": {
            "text/plain": [
              "Nome Função\n",
              "Trabalho    4.321140e+10\n",
              "Name: Valor_Pago, dtype: float64"
            ]
          },
          "metadata": {},
          "execution_count": 58
        }
      ]
    },
    {
      "cell_type": "code",
      "source": [
        "# cálculo da curva A do Órgão Subordinado, por Nome Função\n",
        "\n",
        "soma = 0\n",
        "\n",
        "for i,row in w.iteritems():\n",
        "  soma += row\n",
        "\n",
        "curva_a = 0\n",
        "\n",
        "for j,row2 in w.iteritems():\n",
        "  curva_a += row2\n",
        "  if curva_a > (0.8 * soma):\n",
        "    break\n",
        "\n",
        "print('O montante equivalente da curva A é: ', curva_a, '\\nEquivalente a ', round(curva_a / soma * 100), '% do total.\\nQue engloba até o', j)"
      ],
      "metadata": {
        "colab": {
          "base_uri": "https://localhost:8080/"
        },
        "outputId": "7fd75ada-5191-4274-abab-f9ab9c80a44f",
        "id": "ITbQfS0O3MOs"
      },
      "execution_count": null,
      "outputs": [
        {
          "output_type": "stream",
          "name": "stdout",
          "text": [
            "O montante equivalente da curva A é:  43211399976.38 \n",
            "Equivalente a  100 % do total.\n",
            "Que engloba até o Trabalho\n"
          ]
        }
      ]
    },
    {
      "cell_type": "markdown",
      "source": [
        "####<font color='blue'>5.3.1.2.2 Análise Fundo de Amparo ao Trabalhador, por Nome Unidade Gestora"
      ],
      "metadata": {
        "id": "YrB9r2ew3-Vp"
      }
    },
    {
      "cell_type": "code",
      "source": [
        "# estratificação dos gastos por Nome Unidade Gestora\n",
        "\n",
        "x1 = df7.groupby(\"Nome Unidade Gestora\")[\"Valor_Pago\"].sum()\n",
        "x1.sort_values(ascending=False, inplace=True)\n",
        "x1"
      ],
      "metadata": {
        "colab": {
          "base_uri": "https://localhost:8080/"
        },
        "outputId": "2ba6d9c2-4be8-4491-ce76-4dec33d7bde3",
        "id": "xnenXlLH3-Vq"
      },
      "execution_count": null,
      "outputs": [
        {
          "output_type": "execute_result",
          "data": {
            "text/plain": [
              "Nome Unidade Gestora\n",
              "COORD-GERAL DE RECURSOS DO FAT - CGFAT           4.321041e+10\n",
              "SUPERINTENDENCIA REGIONAL DO TRABALHO/SP         5.793912e+05\n",
              "SUPERINTENDENCIA REGIONAL DO TRABALHO/MG         1.213485e+05\n",
              "SUPERINTENDENCIA REGIONAL DO TRABALHO/PR         8.697170e+04\n",
              "SUPERINTENDENCIA REGIONAL DO TRABALHO/PE         8.564780e+04\n",
              "SUPERINTENDENCIA REGIONAL DO TRABALHO/RJ         2.654188e+04\n",
              "SUPERINTENDENCIA REGIONAL DO TRABALHO/CE         1.717561e+04\n",
              "SUPERINTENDENCIA REGIONAL DO TRABALHO/AL         1.400000e+04\n",
              "SUPERINTENDENCIA REGIONAL DO TRABALHO/AC         1.310408e+04\n",
              "SUPERINTENDENCIA REGIONAL DO TRABALHO/ES         1.010257e+04\n",
              "SUPERINTENDENCIA REGIONAL DO TRABALHO/MA         9.548060e+03\n",
              "SUPERINTENDENCIA REGIONAL DO TRABALHO/RN         9.335000e+03\n",
              "SUPERINTENDENCIA REGIONAL DO TRABALHO/GO         5.000000e+03\n",
              "SUPERINTENDENCIA REGIONAL DO TRABALHO/BA         3.960000e+03\n",
              "SUPERINTENDENCIA REGIONAL DO TRABALHO/DF         1.671760e+03\n",
              "SUPERINTENDENCIA REGIONAL DO TRABALHO/MS         1.608660e+03\n",
              "SUPERINTENDENCIA REGIONAL DO TRABALHO/SC         1.507340e+03\n",
              "SUPERINTENDENCIA REGIONAL DO TRABALHO/RS         1.351400e+03\n",
              "SUPERINTENDENCIA REGIONAL DO TRABALHO/SE         6.253900e+02\n",
              "SUPERINTENDENCIA REGIONAL DO TRABALHO/PB         5.328200e+02\n",
              "SUPERINTENDENCIA REGIONAL DO TRABALHO/PI         0.000000e+00\n",
              "SECRETARIA DE POL. PUBLICAS DE EMPREGO - SPPE    0.000000e+00\n",
              "SUPERINTENDENCIA REGIONAL DO TRABALHO/AM         0.000000e+00\n",
              "SUPERINTENDENCIA REGIONAL DO TRABALHO/RR         0.000000e+00\n",
              "SECRETARIA DO TRABALHO                           0.000000e+00\n",
              "Name: Valor_Pago, dtype: float64"
            ]
          },
          "metadata": {},
          "execution_count": 60
        }
      ]
    },
    {
      "cell_type": "code",
      "source": [
        "# cálculo da curva A do Órgão Subordinado, por Nome Unidade Gestora\n",
        "\n",
        "soma = 0\n",
        "\n",
        "for i,row in x1.iteritems():\n",
        "  soma += row\n",
        "\n",
        "curva_a = 0\n",
        "\n",
        "for j,row2 in x1.iteritems():\n",
        "  curva_a += row2\n",
        "  if curva_a > (0.8 * soma):\n",
        "    break\n",
        "\n",
        "print('O montante equivalente da curva A é: ', curva_a, '\\nEquivalente a ', round(curva_a / soma * 100), '% do total.\\nQue engloba até o', j)"
      ],
      "metadata": {
        "colab": {
          "base_uri": "https://localhost:8080/"
        },
        "outputId": "c6b1a0ee-7bbd-4269-f8cf-abacc6d912f9",
        "id": "J7g7JsMy3-Vr"
      },
      "execution_count": null,
      "outputs": [
        {
          "output_type": "stream",
          "name": "stdout",
          "text": [
            "O montante equivalente da curva A é:  43210410552.56 \n",
            "Equivalente a  100 % do total.\n",
            "Que engloba até o COORD-GERAL DE RECURSOS DO FAT - CGFAT\n"
          ]
        }
      ]
    },
    {
      "cell_type": "markdown",
      "source": [
        "####<font color='blue'>5.3.1.2.3 Análise Fundo de Amparo ao Trabalhador, por Nome Unidade Orçamentária"
      ],
      "metadata": {
        "id": "EsvlgWXg4q8h"
      }
    },
    {
      "cell_type": "code",
      "source": [
        "# estratificação dos gastos por Nome Unidade Orçamentária\n",
        "\n",
        "y = df7.groupby(\"Nome Unidade Orçamentária\")[\"Valor_Pago\"].sum()\n",
        "y.sort_values(ascending=False, inplace=True)\n",
        "y"
      ],
      "metadata": {
        "colab": {
          "base_uri": "https://localhost:8080/"
        },
        "outputId": "268d72f3-799a-4cde-f4a2-dbf8100b77c6",
        "id": "4lOTT8ul4q8i"
      },
      "execution_count": null,
      "outputs": [
        {
          "output_type": "execute_result",
          "data": {
            "text/plain": [
              "Nome Unidade Orçamentária\n",
              "FUNDO DE AMPARO AO TRABALHADOR - FAT    4.321140e+10\n",
              "FUNDO DE AMPARO AO TRABALHADOR          0.000000e+00\n",
              "Name: Valor_Pago, dtype: float64"
            ]
          },
          "metadata": {},
          "execution_count": 62
        }
      ]
    },
    {
      "cell_type": "markdown",
      "source": [
        "####<font color='blue'>5.3.1.2.4 Análise Fundo de Amparo ao Trabalhador, por Nome Subfunção"
      ],
      "metadata": {
        "id": "7TfcwT3A8RvI"
      }
    },
    {
      "cell_type": "code",
      "source": [
        "# estratificação dos gastos por Nome Subfunção\n",
        "\n",
        "z = df7.groupby(\"Nome Subfunção\")[\"Valor_Pago\"].sum()\n",
        "z.sort_values(ascending=False, inplace=True)\n",
        "z"
      ],
      "metadata": {
        "colab": {
          "base_uri": "https://localhost:8080/"
        },
        "outputId": "c7194338-3c8a-4c54-9f18-39bb3e6683aa",
        "id": "7ugAQ9D48RvJ"
      },
      "execution_count": null,
      "outputs": [
        {
          "output_type": "execute_result",
          "data": {
            "text/plain": [
              "Nome Subfunção\n",
              "Proteção e benefícios ao trabalhador    3.565420e+10\n",
              "Fomento ao trabalho                     7.556215e+09\n",
              "Administração geral                     9.894238e+05\n",
              "Desenvolvimento científico              0.000000e+00\n",
              "Empregabilidade                         0.000000e+00\n",
              "Name: Valor_Pago, dtype: float64"
            ]
          },
          "metadata": {},
          "execution_count": 63
        }
      ]
    },
    {
      "cell_type": "code",
      "source": [
        "# cálculo da curva A do Órgão Subordinado, por Nome Subfunção\n",
        "\n",
        "soma = 0\n",
        "\n",
        "for i,row in z.iteritems():\n",
        "  soma += row\n",
        "\n",
        "curva_a = 0\n",
        "\n",
        "for j,row2 in z.iteritems():\n",
        "  curva_a += row2\n",
        "  if curva_a > (0.8 * soma):\n",
        "    break\n",
        "\n",
        "print('O montante equivalente da curva A é: ', curva_a, '\\nEquivalente a ', round(curva_a / soma * 100), '% do total.\\nQue engloba até o', j)"
      ],
      "metadata": {
        "colab": {
          "base_uri": "https://localhost:8080/"
        },
        "outputId": "01de718c-36e7-4797-9639-88527f65f33c",
        "id": "ACBtxvHn8d1A"
      },
      "execution_count": null,
      "outputs": [
        {
          "output_type": "stream",
          "name": "stdout",
          "text": [
            "O montante equivalente da curva A é:  35654195663.26 \n",
            "Equivalente a  83 % do total.\n",
            "Que engloba até o Proteção e benefícios ao trabalhador\n"
          ]
        }
      ]
    },
    {
      "cell_type": "markdown",
      "source": [
        "####<font color='blue'>5.3.1.2.5 Análise Fundo de Amparo ao Trabalhador, por Nome Programa Orçamentário"
      ],
      "metadata": {
        "id": "oJ4YwgX681lq"
      }
    },
    {
      "cell_type": "code",
      "source": [
        "# estratificação dos gastos por Nome Programa Orçamentário\n",
        "\n",
        "aa = df7.groupby(\"Nome Programa Orçamentário\")[\"Valor_Pago\"].sum()\n",
        "aa.sort_values(ascending=False, inplace=True)\n",
        "aa"
      ],
      "metadata": {
        "colab": {
          "base_uri": "https://localhost:8080/"
        },
        "outputId": "1d286c73-85e4-4f08-d04b-c017e6498772",
        "id": "V4rMIX0P81lq"
      },
      "execution_count": null,
      "outputs": [
        {
          "output_type": "execute_result",
          "data": {
            "text/plain": [
              "Nome Programa Orçamentário\n",
              "MODERNIZACAO TRABALHISTA E TRABALHO DIGNO             3.565420e+10\n",
              "OPERACOES ESPECIAIS: FINANCIAMENTOS COM RETORNO       7.556215e+09\n",
              "PROGRAMA DE GESTAO E MANUTENCAO DO PODER EXECUTIVO    9.894238e+05\n",
              "EMPREGABILIDADE                                       0.000000e+00\n",
              "Name: Valor_Pago, dtype: float64"
            ]
          },
          "metadata": {},
          "execution_count": 65
        }
      ]
    },
    {
      "cell_type": "code",
      "source": [
        "# cálculo da curva A do Órgão Subordinado, por Nome Subfunção\n",
        "\n",
        "soma = 0\n",
        "\n",
        "for i,row in aa.iteritems():\n",
        "  soma += row\n",
        "\n",
        "curva_a = 0\n",
        "\n",
        "for j,row2 in aa.iteritems():\n",
        "  curva_a += row2\n",
        "  if curva_a > (0.8 * soma):\n",
        "    break\n",
        "\n",
        "print('O montante equivalente da curva A é: ', curva_a, '\\nEquivalente a ', round(curva_a / soma * 100), '% do total.\\nQue engloba até o', j)"
      ],
      "metadata": {
        "colab": {
          "base_uri": "https://localhost:8080/"
        },
        "outputId": "d0e6ff5f-8b1b-4dd3-ea8f-4e04cca3a5d5",
        "id": "YeeprMVj9GJy"
      },
      "execution_count": null,
      "outputs": [
        {
          "output_type": "stream",
          "name": "stdout",
          "text": [
            "O montante equivalente da curva A é:  35654195663.26 \n",
            "Equivalente a  83 % do total.\n",
            "Que engloba até o MODERNIZACAO TRABALHISTA E TRABALHO DIGNO\n"
          ]
        }
      ]
    },
    {
      "cell_type": "markdown",
      "source": [
        "####<font color='blue'>5.3.1.2.6 Análise Fundo de Amparo ao Trabalhador, por Nome Ação"
      ],
      "metadata": {
        "id": "Z0uROH3s9aUn"
      }
    },
    {
      "cell_type": "code",
      "source": [
        "# estratificação dos gastos por Nome Ação\n",
        "\n",
        "ab = df7.groupby(\"Nome Ação\")[\"Valor_Pago\"].sum()\n",
        "ab.sort_values(ascending=False, inplace=True)\n",
        "ab"
      ],
      "metadata": {
        "colab": {
          "base_uri": "https://localhost:8080/"
        },
        "outputId": "37e3ffa2-e18c-4c6a-8249-4d5e4fbe6dd1",
        "id": "p6LxaXPF9aUo"
      },
      "execution_count": null,
      "outputs": [
        {
          "output_type": "execute_result",
          "data": {
            "text/plain": [
              "Nome Ação\n",
              "ABONO SALARIAL                                                                 2.260165e+10\n",
              "SEGURO DESEMPREGO                                                              1.305255e+10\n",
              "FINANCIAMENTO DE PROGRAMAS DE DESENVOLVIMENTO ECONOMICO A CARGO DO BNDES       7.556215e+09\n",
              "FUNCIONAMENTO DAS UNIDADES DESCENTRALIZADAS                                    9.894238e+05\n",
              "ESTUDOS, PESQUISAS E GERACAO DE INFORMACOES SOBRE TRABALHO, EMPREGO E RENDA    0.000000e+00\n",
              "FOMENTO A INCLUSAO PRODUTIVA                                                   0.000000e+00\n",
              "GESTAO DO SISTEMA NACIONAL DE EMPREGO - SINE                                   0.000000e+00\n",
              "QUALIFICACAO SOCIAL E PROFISSIONAL DE TRABALHADORES                            0.000000e+00\n",
              "Name: Valor_Pago, dtype: float64"
            ]
          },
          "metadata": {},
          "execution_count": 67
        }
      ]
    },
    {
      "cell_type": "code",
      "source": [
        "# cálculo da curva A do Órgão Subordinado, por Nome Ação\n",
        "\n",
        "soma = 0\n",
        "\n",
        "for i,row in ab.iteritems():\n",
        "  soma += row\n",
        "\n",
        "curva_a = 0\n",
        "\n",
        "for j,row2 in ab.iteritems():\n",
        "  curva_a += row2\n",
        "  if curva_a > (0.8 * soma):\n",
        "    break\n",
        "\n",
        "print('O montante equivalente da curva A é: ', curva_a, '\\nEquivalente a ', round(curva_a / soma * 100), '% do total.\\nQue engloba até o', j)"
      ],
      "metadata": {
        "colab": {
          "base_uri": "https://localhost:8080/"
        },
        "outputId": "cc5d00bf-6e76-4ca0-c796-8101d4e62d7f",
        "id": "wNS9Pf_y9aUp"
      },
      "execution_count": null,
      "outputs": [
        {
          "output_type": "stream",
          "name": "stdout",
          "text": [
            "O montante equivalente da curva A é:  35654195663.259995 \n",
            "Equivalente a  83 % do total.\n",
            "Que engloba até o SEGURO DESEMPREGO\n"
          ]
        }
      ]
    },
    {
      "cell_type": "markdown",
      "source": [
        "####<font color='blue'>5.3.1.2.7 Análise Fundo de Amparo ao Trabalhador, por Nome Subtítulo"
      ],
      "metadata": {
        "id": "lkwDXD5C9z9e"
      }
    },
    {
      "cell_type": "code",
      "source": [
        "# estratificação dos gastos por Nome Subtítulo\n",
        "\n",
        "ac = df7.groupby(\"Nome Subtítulo\")[\"Valor_Pago\"].sum()\n",
        "ac.sort_values(ascending=False, inplace=True)\n",
        "ac"
      ],
      "metadata": {
        "colab": {
          "base_uri": "https://localhost:8080/"
        },
        "outputId": "036e9b14-6fe1-4912-d8a7-3fc6993b52a9",
        "id": "TYlw32Xg9z9f"
      },
      "execution_count": null,
      "outputs": [
        {
          "output_type": "execute_result",
          "data": {
            "text/plain": [
              "Nome Subtítulo\n",
              "ABONO SALARIAL                        - NACIONAL    2.260165e+10\n",
              "SEGURO DESEMPREGO                     - NACIONAL    1.305255e+10\n",
              "FINANCIAMENTO DE PROGRAMAS DE DESENVO - NACIONAL    7.556215e+09\n",
              "FUNCIONAMENTO DAS UNIDADES DESCENTRAL - NACIONAL    9.894238e+05\n",
              "ESTUDOS, PESQUISAS E GERACAO DE INFOR - NACIONAL    0.000000e+00\n",
              "FOMENTO A INCLUSAO PRODUTIVA          - NACIONAL    0.000000e+00\n",
              "GESTAO DO SISTEMA NACIONAL DE EMPREGO - NACIONAL    0.000000e+00\n",
              "QUALIFICACAO SOCIAL E PROFISSIONAL DE - NACIONAL    0.000000e+00\n",
              "Name: Valor_Pago, dtype: float64"
            ]
          },
          "metadata": {},
          "execution_count": 69
        }
      ]
    },
    {
      "cell_type": "code",
      "source": [
        "# cálculo da curva A do Órgão Subordinado, por Nome Ação\n",
        "\n",
        "soma = 0\n",
        "\n",
        "for i,row in ac.iteritems():\n",
        "  soma += row\n",
        "\n",
        "curva_a = 0\n",
        "\n",
        "for j,row2 in ac.iteritems():\n",
        "  curva_a += row2\n",
        "  if curva_a > (0.8 * soma):\n",
        "    break\n",
        "\n",
        "print('O montante equivalente da curva A é: ', curva_a, '\\nEquivalente a ', round(curva_a / soma * 100), '% do total.\\nQue engloba até o', j)"
      ],
      "metadata": {
        "colab": {
          "base_uri": "https://localhost:8080/"
        },
        "outputId": "b37b93db-2230-4c01-cfa6-db5a2cd0ccf9",
        "id": "VRGCeCNz9z9g"
      },
      "execution_count": null,
      "outputs": [
        {
          "output_type": "stream",
          "name": "stdout",
          "text": [
            "O montante equivalente da curva A é:  35654195663.259995 \n",
            "Equivalente a  83 % do total.\n",
            "Que engloba até o SEGURO DESEMPREGO                     - NACIONAL\n"
          ]
        }
      ]
    },
    {
      "cell_type": "markdown",
      "source": [
        "####<font color='blue'>5.3.1.2.8 Análise Fundo de Amparo ao Trabalhador, por Nome Localizador"
      ],
      "metadata": {
        "id": "vdQP9dIm-Nvn"
      }
    },
    {
      "cell_type": "code",
      "source": [
        "# estratificação dos gastos por Nome Localizador\n",
        "\n",
        "ad = df7.groupby(\"Nome Localizador\")[\"Valor_Pago\"].sum()\n",
        "ad.sort_values(ascending=False, inplace=True)\n",
        "ad"
      ],
      "metadata": {
        "colab": {
          "base_uri": "https://localhost:8080/"
        },
        "outputId": "276cae71-db8c-4cf9-86fd-fb3393ee8d05",
        "id": "bvBjJHOT-Nvo"
      },
      "execution_count": null,
      "outputs": [
        {
          "output_type": "execute_result",
          "data": {
            "text/plain": [
              "Nome Localizador\n",
              "NACIONAL    4.321140e+10\n",
              "Name: Valor_Pago, dtype: float64"
            ]
          },
          "metadata": {},
          "execution_count": 71
        }
      ]
    },
    {
      "cell_type": "markdown",
      "source": [
        "####<font color='blue'>5.3.1.2.9 Análise Fundo de Amparo ao Trabalhador, por Nome Elemento de Despesa *****"
      ],
      "metadata": {
        "id": "5xVnuu2l-fgq"
      }
    },
    {
      "cell_type": "code",
      "source": [
        "# estratificação dos gastos por Nome Elemento de Despesa\n",
        "\n",
        "ae = df7.groupby(\"Nome Elemento de Despesa\")[\"Valor_Pago\"].sum()\n",
        "ae.sort_values(ascending=False, inplace=True)\n",
        "ae"
      ],
      "metadata": {
        "colab": {
          "base_uri": "https://localhost:8080/"
        },
        "outputId": "4229a666-c56a-4f3d-dd6a-69b0331b0058",
        "id": "lyEk6LBl-fgq"
      },
      "execution_count": null,
      "outputs": [
        {
          "output_type": "execute_result",
          "data": {
            "text/plain": [
              "Nome Elemento de Despesa\n",
              "Seguro Desemprego e Abono Salarial               3.565420e+10\n",
              "Concessão de Empréstimos e Financiamentos        7.556215e+09\n",
              "Outros Serviços de Terceiros - Pessoa Jurídic    6.564006e+05\n",
              "Outros Serviços de Terceiros - Pessoa Física     1.450304e+05\n",
              "Obrigações Tributárias e Contributivas           8.616379e+04\n",
              "Material de Consumo                              4.691204e+04\n",
              "Diárias - Civil                                  2.306631e+04\n",
              "Despesas de Exercícios Anteriores                2.254831e+04\n",
              "Indenizações e Restituições                      9.154320e+03\n",
              "Serviços de Tecnologia da Informação e Comuni    1.480000e+02\n",
              "Contribuições                                    0.000000e+00\n",
              "Locação de Mão-de-Obra                           0.000000e+00\n",
              "Passagens e Despesas com Locomoção               0.000000e+00\n",
              "Serviços de Consultoria                          0.000000e+00\n",
              "Name: Valor_Pago, dtype: float64"
            ]
          },
          "metadata": {},
          "execution_count": 72
        }
      ]
    },
    {
      "cell_type": "code",
      "source": [
        "# cálculo da curva A do Órgão Subordinado, por Nome Elemento de Despesa\n",
        "\n",
        "soma = 0\n",
        "\n",
        "for i,row in ae.iteritems():\n",
        "  soma += row\n",
        "\n",
        "curva_a = 0\n",
        "\n",
        "for j,row2 in ae.iteritems():\n",
        "  curva_a += row2\n",
        "  if curva_a > (0.8 * soma):\n",
        "    break\n",
        "\n",
        "print('O montante equivalente da curva A é: ', curva_a, '\\nEquivalente a ', round(curva_a / soma * 100), '% do total.\\nQue engloba até o', j)"
      ],
      "metadata": {
        "colab": {
          "base_uri": "https://localhost:8080/"
        },
        "outputId": "d95a7dc4-68d4-4ffe-b2f5-3fc5bc527e0c",
        "id": "aD53LF1n-fgq"
      },
      "execution_count": null,
      "outputs": [
        {
          "output_type": "stream",
          "name": "stdout",
          "text": [
            "O montante equivalente da curva A é:  35654195663.26 \n",
            "Equivalente a  83 % do total.\n",
            "Que engloba até o Seguro Desemprego e Abono Salarial\n"
          ]
        }
      ]
    },
    {
      "cell_type": "markdown",
      "source": [
        "<hr></hr>"
      ],
      "metadata": {
        "id": "UUQGFkVI_C_O"
      }
    },
    {
      "cell_type": "markdown",
      "source": [
        "Análise referente ao aprofundamento dos gastos do Ministério do Trabalho:\n",
        "\n",
        "> **Conclusão**: o 'fundo do regime geral da Previdência Social' consome 196 bilhões de Reais (74%) dos 264 bilhões gastos por esse ministério, cabendo ao 'fundo de amparo ao trabalhador', outros 43 bilhões de Reais (ou 16%). Somados representam 90% dos gastos do Ministério do Trabalho.\n",
        "\n",
        ">> Em ambos, há dados e oportunidades para utilizar de ferramentas estatísticas, e aprofundar ainda mais o detalhamento das informações fornecidas em:\n",
        "\n",
        ">>>\"Análise do 'Fundo do Regime Geral da Previdência Social', por Nome Elemento de Despesa\", e\n",
        ">>>\"Análise do 'Fundo de Amparo ao Trabalhador', por Nome Elemento de Despesa\".\n",
        "\n",
        "\n",
        "<hr></hr>"
      ],
      "metadata": {
        "id": "lBklUez7YKNp"
      }
    },
    {
      "cell_type": "markdown",
      "source": [
        "### <font color='blue'>5.4 Analisar com ferramentas estatísticas as oportunidades encontradas nos Ministérios da Economia e do Trabalho"
      ],
      "metadata": {
        "id": "P4G6UBHo3zLp"
      }
    },
    {
      "cell_type": "markdown",
      "source": [
        "#### <font color='blue'>5.4.1 Analisar com ferramentas estatísticas as oportunidades encontradas no Ministério da Economia"
      ],
      "metadata": {
        "id": "pFsSXWE7Uz7B"
      }
    },
    {
      "cell_type": "markdown",
      "source": [
        "##### <font color='blue'>5.4.1.1 Análise do 'Unidades com vínculo direto', por Nome Elemento de Despesa"
      ],
      "metadata": {
        "id": "5ZKUGHqrVcDz"
      }
    },
    {
      "cell_type": "code",
      "source": [
        "# criando uma cópia do df4\n",
        "\n",
        "df4a = df4.copy() \n",
        "\n",
        "# checando outliers\n",
        "\n",
        "plt.figure(figsize=(12,6))\n",
        "ax = sns.boxplot(x = df4a.Valor_Pago)\n",
        "sns.set_palette('Accent')\n",
        "sns.set_style('darkgrid')\n",
        "ax.set_title('Valor Desembolsado - Unidades com vínculo direto - [all data]', fontsize=20)\n",
        "ax.set_xlabel('Valor em centenas de bilhões de Reais', fontsize=16)"
      ],
      "metadata": {
        "colab": {
          "base_uri": "https://localhost:8080/",
          "height": 431
        },
        "outputId": "51ae3bce-64d6-4d66-96be-d8c6a269ba37",
        "id": "h9C-__jUVzmx"
      },
      "execution_count": null,
      "outputs": [
        {
          "output_type": "execute_result",
          "data": {
            "text/plain": [
              "Text(0.5, 0, 'Valor em centenas de bilhões de Reais')"
            ]
          },
          "metadata": {},
          "execution_count": 91
        },
        {
          "output_type": "display_data",
          "data": {
            "text/plain": [
              "<Figure size 864x432 with 1 Axes>"
            ],
            "image/png": "[encoded data removed]"
          },
          "metadata": {}
        }
      ]
    },
    {
      "cell_type": "code",
      "source": [
        "# plotando o histograma dos valores pagos\n",
        "\n",
        "df4a.Valor_Pago.hist()\n",
        "sns.set_palette('Accent')\n",
        "sns.set_style('darkgrid')"
      ],
      "metadata": {
        "colab": {
          "base_uri": "https://localhost:8080/",
          "height": 278
        },
        "outputId": "eeed59fa-0c47-49bd-9e1a-80faed382331",
        "id": "lSCYBeybXIwN"
      },
      "execution_count": null,
      "outputs": [
        {
          "output_type": "display_data",
          "data": {
            "text/plain": [
              "<Figure size 432x288 with 1 Axes>"
            ],
            "image/png": "[encoded data removed]"
          },
          "metadata": {}
        }
      ]
    },
    {
      "cell_type": "code",
      "source": [
        "# removendo outliers\n",
        "\n",
        "valor = df4a.Valor_Pago\n",
        "\n",
        "Q1 = valor.quantile(.25)\n",
        "Q3 = valor.quantile(.75)\n",
        "IIQ = Q3 - Q1\n",
        "limite_inferior = Q1 - 1.5 * IIQ\n",
        "limite_superior = Q3 + 1.5 * IIQ\n",
        "\n",
        "indexNames = df4a[ (df4a.Valor_Pago <= limite_superior)].index\n",
        "\n",
        "df4a.drop(indexNames , inplace=True)"
      ],
      "metadata": {
        "id": "uV-MyjSzXPiC"
      },
      "execution_count": null,
      "outputs": []
    },
    {
      "cell_type": "code",
      "source": [
        "# checando outliers\n",
        "\n",
        "plt.figure(figsize=(12,6))\n",
        "ax = sns.boxplot(x = df4a.Valor_Pago)\n",
        "sns.set_palette('Accent')\n",
        "sns.set_style('darkgrid')\n",
        "ax.set_title('Valor Desembolsado - Unidades com vínculo direto - [outliers]', fontsize=20)\n",
        "ax.set_xlabel('Valor em centenas de bilhões de Reais', fontsize=16)"
      ],
      "metadata": {
        "colab": {
          "base_uri": "https://localhost:8080/",
          "height": 431
        },
        "outputId": "9b8beb4e-6f78-45e5-dbf6-9b79ab13029e",
        "id": "fnzoC6mbXZMp"
      },
      "execution_count": null,
      "outputs": [
        {
          "output_type": "execute_result",
          "data": {
            "text/plain": [
              "Text(0.5, 0, 'Valor em centenas de bilhões de Reais')"
            ]
          },
          "metadata": {},
          "execution_count": 94
        },
        {
          "output_type": "display_data",
          "data": {
            "text/plain": [
              "<Figure size 864x432 with 1 Axes>"
            ],
            "image/png": "[encoded data removed]"
          },
          "metadata": {}
        }
      ]
    },
    {
      "cell_type": "code",
      "source": [
        "ah = df4a.groupby(\"Nome Elemento de Despesa\")[\"Valor_Pago\"].sum()\n",
        "ah.sort_values(ascending=False, inplace=True)\n",
        "ah"
      ],
      "metadata": {
        "colab": {
          "base_uri": "https://localhost:8080/"
        },
        "outputId": "daf19017-7746-4385-aaaa-b25cf8a5bbba",
        "id": "vX8zd6vtXozn"
      },
      "execution_count": null,
      "outputs": [
        {
          "output_type": "execute_result",
          "data": {
            "text/plain": [
              "Nome Elemento de Despesa\n",
              "Principal Corrigido da Dívida Mobiliária Refi    5.486602e+11\n",
              "Distribuição Constitucional ou Legal de Recei    9.897755e+10\n",
              "Juros, Deságios e Descontos da Dívida Mobiliá    9.339712e+10\n",
              "Principal da Dívida Mobiliária Resgatado         7.629420e+10\n",
              "COMPENSACOES A REGIMES DE PREVIDENCIA            3.096090e+09\n",
              "Aposentadorias do RPPS, Reserva Remunerada e     2.961379e+09\n",
              "Vencimentos e Vantagens Fixas - Pessoal Civil    2.753010e+09\n",
              "Pensões do RPPS e do militar                     2.194693e+09\n",
              "Principal Corrigido da Dívida Contratual Refi    2.155356e+09\n",
              "Subvenções econômicas                            1.705738e+09\n",
              "Indenizações e Restituições                      1.462419e+09\n",
              "Contribuições                                    1.331593e+09\n",
              "Despesas de Exercícios Anteriores                1.008660e+09\n",
              "Juros sobre a Dívida por Contrato                7.880895e+08\n",
              "Obrigações Patronais                             6.620904e+08\n",
              "Concessão de Empréstimos e Financiamentos        4.372200e+08\n",
              "Sentenças Judiciais                              1.454472e+08\n",
              "Outros Serviços de Terceiros - Pessoa Jurídic    1.442641e+08\n",
              "Serviços de Tecnologia da Informação e Comuni    1.433663e+08\n",
              "Ressarcimento de Despesas de Pessoal Requisit    9.498743e+07\n",
              "Locação de Mão-de-Obra                           8.449140e+07\n",
              "Auxílio-Alimentação                              6.975347e+07\n",
              "Participação em Fundos, Organismos, ou Entida    6.500000e+07\n",
              "Pensões Especiais                                4.525394e+07\n",
              "Contribuição a Entidades Fechadas de Previdên    2.553276e+07\n",
              "Principal da Dívida Contratual Resgatado         2.009669e+07\n",
              "Vencimentos e Vantagens Fixas - Pessoal Milit    1.773254e+07\n",
              "Contratação por Tempo Determinado                1.274913e+07\n",
              "Outros Serviços de Terceiros - Pessoa Física     1.181981e+07\n",
              "Outros Benefícios Assistenciais do servidor e    8.925136e+06\n",
              "Outros Encargos sobre a Dívida por Contrato      7.007297e+06\n",
              "Indenizações e Restituições Trabalhistas         6.132923e+06\n",
              "Obrigações Tributárias e Contributivas           4.614944e+06\n",
              "Outras Despesas Variáveis - Pessoal Civil        3.614576e+06\n",
              "Auxílio-Transporte                               2.975445e+06\n",
              "Diárias - Civil                                  1.366452e+06\n",
              "Outras Despesas de Pessoal decorrentes de Con    1.114990e+06\n",
              "Serviços de Consultoria                          8.518759e+05\n",
              "Material de Consumo                              6.684836e+05\n",
              "Passagens e Despesas com Locomoção               3.991528e+05\n",
              "Auxílio-Fardamento                               3.380367e+05\n",
              "Name: Valor_Pago, dtype: float64"
            ]
          },
          "metadata": {},
          "execution_count": 95
        }
      ]
    },
    {
      "cell_type": "code",
      "source": [
        "# cálculo da curva A do Órgão Subordinado, por Nome Elemento de Despesa\n",
        "\n",
        "soma = 0\n",
        "\n",
        "for i,row in ah.iteritems():\n",
        "  soma += row\n",
        "\n",
        "curva_a = 0\n",
        "\n",
        "for j,row2 in ah.iteritems():\n",
        "  curva_a += row2\n",
        "  if curva_a > (0.8 * soma):\n",
        "    break\n",
        "\n",
        "print('O montante equivalente da curva A é: ', curva_a, '\\nEquivalente a ', round(curva_a / soma * 100), '% do total.\\nQue engloba até o', j)"
      ],
      "metadata": {
        "colab": {
          "base_uri": "https://localhost:8080/"
        },
        "outputId": "6f1cc9d1-9305-4393-c730-ccfe8aa02a98",
        "id": "gUNEsjh7Zk1R"
      },
      "execution_count": null,
      "outputs": [
        {
          "output_type": "stream",
          "name": "stdout",
          "text": [
            "O montante equivalente da curva A é:  741034880355.09 \n",
            "Equivalente a  88 % do total.\n",
            "Que engloba até o Juros, Deságios e Descontos da Dívida Mobiliá\n"
          ]
        }
      ]
    },
    {
      "cell_type": "code",
      "source": [
        "df4a.sort_values(by=['Valor_Pago'], ascending=False).head(7)"
      ],
      "metadata": {
        "colab": {
          "base_uri": "https://localhost:8080/",
          "height": 900
        },
        "outputId": "58e07eb6-099f-4eaa-fd50-37562003534f",
        "id": "rbCy3eRHZ60J"
      },
      "execution_count": null,
      "outputs": [
        {
          "output_type": "execute_result",
          "data": {
            "text/plain": [
              "       Ano e mês do lançamento Código Órgão Superior     Nome Órgão Superior  \\\n",
              "104827                 2022/03                 25000  Ministério da Economia   \n",
              "164206                 2022/04                 25000  Ministério da Economia   \n",
              "7019                   2022/01                 25000  Ministério da Economia   \n",
              "119512                 2022/03                 25000  Ministério da Economia   \n",
              "5820                   2022/01                 25000  Ministério da Economia   \n",
              "48815                  2022/02                 25000  Ministério da Economia   \n",
              "68716                  2022/02                 25000  Ministério da Economia   \n",
              "\n",
              "       Código Órgão Subordinado  \\\n",
              "104827                    25000   \n",
              "164206                    25000   \n",
              "7019                      25000   \n",
              "119512                    25000   \n",
              "5820                      25000   \n",
              "48815                     25000   \n",
              "68716                     25000   \n",
              "\n",
              "                                   Nome Órgão Subordinado  \\\n",
              "104827  Ministério da Economia - Unidades com vínculo ...   \n",
              "164206  Ministério da Economia - Unidades com vínculo ...   \n",
              "7019    Ministério da Economia - Unidades com vínculo ...   \n",
              "119512  Ministério da Economia - Unidades com vínculo ...   \n",
              "5820    Ministério da Economia - Unidades com vínculo ...   \n",
              "48815   Ministério da Economia - Unidades com vínculo ...   \n",
              "68716   Ministério da Economia - Unidades com vínculo ...   \n",
              "\n",
              "       Código Unidade Gestora                         Nome Unidade Gestora  \\\n",
              "104827                 170600    COORD.GERAL DE CONTROLE DA DIVIDA PUBLICA   \n",
              "164206                 170600    COORD.GERAL DE CONTROLE DA DIVIDA PUBLICA   \n",
              "7019                   170600    COORD.GERAL DE CONTROLE DA DIVIDA PUBLICA   \n",
              "119512                 170600    COORD.GERAL DE CONTROLE DA DIVIDA PUBLICA   \n",
              "5820                   170600    COORD.GERAL DE CONTROLE DA DIVIDA PUBLICA   \n",
              "48815                  170600    COORD.GERAL DE CONTROLE DA DIVIDA PUBLICA   \n",
              "68716                  170860  COORD. ANALISE E INF TRANS FIN INTERGOV/STN   \n",
              "\n",
              "       Código Gestão       Nome Gestão Código Unidade Orçamentária  ...  \\\n",
              "104827           1.0  TESOURO NACIONAL                       75101  ...   \n",
              "164206           1.0  TESOURO NACIONAL                       75101  ...   \n",
              "7019             1.0  TESOURO NACIONAL                       75101  ...   \n",
              "119512           1.0  TESOURO NACIONAL                       75101  ...   \n",
              "5820             1.0  TESOURO NACIONAL                       75101  ...   \n",
              "48815            1.0  TESOURO NACIONAL                       75101  ...   \n",
              "68716            1.0  TESOURO NACIONAL                       73108  ...   \n",
              "\n",
              "       Código Elemento de Despesa  \\\n",
              "104827                         76   \n",
              "164206                         76   \n",
              "7019                           76   \n",
              "119512                         72   \n",
              "5820                           23   \n",
              "48815                          23   \n",
              "68716                          81   \n",
              "\n",
              "                             Nome Elemento de Despesa  \\\n",
              "104827  Principal Corrigido da Dívida Mobiliária Refi   \n",
              "164206  Principal Corrigido da Dívida Mobiliária Refi   \n",
              "7019    Principal Corrigido da Dívida Mobiliária Refi   \n",
              "119512       Principal da Dívida Mobiliária Resgatado   \n",
              "5820    Juros, Deságios e Descontos da Dívida Mobiliá   \n",
              "48815   Juros, Deságios e Descontos da Dívida Mobiliá   \n",
              "68716   Distribuição Constitucional ou Legal de Recei   \n",
              "\n",
              "       Código Modalidade da Despesa        Modalidade da Despesa  \\\n",
              "104827                           90      Reserva de Contingência   \n",
              "164206                           90      Reserva de Contingência   \n",
              "7019                             90      Reserva de Contingência   \n",
              "119512                           90      Reserva de Contingência   \n",
              "5820                             90      Reserva de Contingência   \n",
              "48815                            90      Reserva de Contingência   \n",
              "68716                            40  Transferências a Municípios   \n",
              "\n",
              "       Valor_Empenhado Valor_Liquidado    Valor_Pago  \\\n",
              "104827    1.650100e+11    2.115960e+11  2.115960e+11   \n",
              "164206    1.260000e+09    1.689640e+11  1.689640e+11   \n",
              "7019      1.830310e+11    1.629110e+11  1.629110e+11   \n",
              "119512    0.000000e+00    7.629420e+10  7.629420e+10   \n",
              "5820      5.300200e+10    4.857731e+10  4.857731e+10   \n",
              "48815     3.930000e+10    3.669981e+10  3.669981e+10   \n",
              "68716     1.469691e+10    1.477512e+10  1.477512e+10   \n",
              "\n",
              "       Valor_Restos_a_Pagar_Inscritos Valor_Restos_a_Pagar_Cancelado  \\\n",
              "104827                            0.0                            0.0   \n",
              "164206                            0.0                            0.0   \n",
              "7019                              0.0                            0.0   \n",
              "119512                            0.0                            0.0   \n",
              "5820                              0.0                            0.0   \n",
              "48815                             0.0                            0.0   \n",
              "68716                             0.0                            0.0   \n",
              "\n",
              "       Valor_Restos_a_Pagar_Pagos  \n",
              "104827                        0.0  \n",
              "164206                        0.0  \n",
              "7019                          0.0  \n",
              "119512                        0.0  \n",
              "5820                          0.0  \n",
              "48815                         0.0  \n",
              "68716                         0.0  \n",
              "\n",
              "[7 rows x 43 columns]"
            ],
            "text/html": [
              "\n",
              "  <div id=\"df-0efa45ee-f9a9-4d52-bcb2-a238151959fb\">\n",
              "    <div class=\"colab-df-container\">\n",
              "      <div>\n",
              "<style scoped>\n",
              "    .dataframe tbody tr th:only-of-type {\n",
              "        vertical-align: middle;\n",
              "    }\n",
              "\n",
              "    .dataframe tbody tr th {\n",
              "        vertical-align: top;\n",
              "    }\n",
              "\n",
              "    .dataframe thead th {\n",
              "        text-align: right;\n",
              "    }\n",
              "</style>\n",
              "<table border=\"1\" class=\"dataframe\">\n",
              "  <thead>\n",
              "    <tr style=\"text-align: right;\">\n",
              "      <th></th>\n",
              "      <th>Ano e mês do lançamento</th>\n",
              "      <th>Código Órgão Superior</th>\n",
              "      <th>Nome Órgão Superior</th>\n",
              "      <th>Código Órgão Subordinado</th>\n",
              "      <th>Nome Órgão Subordinado</th>\n",
              "      <th>Código Unidade Gestora</th>\n",
              "      <th>Nome Unidade Gestora</th>\n",
              "      <th>Código Gestão</th>\n",
              "      <th>Nome Gestão</th>\n",
              "      <th>Código Unidade Orçamentária</th>\n",
              "      <th>...</th>\n",
              "      <th>Código Elemento de Despesa</th>\n",
              "      <th>Nome Elemento de Despesa</th>\n",
              "      <th>Código Modalidade da Despesa</th>\n",
              "      <th>Modalidade da Despesa</th>\n",
              "      <th>Valor_Empenhado</th>\n",
              "      <th>Valor_Liquidado</th>\n",
              "      <th>Valor_Pago</th>\n",
              "      <th>Valor_Restos_a_Pagar_Inscritos</th>\n",
              "      <th>Valor_Restos_a_Pagar_Cancelado</th>\n",
              "      <th>Valor_Restos_a_Pagar_Pagos</th>\n",
              "    </tr>\n",
              "  </thead>\n",
              "  <tbody>\n",
              "    <tr>\n",
              "      <th>104827</th>\n",
              "      <td>2022/03</td>\n",
              "      <td>25000</td>\n",
              "      <td>Ministério da Economia</td>\n",
              "      <td>25000</td>\n",
              "      <td>Ministério da Economia - Unidades com vínculo ...</td>\n",
              "      <td>170600</td>\n",
              "      <td>COORD.GERAL DE CONTROLE DA DIVIDA PUBLICA</td>\n",
              "      <td>1.0</td>\n",
              "      <td>TESOURO NACIONAL</td>\n",
              "      <td>75101</td>\n",
              "      <td>...</td>\n",
              "      <td>76</td>\n",
              "      <td>Principal Corrigido da Dívida Mobiliária Refi</td>\n",
              "      <td>90</td>\n",
              "      <td>Reserva de Contingência</td>\n",
              "      <td>1.650100e+11</td>\n",
              "      <td>2.115960e+11</td>\n",
              "      <td>2.115960e+11</td>\n",
              "      <td>0.0</td>\n",
              "      <td>0.0</td>\n",
              "      <td>0.0</td>\n",
              "    </tr>\n",
              "    <tr>\n",
              "      <th>164206</th>\n",
              "      <td>2022/04</td>\n",
              "      <td>25000</td>\n",
              "      <td>Ministério da Economia</td>\n",
              "      <td>25000</td>\n",
              "      <td>Ministério da Economia - Unidades com vínculo ...</td>\n",
              "      <td>170600</td>\n",
              "      <td>COORD.GERAL DE CONTROLE DA DIVIDA PUBLICA</td>\n",
              "      <td>1.0</td>\n",
              "      <td>TESOURO NACIONAL</td>\n",
              "      <td>75101</td>\n",
              "      <td>...</td>\n",
              "      <td>76</td>\n",
              "      <td>Principal Corrigido da Dívida Mobiliária Refi</td>\n",
              "      <td>90</td>\n",
              "      <td>Reserva de Contingência</td>\n",
              "      <td>1.260000e+09</td>\n",
              "      <td>1.689640e+11</td>\n",
              "      <td>1.689640e+11</td>\n",
              "      <td>0.0</td>\n",
              "      <td>0.0</td>\n",
              "      <td>0.0</td>\n",
              "    </tr>\n",
              "    <tr>\n",
              "      <th>7019</th>\n",
              "      <td>2022/01</td>\n",
              "      <td>25000</td>\n",
              "      <td>Ministério da Economia</td>\n",
              "      <td>25000</td>\n",
              "      <td>Ministério da Economia - Unidades com vínculo ...</td>\n",
              "      <td>170600</td>\n",
              "      <td>COORD.GERAL DE CONTROLE DA DIVIDA PUBLICA</td>\n",
              "      <td>1.0</td>\n",
              "      <td>TESOURO NACIONAL</td>\n",
              "      <td>75101</td>\n",
              "      <td>...</td>\n",
              "      <td>76</td>\n",
              "      <td>Principal Corrigido da Dívida Mobiliária Refi</td>\n",
              "      <td>90</td>\n",
              "      <td>Reserva de Contingência</td>\n",
              "      <td>1.830310e+11</td>\n",
              "      <td>1.629110e+11</td>\n",
              "      <td>1.629110e+11</td>\n",
              "      <td>0.0</td>\n",
              "      <td>0.0</td>\n",
              "      <td>0.0</td>\n",
              "    </tr>\n",
              "    <tr>\n",
              "      <th>119512</th>\n",
              "      <td>2022/03</td>\n",
              "      <td>25000</td>\n",
              "      <td>Ministério da Economia</td>\n",
              "      <td>25000</td>\n",
              "      <td>Ministério da Economia - Unidades com vínculo ...</td>\n",
              "      <td>170600</td>\n",
              "      <td>COORD.GERAL DE CONTROLE DA DIVIDA PUBLICA</td>\n",
              "      <td>1.0</td>\n",
              "      <td>TESOURO NACIONAL</td>\n",
              "      <td>75101</td>\n",
              "      <td>...</td>\n",
              "      <td>72</td>\n",
              "      <td>Principal da Dívida Mobiliária Resgatado</td>\n",
              "      <td>90</td>\n",
              "      <td>Reserva de Contingência</td>\n",
              "      <td>0.000000e+00</td>\n",
              "      <td>7.629420e+10</td>\n",
              "      <td>7.629420e+10</td>\n",
              "      <td>0.0</td>\n",
              "      <td>0.0</td>\n",
              "      <td>0.0</td>\n",
              "    </tr>\n",
              "    <tr>\n",
              "      <th>5820</th>\n",
              "      <td>2022/01</td>\n",
              "      <td>25000</td>\n",
              "      <td>Ministério da Economia</td>\n",
              "      <td>25000</td>\n",
              "      <td>Ministério da Economia - Unidades com vínculo ...</td>\n",
              "      <td>170600</td>\n",
              "      <td>COORD.GERAL DE CONTROLE DA DIVIDA PUBLICA</td>\n",
              "      <td>1.0</td>\n",
              "      <td>TESOURO NACIONAL</td>\n",
              "      <td>75101</td>\n",
              "      <td>...</td>\n",
              "      <td>23</td>\n",
              "      <td>Juros, Deságios e Descontos da Dívida Mobiliá</td>\n",
              "      <td>90</td>\n",
              "      <td>Reserva de Contingência</td>\n",
              "      <td>5.300200e+10</td>\n",
              "      <td>4.857731e+10</td>\n",
              "      <td>4.857731e+10</td>\n",
              "      <td>0.0</td>\n",
              "      <td>0.0</td>\n",
              "      <td>0.0</td>\n",
              "    </tr>\n",
              "    <tr>\n",
              "      <th>48815</th>\n",
              "      <td>2022/02</td>\n",
              "      <td>25000</td>\n",
              "      <td>Ministério da Economia</td>\n",
              "      <td>25000</td>\n",
              "      <td>Ministério da Economia - Unidades com vínculo ...</td>\n",
              "      <td>170600</td>\n",
              "      <td>COORD.GERAL DE CONTROLE DA DIVIDA PUBLICA</td>\n",
              "      <td>1.0</td>\n",
              "      <td>TESOURO NACIONAL</td>\n",
              "      <td>75101</td>\n",
              "      <td>...</td>\n",
              "      <td>23</td>\n",
              "      <td>Juros, Deságios e Descontos da Dívida Mobiliá</td>\n",
              "      <td>90</td>\n",
              "      <td>Reserva de Contingência</td>\n",
              "      <td>3.930000e+10</td>\n",
              "      <td>3.669981e+10</td>\n",
              "      <td>3.669981e+10</td>\n",
              "      <td>0.0</td>\n",
              "      <td>0.0</td>\n",
              "      <td>0.0</td>\n",
              "    </tr>\n",
              "    <tr>\n",
              "      <th>68716</th>\n",
              "      <td>2022/02</td>\n",
              "      <td>25000</td>\n",
              "      <td>Ministério da Economia</td>\n",
              "      <td>25000</td>\n",
              "      <td>Ministério da Economia - Unidades com vínculo ...</td>\n",
              "      <td>170860</td>\n",
              "      <td>COORD. ANALISE E INF TRANS FIN INTERGOV/STN</td>\n",
              "      <td>1.0</td>\n",
              "      <td>TESOURO NACIONAL</td>\n",
              "      <td>73108</td>\n",
              "      <td>...</td>\n",
              "      <td>81</td>\n",
              "      <td>Distribuição Constitucional ou Legal de Recei</td>\n",
              "      <td>40</td>\n",
              "      <td>Transferências a Municípios</td>\n",
              "      <td>1.469691e+10</td>\n",
              "      <td>1.477512e+10</td>\n",
              "      <td>1.477512e+10</td>\n",
              "      <td>0.0</td>\n",
              "      <td>0.0</td>\n",
              "      <td>0.0</td>\n",
              "    </tr>\n",
              "  </tbody>\n",
              "</table>\n",
              "<p>7 rows × 43 columns</p>\n",
              "</div>\n",
              "      <button class=\"colab-df-convert\" onclick=\"convertToInteractive('df-0efa45ee-f9a9-4d52-bcb2-a238151959fb')\"\n",
              "              title=\"Convert this dataframe to an interactive table.\"\n",
              "              style=\"display:none;\">\n",
              "        \n",
              "  <svg xmlns=\"http://www.w3.org/2000/svg\" height=\"24px\"viewBox=\"0 0 24 24\"\n",
              "       width=\"24px\">\n",
              "    <path d=\"M0 0h24v24H0V0z\" fill=\"none\"/>\n",
              "    <path d=\"M18.56 5.44l.94 2.06.94-2.06 2.06-.94-2.06-.94-.94-2.06-.94 2.06-2.06.94zm-11 1L8.5 8.5l.94-2.06 2.06-.94-2.06-.94L8.5 2.5l-.94 2.06-2.06.94zm10 10l.94 2.06.94-2.06 2.06-.94-2.06-.94-.94-2.06-.94 2.06-2.06.94z\"/><path d=\"M17.41 7.96l-1.37-1.37c-.4-.4-.92-.59-1.43-.59-.52 0-1.04.2-1.43.59L10.3 9.45l-7.72 7.72c-.78.78-.78 2.05 0 2.83L4 21.41c.39.39.9.59 1.41.59.51 0 1.02-.2 1.41-.59l7.78-7.78 2.81-2.81c.8-.78.8-2.07 0-2.86zM5.41 20L4 18.59l7.72-7.72 1.47 1.35L5.41 20z\"/>\n",
              "  </svg>\n",
              "      </button>\n",
              "      \n",
              "  <style>\n",
              "    .colab-df-container {\n",
              "      display:flex;\n",
              "      flex-wrap:wrap;\n",
              "      gap: 12px;\n",
              "    }\n",
              "\n",
              "    .colab-df-convert {\n",
              "      background-color: #E8F0FE;\n",
              "      border: none;\n",
              "      border-radius: 50%;\n",
              "      cursor: pointer;\n",
              "      display: none;\n",
              "      fill: #1967D2;\n",
              "      height: 32px;\n",
              "      padding: 0 0 0 0;\n",
              "      width: 32px;\n",
              "    }\n",
              "\n",
              "    .colab-df-convert:hover {\n",
              "      background-color: #E2EBFA;\n",
              "      box-shadow: 0px 1px 2px rgba(60, 64, 67, 0.3), 0px 1px 3px 1px rgba(60, 64, 67, 0.15);\n",
              "      fill: #174EA6;\n",
              "    }\n",
              "\n",
              "    [theme=dark] .colab-df-convert {\n",
              "      background-color: #3B4455;\n",
              "      fill: #D2E3FC;\n",
              "    }\n",
              "\n",
              "    [theme=dark] .colab-df-convert:hover {\n",
              "      background-color: #434B5C;\n",
              "      box-shadow: 0px 1px 3px 1px rgba(0, 0, 0, 0.15);\n",
              "      filter: drop-shadow(0px 1px 2px rgba(0, 0, 0, 0.3));\n",
              "      fill: #FFFFFF;\n",
              "    }\n",
              "  </style>\n",
              "\n",
              "      <script>\n",
              "        const buttonEl =\n",
              "          document.querySelector('#df-0efa45ee-f9a9-4d52-bcb2-a238151959fb button.colab-df-convert');\n",
              "        buttonEl.style.display =\n",
              "          google.colab.kernel.accessAllowed ? 'block' : 'none';\n",
              "\n",
              "        async function convertToInteractive(key) {\n",
              "          const element = document.querySelector('#df-0efa45ee-f9a9-4d52-bcb2-a238151959fb');\n",
              "          const dataTable =\n",
              "            await google.colab.kernel.invokeFunction('convertToInteractive',\n",
              "                                                     [key], {});\n",
              "          if (!dataTable) return;\n",
              "\n",
              "          const docLinkHtml = 'Like what you see? Visit the ' +\n",
              "            '<a target=\"_blank\" href=https://colab.research.google.com/notebooks/data_table.ipynb>data table notebook</a>'\n",
              "            + ' to learn more about interactive tables.';\n",
              "          element.innerHTML = '';\n",
              "          dataTable['output_type'] = 'display_data';\n",
              "          await google.colab.output.renderOutput(dataTable, element);\n",
              "          const docLink = document.createElement('div');\n",
              "          docLink.innerHTML = docLinkHtml;\n",
              "          element.appendChild(docLink);\n",
              "        }\n",
              "      </script>\n",
              "    </div>\n",
              "  </div>\n",
              "  "
            ]
          },
          "metadata": {},
          "execution_count": 97
        }
      ]
    },
    {
      "cell_type": "code",
      "source": [
        "df4a.groupby(['Nome Elemento de Despesa'])['Valor_Pago'].agg(['max','min','mean','median'])"
      ],
      "metadata": {
        "colab": {
          "base_uri": "https://localhost:8080/",
          "height": 1000
        },
        "outputId": "2f381aa3-333e-4be7-f830-ea9f99de9279",
        "id": "SdN18v2waOUv"
      },
      "execution_count": null,
      "outputs": [
        {
          "output_type": "execute_result",
          "data": {
            "text/plain": [
              "                                                        max           min  \\\n",
              "Nome Elemento de Despesa                                                    \n",
              "Aposentadorias do RPPS, Reserva Remunerada e   4.119776e+08  6.337757e+04   \n",
              "Auxílio-Alimentação                            7.893931e+06  1.429020e+05   \n",
              "Auxílio-Fardamento                             1.499250e+05  6.962538e+04   \n",
              "Auxílio-Transporte                             3.716392e+05  6.923396e+04   \n",
              "COMPENSACOES A REGIMES DE PREVIDENCIA          1.554300e+09  4.412000e+08   \n",
              "Concessão de Empréstimos e Financiamentos      1.900000e+08  7.500000e+06   \n",
              "Contratação por Tempo Determinado              3.213069e+06  7.328000e+04   \n",
              "Contribuição a Entidades Fechadas de Previdên  3.748981e+06  1.306224e+06   \n",
              "Contribuições                                  2.500000e+08  1.186738e+05   \n",
              "Despesas de Exercícios Anteriores              6.345828e+08  5.087498e+04   \n",
              "Distribuição Constitucional ou Legal de Recei  1.477512e+10  1.262395e+06   \n",
              "Diárias - Civil                                1.691095e+05  5.740582e+04   \n",
              "Indenizações e Restituições                    1.384009e+09  5.115945e+04   \n",
              "Indenizações e Restituições Trabalhistas       4.341066e+06  5.978320e+04   \n",
              "Juros sobre a Dívida por Contrato              1.567383e+08  5.856080e+04   \n",
              "Juros, Deságios e Descontos da Dívida Mobiliá  4.857731e+10  7.647314e+07   \n",
              "Locação de Mão-de-Obra                         1.264406e+07  5.122871e+04   \n",
              "Material de Consumo                            1.377524e+05  6.410000e+04   \n",
              "Obrigações Patronais                           7.735624e+07  5.114292e+04   \n",
              "Obrigações Tributárias e Contributivas         1.526981e+06  6.951206e+04   \n",
              "Outras Despesas Variáveis - Pessoal Civil      6.977807e+05  8.259524e+04   \n",
              "Outras Despesas de Pessoal decorrentes de Con  7.655003e+05  3.494899e+05   \n",
              "Outros Benefícios Assistenciais do servidor e  7.222500e+05  5.193308e+04   \n",
              "Outros Encargos sobre a Dívida por Contrato    5.481021e+06  1.526276e+06   \n",
              "Outros Serviços de Terceiros - Pessoa Física   1.964777e+06  5.189005e+04   \n",
              "Outros Serviços de Terceiros - Pessoa Jurídic  3.093045e+07  5.102058e+04   \n",
              "Participação em Fundos, Organismos, ou Entida  6.500000e+07  6.500000e+07   \n",
              "Passagens e Despesas com Locomoção             1.088769e+05  5.906068e+04   \n",
              "Pensões Especiais                              1.348796e+07  6.406733e+04   \n",
              "Pensões do RPPS e do militar                   2.063096e+08  7.858664e+04   \n",
              "Principal Corrigido da Dívida Contratual Refi  6.702161e+08  1.984999e+06   \n",
              "Principal Corrigido da Dívida Mobiliária Refi  2.115960e+11  6.632849e+07   \n",
              "Principal da Dívida Contratual Resgatado       7.464252e+06  3.535400e+06   \n",
              "Principal da Dívida Mobiliária Resgatado       7.629420e+10  7.629420e+10   \n",
              "Ressarcimento de Despesas de Pessoal Requisit  1.717839e+07  8.952863e+04   \n",
              "Sentenças Judiciais                            2.386934e+07  5.286379e+04   \n",
              "Serviços de Consultoria                        2.925958e+05  5.234341e+04   \n",
              "Serviços de Tecnologia da Informação e Comuni  2.707544e+07  5.364039e+04   \n",
              "Subvenções econômicas                          2.293394e+08  7.260312e+04   \n",
              "Vencimentos e Vantagens Fixas - Pessoal Civil  3.637162e+08  2.353749e+05   \n",
              "Vencimentos e Vantagens Fixas - Pessoal Milit  4.943709e+06  1.683000e+05   \n",
              "\n",
              "                                                       mean        median  \n",
              "Nome Elemento de Despesa                                                   \n",
              "Aposentadorias do RPPS, Reserva Remunerada e   3.567927e+07  9.586691e+06  \n",
              "Auxílio-Alimentação                            2.906395e+06  2.639225e+06  \n",
              "Auxílio-Fardamento                             1.126789e+05  1.184862e+05  \n",
              "Auxílio-Transporte                             1.983630e+05  1.380695e+05  \n",
              "COMPENSACOES A REGIMES DE PREVIDENCIA          7.740225e+08  5.502950e+08  \n",
              "Concessão de Empréstimos e Financiamentos      7.287000e+07  2.611000e+07  \n",
              "Contratação por Tempo Determinado              9.807026e+05  5.872082e+05  \n",
              "Contribuição a Entidades Fechadas de Previdên  2.127730e+06  1.719132e+06  \n",
              "Contribuições                                  1.109661e+08  8.232274e+07  \n",
              "Despesas de Exercícios Anteriores              1.576032e+07  1.279067e+05  \n",
              "Distribuição Constitucional ou Legal de Recei  3.413019e+09  4.435368e+08  \n",
              "Diárias - Civil                                9.109678e+04  8.295904e+04  \n",
              "Indenizações e Restituições                    1.607054e+07  1.376602e+05  \n",
              "Indenizações e Restituições Trabalhistas       7.666153e+05  2.545499e+05  \n",
              "Juros sobre a Dívida por Contrato              4.635820e+07  6.346754e+06  \n",
              "Juros, Deságios e Descontos da Dívida Mobiliá  9.339712e+09  7.643577e+08  \n",
              "Locação de Mão-de-Obra                         3.875752e+05  1.194074e+05  \n",
              "Material de Consumo                            9.549766e+04  1.018996e+05  \n",
              "Obrigações Patronais                           1.182304e+07  2.738722e+06  \n",
              "Obrigações Tributárias e Contributivas         6.592777e+05  9.358962e+05  \n",
              "Outras Despesas Variáveis - Pessoal Civil      3.614576e+05  3.525927e+05  \n",
              "Outras Despesas de Pessoal decorrentes de Con  5.574951e+05  5.574951e+05  \n",
              "Outros Benefícios Assistenciais do servidor e  2.412199e+05  1.854934e+05  \n",
              "Outros Encargos sobre a Dívida por Contrato    3.503648e+06  3.503648e+06  \n",
              "Outros Serviços de Terceiros - Pessoa Física   2.462460e+05  7.777630e+04  \n",
              "Outros Serviços de Terceiros - Pessoa Jurídic  4.371640e+05  1.527076e+05  \n",
              "Participação em Fundos, Organismos, ou Entida  6.500000e+07  6.500000e+07  \n",
              "Passagens e Despesas com Locomoção             7.983055e+04  7.689600e+04  \n",
              "Pensões Especiais                              2.514108e+06  7.260892e+05  \n",
              "Pensões do RPPS e do militar                   2.644208e+07  6.751518e+06  \n",
              "Principal Corrigido da Dívida Contratual Refi  1.539540e+08  1.098470e+08  \n",
              "Principal Corrigido da Dívida Mobiliária Refi  5.486602e+10  1.257810e+09  \n",
              "Principal da Dívida Contratual Resgatado       5.024172e+06  4.548518e+06  \n",
              "Principal da Dívida Mobiliária Resgatado       7.629420e+10  7.629420e+10  \n",
              "Ressarcimento de Despesas de Pessoal Requisit  3.518053e+06  1.243887e+06  \n",
              "Sentenças Judiciais                            2.345923e+06  3.744025e+05  \n",
              "Serviços de Consultoria                        1.703752e+05  1.490886e+05  \n",
              "Serviços de Tecnologia da Informação e Comuni  3.874766e+06  3.446562e+05  \n",
              "Subvenções econômicas                          6.091923e+07  1.024578e+07  \n",
              "Vencimentos e Vantagens Fixas - Pessoal Civil  7.244764e+07  3.390591e+07  \n",
              "Vencimentos e Vantagens Fixas - Pessoal Milit  2.216567e+06  1.337658e+06  "
            ],
            "text/html": [
              "\n",
              "  <div id=\"df-593457fd-24ce-485d-af5e-f80fa3f65654\">\n",
              "    <div class=\"colab-df-container\">\n",
              "      <div>\n",
              "<style scoped>\n",
              "    .dataframe tbody tr th:only-of-type {\n",
              "        vertical-align: middle;\n",
              "    }\n",
              "\n",
              "    .dataframe tbody tr th {\n",
              "        vertical-align: top;\n",
              "    }\n",
              "\n",
              "    .dataframe thead th {\n",
              "        text-align: right;\n",
              "    }\n",
              "</style>\n",
              "<table border=\"1\" class=\"dataframe\">\n",
              "  <thead>\n",
              "    <tr style=\"text-align: right;\">\n",
              "      <th></th>\n",
              "      <th>max</th>\n",
              "      <th>min</th>\n",
              "      <th>mean</th>\n",
              "      <th>median</th>\n",
              "    </tr>\n",
              "    <tr>\n",
              "      <th>Nome Elemento de Despesa</th>\n",
              "      <th></th>\n",
              "      <th></th>\n",
              "      <th></th>\n",
              "      <th></th>\n",
              "    </tr>\n",
              "  </thead>\n",
              "  <tbody>\n",
              "    <tr>\n",
              "      <th>Aposentadorias do RPPS, Reserva Remunerada e</th>\n",
              "      <td>4.119776e+08</td>\n",
              "      <td>6.337757e+04</td>\n",
              "      <td>3.567927e+07</td>\n",
              "      <td>9.586691e+06</td>\n",
              "    </tr>\n",
              "    <tr>\n",
              "      <th>Auxílio-Alimentação</th>\n",
              "      <td>7.893931e+06</td>\n",
              "      <td>1.429020e+05</td>\n",
              "      <td>2.906395e+06</td>\n",
              "      <td>2.639225e+06</td>\n",
              "    </tr>\n",
              "    <tr>\n",
              "      <th>Auxílio-Fardamento</th>\n",
              "      <td>1.499250e+05</td>\n",
              "      <td>6.962538e+04</td>\n",
              "      <td>1.126789e+05</td>\n",
              "      <td>1.184862e+05</td>\n",
              "    </tr>\n",
              "    <tr>\n",
              "      <th>Auxílio-Transporte</th>\n",
              "      <td>3.716392e+05</td>\n",
              "      <td>6.923396e+04</td>\n",
              "      <td>1.983630e+05</td>\n",
              "      <td>1.380695e+05</td>\n",
              "    </tr>\n",
              "    <tr>\n",
              "      <th>COMPENSACOES A REGIMES DE PREVIDENCIA</th>\n",
              "      <td>1.554300e+09</td>\n",
              "      <td>4.412000e+08</td>\n",
              "      <td>7.740225e+08</td>\n",
              "      <td>5.502950e+08</td>\n",
              "    </tr>\n",
              "    <tr>\n",
              "      <th>Concessão de Empréstimos e Financiamentos</th>\n",
              "      <td>1.900000e+08</td>\n",
              "      <td>7.500000e+06</td>\n",
              "      <td>7.287000e+07</td>\n",
              "      <td>2.611000e+07</td>\n",
              "    </tr>\n",
              "    <tr>\n",
              "      <th>Contratação por Tempo Determinado</th>\n",
              "      <td>3.213069e+06</td>\n",
              "      <td>7.328000e+04</td>\n",
              "      <td>9.807026e+05</td>\n",
              "      <td>5.872082e+05</td>\n",
              "    </tr>\n",
              "    <tr>\n",
              "      <th>Contribuição a Entidades Fechadas de Previdên</th>\n",
              "      <td>3.748981e+06</td>\n",
              "      <td>1.306224e+06</td>\n",
              "      <td>2.127730e+06</td>\n",
              "      <td>1.719132e+06</td>\n",
              "    </tr>\n",
              "    <tr>\n",
              "      <th>Contribuições</th>\n",
              "      <td>2.500000e+08</td>\n",
              "      <td>1.186738e+05</td>\n",
              "      <td>1.109661e+08</td>\n",
              "      <td>8.232274e+07</td>\n",
              "    </tr>\n",
              "    <tr>\n",
              "      <th>Despesas de Exercícios Anteriores</th>\n",
              "      <td>6.345828e+08</td>\n",
              "      <td>5.087498e+04</td>\n",
              "      <td>1.576032e+07</td>\n",
              "      <td>1.279067e+05</td>\n",
              "    </tr>\n",
              "    <tr>\n",
              "      <th>Distribuição Constitucional ou Legal de Recei</th>\n",
              "      <td>1.477512e+10</td>\n",
              "      <td>1.262395e+06</td>\n",
              "      <td>3.413019e+09</td>\n",
              "      <td>4.435368e+08</td>\n",
              "    </tr>\n",
              "    <tr>\n",
              "      <th>Diárias - Civil</th>\n",
              "      <td>1.691095e+05</td>\n",
              "      <td>5.740582e+04</td>\n",
              "      <td>9.109678e+04</td>\n",
              "      <td>8.295904e+04</td>\n",
              "    </tr>\n",
              "    <tr>\n",
              "      <th>Indenizações e Restituições</th>\n",
              "      <td>1.384009e+09</td>\n",
              "      <td>5.115945e+04</td>\n",
              "      <td>1.607054e+07</td>\n",
              "      <td>1.376602e+05</td>\n",
              "    </tr>\n",
              "    <tr>\n",
              "      <th>Indenizações e Restituições Trabalhistas</th>\n",
              "      <td>4.341066e+06</td>\n",
              "      <td>5.978320e+04</td>\n",
              "      <td>7.666153e+05</td>\n",
              "      <td>2.545499e+05</td>\n",
              "    </tr>\n",
              "    <tr>\n",
              "      <th>Juros sobre a Dívida por Contrato</th>\n",
              "      <td>1.567383e+08</td>\n",
              "      <td>5.856080e+04</td>\n",
              "      <td>4.635820e+07</td>\n",
              "      <td>6.346754e+06</td>\n",
              "    </tr>\n",
              "    <tr>\n",
              "      <th>Juros, Deságios e Descontos da Dívida Mobiliá</th>\n",
              "      <td>4.857731e+10</td>\n",
              "      <td>7.647314e+07</td>\n",
              "      <td>9.339712e+09</td>\n",
              "      <td>7.643577e+08</td>\n",
              "    </tr>\n",
              "    <tr>\n",
              "      <th>Locação de Mão-de-Obra</th>\n",
              "      <td>1.264406e+07</td>\n",
              "      <td>5.122871e+04</td>\n",
              "      <td>3.875752e+05</td>\n",
              "      <td>1.194074e+05</td>\n",
              "    </tr>\n",
              "    <tr>\n",
              "      <th>Material de Consumo</th>\n",
              "      <td>1.377524e+05</td>\n",
              "      <td>6.410000e+04</td>\n",
              "      <td>9.549766e+04</td>\n",
              "      <td>1.018996e+05</td>\n",
              "    </tr>\n",
              "    <tr>\n",
              "      <th>Obrigações Patronais</th>\n",
              "      <td>7.735624e+07</td>\n",
              "      <td>5.114292e+04</td>\n",
              "      <td>1.182304e+07</td>\n",
              "      <td>2.738722e+06</td>\n",
              "    </tr>\n",
              "    <tr>\n",
              "      <th>Obrigações Tributárias e Contributivas</th>\n",
              "      <td>1.526981e+06</td>\n",
              "      <td>6.951206e+04</td>\n",
              "      <td>6.592777e+05</td>\n",
              "      <td>9.358962e+05</td>\n",
              "    </tr>\n",
              "    <tr>\n",
              "      <th>Outras Despesas Variáveis - Pessoal Civil</th>\n",
              "      <td>6.977807e+05</td>\n",
              "      <td>8.259524e+04</td>\n",
              "      <td>3.614576e+05</td>\n",
              "      <td>3.525927e+05</td>\n",
              "    </tr>\n",
              "    <tr>\n",
              "      <th>Outras Despesas de Pessoal decorrentes de Con</th>\n",
              "      <td>7.655003e+05</td>\n",
              "      <td>3.494899e+05</td>\n",
              "      <td>5.574951e+05</td>\n",
              "      <td>5.574951e+05</td>\n",
              "    </tr>\n",
              "    <tr>\n",
              "      <th>Outros Benefícios Assistenciais do servidor e</th>\n",
              "      <td>7.222500e+05</td>\n",
              "      <td>5.193308e+04</td>\n",
              "      <td>2.412199e+05</td>\n",
              "      <td>1.854934e+05</td>\n",
              "    </tr>\n",
              "    <tr>\n",
              "      <th>Outros Encargos sobre a Dívida por Contrato</th>\n",
              "      <td>5.481021e+06</td>\n",
              "      <td>1.526276e+06</td>\n",
              "      <td>3.503648e+06</td>\n",
              "      <td>3.503648e+06</td>\n",
              "    </tr>\n",
              "    <tr>\n",
              "      <th>Outros Serviços de Terceiros - Pessoa Física</th>\n",
              "      <td>1.964777e+06</td>\n",
              "      <td>5.189005e+04</td>\n",
              "      <td>2.462460e+05</td>\n",
              "      <td>7.777630e+04</td>\n",
              "    </tr>\n",
              "    <tr>\n",
              "      <th>Outros Serviços de Terceiros - Pessoa Jurídic</th>\n",
              "      <td>3.093045e+07</td>\n",
              "      <td>5.102058e+04</td>\n",
              "      <td>4.371640e+05</td>\n",
              "      <td>1.527076e+05</td>\n",
              "    </tr>\n",
              "    <tr>\n",
              "      <th>Participação em Fundos, Organismos, ou Entida</th>\n",
              "      <td>6.500000e+07</td>\n",
              "      <td>6.500000e+07</td>\n",
              "      <td>6.500000e+07</td>\n",
              "      <td>6.500000e+07</td>\n",
              "    </tr>\n",
              "    <tr>\n",
              "      <th>Passagens e Despesas com Locomoção</th>\n",
              "      <td>1.088769e+05</td>\n",
              "      <td>5.906068e+04</td>\n",
              "      <td>7.983055e+04</td>\n",
              "      <td>7.689600e+04</td>\n",
              "    </tr>\n",
              "    <tr>\n",
              "      <th>Pensões Especiais</th>\n",
              "      <td>1.348796e+07</td>\n",
              "      <td>6.406733e+04</td>\n",
              "      <td>2.514108e+06</td>\n",
              "      <td>7.260892e+05</td>\n",
              "    </tr>\n",
              "    <tr>\n",
              "      <th>Pensões do RPPS e do militar</th>\n",
              "      <td>2.063096e+08</td>\n",
              "      <td>7.858664e+04</td>\n",
              "      <td>2.644208e+07</td>\n",
              "      <td>6.751518e+06</td>\n",
              "    </tr>\n",
              "    <tr>\n",
              "      <th>Principal Corrigido da Dívida Contratual Refi</th>\n",
              "      <td>6.702161e+08</td>\n",
              "      <td>1.984999e+06</td>\n",
              "      <td>1.539540e+08</td>\n",
              "      <td>1.098470e+08</td>\n",
              "    </tr>\n",
              "    <tr>\n",
              "      <th>Principal Corrigido da Dívida Mobiliária Refi</th>\n",
              "      <td>2.115960e+11</td>\n",
              "      <td>6.632849e+07</td>\n",
              "      <td>5.486602e+10</td>\n",
              "      <td>1.257810e+09</td>\n",
              "    </tr>\n",
              "    <tr>\n",
              "      <th>Principal da Dívida Contratual Resgatado</th>\n",
              "      <td>7.464252e+06</td>\n",
              "      <td>3.535400e+06</td>\n",
              "      <td>5.024172e+06</td>\n",
              "      <td>4.548518e+06</td>\n",
              "    </tr>\n",
              "    <tr>\n",
              "      <th>Principal da Dívida Mobiliária Resgatado</th>\n",
              "      <td>7.629420e+10</td>\n",
              "      <td>7.629420e+10</td>\n",
              "      <td>7.629420e+10</td>\n",
              "      <td>7.629420e+10</td>\n",
              "    </tr>\n",
              "    <tr>\n",
              "      <th>Ressarcimento de Despesas de Pessoal Requisit</th>\n",
              "      <td>1.717839e+07</td>\n",
              "      <td>8.952863e+04</td>\n",
              "      <td>3.518053e+06</td>\n",
              "      <td>1.243887e+06</td>\n",
              "    </tr>\n",
              "    <tr>\n",
              "      <th>Sentenças Judiciais</th>\n",
              "      <td>2.386934e+07</td>\n",
              "      <td>5.286379e+04</td>\n",
              "      <td>2.345923e+06</td>\n",
              "      <td>3.744025e+05</td>\n",
              "    </tr>\n",
              "    <tr>\n",
              "      <th>Serviços de Consultoria</th>\n",
              "      <td>2.925958e+05</td>\n",
              "      <td>5.234341e+04</td>\n",
              "      <td>1.703752e+05</td>\n",
              "      <td>1.490886e+05</td>\n",
              "    </tr>\n",
              "    <tr>\n",
              "      <th>Serviços de Tecnologia da Informação e Comuni</th>\n",
              "      <td>2.707544e+07</td>\n",
              "      <td>5.364039e+04</td>\n",
              "      <td>3.874766e+06</td>\n",
              "      <td>3.446562e+05</td>\n",
              "    </tr>\n",
              "    <tr>\n",
              "      <th>Subvenções econômicas</th>\n",
              "      <td>2.293394e+08</td>\n",
              "      <td>7.260312e+04</td>\n",
              "      <td>6.091923e+07</td>\n",
              "      <td>1.024578e+07</td>\n",
              "    </tr>\n",
              "    <tr>\n",
              "      <th>Vencimentos e Vantagens Fixas - Pessoal Civil</th>\n",
              "      <td>3.637162e+08</td>\n",
              "      <td>2.353749e+05</td>\n",
              "      <td>7.244764e+07</td>\n",
              "      <td>3.390591e+07</td>\n",
              "    </tr>\n",
              "    <tr>\n",
              "      <th>Vencimentos e Vantagens Fixas - Pessoal Milit</th>\n",
              "      <td>4.943709e+06</td>\n",
              "      <td>1.683000e+05</td>\n",
              "      <td>2.216567e+06</td>\n",
              "      <td>1.337658e+06</td>\n",
              "    </tr>\n",
              "  </tbody>\n",
              "</table>\n",
              "</div>\n",
              "      <button class=\"colab-df-convert\" onclick=\"convertToInteractive('df-593457fd-24ce-485d-af5e-f80fa3f65654')\"\n",
              "              title=\"Convert this dataframe to an interactive table.\"\n",
              "              style=\"display:none;\">\n",
              "        \n",
              "  <svg xmlns=\"http://www.w3.org/2000/svg\" height=\"24px\"viewBox=\"0 0 24 24\"\n",
              "       width=\"24px\">\n",
              "    <path d=\"M0 0h24v24H0V0z\" fill=\"none\"/>\n",
              "    <path d=\"M18.56 5.44l.94 2.06.94-2.06 2.06-.94-2.06-.94-.94-2.06-.94 2.06-2.06.94zm-11 1L8.5 8.5l.94-2.06 2.06-.94-2.06-.94L8.5 2.5l-.94 2.06-2.06.94zm10 10l.94 2.06.94-2.06 2.06-.94-2.06-.94-.94-2.06-.94 2.06-2.06.94z\"/><path d=\"M17.41 7.96l-1.37-1.37c-.4-.4-.92-.59-1.43-.59-.52 0-1.04.2-1.43.59L10.3 9.45l-7.72 7.72c-.78.78-.78 2.05 0 2.83L4 21.41c.39.39.9.59 1.41.59.51 0 1.02-.2 1.41-.59l7.78-7.78 2.81-2.81c.8-.78.8-2.07 0-2.86zM5.41 20L4 18.59l7.72-7.72 1.47 1.35L5.41 20z\"/>\n",
              "  </svg>\n",
              "      </button>\n",
              "      \n",
              "  <style>\n",
              "    .colab-df-container {\n",
              "      display:flex;\n",
              "      flex-wrap:wrap;\n",
              "      gap: 12px;\n",
              "    }\n",
              "\n",
              "    .colab-df-convert {\n",
              "      background-color: #E8F0FE;\n",
              "      border: none;\n",
              "      border-radius: 50%;\n",
              "      cursor: pointer;\n",
              "      display: none;\n",
              "      fill: #1967D2;\n",
              "      height: 32px;\n",
              "      padding: 0 0 0 0;\n",
              "      width: 32px;\n",
              "    }\n",
              "\n",
              "    .colab-df-convert:hover {\n",
              "      background-color: #E2EBFA;\n",
              "      box-shadow: 0px 1px 2px rgba(60, 64, 67, 0.3), 0px 1px 3px 1px rgba(60, 64, 67, 0.15);\n",
              "      fill: #174EA6;\n",
              "    }\n",
              "\n",
              "    [theme=dark] .colab-df-convert {\n",
              "      background-color: #3B4455;\n",
              "      fill: #D2E3FC;\n",
              "    }\n",
              "\n",
              "    [theme=dark] .colab-df-convert:hover {\n",
              "      background-color: #434B5C;\n",
              "      box-shadow: 0px 1px 3px 1px rgba(0, 0, 0, 0.15);\n",
              "      filter: drop-shadow(0px 1px 2px rgba(0, 0, 0, 0.3));\n",
              "      fill: #FFFFFF;\n",
              "    }\n",
              "  </style>\n",
              "\n",
              "      <script>\n",
              "        const buttonEl =\n",
              "          document.querySelector('#df-593457fd-24ce-485d-af5e-f80fa3f65654 button.colab-df-convert');\n",
              "        buttonEl.style.display =\n",
              "          google.colab.kernel.accessAllowed ? 'block' : 'none';\n",
              "\n",
              "        async function convertToInteractive(key) {\n",
              "          const element = document.querySelector('#df-593457fd-24ce-485d-af5e-f80fa3f65654');\n",
              "          const dataTable =\n",
              "            await google.colab.kernel.invokeFunction('convertToInteractive',\n",
              "                                                     [key], {});\n",
              "          if (!dataTable) return;\n",
              "\n",
              "          const docLinkHtml = 'Like what you see? Visit the ' +\n",
              "            '<a target=\"_blank\" href=https://colab.research.google.com/notebooks/data_table.ipynb>data table notebook</a>'\n",
              "            + ' to learn more about interactive tables.';\n",
              "          element.innerHTML = '';\n",
              "          dataTable['output_type'] = 'display_data';\n",
              "          await google.colab.output.renderOutput(dataTable, element);\n",
              "          const docLink = document.createElement('div');\n",
              "          docLink.innerHTML = docLinkHtml;\n",
              "          element.appendChild(docLink);\n",
              "        }\n",
              "      </script>\n",
              "    </div>\n",
              "  </div>\n",
              "  "
            ]
          },
          "metadata": {},
          "execution_count": 98
        }
      ]
    },
    {
      "cell_type": "markdown",
      "source": [
        ">\"Análise das 'Unidades com vínculo direto', por Nome Elemento de Despesa\": \n",
        "\n",
        ">>6 transações são os principais outliers, totalizando 705 bilhões de Reais (84% de todos os gastos do Ministério da Economia), sendo:\n",
        "\n",
        ">>>*Principal Corrigido da Dívida Mobiliária Refi: 3 transações, somando 543 bilhões (77%). Comparando com a média de 55 bilhões, há uma 'oportunidade' de fraude a ser investigada, com potencial de 126 bilhões de Reais!\n",
        "\n",
        ">>>*Juros, Deságios e Descontos da Dívida Mobiliá: 1 transação de 86 bilhões (12%). Comparando com a média de 9,3 bilhões, há uma 'oportunidade' de fraude a ser investigada, com potencial de 34 bilhões de Reais!\n",
        "\n",
        ">>>*Principal da Dívida Mobiliária Resgatado: 2 transações, somando 76 bilhões (11%), que está consistente com a avaliação estatística.\n",
        "\n",
        "\n",
        "<hr></hr>"
      ],
      "metadata": {
        "id": "7jOYnHv5blW5"
      }
    },
    {
      "cell_type": "markdown",
      "source": [
        "#### <font color='blue'>5.4.2 Analisar com ferramentas estatísticas as oportunidades encontradas no Ministério do Trabalho"
      ],
      "metadata": {
        "id": "LlCV9D64U6v4"
      }
    },
    {
      "cell_type": "markdown",
      "source": [
        "##### <font color='blue'>5.4.2.1 Análise do 'Fundo do Regime Geral da Previdência Social', por Nome Elemento de Despesa"
      ],
      "metadata": {
        "id": "QO4OAZtw4Hnd"
      }
    },
    {
      "cell_type": "code",
      "source": [
        "# criando uma cópia do df6\n",
        "\n",
        "df6a = df6.copy() \n",
        "\n",
        "# checando outliers\n",
        "\n",
        "plt.figure(figsize=(12,6))\n",
        "ax = sns.boxplot(x = df6a.Valor_Pago)\n",
        "sns.set_palette('Accent')\n",
        "sns.set_style('darkgrid')\n",
        "ax.set_title('Valor Desembolsado - Fundo do Regime Geral da Previdência Social - [all data]', fontsize=20)\n",
        "ax.set_xlabel('Valor em dezenas de bilhões de Reais', fontsize=16)"
      ],
      "metadata": {
        "colab": {
          "base_uri": "https://localhost:8080/",
          "height": 432
        },
        "id": "6K6dJw5tKDIv",
        "outputId": "b5251e95-d4a4-4e4f-a980-5cd8a37b901e"
      },
      "execution_count": null,
      "outputs": [
        {
          "output_type": "execute_result",
          "data": {
            "text/plain": [
              "Text(0.5, 0, 'Valor em dezenas de bilhões de Reais')"
            ]
          },
          "metadata": {},
          "execution_count": 74
        },
        {
          "output_type": "display_data",
          "data": {
            "text/plain": [
              "<Figure size 864x432 with 1 Axes>"
            ],
            "image/png": "[encoded data removed]"
          },
          "metadata": {
            "needs_background": "light"
          }
        }
      ]
    },
    {
      "cell_type": "code",
      "source": [
        "# plotando o histograma dos valores pagos\n",
        "\n",
        "df6a.Valor_Pago.hist()\n",
        "sns.set_palette('Accent')\n",
        "sns.set_style('darkgrid')"
      ],
      "metadata": {
        "colab": {
          "base_uri": "https://localhost:8080/",
          "height": 278
        },
        "id": "3opT3TPWCviV",
        "outputId": "538c00bf-af65-4fa1-db1f-6f411c63b0ad"
      },
      "execution_count": null,
      "outputs": [
        {
          "output_type": "display_data",
          "data": {
            "text/plain": [
              "<Figure size 432x288 with 1 Axes>"
            ],
            "image/png": "[encoded data removed]"
          },
          "metadata": {}
        }
      ]
    },
    {
      "cell_type": "code",
      "source": [
        "# removendo outliers\n",
        "\n",
        "valor = df6a.Valor_Pago\n",
        "\n",
        "Q1 = valor.quantile(.25)\n",
        "Q3 = valor.quantile(.75)\n",
        "IIQ = Q3 - Q1\n",
        "limite_inferior = Q1 - 1.5 * IIQ\n",
        "limite_superior = Q3 + 1.5 * IIQ\n",
        "\n",
        "indexNames = df6a[ (df6a.Valor_Pago <= limite_superior)].index\n",
        "\n",
        "df6a.drop(indexNames , inplace=True)"
      ],
      "metadata": {
        "id": "UJxOCcBp7uLS"
      },
      "execution_count": null,
      "outputs": []
    },
    {
      "cell_type": "code",
      "source": [
        "# checando outliers\n",
        "\n",
        "plt.figure(figsize=(12,6))\n",
        "ax = sns.boxplot(x = df6a.Valor_Pago)\n",
        "sns.set_palette('Accent')\n",
        "sns.set_style('darkgrid')\n",
        "ax.set_title('Valor Desembolsado - Fundo do Regime Geral da Previdência Social - [outliers]', fontsize=20)\n",
        "ax.set_xlabel('Valor em dezenas de bilhões de Reais', fontsize=16)"
      ],
      "metadata": {
        "colab": {
          "base_uri": "https://localhost:8080/",
          "height": 432
        },
        "outputId": "fa2e8687-66e6-4e1b-ed94-1479c23e2ec6",
        "id": "JKpecJXqBhnI"
      },
      "execution_count": null,
      "outputs": [
        {
          "output_type": "execute_result",
          "data": {
            "text/plain": [
              "Text(0.5, 0, 'Valor em dezenas de bilhões de Reais')"
            ]
          },
          "metadata": {},
          "execution_count": 77
        },
        {
          "output_type": "display_data",
          "data": {
            "text/plain": [
              "<Figure size 864x432 with 1 Axes>"
            ],
            "image/png": "[encoded data removed]"
          },
          "metadata": {}
        }
      ]
    },
    {
      "cell_type": "code",
      "source": [
        "af = df6a.groupby(\"Nome Elemento de Despesa\")[\"Valor_Pago\"].sum()\n",
        "af.sort_values(ascending=False, inplace=True)\n",
        "af"
      ],
      "metadata": {
        "colab": {
          "base_uri": "https://localhost:8080/"
        },
        "id": "Ka3O0vk1NUK_",
        "outputId": "b6c96a9b-8626-4e8b-a515-6766df497a81"
      },
      "execution_count": null,
      "outputs": [
        {
          "output_type": "execute_result",
          "data": {
            "text/plain": [
              "Nome Elemento de Despesa\n",
              "Aposentadorias do RGPS - Área Urbana       1.048921e+11\n",
              "Pensões do RGPS - Área Urbana              3.632256e+10\n",
              "Aposentadorias do RGPS - Área Rural        3.306164e+10\n",
              "Pensões do RGPS - Área Rural               1.127537e+10\n",
              "Outros Benefícios do RGPS - Área Urbana    9.243508e+09\n",
              "Outros Benefícios do RGPS - Área Rural     8.966845e+08\n",
              "Indenizações e Restituições                5.375100e+08\n",
              "Sentenças Judiciais                        2.800061e+08\n",
              "Name: Valor_Pago, dtype: float64"
            ]
          },
          "metadata": {},
          "execution_count": 78
        }
      ]
    },
    {
      "cell_type": "code",
      "source": [
        "# cálculo da curva A do Órgão Subordinado, por Nome Elemento de Despesa\n",
        "\n",
        "soma = 0\n",
        "\n",
        "for i,row in af.iteritems():\n",
        "  soma += row\n",
        "\n",
        "curva_a = 0\n",
        "\n",
        "for j,row2 in af.iteritems():\n",
        "  curva_a += row2\n",
        "  if curva_a > (0.8 * soma):\n",
        "    break\n",
        "\n",
        "print('O montante equivalente da curva A é: ', curva_a, '\\nEquivalente a ', round(curva_a / soma * 100), '% do total.\\nQue engloba até o', j)"
      ],
      "metadata": {
        "colab": {
          "base_uri": "https://localhost:8080/"
        },
        "outputId": "20fd6d7b-8f5e-4e34-d8eb-668093862f8e",
        "id": "SUORg-B_Pzid"
      },
      "execution_count": null,
      "outputs": [
        {
          "output_type": "stream",
          "name": "stdout",
          "text": [
            "O montante equivalente da curva A é:  174276301944.0 \n",
            "Equivalente a  89 % do total.\n",
            "Que engloba até o Aposentadorias do RGPS - Área Rural\n"
          ]
        }
      ]
    },
    {
      "cell_type": "code",
      "source": [
        "df6a.sort_values(by=['Valor_Pago'], ascending=False).head(7)"
      ],
      "metadata": {
        "colab": {
          "base_uri": "https://localhost:8080/",
          "height": 900
        },
        "id": "Eyd1HOYXOHxX",
        "outputId": "43ef8cd3-1831-46ee-dc7a-34d99b2dfd14"
      },
      "execution_count": null,
      "outputs": [
        {
          "output_type": "execute_result",
          "data": {
            "text/plain": [
              "       Ano e mês do lançamento Código Órgão Superior     Nome Órgão Superior  \\\n",
              "147514                 2022/04                 40000  Ministério do Trabalho   \n",
              "134543                 2022/03                 40000  Ministério do Trabalho   \n",
              "81850                  2022/02                 40000  Ministério do Trabalho   \n",
              "201554                 2022/04                 40000  Ministério do Trabalho   \n",
              "198152                 2022/04                 40000  Ministério do Trabalho   \n",
              "137956                 2022/03                 40000  Ministério do Trabalho   \n",
              "70260                  2022/02                 40000  Ministério do Trabalho   \n",
              "\n",
              "       Código Órgão Subordinado                       Nome Órgão Subordinado  \\\n",
              "147514                    37904  Fundo do Regime Geral da Previdência Social   \n",
              "134543                    37904  Fundo do Regime Geral da Previdência Social   \n",
              "81850                     37904  Fundo do Regime Geral da Previdência Social   \n",
              "201554                    37904  Fundo do Regime Geral da Previdência Social   \n",
              "198152                    37904  Fundo do Regime Geral da Previdência Social   \n",
              "137956                    37904  Fundo do Regime Geral da Previdência Social   \n",
              "70260                     37904  Fundo do Regime Geral da Previdência Social   \n",
              "\n",
              "       Código Unidade Gestora                          Nome Unidade Gestora  \\\n",
              "147514                 513001  COORDENACAO DE ORCAMENTO E FINANCAS DO FRGPS   \n",
              "134543                 513001  COORDENACAO DE ORCAMENTO E FINANCAS DO FRGPS   \n",
              "81850                  513001  COORDENACAO DE ORCAMENTO E FINANCAS DO FRGPS   \n",
              "201554                 513001  COORDENACAO DE ORCAMENTO E FINANCAS DO FRGPS   \n",
              "198152                 513001  COORDENACAO DE ORCAMENTO E FINANCAS DO FRGPS   \n",
              "137956                 513001  COORDENACAO DE ORCAMENTO E FINANCAS DO FRGPS   \n",
              "70260                  513001  COORDENACAO DE ORCAMENTO E FINANCAS DO FRGPS   \n",
              "\n",
              "       Código Gestão                                  Nome Gestão  \\\n",
              "147514       57904.0  FUNDO DO REGIME GERAL DA PREVIDENCIA SOCIAL   \n",
              "134543       57904.0  FUNDO DO REGIME GERAL DA PREVIDENCIA SOCIAL   \n",
              "81850        57904.0  FUNDO DO REGIME GERAL DA PREVIDENCIA SOCIAL   \n",
              "201554       57904.0  FUNDO DO REGIME GERAL DA PREVIDENCIA SOCIAL   \n",
              "198152       57904.0  FUNDO DO REGIME GERAL DA PREVIDENCIA SOCIAL   \n",
              "137956       57904.0  FUNDO DO REGIME GERAL DA PREVIDENCIA SOCIAL   \n",
              "70260        57904.0  FUNDO DO REGIME GERAL DA PREVIDENCIA SOCIAL   \n",
              "\n",
              "       Código Unidade Orçamentária  ... Código Elemento de Despesa  \\\n",
              "147514                       40904  ...                         54   \n",
              "134543                       40904  ...                         54   \n",
              "81850                        40904  ...                         54   \n",
              "201554                       40904  ...                         56   \n",
              "198152                       40904  ...                         53   \n",
              "137956                       40904  ...                         56   \n",
              "70260                        40904  ...                         56   \n",
              "\n",
              "                    Nome Elemento de Despesa Código Modalidade da Despesa  \\\n",
              "147514  Aposentadorias do RGPS - Área Urbana                           90   \n",
              "134543  Aposentadorias do RGPS - Área Urbana                           90   \n",
              "81850   Aposentadorias do RGPS - Área Urbana                           90   \n",
              "201554         Pensões do RGPS - Área Urbana                           90   \n",
              "198152   Aposentadorias do RGPS - Área Rural                           90   \n",
              "137956         Pensões do RGPS - Área Urbana                           90   \n",
              "70260          Pensões do RGPS - Área Urbana                           90   \n",
              "\n",
              "          Modalidade da Despesa Valor_Empenhado Valor_Liquidado    Valor_Pago  \\\n",
              "147514  Reserva de Contingência    5.526581e+10    4.899657e+10  3.482190e+10   \n",
              "134543  Reserva de Contingência    1.286460e+11    3.312738e+10  3.348746e+10   \n",
              "81850   Reserva de Contingência    1.900000e+10    3.299566e+10  3.247205e+10   \n",
              "201554  Reserva de Contingência    1.775891e+10    1.645437e+10  1.202928e+10   \n",
              "198152  Reserva de Contingência    0.000000e+00    1.322133e+10  1.123025e+10   \n",
              "137956  Reserva de Contingência   -4.000000e+09    1.119885e+10  1.120902e+10   \n",
              "70260   Reserva de Contingência   -1.900000e+10    1.118402e+10  1.111111e+10   \n",
              "\n",
              "       Valor_Restos_a_Pagar_Inscritos Valor_Restos_a_Pagar_Cancelado  \\\n",
              "147514                            0.0                            0.0   \n",
              "134543                            0.0                            0.0   \n",
              "81850                             0.0                            0.0   \n",
              "201554                            0.0                            0.0   \n",
              "198152                            0.0                            0.0   \n",
              "137956                            0.0                            0.0   \n",
              "70260                             0.0                            0.0   \n",
              "\n",
              "       Valor_Restos_a_Pagar_Pagos  \n",
              "147514                        0.0  \n",
              "134543                        0.0  \n",
              "81850                         0.0  \n",
              "201554                        0.0  \n",
              "198152                        0.0  \n",
              "137956                        0.0  \n",
              "70260                         0.0  \n",
              "\n",
              "[7 rows x 43 columns]"
            ],
            "text/html": [
              "\n",
              "  <div id=\"df-c4ef33af-ef2c-45bd-860a-e7dd16e9c3ce\">\n",
              "    <div class=\"colab-df-container\">\n",
              "      <div>\n",
              "<style scoped>\n",
              "    .dataframe tbody tr th:only-of-type {\n",
              "        vertical-align: middle;\n",
              "    }\n",
              "\n",
              "    .dataframe tbody tr th {\n",
              "        vertical-align: top;\n",
              "    }\n",
              "\n",
              "    .dataframe thead th {\n",
              "        text-align: right;\n",
              "    }\n",
              "</style>\n",
              "<table border=\"1\" class=\"dataframe\">\n",
              "  <thead>\n",
              "    <tr style=\"text-align: right;\">\n",
              "      <th></th>\n",
              "      <th>Ano e mês do lançamento</th>\n",
              "      <th>Código Órgão Superior</th>\n",
              "      <th>Nome Órgão Superior</th>\n",
              "      <th>Código Órgão Subordinado</th>\n",
              "      <th>Nome Órgão Subordinado</th>\n",
              "      <th>Código Unidade Gestora</th>\n",
              "      <th>Nome Unidade Gestora</th>\n",
              "      <th>Código Gestão</th>\n",
              "      <th>Nome Gestão</th>\n",
              "      <th>Código Unidade Orçamentária</th>\n",
              "      <th>...</th>\n",
              "      <th>Código Elemento de Despesa</th>\n",
              "      <th>Nome Elemento de Despesa</th>\n",
              "      <th>Código Modalidade da Despesa</th>\n",
              "      <th>Modalidade da Despesa</th>\n",
              "      <th>Valor_Empenhado</th>\n",
              "      <th>Valor_Liquidado</th>\n",
              "      <th>Valor_Pago</th>\n",
              "      <th>Valor_Restos_a_Pagar_Inscritos</th>\n",
              "      <th>Valor_Restos_a_Pagar_Cancelado</th>\n",
              "      <th>Valor_Restos_a_Pagar_Pagos</th>\n",
              "    </tr>\n",
              "  </thead>\n",
              "  <tbody>\n",
              "    <tr>\n",
              "      <th>147514</th>\n",
              "      <td>2022/04</td>\n",
              "      <td>40000</td>\n",
              "      <td>Ministério do Trabalho</td>\n",
              "      <td>37904</td>\n",
              "      <td>Fundo do Regime Geral da Previdência Social</td>\n",
              "      <td>513001</td>\n",
              "      <td>COORDENACAO DE ORCAMENTO E FINANCAS DO FRGPS</td>\n",
              "      <td>57904.0</td>\n",
              "      <td>FUNDO DO REGIME GERAL DA PREVIDENCIA SOCIAL</td>\n",
              "      <td>40904</td>\n",
              "      <td>...</td>\n",
              "      <td>54</td>\n",
              "      <td>Aposentadorias do RGPS - Área Urbana</td>\n",
              "      <td>90</td>\n",
              "      <td>Reserva de Contingência</td>\n",
              "      <td>5.526581e+10</td>\n",
              "      <td>4.899657e+10</td>\n",
              "      <td>3.482190e+10</td>\n",
              "      <td>0.0</td>\n",
              "      <td>0.0</td>\n",
              "      <td>0.0</td>\n",
              "    </tr>\n",
              "    <tr>\n",
              "      <th>134543</th>\n",
              "      <td>2022/03</td>\n",
              "      <td>40000</td>\n",
              "      <td>Ministério do Trabalho</td>\n",
              "      <td>37904</td>\n",
              "      <td>Fundo do Regime Geral da Previdência Social</td>\n",
              "      <td>513001</td>\n",
              "      <td>COORDENACAO DE ORCAMENTO E FINANCAS DO FRGPS</td>\n",
              "      <td>57904.0</td>\n",
              "      <td>FUNDO DO REGIME GERAL DA PREVIDENCIA SOCIAL</td>\n",
              "      <td>40904</td>\n",
              "      <td>...</td>\n",
              "      <td>54</td>\n",
              "      <td>Aposentadorias do RGPS - Área Urbana</td>\n",
              "      <td>90</td>\n",
              "      <td>Reserva de Contingência</td>\n",
              "      <td>1.286460e+11</td>\n",
              "      <td>3.312738e+10</td>\n",
              "      <td>3.348746e+10</td>\n",
              "      <td>0.0</td>\n",
              "      <td>0.0</td>\n",
              "      <td>0.0</td>\n",
              "    </tr>\n",
              "    <tr>\n",
              "      <th>81850</th>\n",
              "      <td>2022/02</td>\n",
              "      <td>40000</td>\n",
              "      <td>Ministério do Trabalho</td>\n",
              "      <td>37904</td>\n",
              "      <td>Fundo do Regime Geral da Previdência Social</td>\n",
              "      <td>513001</td>\n",
              "      <td>COORDENACAO DE ORCAMENTO E FINANCAS DO FRGPS</td>\n",
              "      <td>57904.0</td>\n",
              "      <td>FUNDO DO REGIME GERAL DA PREVIDENCIA SOCIAL</td>\n",
              "      <td>40904</td>\n",
              "      <td>...</td>\n",
              "      <td>54</td>\n",
              "      <td>Aposentadorias do RGPS - Área Urbana</td>\n",
              "      <td>90</td>\n",
              "      <td>Reserva de Contingência</td>\n",
              "      <td>1.900000e+10</td>\n",
              "      <td>3.299566e+10</td>\n",
              "      <td>3.247205e+10</td>\n",
              "      <td>0.0</td>\n",
              "      <td>0.0</td>\n",
              "      <td>0.0</td>\n",
              "    </tr>\n",
              "    <tr>\n",
              "      <th>201554</th>\n",
              "      <td>2022/04</td>\n",
              "      <td>40000</td>\n",
              "      <td>Ministério do Trabalho</td>\n",
              "      <td>37904</td>\n",
              "      <td>Fundo do Regime Geral da Previdência Social</td>\n",
              "      <td>513001</td>\n",
              "      <td>COORDENACAO DE ORCAMENTO E FINANCAS DO FRGPS</td>\n",
              "      <td>57904.0</td>\n",
              "      <td>FUNDO DO REGIME GERAL DA PREVIDENCIA SOCIAL</td>\n",
              "      <td>40904</td>\n",
              "      <td>...</td>\n",
              "      <td>56</td>\n",
              "      <td>Pensões do RGPS - Área Urbana</td>\n",
              "      <td>90</td>\n",
              "      <td>Reserva de Contingência</td>\n",
              "      <td>1.775891e+10</td>\n",
              "      <td>1.645437e+10</td>\n",
              "      <td>1.202928e+10</td>\n",
              "      <td>0.0</td>\n",
              "      <td>0.0</td>\n",
              "      <td>0.0</td>\n",
              "    </tr>\n",
              "    <tr>\n",
              "      <th>198152</th>\n",
              "      <td>2022/04</td>\n",
              "      <td>40000</td>\n",
              "      <td>Ministério do Trabalho</td>\n",
              "      <td>37904</td>\n",
              "      <td>Fundo do Regime Geral da Previdência Social</td>\n",
              "      <td>513001</td>\n",
              "      <td>COORDENACAO DE ORCAMENTO E FINANCAS DO FRGPS</td>\n",
              "      <td>57904.0</td>\n",
              "      <td>FUNDO DO REGIME GERAL DA PREVIDENCIA SOCIAL</td>\n",
              "      <td>40904</td>\n",
              "      <td>...</td>\n",
              "      <td>53</td>\n",
              "      <td>Aposentadorias do RGPS - Área Rural</td>\n",
              "      <td>90</td>\n",
              "      <td>Reserva de Contingência</td>\n",
              "      <td>0.000000e+00</td>\n",
              "      <td>1.322133e+10</td>\n",
              "      <td>1.123025e+10</td>\n",
              "      <td>0.0</td>\n",
              "      <td>0.0</td>\n",
              "      <td>0.0</td>\n",
              "    </tr>\n",
              "    <tr>\n",
              "      <th>137956</th>\n",
              "      <td>2022/03</td>\n",
              "      <td>40000</td>\n",
              "      <td>Ministério do Trabalho</td>\n",
              "      <td>37904</td>\n",
              "      <td>Fundo do Regime Geral da Previdência Social</td>\n",
              "      <td>513001</td>\n",
              "      <td>COORDENACAO DE ORCAMENTO E FINANCAS DO FRGPS</td>\n",
              "      <td>57904.0</td>\n",
              "      <td>FUNDO DO REGIME GERAL DA PREVIDENCIA SOCIAL</td>\n",
              "      <td>40904</td>\n",
              "      <td>...</td>\n",
              "      <td>56</td>\n",
              "      <td>Pensões do RGPS - Área Urbana</td>\n",
              "      <td>90</td>\n",
              "      <td>Reserva de Contingência</td>\n",
              "      <td>-4.000000e+09</td>\n",
              "      <td>1.119885e+10</td>\n",
              "      <td>1.120902e+10</td>\n",
              "      <td>0.0</td>\n",
              "      <td>0.0</td>\n",
              "      <td>0.0</td>\n",
              "    </tr>\n",
              "    <tr>\n",
              "      <th>70260</th>\n",
              "      <td>2022/02</td>\n",
              "      <td>40000</td>\n",
              "      <td>Ministério do Trabalho</td>\n",
              "      <td>37904</td>\n",
              "      <td>Fundo do Regime Geral da Previdência Social</td>\n",
              "      <td>513001</td>\n",
              "      <td>COORDENACAO DE ORCAMENTO E FINANCAS DO FRGPS</td>\n",
              "      <td>57904.0</td>\n",
              "      <td>FUNDO DO REGIME GERAL DA PREVIDENCIA SOCIAL</td>\n",
              "      <td>40904</td>\n",
              "      <td>...</td>\n",
              "      <td>56</td>\n",
              "      <td>Pensões do RGPS - Área Urbana</td>\n",
              "      <td>90</td>\n",
              "      <td>Reserva de Contingência</td>\n",
              "      <td>-1.900000e+10</td>\n",
              "      <td>1.118402e+10</td>\n",
              "      <td>1.111111e+10</td>\n",
              "      <td>0.0</td>\n",
              "      <td>0.0</td>\n",
              "      <td>0.0</td>\n",
              "    </tr>\n",
              "  </tbody>\n",
              "</table>\n",
              "<p>7 rows × 43 columns</p>\n",
              "</div>\n",
              "      <button class=\"colab-df-convert\" onclick=\"convertToInteractive('df-c4ef33af-ef2c-45bd-860a-e7dd16e9c3ce')\"\n",
              "              title=\"Convert this dataframe to an interactive table.\"\n",
              "              style=\"display:none;\">\n",
              "        \n",
              "  <svg xmlns=\"http://www.w3.org/2000/svg\" height=\"24px\"viewBox=\"0 0 24 24\"\n",
              "       width=\"24px\">\n",
              "    <path d=\"M0 0h24v24H0V0z\" fill=\"none\"/>\n",
              "    <path d=\"M18.56 5.44l.94 2.06.94-2.06 2.06-.94-2.06-.94-.94-2.06-.94 2.06-2.06.94zm-11 1L8.5 8.5l.94-2.06 2.06-.94-2.06-.94L8.5 2.5l-.94 2.06-2.06.94zm10 10l.94 2.06.94-2.06 2.06-.94-2.06-.94-.94-2.06-.94 2.06-2.06.94z\"/><path d=\"M17.41 7.96l-1.37-1.37c-.4-.4-.92-.59-1.43-.59-.52 0-1.04.2-1.43.59L10.3 9.45l-7.72 7.72c-.78.78-.78 2.05 0 2.83L4 21.41c.39.39.9.59 1.41.59.51 0 1.02-.2 1.41-.59l7.78-7.78 2.81-2.81c.8-.78.8-2.07 0-2.86zM5.41 20L4 18.59l7.72-7.72 1.47 1.35L5.41 20z\"/>\n",
              "  </svg>\n",
              "      </button>\n",
              "      \n",
              "  <style>\n",
              "    .colab-df-container {\n",
              "      display:flex;\n",
              "      flex-wrap:wrap;\n",
              "      gap: 12px;\n",
              "    }\n",
              "\n",
              "    .colab-df-convert {\n",
              "      background-color: #E8F0FE;\n",
              "      border: none;\n",
              "      border-radius: 50%;\n",
              "      cursor: pointer;\n",
              "      display: none;\n",
              "      fill: #1967D2;\n",
              "      height: 32px;\n",
              "      padding: 0 0 0 0;\n",
              "      width: 32px;\n",
              "    }\n",
              "\n",
              "    .colab-df-convert:hover {\n",
              "      background-color: #E2EBFA;\n",
              "      box-shadow: 0px 1px 2px rgba(60, 64, 67, 0.3), 0px 1px 3px 1px rgba(60, 64, 67, 0.15);\n",
              "      fill: #174EA6;\n",
              "    }\n",
              "\n",
              "    [theme=dark] .colab-df-convert {\n",
              "      background-color: #3B4455;\n",
              "      fill: #D2E3FC;\n",
              "    }\n",
              "\n",
              "    [theme=dark] .colab-df-convert:hover {\n",
              "      background-color: #434B5C;\n",
              "      box-shadow: 0px 1px 3px 1px rgba(0, 0, 0, 0.15);\n",
              "      filter: drop-shadow(0px 1px 2px rgba(0, 0, 0, 0.3));\n",
              "      fill: #FFFFFF;\n",
              "    }\n",
              "  </style>\n",
              "\n",
              "      <script>\n",
              "        const buttonEl =\n",
              "          document.querySelector('#df-c4ef33af-ef2c-45bd-860a-e7dd16e9c3ce button.colab-df-convert');\n",
              "        buttonEl.style.display =\n",
              "          google.colab.kernel.accessAllowed ? 'block' : 'none';\n",
              "\n",
              "        async function convertToInteractive(key) {\n",
              "          const element = document.querySelector('#df-c4ef33af-ef2c-45bd-860a-e7dd16e9c3ce');\n",
              "          const dataTable =\n",
              "            await google.colab.kernel.invokeFunction('convertToInteractive',\n",
              "                                                     [key], {});\n",
              "          if (!dataTable) return;\n",
              "\n",
              "          const docLinkHtml = 'Like what you see? Visit the ' +\n",
              "            '<a target=\"_blank\" href=https://colab.research.google.com/notebooks/data_table.ipynb>data table notebook</a>'\n",
              "            + ' to learn more about interactive tables.';\n",
              "          element.innerHTML = '';\n",
              "          dataTable['output_type'] = 'display_data';\n",
              "          await google.colab.output.renderOutput(dataTable, element);\n",
              "          const docLink = document.createElement('div');\n",
              "          docLink.innerHTML = docLinkHtml;\n",
              "          element.appendChild(docLink);\n",
              "        }\n",
              "      </script>\n",
              "    </div>\n",
              "  </div>\n",
              "  "
            ]
          },
          "metadata": {},
          "execution_count": 80
        }
      ]
    },
    {
      "cell_type": "code",
      "source": [
        "df6a.groupby(['Nome Elemento de Despesa'])['Valor_Pago'].agg(['max','min','mean','median'])"
      ],
      "metadata": {
        "colab": {
          "base_uri": "https://localhost:8080/",
          "height": 332
        },
        "id": "7lTURYoyStiw",
        "outputId": "82d528b8-92c2-4b8f-ea70-f5ed6403ee8d"
      },
      "execution_count": null,
      "outputs": [
        {
          "output_type": "execute_result",
          "data": {
            "text/plain": [
              "                                                  max           min  \\\n",
              "Nome Elemento de Despesa                                              \n",
              "Aposentadorias do RGPS - Área Rural      1.123025e+10  4.090627e+09   \n",
              "Aposentadorias do RGPS - Área Urbana     3.482190e+10  4.110693e+09   \n",
              "Indenizações e Restituições              3.219926e+08  2.155173e+08   \n",
              "Outros Benefícios do RGPS - Área Rural   2.815102e+08  1.355869e+08   \n",
              "Outros Benefícios do RGPS - Área Urbana  2.909672e+09  1.329827e+05   \n",
              "Pensões do RGPS - Área Rural             3.733413e+09  1.580716e+09   \n",
              "Pensões do RGPS - Área Urbana            1.202928e+10  1.973148e+09   \n",
              "Sentenças Judiciais                      3.343314e+07  1.318105e+05   \n",
              "\n",
              "                                                 mean        median  \n",
              "Nome Elemento de Despesa                                             \n",
              "Aposentadorias do RGPS - Área Rural      8.265409e+09  8.870379e+09  \n",
              "Aposentadorias do RGPS - Área Urbana     2.622303e+10  3.297976e+10  \n",
              "Indenizações e Restituições              2.687550e+08  2.687550e+08  \n",
              "Outros Benefícios do RGPS - Área Rural   2.241711e+08  2.397937e+08  \n",
              "Outros Benefícios do RGPS - Área Urbana  1.155439e+09  3.972458e+08  \n",
              "Pensões do RGPS - Área Rural             2.818841e+09  2.980618e+09  \n",
              "Pensões do RGPS - Área Urbana            9.080640e+09  1.116006e+10  \n",
              "Sentenças Judiciais                      2.545510e+06  4.463741e+05  "
            ],
            "text/html": [
              "\n",
              "  <div id=\"df-7de4e199-0807-4123-b143-486b0b0a9d09\">\n",
              "    <div class=\"colab-df-container\">\n",
              "      <div>\n",
              "<style scoped>\n",
              "    .dataframe tbody tr th:only-of-type {\n",
              "        vertical-align: middle;\n",
              "    }\n",
              "\n",
              "    .dataframe tbody tr th {\n",
              "        vertical-align: top;\n",
              "    }\n",
              "\n",
              "    .dataframe thead th {\n",
              "        text-align: right;\n",
              "    }\n",
              "</style>\n",
              "<table border=\"1\" class=\"dataframe\">\n",
              "  <thead>\n",
              "    <tr style=\"text-align: right;\">\n",
              "      <th></th>\n",
              "      <th>max</th>\n",
              "      <th>min</th>\n",
              "      <th>mean</th>\n",
              "      <th>median</th>\n",
              "    </tr>\n",
              "    <tr>\n",
              "      <th>Nome Elemento de Despesa</th>\n",
              "      <th></th>\n",
              "      <th></th>\n",
              "      <th></th>\n",
              "      <th></th>\n",
              "    </tr>\n",
              "  </thead>\n",
              "  <tbody>\n",
              "    <tr>\n",
              "      <th>Aposentadorias do RGPS - Área Rural</th>\n",
              "      <td>1.123025e+10</td>\n",
              "      <td>4.090627e+09</td>\n",
              "      <td>8.265409e+09</td>\n",
              "      <td>8.870379e+09</td>\n",
              "    </tr>\n",
              "    <tr>\n",
              "      <th>Aposentadorias do RGPS - Área Urbana</th>\n",
              "      <td>3.482190e+10</td>\n",
              "      <td>4.110693e+09</td>\n",
              "      <td>2.622303e+10</td>\n",
              "      <td>3.297976e+10</td>\n",
              "    </tr>\n",
              "    <tr>\n",
              "      <th>Indenizações e Restituições</th>\n",
              "      <td>3.219926e+08</td>\n",
              "      <td>2.155173e+08</td>\n",
              "      <td>2.687550e+08</td>\n",
              "      <td>2.687550e+08</td>\n",
              "    </tr>\n",
              "    <tr>\n",
              "      <th>Outros Benefícios do RGPS - Área Rural</th>\n",
              "      <td>2.815102e+08</td>\n",
              "      <td>1.355869e+08</td>\n",
              "      <td>2.241711e+08</td>\n",
              "      <td>2.397937e+08</td>\n",
              "    </tr>\n",
              "    <tr>\n",
              "      <th>Outros Benefícios do RGPS - Área Urbana</th>\n",
              "      <td>2.909672e+09</td>\n",
              "      <td>1.329827e+05</td>\n",
              "      <td>1.155439e+09</td>\n",
              "      <td>3.972458e+08</td>\n",
              "    </tr>\n",
              "    <tr>\n",
              "      <th>Pensões do RGPS - Área Rural</th>\n",
              "      <td>3.733413e+09</td>\n",
              "      <td>1.580716e+09</td>\n",
              "      <td>2.818841e+09</td>\n",
              "      <td>2.980618e+09</td>\n",
              "    </tr>\n",
              "    <tr>\n",
              "      <th>Pensões do RGPS - Área Urbana</th>\n",
              "      <td>1.202928e+10</td>\n",
              "      <td>1.973148e+09</td>\n",
              "      <td>9.080640e+09</td>\n",
              "      <td>1.116006e+10</td>\n",
              "    </tr>\n",
              "    <tr>\n",
              "      <th>Sentenças Judiciais</th>\n",
              "      <td>3.343314e+07</td>\n",
              "      <td>1.318105e+05</td>\n",
              "      <td>2.545510e+06</td>\n",
              "      <td>4.463741e+05</td>\n",
              "    </tr>\n",
              "  </tbody>\n",
              "</table>\n",
              "</div>\n",
              "      <button class=\"colab-df-convert\" onclick=\"convertToInteractive('df-7de4e199-0807-4123-b143-486b0b0a9d09')\"\n",
              "              title=\"Convert this dataframe to an interactive table.\"\n",
              "              style=\"display:none;\">\n",
              "        \n",
              "  <svg xmlns=\"http://www.w3.org/2000/svg\" height=\"24px\"viewBox=\"0 0 24 24\"\n",
              "       width=\"24px\">\n",
              "    <path d=\"M0 0h24v24H0V0z\" fill=\"none\"/>\n",
              "    <path d=\"M18.56 5.44l.94 2.06.94-2.06 2.06-.94-2.06-.94-.94-2.06-.94 2.06-2.06.94zm-11 1L8.5 8.5l.94-2.06 2.06-.94-2.06-.94L8.5 2.5l-.94 2.06-2.06.94zm10 10l.94 2.06.94-2.06 2.06-.94-2.06-.94-.94-2.06-.94 2.06-2.06.94z\"/><path d=\"M17.41 7.96l-1.37-1.37c-.4-.4-.92-.59-1.43-.59-.52 0-1.04.2-1.43.59L10.3 9.45l-7.72 7.72c-.78.78-.78 2.05 0 2.83L4 21.41c.39.39.9.59 1.41.59.51 0 1.02-.2 1.41-.59l7.78-7.78 2.81-2.81c.8-.78.8-2.07 0-2.86zM5.41 20L4 18.59l7.72-7.72 1.47 1.35L5.41 20z\"/>\n",
              "  </svg>\n",
              "      </button>\n",
              "      \n",
              "  <style>\n",
              "    .colab-df-container {\n",
              "      display:flex;\n",
              "      flex-wrap:wrap;\n",
              "      gap: 12px;\n",
              "    }\n",
              "\n",
              "    .colab-df-convert {\n",
              "      background-color: #E8F0FE;\n",
              "      border: none;\n",
              "      border-radius: 50%;\n",
              "      cursor: pointer;\n",
              "      display: none;\n",
              "      fill: #1967D2;\n",
              "      height: 32px;\n",
              "      padding: 0 0 0 0;\n",
              "      width: 32px;\n",
              "    }\n",
              "\n",
              "    .colab-df-convert:hover {\n",
              "      background-color: #E2EBFA;\n",
              "      box-shadow: 0px 1px 2px rgba(60, 64, 67, 0.3), 0px 1px 3px 1px rgba(60, 64, 67, 0.15);\n",
              "      fill: #174EA6;\n",
              "    }\n",
              "\n",
              "    [theme=dark] .colab-df-convert {\n",
              "      background-color: #3B4455;\n",
              "      fill: #D2E3FC;\n",
              "    }\n",
              "\n",
              "    [theme=dark] .colab-df-convert:hover {\n",
              "      background-color: #434B5C;\n",
              "      box-shadow: 0px 1px 3px 1px rgba(0, 0, 0, 0.15);\n",
              "      filter: drop-shadow(0px 1px 2px rgba(0, 0, 0, 0.3));\n",
              "      fill: #FFFFFF;\n",
              "    }\n",
              "  </style>\n",
              "\n",
              "      <script>\n",
              "        const buttonEl =\n",
              "          document.querySelector('#df-7de4e199-0807-4123-b143-486b0b0a9d09 button.colab-df-convert');\n",
              "        buttonEl.style.display =\n",
              "          google.colab.kernel.accessAllowed ? 'block' : 'none';\n",
              "\n",
              "        async function convertToInteractive(key) {\n",
              "          const element = document.querySelector('#df-7de4e199-0807-4123-b143-486b0b0a9d09');\n",
              "          const dataTable =\n",
              "            await google.colab.kernel.invokeFunction('convertToInteractive',\n",
              "                                                     [key], {});\n",
              "          if (!dataTable) return;\n",
              "\n",
              "          const docLinkHtml = 'Like what you see? Visit the ' +\n",
              "            '<a target=\"_blank\" href=https://colab.research.google.com/notebooks/data_table.ipynb>data table notebook</a>'\n",
              "            + ' to learn more about interactive tables.';\n",
              "          element.innerHTML = '';\n",
              "          dataTable['output_type'] = 'display_data';\n",
              "          await google.colab.output.renderOutput(dataTable, element);\n",
              "          const docLink = document.createElement('div');\n",
              "          docLink.innerHTML = docLinkHtml;\n",
              "          element.appendChild(docLink);\n",
              "        }\n",
              "      </script>\n",
              "    </div>\n",
              "  </div>\n",
              "  "
            ]
          },
          "metadata": {},
          "execution_count": 81
        }
      ]
    },
    {
      "cell_type": "markdown",
      "source": [
        ">\"Análise do 'Fundo do Regime Geral da Previdência Social', por Nome Elemento de Despesa\": \n",
        ">>3 transações são os principais outliers, totalizando 100 bilhões de Reais totais, ou seja, comparando-se com a média de 79 bilhões de Reais, há uma 'oportunidade' de fraude a ser investigada, com potencial de 21 bilhões de Reais!\n",
        "<hr></hr>"
      ],
      "metadata": {
        "id": "HvH2ISnUUmgW"
      }
    },
    {
      "cell_type": "markdown",
      "source": [
        "##### <font color='blue'>5.4.2.2 Análise do 'Fundo de Amparo ao Trabalhador', por Nome Elemento de Despesa"
      ],
      "metadata": {
        "id": "DiOIt2JO4RNp"
      }
    },
    {
      "cell_type": "code",
      "source": [
        "# criando uma cópia do df7\n",
        "\n",
        "df7a = df7.copy() \n",
        "\n",
        "# checando outliers\n",
        "\n",
        "plt.figure(figsize=(12,6))\n",
        "ax = sns.boxplot(x = df7a.Valor_Pago)\n",
        "sns.set_palette('Accent')\n",
        "sns.set_style('darkgrid')\n",
        "ax.set_title('Valor Desembolsado - Fundo de Amparo ao Trabalhador - [all data]', fontsize=20)\n",
        "ax.set_xlabel('Valor em dezenas de bilhões de Reais', fontsize=16)"
      ],
      "metadata": {
        "colab": {
          "base_uri": "https://localhost:8080/",
          "height": 431
        },
        "outputId": "7d5961fd-9fce-4843-fc62-3fbd1d67927e",
        "id": "fhv4N43IWoXO"
      },
      "execution_count": null,
      "outputs": [
        {
          "output_type": "execute_result",
          "data": {
            "text/plain": [
              "Text(0.5, 0, 'Valor em dezenas de bilhões de Reais')"
            ]
          },
          "metadata": {},
          "execution_count": 82
        },
        {
          "output_type": "display_data",
          "data": {
            "text/plain": [
              "<Figure size 864x432 with 1 Axes>"
            ],
            "image/png": "[encoded data removed]"
          },
          "metadata": {}
        }
      ]
    },
    {
      "cell_type": "code",
      "source": [
        "# plotando o histograma dos valores pagos\n",
        "\n",
        "df7a.Valor_Pago.hist()\n",
        "sns.set_palette('Accent')\n",
        "sns.set_style('darkgrid')"
      ],
      "metadata": {
        "colab": {
          "base_uri": "https://localhost:8080/",
          "height": 282
        },
        "outputId": "e9f7e19f-9926-44e3-d5a9-17449fa17244",
        "id": "RRTWkQlNW5B9"
      },
      "execution_count": null,
      "outputs": [
        {
          "output_type": "display_data",
          "data": {
            "text/plain": [
              "<Figure size 432x288 with 1 Axes>"
            ],
            "image/png": "[encoded data removed]"
          },
          "metadata": {}
        }
      ]
    },
    {
      "cell_type": "code",
      "source": [
        "# removendo outliers\n",
        "\n",
        "valor = df7a.Valor_Pago\n",
        "\n",
        "Q1 = valor.quantile(.25)\n",
        "Q3 = valor.quantile(.75)\n",
        "IIQ = Q3 - Q1\n",
        "limite_inferior = Q1 - 1.5 * IIQ\n",
        "limite_superior = Q3 + 1.5 * IIQ\n",
        "\n",
        "indexNames = df7a[ (df7a.Valor_Pago <= limite_superior)].index\n",
        "\n",
        "df7a.drop(indexNames , inplace=True)"
      ],
      "metadata": {
        "id": "4EdnghD4XAuc"
      },
      "execution_count": null,
      "outputs": []
    },
    {
      "cell_type": "code",
      "source": [
        "# checando outliers\n",
        "\n",
        "plt.figure(figsize=(12,6))\n",
        "ax = sns.boxplot(x = df7a.Valor_Pago)\n",
        "sns.set_palette('Accent')\n",
        "sns.set_style('darkgrid')\n",
        "ax.set_title('Valor Desembolsado - Fundo de Amparo ao Trabalhador - [outliers]', fontsize=20)\n",
        "ax.set_xlabel('Valor em dezenas de bilhões de Reais', fontsize=16)"
      ],
      "metadata": {
        "colab": {
          "base_uri": "https://localhost:8080/",
          "height": 431
        },
        "outputId": "5ac5668d-c794-4a8a-c5c8-63087202012f",
        "id": "nkFzQChuXOTG"
      },
      "execution_count": null,
      "outputs": [
        {
          "output_type": "execute_result",
          "data": {
            "text/plain": [
              "Text(0.5, 0, 'Valor em dezenas de bilhões de Reais')"
            ]
          },
          "metadata": {},
          "execution_count": 85
        },
        {
          "output_type": "display_data",
          "data": {
            "text/plain": [
              "<Figure size 864x432 with 1 Axes>"
            ],
            "image/png": "[encoded data removed]"
          },
          "metadata": {}
        }
      ]
    },
    {
      "cell_type": "code",
      "source": [
        "ag = df7a.groupby(\"Nome Elemento de Despesa\")[\"Valor_Pago\"].sum()\n",
        "ag.sort_values(ascending=False, inplace=True)\n",
        "ag"
      ],
      "metadata": {
        "colab": {
          "base_uri": "https://localhost:8080/"
        },
        "outputId": "6c5dc93a-afb3-4e3c-cb88-dba86c8b56fa",
        "id": "CkbcnlGbYLqW"
      },
      "execution_count": null,
      "outputs": [
        {
          "output_type": "execute_result",
          "data": {
            "text/plain": [
              "Nome Elemento de Despesa\n",
              "Seguro Desemprego e Abono Salarial               3.565420e+10\n",
              "Concessão de Empréstimos e Financiamentos        7.556215e+09\n",
              "Outros Serviços de Terceiros - Pessoa Jurídic    4.581391e+05\n",
              "Outros Serviços de Terceiros - Pessoa Física     6.310866e+04\n",
              "Obrigações Tributárias e Contributivas           4.324559e+04\n",
              "Name: Valor_Pago, dtype: float64"
            ]
          },
          "metadata": {},
          "execution_count": 86
        }
      ]
    },
    {
      "cell_type": "code",
      "source": [
        "# cálculo da curva A do Órgão Subordinado, por Nome Elemento de Despesa\n",
        "\n",
        "soma = 0\n",
        "\n",
        "for i,row in ag.iteritems():\n",
        "  soma += row\n",
        "\n",
        "curva_a = 0\n",
        "\n",
        "for j,row2 in ag.iteritems():\n",
        "  curva_a += row2\n",
        "  if curva_a > (0.8 * soma):\n",
        "    break\n",
        "\n",
        "print('O montante equivalente da curva A é: ', curva_a, '\\nEquivalente a ', round(curva_a / soma * 100), '% do total.\\nQue engloba até o', j)"
      ],
      "metadata": {
        "colab": {
          "base_uri": "https://localhost:8080/"
        },
        "outputId": "38b76fca-84cf-4f26-9c39-c52349b40c12",
        "id": "Szt0vpXCYW0U"
      },
      "execution_count": null,
      "outputs": [
        {
          "output_type": "stream",
          "name": "stdout",
          "text": [
            "O montante equivalente da curva A é:  35654195663.26 \n",
            "Equivalente a  83 % do total.\n",
            "Que engloba até o Seguro Desemprego e Abono Salarial\n"
          ]
        }
      ]
    },
    {
      "cell_type": "code",
      "source": [
        "df7a.sort_values(by=['Valor_Pago'], ascending=False).head(3)"
      ],
      "metadata": {
        "colab": {
          "base_uri": "https://localhost:8080/",
          "height": 497
        },
        "outputId": "1d6dcc71-b047-49f3-ba25-caf5f63d747d",
        "id": "Ram-u7SeYiDt"
      },
      "execution_count": null,
      "outputs": [
        {
          "output_type": "execute_result",
          "data": {
            "text/plain": [
              "       Ano e mês do lançamento Código Órgão Superior     Nome Órgão Superior  \\\n",
              "88042                  2022/03                 40000  Ministério do Trabalho   \n",
              "78988                  2022/02                 40000  Ministério do Trabalho   \n",
              "101390                 2022/03                 40000  Ministério do Trabalho   \n",
              "\n",
              "       Código Órgão Subordinado          Nome Órgão Subordinado  \\\n",
              "88042                     38901  Fundo de Amparo ao Trabalhador   \n",
              "78988                     38901  Fundo de Amparo ao Trabalhador   \n",
              "101390                    38901  Fundo de Amparo ao Trabalhador   \n",
              "\n",
              "       Código Unidade Gestora                    Nome Unidade Gestora  \\\n",
              "88042                  380916  COORD-GERAL DE RECURSOS DO FAT - CGFAT   \n",
              "78988                  380916  COORD-GERAL DE RECURSOS DO FAT - CGFAT   \n",
              "101390                 380916  COORD-GERAL DE RECURSOS DO FAT - CGFAT   \n",
              "\n",
              "       Código Gestão       Nome Gestão Código Unidade Orçamentária  ...  \\\n",
              "88042            1.0  TESOURO NACIONAL                       40901  ...   \n",
              "78988            1.0  TESOURO NACIONAL                       40901  ...   \n",
              "101390           1.0  TESOURO NACIONAL                       40901  ...   \n",
              "\n",
              "       Código Elemento de Despesa            Nome Elemento de Despesa  \\\n",
              "88042                          10  Seguro Desemprego e Abono Salarial   \n",
              "78988                          10  Seguro Desemprego e Abono Salarial   \n",
              "101390                         10  Seguro Desemprego e Abono Salarial   \n",
              "\n",
              "       Código Modalidade da Despesa    Modalidade da Despesa Valor_Empenhado  \\\n",
              "88042                            90  Reserva de Contingência    1.181372e+10   \n",
              "78988                            90  Reserva de Contingência    9.402151e+09   \n",
              "101390                           90  Reserva de Contingência    3.031467e+09   \n",
              "\n",
              "       Valor_Liquidado    Valor_Pago Valor_Restos_a_Pagar_Inscritos  \\\n",
              "88042     1.181372e+10  1.181372e+10                            0.0   \n",
              "78988     9.402151e+09  9.402151e+09                            0.0   \n",
              "101390    3.031467e+09  3.031467e+09                            0.0   \n",
              "\n",
              "       Valor_Restos_a_Pagar_Cancelado Valor_Restos_a_Pagar_Pagos  \n",
              "88042                             0.0                        0.0  \n",
              "78988                             0.0                        0.0  \n",
              "101390                            0.0                        0.0  \n",
              "\n",
              "[3 rows x 43 columns]"
            ],
            "text/html": [
              "\n",
              "  <div id=\"df-9c5b7dbf-29ae-4f1f-8fc6-b1cbbf1a1732\">\n",
              "    <div class=\"colab-df-container\">\n",
              "      <div>\n",
              "<style scoped>\n",
              "    .dataframe tbody tr th:only-of-type {\n",
              "        vertical-align: middle;\n",
              "    }\n",
              "\n",
              "    .dataframe tbody tr th {\n",
              "        vertical-align: top;\n",
              "    }\n",
              "\n",
              "    .dataframe thead th {\n",
              "        text-align: right;\n",
              "    }\n",
              "</style>\n",
              "<table border=\"1\" class=\"dataframe\">\n",
              "  <thead>\n",
              "    <tr style=\"text-align: right;\">\n",
              "      <th></th>\n",
              "      <th>Ano e mês do lançamento</th>\n",
              "      <th>Código Órgão Superior</th>\n",
              "      <th>Nome Órgão Superior</th>\n",
              "      <th>Código Órgão Subordinado</th>\n",
              "      <th>Nome Órgão Subordinado</th>\n",
              "      <th>Código Unidade Gestora</th>\n",
              "      <th>Nome Unidade Gestora</th>\n",
              "      <th>Código Gestão</th>\n",
              "      <th>Nome Gestão</th>\n",
              "      <th>Código Unidade Orçamentária</th>\n",
              "      <th>...</th>\n",
              "      <th>Código Elemento de Despesa</th>\n",
              "      <th>Nome Elemento de Despesa</th>\n",
              "      <th>Código Modalidade da Despesa</th>\n",
              "      <th>Modalidade da Despesa</th>\n",
              "      <th>Valor_Empenhado</th>\n",
              "      <th>Valor_Liquidado</th>\n",
              "      <th>Valor_Pago</th>\n",
              "      <th>Valor_Restos_a_Pagar_Inscritos</th>\n",
              "      <th>Valor_Restos_a_Pagar_Cancelado</th>\n",
              "      <th>Valor_Restos_a_Pagar_Pagos</th>\n",
              "    </tr>\n",
              "  </thead>\n",
              "  <tbody>\n",
              "    <tr>\n",
              "      <th>88042</th>\n",
              "      <td>2022/03</td>\n",
              "      <td>40000</td>\n",
              "      <td>Ministério do Trabalho</td>\n",
              "      <td>38901</td>\n",
              "      <td>Fundo de Amparo ao Trabalhador</td>\n",
              "      <td>380916</td>\n",
              "      <td>COORD-GERAL DE RECURSOS DO FAT - CGFAT</td>\n",
              "      <td>1.0</td>\n",
              "      <td>TESOURO NACIONAL</td>\n",
              "      <td>40901</td>\n",
              "      <td>...</td>\n",
              "      <td>10</td>\n",
              "      <td>Seguro Desemprego e Abono Salarial</td>\n",
              "      <td>90</td>\n",
              "      <td>Reserva de Contingência</td>\n",
              "      <td>1.181372e+10</td>\n",
              "      <td>1.181372e+10</td>\n",
              "      <td>1.181372e+10</td>\n",
              "      <td>0.0</td>\n",
              "      <td>0.0</td>\n",
              "      <td>0.0</td>\n",
              "    </tr>\n",
              "    <tr>\n",
              "      <th>78988</th>\n",
              "      <td>2022/02</td>\n",
              "      <td>40000</td>\n",
              "      <td>Ministério do Trabalho</td>\n",
              "      <td>38901</td>\n",
              "      <td>Fundo de Amparo ao Trabalhador</td>\n",
              "      <td>380916</td>\n",
              "      <td>COORD-GERAL DE RECURSOS DO FAT - CGFAT</td>\n",
              "      <td>1.0</td>\n",
              "      <td>TESOURO NACIONAL</td>\n",
              "      <td>40901</td>\n",
              "      <td>...</td>\n",
              "      <td>10</td>\n",
              "      <td>Seguro Desemprego e Abono Salarial</td>\n",
              "      <td>90</td>\n",
              "      <td>Reserva de Contingência</td>\n",
              "      <td>9.402151e+09</td>\n",
              "      <td>9.402151e+09</td>\n",
              "      <td>9.402151e+09</td>\n",
              "      <td>0.0</td>\n",
              "      <td>0.0</td>\n",
              "      <td>0.0</td>\n",
              "    </tr>\n",
              "    <tr>\n",
              "      <th>101390</th>\n",
              "      <td>2022/03</td>\n",
              "      <td>40000</td>\n",
              "      <td>Ministério do Trabalho</td>\n",
              "      <td>38901</td>\n",
              "      <td>Fundo de Amparo ao Trabalhador</td>\n",
              "      <td>380916</td>\n",
              "      <td>COORD-GERAL DE RECURSOS DO FAT - CGFAT</td>\n",
              "      <td>1.0</td>\n",
              "      <td>TESOURO NACIONAL</td>\n",
              "      <td>40901</td>\n",
              "      <td>...</td>\n",
              "      <td>10</td>\n",
              "      <td>Seguro Desemprego e Abono Salarial</td>\n",
              "      <td>90</td>\n",
              "      <td>Reserva de Contingência</td>\n",
              "      <td>3.031467e+09</td>\n",
              "      <td>3.031467e+09</td>\n",
              "      <td>3.031467e+09</td>\n",
              "      <td>0.0</td>\n",
              "      <td>0.0</td>\n",
              "      <td>0.0</td>\n",
              "    </tr>\n",
              "  </tbody>\n",
              "</table>\n",
              "<p>3 rows × 43 columns</p>\n",
              "</div>\n",
              "      <button class=\"colab-df-convert\" onclick=\"convertToInteractive('df-9c5b7dbf-29ae-4f1f-8fc6-b1cbbf1a1732')\"\n",
              "              title=\"Convert this dataframe to an interactive table.\"\n",
              "              style=\"display:none;\">\n",
              "        \n",
              "  <svg xmlns=\"http://www.w3.org/2000/svg\" height=\"24px\"viewBox=\"0 0 24 24\"\n",
              "       width=\"24px\">\n",
              "    <path d=\"M0 0h24v24H0V0z\" fill=\"none\"/>\n",
              "    <path d=\"M18.56 5.44l.94 2.06.94-2.06 2.06-.94-2.06-.94-.94-2.06-.94 2.06-2.06.94zm-11 1L8.5 8.5l.94-2.06 2.06-.94-2.06-.94L8.5 2.5l-.94 2.06-2.06.94zm10 10l.94 2.06.94-2.06 2.06-.94-2.06-.94-.94-2.06-.94 2.06-2.06.94z\"/><path d=\"M17.41 7.96l-1.37-1.37c-.4-.4-.92-.59-1.43-.59-.52 0-1.04.2-1.43.59L10.3 9.45l-7.72 7.72c-.78.78-.78 2.05 0 2.83L4 21.41c.39.39.9.59 1.41.59.51 0 1.02-.2 1.41-.59l7.78-7.78 2.81-2.81c.8-.78.8-2.07 0-2.86zM5.41 20L4 18.59l7.72-7.72 1.47 1.35L5.41 20z\"/>\n",
              "  </svg>\n",
              "      </button>\n",
              "      \n",
              "  <style>\n",
              "    .colab-df-container {\n",
              "      display:flex;\n",
              "      flex-wrap:wrap;\n",
              "      gap: 12px;\n",
              "    }\n",
              "\n",
              "    .colab-df-convert {\n",
              "      background-color: #E8F0FE;\n",
              "      border: none;\n",
              "      border-radius: 50%;\n",
              "      cursor: pointer;\n",
              "      display: none;\n",
              "      fill: #1967D2;\n",
              "      height: 32px;\n",
              "      padding: 0 0 0 0;\n",
              "      width: 32px;\n",
              "    }\n",
              "\n",
              "    .colab-df-convert:hover {\n",
              "      background-color: #E2EBFA;\n",
              "      box-shadow: 0px 1px 2px rgba(60, 64, 67, 0.3), 0px 1px 3px 1px rgba(60, 64, 67, 0.15);\n",
              "      fill: #174EA6;\n",
              "    }\n",
              "\n",
              "    [theme=dark] .colab-df-convert {\n",
              "      background-color: #3B4455;\n",
              "      fill: #D2E3FC;\n",
              "    }\n",
              "\n",
              "    [theme=dark] .colab-df-convert:hover {\n",
              "      background-color: #434B5C;\n",
              "      box-shadow: 0px 1px 3px 1px rgba(0, 0, 0, 0.15);\n",
              "      filter: drop-shadow(0px 1px 2px rgba(0, 0, 0, 0.3));\n",
              "      fill: #FFFFFF;\n",
              "    }\n",
              "  </style>\n",
              "\n",
              "      <script>\n",
              "        const buttonEl =\n",
              "          document.querySelector('#df-9c5b7dbf-29ae-4f1f-8fc6-b1cbbf1a1732 button.colab-df-convert');\n",
              "        buttonEl.style.display =\n",
              "          google.colab.kernel.accessAllowed ? 'block' : 'none';\n",
              "\n",
              "        async function convertToInteractive(key) {\n",
              "          const element = document.querySelector('#df-9c5b7dbf-29ae-4f1f-8fc6-b1cbbf1a1732');\n",
              "          const dataTable =\n",
              "            await google.colab.kernel.invokeFunction('convertToInteractive',\n",
              "                                                     [key], {});\n",
              "          if (!dataTable) return;\n",
              "\n",
              "          const docLinkHtml = 'Like what you see? Visit the ' +\n",
              "            '<a target=\"_blank\" href=https://colab.research.google.com/notebooks/data_table.ipynb>data table notebook</a>'\n",
              "            + ' to learn more about interactive tables.';\n",
              "          element.innerHTML = '';\n",
              "          dataTable['output_type'] = 'display_data';\n",
              "          await google.colab.output.renderOutput(dataTable, element);\n",
              "          const docLink = document.createElement('div');\n",
              "          docLink.innerHTML = docLinkHtml;\n",
              "          element.appendChild(docLink);\n",
              "        }\n",
              "      </script>\n",
              "    </div>\n",
              "  </div>\n",
              "  "
            ]
          },
          "metadata": {},
          "execution_count": 88
        }
      ]
    },
    {
      "cell_type": "code",
      "source": [
        "df7a.groupby(['Nome Elemento de Despesa'])['Valor_Pago'].agg(['max','min','mean','median'])"
      ],
      "metadata": {
        "colab": {
          "base_uri": "https://localhost:8080/",
          "height": 238
        },
        "outputId": "0c8337b6-b739-4a5b-97f9-7ea46162c6cf",
        "id": "oy-RiZcXZNR9"
      },
      "execution_count": null,
      "outputs": [
        {
          "output_type": "execute_result",
          "data": {
            "text/plain": [
              "                                                        max           min  \\\n",
              "Nome Elemento de Despesa                                                    \n",
              "Concessão de Empréstimos e Financiamentos      2.240363e+09  1.226653e+08   \n",
              "Obrigações Tributárias e Contributivas         4.324559e+04  4.324559e+04   \n",
              "Outros Serviços de Terceiros - Pessoa Física   6.310866e+04  6.310866e+04   \n",
              "Outros Serviços de Terceiros - Pessoa Jurídic  1.708641e+05  5.081605e+04   \n",
              "Seguro Desemprego e Abono Salarial             1.181372e+10  9.332400e+04   \n",
              "\n",
              "                                                       mean        median  \n",
              "Nome Elemento de Despesa                                                   \n",
              "Concessão de Empréstimos e Financiamentos      1.511243e+09  1.724719e+09  \n",
              "Obrigações Tributárias e Contributivas         4.324559e+04  4.324559e+04  \n",
              "Outros Serviços de Terceiros - Pessoa Física   6.310866e+04  6.310866e+04  \n",
              "Outros Serviços de Terceiros - Pessoa Jurídic  1.145348e+05  1.182295e+05  \n",
              "Seguro Desemprego e Abono Salarial             1.229455e+09  6.163999e+07  "
            ],
            "text/html": [
              "\n",
              "  <div id=\"df-56a036d9-69e8-4e6e-8587-934072dd730e\">\n",
              "    <div class=\"colab-df-container\">\n",
              "      <div>\n",
              "<style scoped>\n",
              "    .dataframe tbody tr th:only-of-type {\n",
              "        vertical-align: middle;\n",
              "    }\n",
              "\n",
              "    .dataframe tbody tr th {\n",
              "        vertical-align: top;\n",
              "    }\n",
              "\n",
              "    .dataframe thead th {\n",
              "        text-align: right;\n",
              "    }\n",
              "</style>\n",
              "<table border=\"1\" class=\"dataframe\">\n",
              "  <thead>\n",
              "    <tr style=\"text-align: right;\">\n",
              "      <th></th>\n",
              "      <th>max</th>\n",
              "      <th>min</th>\n",
              "      <th>mean</th>\n",
              "      <th>median</th>\n",
              "    </tr>\n",
              "    <tr>\n",
              "      <th>Nome Elemento de Despesa</th>\n",
              "      <th></th>\n",
              "      <th></th>\n",
              "      <th></th>\n",
              "      <th></th>\n",
              "    </tr>\n",
              "  </thead>\n",
              "  <tbody>\n",
              "    <tr>\n",
              "      <th>Concessão de Empréstimos e Financiamentos</th>\n",
              "      <td>2.240363e+09</td>\n",
              "      <td>1.226653e+08</td>\n",
              "      <td>1.511243e+09</td>\n",
              "      <td>1.724719e+09</td>\n",
              "    </tr>\n",
              "    <tr>\n",
              "      <th>Obrigações Tributárias e Contributivas</th>\n",
              "      <td>4.324559e+04</td>\n",
              "      <td>4.324559e+04</td>\n",
              "      <td>4.324559e+04</td>\n",
              "      <td>4.324559e+04</td>\n",
              "    </tr>\n",
              "    <tr>\n",
              "      <th>Outros Serviços de Terceiros - Pessoa Física</th>\n",
              "      <td>6.310866e+04</td>\n",
              "      <td>6.310866e+04</td>\n",
              "      <td>6.310866e+04</td>\n",
              "      <td>6.310866e+04</td>\n",
              "    </tr>\n",
              "    <tr>\n",
              "      <th>Outros Serviços de Terceiros - Pessoa Jurídic</th>\n",
              "      <td>1.708641e+05</td>\n",
              "      <td>5.081605e+04</td>\n",
              "      <td>1.145348e+05</td>\n",
              "      <td>1.182295e+05</td>\n",
              "    </tr>\n",
              "    <tr>\n",
              "      <th>Seguro Desemprego e Abono Salarial</th>\n",
              "      <td>1.181372e+10</td>\n",
              "      <td>9.332400e+04</td>\n",
              "      <td>1.229455e+09</td>\n",
              "      <td>6.163999e+07</td>\n",
              "    </tr>\n",
              "  </tbody>\n",
              "</table>\n",
              "</div>\n",
              "      <button class=\"colab-df-convert\" onclick=\"convertToInteractive('df-56a036d9-69e8-4e6e-8587-934072dd730e')\"\n",
              "              title=\"Convert this dataframe to an interactive table.\"\n",
              "              style=\"display:none;\">\n",
              "        \n",
              "  <svg xmlns=\"http://www.w3.org/2000/svg\" height=\"24px\"viewBox=\"0 0 24 24\"\n",
              "       width=\"24px\">\n",
              "    <path d=\"M0 0h24v24H0V0z\" fill=\"none\"/>\n",
              "    <path d=\"M18.56 5.44l.94 2.06.94-2.06 2.06-.94-2.06-.94-.94-2.06-.94 2.06-2.06.94zm-11 1L8.5 8.5l.94-2.06 2.06-.94-2.06-.94L8.5 2.5l-.94 2.06-2.06.94zm10 10l.94 2.06.94-2.06 2.06-.94-2.06-.94-.94-2.06-.94 2.06-2.06.94z\"/><path d=\"M17.41 7.96l-1.37-1.37c-.4-.4-.92-.59-1.43-.59-.52 0-1.04.2-1.43.59L10.3 9.45l-7.72 7.72c-.78.78-.78 2.05 0 2.83L4 21.41c.39.39.9.59 1.41.59.51 0 1.02-.2 1.41-.59l7.78-7.78 2.81-2.81c.8-.78.8-2.07 0-2.86zM5.41 20L4 18.59l7.72-7.72 1.47 1.35L5.41 20z\"/>\n",
              "  </svg>\n",
              "      </button>\n",
              "      \n",
              "  <style>\n",
              "    .colab-df-container {\n",
              "      display:flex;\n",
              "      flex-wrap:wrap;\n",
              "      gap: 12px;\n",
              "    }\n",
              "\n",
              "    .colab-df-convert {\n",
              "      background-color: #E8F0FE;\n",
              "      border: none;\n",
              "      border-radius: 50%;\n",
              "      cursor: pointer;\n",
              "      display: none;\n",
              "      fill: #1967D2;\n",
              "      height: 32px;\n",
              "      padding: 0 0 0 0;\n",
              "      width: 32px;\n",
              "    }\n",
              "\n",
              "    .colab-df-convert:hover {\n",
              "      background-color: #E2EBFA;\n",
              "      box-shadow: 0px 1px 2px rgba(60, 64, 67, 0.3), 0px 1px 3px 1px rgba(60, 64, 67, 0.15);\n",
              "      fill: #174EA6;\n",
              "    }\n",
              "\n",
              "    [theme=dark] .colab-df-convert {\n",
              "      background-color: #3B4455;\n",
              "      fill: #D2E3FC;\n",
              "    }\n",
              "\n",
              "    [theme=dark] .colab-df-convert:hover {\n",
              "      background-color: #434B5C;\n",
              "      box-shadow: 0px 1px 3px 1px rgba(0, 0, 0, 0.15);\n",
              "      filter: drop-shadow(0px 1px 2px rgba(0, 0, 0, 0.3));\n",
              "      fill: #FFFFFF;\n",
              "    }\n",
              "  </style>\n",
              "\n",
              "      <script>\n",
              "        const buttonEl =\n",
              "          document.querySelector('#df-56a036d9-69e8-4e6e-8587-934072dd730e button.colab-df-convert');\n",
              "        buttonEl.style.display =\n",
              "          google.colab.kernel.accessAllowed ? 'block' : 'none';\n",
              "\n",
              "        async function convertToInteractive(key) {\n",
              "          const element = document.querySelector('#df-56a036d9-69e8-4e6e-8587-934072dd730e');\n",
              "          const dataTable =\n",
              "            await google.colab.kernel.invokeFunction('convertToInteractive',\n",
              "                                                     [key], {});\n",
              "          if (!dataTable) return;\n",
              "\n",
              "          const docLinkHtml = 'Like what you see? Visit the ' +\n",
              "            '<a target=\"_blank\" href=https://colab.research.google.com/notebooks/data_table.ipynb>data table notebook</a>'\n",
              "            + ' to learn more about interactive tables.';\n",
              "          element.innerHTML = '';\n",
              "          dataTable['output_type'] = 'display_data';\n",
              "          await google.colab.output.renderOutput(dataTable, element);\n",
              "          const docLink = document.createElement('div');\n",
              "          docLink.innerHTML = docLinkHtml;\n",
              "          element.appendChild(docLink);\n",
              "        }\n",
              "      </script>\n",
              "    </div>\n",
              "  </div>\n",
              "  "
            ]
          },
          "metadata": {},
          "execution_count": 89
        }
      ]
    },
    {
      "cell_type": "markdown",
      "source": [
        ">\"Análise do 'Fundo de Amparo ao Trabalhador', por Nome Elemento de Despesa\": \n",
        ">>3 transações são os principais outliers, totalizando 24 bilhões de Reais totais, ou seja, comparando-se com a média de 4 bilhões de Reais, há uma 'oportunidade' de fraude a ser investigada, com potencial de 20 bilhões de Reais!\n",
        "<hr></hr>"
      ],
      "metadata": {
        "id": "F5ToZOn_ZY0g"
      }
    },
    {
      "cell_type": "markdown",
      "source": [
        "##<font color='blue' style='font-size: 30px;'>6.   Conclusão</font>"
      ],
      "metadata": {
        "id": "TkSWG-RjFoNP"
      }
    },
    {
      "cell_type": "markdown",
      "source": [
        "Análise referente ao aprofundamento dos gastos do **Governo Federal**, no período de **Janeiro a Abril de 2022**:\n",
        "\n",
        "> Referente ao **Ministério da Economia** (dono de gastos da ordem de **844 bilhões de Reais**), há 2 situações de destaque: **5 transações** são os principais outliers, totalizando **629 bilhões** de Reais (75% de todos os gastos do Ministério da Economia), sendo:\n",
        "\n",
        ">>Principal Corrigido da Dívida Mobiliária Refi: **3 transações**, somando **543 bilhões de Reais** (77%). Comparando com a média de 55 bilhões, há uma 'oportunidade' de fraude a ser investigada, com potencial de **126 bilhões de Reais**!\n",
        "\n",
        ">>Juros, Deságios e Descontos da Dívida Mobiliá: **2 transações** de **86 bilhões de Reais** (12%). Comparando com a média de 9,3 bilhões, há uma 'oportunidade' de fraude a ser investigada, com potencial de **34 bilhões de Reais**!\n",
        "\n",
        "\n",
        "> Já quanto ao **Ministério do Trabalho** (responsável pelos gastos de mais de **264 bilhões de Reais**), foi possível estratificar 2 situações interessantes:\n",
        "\n",
        ">>O *fundo do regime geral da Previdência Social* consome **196 bilhões de Reais** (74% dos 264 bilhões)\n",
        ">>>Nesse caso, foi possível identificar **3 transações** outliers, totalizando **100 bilhões de Reais**, ou seja, comparando-se com a média de 79 bilhões de Reais, há uma *oportunidade de fraude* a ser investigada, com potencial de **21 bilhões de Reais!**\n",
        "\n",
        "\n",
        ">>O *fundo de amparo ao trabalhador*, outros **43 bilhões de Reais** (ou 16% dos 264 bi)\n",
        ">>>Nesse outro caso, **3 transações** são os principais outliers, totalizando **24 bilhões de Reais**, ou seja, comparando-se com a média de 4 bilhões de Reais, há uma *oportunidade de fraude* a ser investigada, com potencial de **20 bilhões de Reais!**\n",
        "\n",
        "Em resumo, dos **1,27 trilhão de Reais** gastos pelo Governo Federal no período, foram avaliados **2 ministérios** (Economia e Trabalho), que perfazem **1,11 trilhão de Reais (87%)** dos gastos totais do Tesouro.\n",
        "\n",
        "Destes, apenas **11 transações** têm potencial de revelar **200 bilhões de Reais** (16%) em *possíveis fraudes* ao erário. É necessário, pois, investigar!\n",
        "\n",
        "Fim.\n",
        "\n",
        "Elaborado pelo Eng. William Mazza\n",
        "\n",
        "Maio de 2022\n",
        "\n",
        "<hr></hr>"
      ],
      "metadata": {
        "id": "wbTc7SXUazFk"
      }
    }
  ]
}