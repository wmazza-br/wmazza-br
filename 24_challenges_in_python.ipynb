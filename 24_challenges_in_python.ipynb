{
 "cells": [
  {
   "cell_type": "markdown",
   "id": "d50db79c",
   "metadata": {},
   "source": [
    "# 24 Challenges - made by William Mazza\n",
    "\n",
    "from https://pythonprinciples.com/challenges/"
   ]
  },
  {
   "cell_type": "markdown",
   "id": "0fcb8b1a",
   "metadata": {},
   "source": [
    "**24. Thousands separator**\n",
    "\n",
    "Write a function named format_number that takes a non-negative number as its only parameter.\n",
    "\n",
    "Your function should convert the number to a string and add commas as a thousands separator.\n",
    "\n",
    "For example, calling format_number(1000000) should return \"1,000,000\"."
   ]
  },
  {
   "cell_type": "code",
   "execution_count": 239,
   "id": "2847ec3f",
   "metadata": {},
   "outputs": [
    {
     "data": {
      "text/plain": [
       "'1,000,000'"
      ]
     },
     "execution_count": 239,
     "metadata": {},
     "output_type": "execute_result"
    }
   ],
   "source": [
    "def format_number(numero):\n",
    "    \n",
    "    lista = []\n",
    "    string = str(numero)\n",
    "    \n",
    "    for item in string:\n",
    "        lista.append(item)\n",
    "       \n",
    "    milhares = len(lista) // 3\n",
    "    \n",
    "    if len(lista) > 3:        \n",
    "    \n",
    "        numero = \"\".join(lista)\n",
    "        numero_invertido = numero[::-1]\n",
    "        \n",
    "        lista_2 = []\n",
    "        for item in numero_invertido:\n",
    "            lista_2.append(item)\n",
    "        \n",
    "        i = 3\n",
    "        while i < len(lista_2):\n",
    "            lista_2.insert(i, ',')            \n",
    "            i += 4\n",
    "        \n",
    "        numero_invertido = \"\".join(lista_2)\n",
    "        numero_corrigido = numero_invertido[::-1]\n",
    "        return str(numero_corrigido)\n",
    "            \n",
    "    else: return numero\n",
    "    \n",
    "\n",
    "format_number(1000000)"
   ]
  },
  {
   "cell_type": "markdown",
   "id": "49d09acf",
   "metadata": {},
   "source": [
    "**23. Counting parameters**\n",
    "\n",
    "Define a function param_count that takes a variable number of parameters. The function should return the number of arguments it was called with.\n",
    "\n",
    "For example, param_count() should return 0, while param_count(2, 3, 4) should return 3."
   ]
  },
  {
   "cell_type": "code",
   "execution_count": 178,
   "id": "f182f84d",
   "metadata": {},
   "outputs": [
    {
     "data": {
      "text/plain": [
       "3"
      ]
     },
     "execution_count": 178,
     "metadata": {},
     "output_type": "execute_result"
    }
   ],
   "source": [
    "def param_count(*args):\n",
    "    \n",
    "    result = 0\n",
    "    \n",
    "    for elem in args:\n",
    "        result += 1\n",
    "        \n",
    "    return result\n",
    "\n",
    "param_count(2,3,4)"
   ]
  },
  {
   "cell_type": "markdown",
   "id": "c9b45a3b",
   "metadata": {},
   "source": [
    "**22. List xor**\n",
    "\n",
    "Define a function named list_xor. Your function should take three parameters: n, list1 and list2.\n",
    "\n",
    "Your function must return whether n is exclusively in list1 or list2.\n",
    "\n",
    "In other words, if n is in both lists or in none of the lists, return False. If n is in only one of the lists, return True.\n",
    "\n",
    "For example:\n",
    "\n",
    "list_xor(1, [1, 2, 3], [4, 5, 6]) == True\n",
    "\n",
    "list_xor(1, [0, 2, 3], [1, 5, 6]) == True\n",
    "\n",
    "list_xor(1, [1, 2, 3], [1, 5, 6]) == False\n",
    "\n",
    "list_xor(1, [0, 0, 0], [4, 5, 6]) == False"
   ]
  },
  {
   "cell_type": "code",
   "execution_count": 166,
   "id": "f90137b5",
   "metadata": {},
   "outputs": [
    {
     "data": {
      "text/plain": [
       "False"
      ]
     },
     "execution_count": 166,
     "metadata": {},
     "output_type": "execute_result"
    }
   ],
   "source": [
    "def list_xor(num, lista_1, lista_2):\n",
    "    \n",
    "    if (num in lista_1) and (num in lista_2): return False\n",
    "    elif (num not in lista_1) and (num not in lista_2): return False\n",
    "    else: return True    \n",
    "    \n",
    "    print(item[0])\n",
    "\n",
    "list_xor(1, [0, 0, 0], [4, 5, 6])    "
   ]
  },
  {
   "cell_type": "markdown",
   "id": "b73950bd",
   "metadata": {},
   "source": [
    "**21. Solution validation**\n",
    "\n",
    "The aim of this challenge is to write code that can analyze code submissions. We'll simplify things a lot to not make this too hard.\n",
    "\n",
    "Write a function named validate that takes code represented as a string as its only parameter.\n",
    "\n",
    "Your function should check a few things:\n",
    "\n",
    "the code must contain the def keyword, otherwise return \"missing def\"\n",
    "\n",
    "the code must contain the : symbol, otherwise return \"missing :\"\n",
    "\n",
    "the code must contain ( and ) for the parameter list, otherwise return \"missing paren\"\n",
    "\n",
    "the code must not contain (), otherwise return \"missing param\"\n",
    "\n",
    "the code must contain four spaces for indentation, otherwise return \"missing indent\"\n",
    "\n",
    "the code must contain validate, otherwise return \"wrong name\"\n",
    "\n",
    "the code must contain a return statement, otherwise return \"missing return\"\n",
    "\n",
    "If all these conditions are satisfied, your code should return True.\n",
    "\n",
    "Here comes the twist: your solution must return True when validating itself."
   ]
  },
  {
   "cell_type": "code",
   "execution_count": 142,
   "id": "07ce7cbf",
   "metadata": {},
   "outputs": [
    {
     "data": {
      "text/plain": [
       "True"
      ]
     },
     "execution_count": 142,
     "metadata": {},
     "output_type": "execute_result"
    }
   ],
   "source": [
    "def validate(palavra):\n",
    "    if not \"def\" in palavra: return \"missing def\"\n",
    "    if not \":\" in palavra: return \"missing :\"\n",
    "    if not \"(\" in palavra and not \")\" in palavra: return \"missing paren\"\n",
    "    if not \"()\" in palavra: return \"missing param\"\n",
    "    if not \"    \" in palavra: return \"missing indent\"\n",
    "    if not \"validate\" in palavra: return \"wrong name\"\n",
    "    if not \"return\" in palavra: return \"missing return\"\n",
    "    \n",
    "    else: return True\n",
    "\n",
    "validate('def validate(palavra):    if not \"def\" in palavra: return \"missing def\"    if not \":\" in palavra: return \"missing :\"    if not \"(\" in palavra and not \")\" in palavra: return \"missing paren\"    if \"()\" in palavra: return \"missing param\"    if not \"    \" in palavra: return \"missing indent\"    if not \"validate\" in palavra: return \"wrong name\"        if not \"return\" in palavra: return \"missing return\"    else: return True')"
   ]
  },
  {
   "cell_type": "markdown",
   "id": "39c36a91",
   "metadata": {},
   "source": [
    "**20. Custom zip**\n",
    "\n",
    "The built-in zip function \"zips\" two lists. Write your own implementation of this function.\n",
    "\n",
    "Define a function named zap. The function takes two parameters, a and b. These are lists.\n",
    "\n",
    "Your function should return a list of tuples. Each tuple should contain one item from the a list and one from b.\n",
    "\n",
    "You may assume a and b have equal lengths.\n",
    "\n",
    "If you don't get it, think of a zipper.\n",
    "\n",
    "For example:\n",
    "\n",
    "zap(\n",
    "    [0, 1, 2, 3],\n",
    "    [5, 6, 7, 8]\n",
    ")\n",
    "Should return:\n",
    "\n",
    "[(0, 5),\n",
    " (1, 6),\n",
    " (2, 7),\n",
    " (3, 8)]"
   ]
  },
  {
   "cell_type": "code",
   "execution_count": 129,
   "id": "0db21cd9",
   "metadata": {},
   "outputs": [
    {
     "data": {
      "text/plain": [
       "[(0, 5), (1, 6), (2, 7), (3, 8)]"
      ]
     },
     "execution_count": 129,
     "metadata": {},
     "output_type": "execute_result"
    }
   ],
   "source": [
    "def zap(lista_1, lista_2):\n",
    "    lista_3 = []\n",
    "    indice = 0\n",
    "    \n",
    "    for i in lista_1:\n",
    "        lista_3.append(i)\n",
    "        lista_3.append(lista_2[indice])\n",
    "        indice += 1\n",
    "    \n",
    "    contador = 0\n",
    "    lista_4 = []\n",
    "    \n",
    "    while contador < len(lista_3):\n",
    "        tupla = (lista_3[contador],lista_3[contador + 1])\n",
    "        lista_4.append(tupla)\n",
    "        \n",
    "        contador += 2\n",
    "        \n",
    "    return lista_4    \n",
    "    \n",
    "    \n",
    "zap([0, 1, 2, 3], [5, 6, 7, 8])"
   ]
  },
  {
   "cell_type": "markdown",
   "id": "2981a6fc",
   "metadata": {},
   "source": [
    "**19. Writing short code**\n",
    "\n",
    "Define a function named convert that takes a list of numbers as its only parameter and returns a list of each number converted to a string.\n",
    "\n",
    "For example, the call convert([1, 2, 3]) should return [\"1\", \"2\", \"3\"].\n",
    "\n",
    "What makes this tricky is that your function body must only contain a single line of code."
   ]
  },
  {
   "cell_type": "code",
   "execution_count": 117,
   "id": "7353ffcf",
   "metadata": {},
   "outputs": [
    {
     "data": {
      "text/plain": [
       "['1', '2', '3']"
      ]
     },
     "execution_count": 117,
     "metadata": {},
     "output_type": "execute_result"
    }
   ],
   "source": [
    "def call(lista):\n",
    "\n",
    "    _ = [str(item) for item in lista] # there is a single line of code\n",
    "   \n",
    "    return _    \n",
    "    \n",
    "call([1, 2, 3])"
   ]
  },
  {
   "cell_type": "markdown",
   "id": "6de3d19c",
   "metadata": {},
   "source": [
    "**18. Boolean and**\n",
    "\n",
    "Define a function named triple_and that takes three parameters and returns True only if they are all True and False otherwise."
   ]
  },
  {
   "cell_type": "code",
   "execution_count": 102,
   "id": "1029b00a",
   "metadata": {},
   "outputs": [
    {
     "data": {
      "text/plain": [
       "True"
      ]
     },
     "execution_count": 102,
     "metadata": {},
     "output_type": "execute_result"
    }
   ],
   "source": [
    "def triple_and(param_um, param_dois, param_tres):\n",
    "    \n",
    "    lista=[param_um, param_dois, param_tres]\n",
    "    return all(lista)    \n",
    "    \n",
    "triple_and(['a', 'b'], True,{'chave': 'valor'})"
   ]
  },
  {
   "cell_type": "markdown",
   "id": "7958e068",
   "metadata": {},
   "source": [
    "**17. All equal**\n",
    "\n",
    "Define a function named all_equal that takes a list and checks whether all elements in the list are the same.\n",
    "\n",
    "For example, calling all_equal([1, 1, 1]) should return True."
   ]
  },
  {
   "cell_type": "code",
   "execution_count": 95,
   "id": "d9693fca",
   "metadata": {},
   "outputs": [
    {
     "data": {
      "text/plain": [
       "True"
      ]
     },
     "execution_count": 95,
     "metadata": {},
     "output_type": "execute_result"
    }
   ],
   "source": [
    "def all_equal(lista):\n",
    "    \n",
    "    primeiro = lista[0]\n",
    "    \n",
    "    for item in lista:\n",
    "        \n",
    "        if item != primeiro:\n",
    "            return False\n",
    "            break\n",
    "            \n",
    "    return True   \n",
    "\n",
    "all_equal([1, 1, 1])"
   ]
  },
  {
   "cell_type": "markdown",
   "id": "cc50b0f5",
   "metadata": {},
   "source": [
    "**16. Consecutive zeros**\n",
    "\n",
    "The goal of this challenge is to analyze a binary string consisting of only zeros and ones. Your code should find the biggest number of consecutive zeros in the string. For example, given the string:\n",
    "\n",
    "\"1001101000110\"\n",
    "The biggest number of consecutive zeros is 3.\n",
    "\n",
    "Define a function named consecutive_zeros that takes a single parameter, which is the string of zeros and ones. Your function should return the number described above."
   ]
  },
  {
   "cell_type": "code",
   "execution_count": 75,
   "id": "8b0242ac",
   "metadata": {},
   "outputs": [
    {
     "data": {
      "text/plain": [
       "3"
      ]
     },
     "execution_count": 75,
     "metadata": {},
     "output_type": "execute_result"
    }
   ],
   "source": [
    "def consecutive_zeros(numero):\n",
    "    \n",
    "    lista = []\n",
    "        \n",
    "    for caractere in numero:\n",
    "        lista.append(caractere)\n",
    "        \n",
    "    maximo = 0\n",
    "    tamanho_lista = len(lista)\n",
    "        \n",
    "    for item in lista:        \n",
    "        \n",
    "        if item == \"0\":        \n",
    "            indice = lista.index(\"0\")\n",
    "            maximo = 1\n",
    "            maximo_2 = 1\n",
    "            \n",
    "            while tamanho_lista > 1:                \n",
    "                \n",
    "                if lista[indice + 1] == \"0\":\n",
    "                    maximo += 1\n",
    "                    if maximo >= maximo_2: maximo_2 = maximo\n",
    "                else: \n",
    "                    if maximo > maximo_2:\n",
    "                        maximo_2 = maximo\n",
    "                    else: maximo = 0\n",
    "                    \n",
    "                \n",
    "                tamanho_lista -= 1\n",
    "                indice += 1\n",
    "                \n",
    "            break\n",
    "            \n",
    "        tamanho_lista -= 1\n",
    "    \n",
    "    return maximo_2\n",
    "          \n",
    "    \n",
    "consecutive_zeros(\"1001101000110\")"
   ]
  },
  {
   "cell_type": "markdown",
   "id": "f399a107",
   "metadata": {},
   "source": [
    "**15. Up and down**\n",
    "\n",
    "Define a function named up_down that takes a single number as its parameter. Your function return a tuple containing two numbers; the first should be one lower than the parameter, and the second should be one higher.\n",
    "\n",
    "For example, calling up_down(5) should return (4, 6)."
   ]
  },
  {
   "cell_type": "code",
   "execution_count": 1,
   "id": "0eb5dc9f",
   "metadata": {},
   "outputs": [
    {
     "data": {
      "text/plain": [
       "(4, 6)"
      ]
     },
     "execution_count": 1,
     "metadata": {},
     "output_type": "execute_result"
    }
   ],
   "source": [
    "def up_down(numero):\n",
    "    \n",
    "    lista = []\n",
    "    \n",
    "    lista.append(numero - 1)\n",
    "    lista.append(numero + 1)\n",
    "    \n",
    "    return tuple(lista)    \n",
    "    \n",
    "up_down(5)"
   ]
  },
  {
   "cell_type": "markdown",
   "id": "ea9b52ff",
   "metadata": {},
   "source": [
    "**14. Palindrome**\n",
    "\n",
    "A string is a palindrome when it is the same when read backwards.\n",
    "\n",
    "For example, the string \"bob\" is a palindrome. So is \"abba\". But the string \"abcd\" is not a palindrome, because \"abcd\" != \"dcba\".\n",
    "\n",
    "Write a function named palindrome that takes a single string as its parameter. Your function should return True if the string is a palindrome, and False otherwise."
   ]
  },
  {
   "cell_type": "code",
   "execution_count": 96,
   "id": "b3af6ed0",
   "metadata": {},
   "outputs": [
    {
     "data": {
      "text/plain": [
       "True"
      ]
     },
     "execution_count": 96,
     "metadata": {},
     "output_type": "execute_result"
    }
   ],
   "source": [
    "def palindrome(palavra):\n",
    "        \n",
    "    if (palavra == palavra[::-1]): return True\n",
    "    else: return False\n",
    "    \n",
    "palindrome(\"bob\")"
   ]
  },
  {
   "cell_type": "markdown",
   "id": "48f488e8",
   "metadata": {},
   "source": [
    "**13. Tic tac toe input**\n",
    "\n",
    "Here's the backstory for this challenge: imagine you're writing a tic-tac-toe game, where the board looks like this:\n",
    "\n",
    "1:  X | O | X\n",
    "   -----------\n",
    "2:     |     |  \n",
    "   -----------\n",
    "3:  O  |   |\n",
    "\n",
    "    A   B  C\n",
    "\n",
    "The board is represented as a 2D list:\n",
    "\n",
    "board = [\n",
    "    [\"X\", \"O\", \"X\"],\n",
    "    [\" \", \" \", \" \"],\n",
    "    [\"O\", \" \", \" \"],\n",
    "]\n",
    "Imagine if your user enters \"C1\" and you need to see if there's an X or O in that cell on the board. To do so, you need to translate from the string \"C1\" to row 0 and column 2 so that you can check board[row][column].\n",
    "\n",
    "Your task is to write a function that can translate from strings of length 2 to a tuple (row, column). Name your function get_row_col; it should take a single parameter which is a string of length 2 consisting of an uppercase letter and a digit.\n",
    "\n",
    "For example, calling get_row_col(\"A3\") should return the tuple (2, 0) because A3 corresponds to the row at index 2 and column at index 0in the board."
   ]
  },
  {
   "cell_type": "code",
   "execution_count": 89,
   "id": "586568e5",
   "metadata": {},
   "outputs": [
    {
     "data": {
      "text/plain": [
       "(2, 0)"
      ]
     },
     "execution_count": 89,
     "metadata": {},
     "output_type": "execute_result"
    }
   ],
   "source": [
    "'''\n",
    "lines: 1 is 0; 2 is 1: 3 is 2.\n",
    "\n",
    "columns: A is 0; B is 1; C is 2.\n",
    "'''\n",
    "\n",
    "def get_row_col(palavra):\n",
    "    \n",
    "    lista = []\n",
    "    lista_2 = []\n",
    "    tupla = ()\n",
    "    \n",
    "    for caractere in palavra:\n",
    "        lista.append(caractere)\n",
    "    \n",
    "    if lista[1] == \"1\": lista_2.append(0)\n",
    "    if lista[1] == \"2\": lista_2.append(1)  \n",
    "    if lista[1] == \"3\": lista_2.append(2)\n",
    "\n",
    "    if lista[0] == \"A\": lista_2.append(0)\n",
    "    if lista[0] == \"B\": lista_2.append(1)  \n",
    "    if lista[0] == \"C\": lista_2.append(2)\n",
    "        \n",
    "    return tuple(lista_2)  \n",
    "    \n",
    "    \n",
    "get_row_col(\"A3\")"
   ]
  },
  {
   "cell_type": "markdown",
   "id": "b1e0af99",
   "metadata": {},
   "source": [
    "**12. Divisible by 3**\n",
    "\n",
    "Define a function named div_3 that returns True if its single integer parameter is divisible by 3 and False otherwise.\n",
    "\n",
    "For example, div_3(6) is True because 6/3 does not leave any remainder. However div_3(5) is False because 5/3 leaves 2 as a remainder."
   ]
  },
  {
   "cell_type": "code",
   "execution_count": 75,
   "id": "88d31378",
   "metadata": {},
   "outputs": [
    {
     "data": {
      "text/plain": [
       "True"
      ]
     },
     "execution_count": 75,
     "metadata": {},
     "output_type": "execute_result"
    }
   ],
   "source": [
    "def div_3(valor):\n",
    "    \n",
    "    if valor % 3 == 0: return True\n",
    "    else: return False    \n",
    "    \n",
    "div_3(81)"
   ]
  },
  {
   "cell_type": "markdown",
   "id": "1efeab96",
   "metadata": {},
   "source": [
    "**11. Min-maxing**\n",
    "\n",
    "Define a function named largest_difference that takes a list of numbers as its only parameter.\n",
    "\n",
    "Your function should compute and return the difference between the largest and smallest number in the list.\n",
    "\n",
    "For example, the call largest_difference([1, 2, 3]) should return 2 because 3 - 1 is 2.\n",
    "\n",
    "You may assume that no numbers are smaller or larger than -100 and 100."
   ]
  },
  {
   "cell_type": "code",
   "execution_count": 70,
   "id": "49d98678",
   "metadata": {},
   "outputs": [
    {
     "data": {
      "text/plain": [
       "98"
      ]
     },
     "execution_count": 70,
     "metadata": {},
     "output_type": "execute_result"
    }
   ],
   "source": [
    "def largest_difference(lista):\n",
    "    \n",
    "    maximo = max(lista)\n",
    "    minimo = min(lista)\n",
    "\n",
    "    return maximo - minimo\n",
    "\n",
    "\n",
    "largest_difference([15, 2, 100])"
   ]
  },
  {
   "cell_type": "markdown",
   "id": "59d00303",
   "metadata": {},
   "source": [
    "**10. Flatten a list**\n",
    "\n",
    "Write a function that takes a list of lists and flattens it into a one-dimensional list.\n",
    "\n",
    "Name your function flatten. It should take a single parameter and return a list.\n",
    "\n",
    "For example, calling:\n",
    "\n",
    "flatten([[1, 2], [3, 4]])\n",
    "Should return the list:\n",
    "\n",
    "[1, 2, 3, 4]"
   ]
  },
  {
   "cell_type": "code",
   "execution_count": 56,
   "id": "e801be5b",
   "metadata": {},
   "outputs": [
    {
     "data": {
      "text/plain": [
       "[1, 2, 3, 4, 5, 6]"
      ]
     },
     "execution_count": 56,
     "metadata": {},
     "output_type": "execute_result"
    }
   ],
   "source": [
    "def flatten(lista):\n",
    "    \n",
    "    lista_2 = []\n",
    "    \n",
    "    for item in lista:\n",
    "        for subitem in item:\n",
    "            lista_2.append(subitem)\n",
    "    \n",
    "    return lista_2\n",
    "    \n",
    "    \n",
    "flatten([[1, 2], [3, 4], [5,6]])"
   ]
  },
  {
   "cell_type": "markdown",
   "id": "6f563d23",
   "metadata": {},
   "source": [
    "**9. Anagrams**\n",
    "\n",
    "Two strings are anagrams if you can make one from the other by rearranging the letters.\n",
    "\n",
    "Write a function named is_anagram that takes two strings as its parameters. Your function should return True if the strings are anagrams, and False otherwise.\n",
    "\n",
    "For example, the call is_anagram(\"typhoon\", \"opython\") should return True while the call is_anagram(\"Alice\", \"Bob\") should return False."
   ]
  },
  {
   "cell_type": "code",
   "execution_count": 53,
   "id": "42e98adc",
   "metadata": {},
   "outputs": [
    {
     "data": {
      "text/plain": [
       "True"
      ]
     },
     "execution_count": 53,
     "metadata": {},
     "output_type": "execute_result"
    }
   ],
   "source": [
    "def is_anagram(palavra_1,palavra_2):\n",
    "    \n",
    "    tamanho = len(palavra_1) == len(palavra_2)\n",
    "    contador = 0\n",
    "    \n",
    "    for letra in palavra_1:\n",
    "        if letra in palavra_2:\n",
    "            continue\n",
    "        else: \n",
    "            contador = 1\n",
    "            break\n",
    "    \n",
    "    if contador == 0 and tamanho == True: return True\n",
    "    else: return False\n",
    "    \n",
    "is_anagram(\"typhoon\",\"opython\")"
   ]
  },
  {
   "cell_type": "markdown",
   "id": "15d7b351",
   "metadata": {},
   "source": [
    "**8. Counting syllables**\n",
    "\n",
    "Define a function named count that takes a single parameter. The parameter is a string. The string will contain a single word divided into syllables by hyphens, such as these:\n",
    "\n",
    "\"ho-tel\"\n",
    "\"cat\"\n",
    "\"met-a-phor\"\n",
    "\"ter-min-a-tor\"\n",
    "Your function should count the number of syllables and return it.\n",
    "\n",
    "For example, the call count(\"ho-tel\") should return 2."
   ]
  },
  {
   "cell_type": "code",
   "execution_count": 26,
   "id": "605c0825",
   "metadata": {},
   "outputs": [
    {
     "data": {
      "text/plain": [
       "4"
      ]
     },
     "execution_count": 26,
     "metadata": {},
     "output_type": "execute_result"
    }
   ],
   "source": [
    "def count(palavra):\n",
    "    \n",
    "    contador = palavra.count(\"-\")\n",
    "    return contador + 1    \n",
    "\n",
    "count(\"ter-min-a-tor\")"
   ]
  },
  {
   "cell_type": "markdown",
   "id": "c9398573",
   "metadata": {},
   "source": [
    "**7. Adding and removing dots**\n",
    "\n",
    "Write a function named add_dots that takes a string and adds \".\" in between each letter. For example, calling add_dots(\"test\") should return the string \"t.e.s.t\".\n",
    "\n",
    "Then, below the add_dots function, write another function named remove_dots that removes all dots from a string. For example, calling remove_dots(\"t.e.s.t\") should return \"test\".\n",
    "\n",
    "If both functions are correct, calling remove_dots(add_dots(string)) should return back the original string for any string.\n",
    "\n",
    "(You may assume that the input to add_dots does not itself contain any dots.)"
   ]
  },
  {
   "cell_type": "code",
   "execution_count": 19,
   "id": "c1d343f9",
   "metadata": {},
   "outputs": [
    {
     "data": {
      "text/plain": [
       "'test'"
      ]
     },
     "execution_count": 19,
     "metadata": {},
     "output_type": "execute_result"
    }
   ],
   "source": [
    "def add_dots(palavra):\n",
    "    \n",
    "    lista = []\n",
    "    \n",
    "    for letra in palavra:\n",
    "        lista.append(letra)\n",
    "        lista.append(\".\")\n",
    "    \n",
    "    lista.pop()\n",
    "    minha_string = \"\".join(lista)\n",
    "    return minha_string\n",
    "\n",
    "def remove_dots(palavra):\n",
    "    \n",
    "    lista = []\n",
    "    minha_lista = list(palavra)\n",
    "    \n",
    "    for item in minha_lista:\n",
    "        if item != \".\":\n",
    "            lista.append(item)\n",
    "    \n",
    "    minha_string = \"\".join(lista)\n",
    "    return minha_string\n",
    "\n",
    "remove_dots(add_dots(\"test\"))"
   ]
  },
  {
   "cell_type": "markdown",
   "id": "70741d90",
   "metadata": {},
   "source": [
    "**6. Double letters**\n",
    "\n",
    "The goal of this challenge is to analyze a string to check if it contains two of the same letter in a row. For example, the string \"hello\" has l twice in a row, while the string \"nono\" does not have two identical letters in a row.\n",
    "\n",
    "Define a function named double_letters that takes a single parameter. The parameter is a string. Your function must return True if there are two identical letters in a row in the string, and False otherwise."
   ]
  },
  {
   "cell_type": "code",
   "execution_count": 84,
   "id": "85caaad8",
   "metadata": {},
   "outputs": [
    {
     "data": {
      "text/plain": [
       "True"
      ]
     },
     "execution_count": 84,
     "metadata": {},
     "output_type": "execute_result"
    }
   ],
   "source": [
    "def double_letters(palavra):\n",
    "    \n",
    "    lista = []\n",
    "    \n",
    "    for letra in palavra:\n",
    "        lista.append(letra)\n",
    "    \n",
    "    iterador = len(lista)\n",
    "    i = 0\n",
    "    \n",
    "    while i < iterador-1:\n",
    "        if lista[i] == lista[i+1]:\n",
    "            return True\n",
    "        i += 1\n",
    "    return False\n",
    "    \n",
    "    \n",
    "double_letters(\"William\")"
   ]
  },
  {
   "cell_type": "markdown",
   "id": "bbcc9257",
   "metadata": {},
   "source": [
    "**5. Type check**\n",
    "\n",
    "Write a function named only_ints that takes two parameters. Your function should return True if both parameters are integers, and False otherwise.\n",
    "\n",
    "For example, calling only_ints(1, 2) should return True, while calling only_ints(\"a\", 1) should return False."
   ]
  },
  {
   "cell_type": "code",
   "execution_count": 62,
   "id": "fd237253",
   "metadata": {},
   "outputs": [
    {
     "data": {
      "text/plain": [
       "True"
      ]
     },
     "execution_count": 62,
     "metadata": {},
     "output_type": "execute_result"
    }
   ],
   "source": [
    "def only_ints(a,b):\n",
    "    \n",
    "    if (type(a) == int) and (type(b) == int):\n",
    "        return True\n",
    "    else: return False\n",
    "    \n",
    "    \n",
    "only_ints(1,3)"
   ]
  },
  {
   "cell_type": "markdown",
   "id": "fbbc000b",
   "metadata": {},
   "source": [
    "**4. Randomness**\n",
    "\n",
    "Define a function, random_number, that takes no parameters. The function must generate a random integer between 1 and 100, both inclusive, and return it.\n",
    "\n",
    "Calling the function multiple times should (usually) return different numbers.\n",
    "\n",
    "For example, calling random_number() some times might first return 42, then 63, then 1."
   ]
  },
  {
   "cell_type": "code",
   "execution_count": 56,
   "id": "f558a049",
   "metadata": {},
   "outputs": [
    {
     "name": "stdout",
     "output_type": "stream",
     "text": [
      "90\n"
     ]
    }
   ],
   "source": [
    "from random import randint\n",
    "\n",
    "def random_number():\n",
    "    \n",
    "    print(randint(0,101))\n",
    "\n",
    "random_number()"
   ]
  },
  {
   "cell_type": "markdown",
   "id": "0baadd65",
   "metadata": {},
   "source": [
    "**3. Online status**\n",
    "\n",
    "\n",
    "The aim of this challenge is, given a dictionary of people's online status, to count the number of people who are online.\n",
    "\n",
    "For example, consider the following dictionary:\n",
    "\n",
    "statuses = {\n",
    "    \"Alice\": \"online\",\n",
    "    \"Bob\": \"offline\",\n",
    "    \"Eve\": \"online\",\n",
    "}\n",
    "In this case, the number of people online is 2.\n",
    "\n",
    "Write a function named online_count that takes one parameter. The parameter is a dictionary that maps from strings of names to the string \"online\" or \"offline\", as seen above.\n",
    "\n",
    "Your function should return the number of people who are online."
   ]
  },
  {
   "cell_type": "code",
   "execution_count": 42,
   "id": "552ba684",
   "metadata": {},
   "outputs": [
    {
     "name": "stdout",
     "output_type": "stream",
     "text": [
      "The number of people who are online is:  4\n"
     ]
    }
   ],
   "source": [
    "def online_count(dictionary):\n",
    "    \n",
    "    contador = 0\n",
    "    \n",
    "    for item in dictionary:\n",
    "        if dictionary[item] == 'online':\n",
    "            contador += 1\n",
    "    \n",
    "    print(\"The number of people who are online is: \", contador)\n",
    "\n",
    "    \n",
    "    \n",
    "statuses = { \"Alice\": \"online\", \n",
    "             \"Bob\": \"offline\", \n",
    "             \"Eve\": \"online\", \n",
    "             \"William\": \"online\", \n",
    "             \"Heloisa\": \"offline\",\n",
    "             \"Pietro\": \"online\"\n",
    "           }\n",
    "\n",
    "online_count(statuses)"
   ]
  },
  {
   "cell_type": "markdown",
   "id": "71008048",
   "metadata": {},
   "source": [
    "**2. Capital indexes**\n",
    "\n",
    "Write a function named capital_indexes. The function takes a single parameter, which is a string. Your function should return a list of all the indexes in the string that have capital letters.\n",
    "\n",
    "For example, calling capital_indexes(\"HeLlO\") should return the list [0, 2, 4]."
   ]
  },
  {
   "cell_type": "code",
   "execution_count": 35,
   "id": "e122abd3",
   "metadata": {},
   "outputs": [
    {
     "name": "stdout",
     "output_type": "stream",
     "text": [
      "[0, 2, 4]\n"
     ]
    }
   ],
   "source": [
    "def capital_indexes(palavra):\n",
    "    \n",
    "    lista = []\n",
    "    for letra in palavra:\n",
    "        if letra.isupper():\n",
    "            item = palavra.find(letra)\n",
    "            lista.append(item)\n",
    "    print(lista)\n",
    "    \n",
    "capital_indexes(\"HeLlO\")"
   ]
  },
  {
   "cell_type": "markdown",
   "id": "ebf10436",
   "metadata": {},
   "source": [
    "**1. Middle letter**\n",
    "\n",
    "Write a function named mid that takes a string as its parameter. Your function should extract and return the middle letter. If there is no middle letter, your function should return the empty string.\n",
    "\n",
    "For example, mid(\"abc\") should return \"b\" and mid(\"aaaa\") should return \"\"."
   ]
  },
  {
   "cell_type": "code",
   "execution_count": 34,
   "id": "391862db",
   "metadata": {},
   "outputs": [
    {
     "name": "stdout",
     "output_type": "stream",
     "text": [
      "c\n"
     ]
    }
   ],
   "source": [
    "def mid(palavra):\n",
    "    \n",
    "    letras = len(palavra)\n",
    "    \n",
    "    if letras % 2 != 0:\n",
    "        indice = int(letras / 2) + 1\n",
    "        print(palavra[indice - 1])\n",
    "    else:\n",
    "        indice = '\"\"'\n",
    "        print(indice)\n",
    "\n",
    "mid(\"francisco\")"
   ]
  }
 ],
 "metadata": {
  "kernelspec": {
   "display_name": "Python 3 (ipykernel)",
   "language": "python",
   "name": "python3"
  },
  "language_info": {
   "codemirror_mode": {
    "name": "ipython",
    "version": 3
   },
   "file_extension": ".py",
   "mimetype": "text/x-python",
   "name": "python",
   "nbconvert_exporter": "python",
   "pygments_lexer": "ipython3",
   "version": "3.9.12"
  }
 },
 "nbformat": 4,
 "nbformat_minor": 5
}
