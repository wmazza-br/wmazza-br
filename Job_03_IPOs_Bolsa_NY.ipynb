{
  "nbformat": 4,
  "nbformat_minor": 0,
  "metadata": {
    "colab": {
      "name": "Job 03 - IPOs Bolsa NY.ipynb",
      "provenance": [],
      "collapsed_sections": [
        "WU8-pzPXN7AM",
        "wPfzsiUv-suC",
        "Q2zqnUEIRP1V",
        "mk5am4tvPWQB",
        "1fFoZMZuTZF_",
        "gwUksvq1RC7i",
        "bwGZ6MUhR9Fb",
        "mT3YLV129IqH",
        "8gikgFTi-suZ",
        "FZjkBpnO-sub",
        "0NLMuQ_L-suc",
        "pgfHi5L6-suc",
        "mxnPbv4H-sue",
        "6iq0_uO6-cXB",
        "XC12rWTLA0BX",
        "83YOms8xCRxE",
        "AYx2LGu3_vFR",
        "2zHRXpdbKlfD",
        "iMMe7FUxNXqU",
        "RSwV6HOCLd0D",
        "OLIzI_vYQQ-f",
        "3idaWzzyQkeq",
        "avMSUsYY5Wee",
        "uXf7wFa86LBF",
        "a1HC0CCQ9tcA",
        "JGBiRa_N90x_"
      ],
      "authorship_tag": "ABX9TyOeyVPXdqJOjYU5KnsJNf0J",
      "include_colab_link": true
    },
    "kernelspec": {
      "name": "python3",
      "display_name": "Python 3"
    },
    "language_info": {
      "name": "python"
    }
  },
  "cells": [
    {
      "cell_type": "markdown",
      "metadata": {
        "id": "view-in-github",
        "colab_type": "text"
      },
      "source": [
        "<a href=\"https://colab.research.google.com/github/wmazza-br/wmazza-br/blob/main/Job_03_IPOs_Bolsa_NY.ipynb\" target=\"_parent\"><img src=\"https://colab.research.google.com/assets/colab-badge.svg\" alt=\"Open In Colab\"/></a>"
      ]
    },
    {
      "cell_type": "markdown",
      "source": [
        "#<font color='blue'>IPOs - Bolsa de NY - 2019 a 21\n",
        "\n"
      ],
      "metadata": {
        "id": "WU8-pzPXN7AM"
      }
    },
    {
      "cell_type": "markdown",
      "source": [
        "fonte:(https://www.kaggle.com/shivamb/company-ipos-2019-2021/version/1)"
      ],
      "metadata": {
        "id": "KVeV_-mH9Yj-"
      }
    },
    {
      "cell_type": "markdown",
      "source": [
        "##<font color='blue'>Fase inicial"
      ],
      "metadata": {
        "id": "wPfzsiUv-suC"
      }
    },
    {
      "cell_type": "code",
      "execution_count": null,
      "metadata": {
        "id": "UF2AcuasLO3P"
      },
      "outputs": [],
      "source": [
        "import pandas as pd\n",
        "import numpy as np\n",
        "import seaborn as sns\n",
        "import matplotlib.pyplot as plt"
      ]
    },
    {
      "cell_type": "markdown",
      "source": [
        "##<font color='blue'>Pergunta 1: quantos IPOs tivemos por ano?"
      ],
      "metadata": {
        "id": "Q2zqnUEIRP1V"
      }
    },
    {
      "cell_type": "markdown",
      "source": [
        "###quebrando a coluna IPO Date em duas\n",
        "\n",
        "\n"
      ],
      "metadata": {
        "id": "mk5am4tvPWQB"
      }
    },
    {
      "cell_type": "code",
      "source": [
        "dados['IPO Month/Day'], dados['IPO Year'] = dados['IPO Date'].str.split(',', 1).str\n",
        "del dados['IPO Date']\n",
        "dados"
      ],
      "metadata": {
        "colab": {
          "base_uri": "https://localhost:8080/"
        },
        "id": "GZYVC6WcLoQy",
        "outputId": "0ed2b58b-d760-45ed-df95-5d07e20c6268"
      },
      "execution_count": null,
      "outputs": [
        {
          "output_type": "stream",
          "name": "stderr",
          "text": [
            "/usr/local/lib/python3.7/dist-packages/ipykernel_launcher.py:1: FutureWarning: Columnar iteration over characters will be deprecated in future releases.\n",
            "  \"\"\"Entry point for launching an IPython kernel.\n"
          ]
        },
        {
          "output_type": "execute_result",
          "data": {
            "text/html": [
              "\n",
              "  <div id=\"df-bbdcc230-dd55-4f19-a6c2-3c7f46c698e1\">\n",
              "    <div class=\"colab-df-container\">\n",
              "      <div>\n",
              "<style scoped>\n",
              "    .dataframe tbody tr th:only-of-type {\n",
              "        vertical-align: middle;\n",
              "    }\n",
              "\n",
              "    .dataframe tbody tr th {\n",
              "        vertical-align: top;\n",
              "    }\n",
              "\n",
              "    .dataframe thead th {\n",
              "        text-align: right;\n",
              "    }\n",
              "</style>\n",
              "<table border=\"1\" class=\"dataframe\">\n",
              "  <thead>\n",
              "    <tr style=\"text-align: right;\">\n",
              "      <th></th>\n",
              "      <th>ID</th>\n",
              "      <th>Symbol</th>\n",
              "      <th>Company Name</th>\n",
              "      <th>IPO Price</th>\n",
              "      <th>Current</th>\n",
              "      <th>Return</th>\n",
              "      <th>IPO Month/Day</th>\n",
              "      <th>IPO Year</th>\n",
              "    </tr>\n",
              "  </thead>\n",
              "  <tbody>\n",
              "    <tr>\n",
              "      <th>0</th>\n",
              "      <td>1</td>\n",
              "      <td>NVAC</td>\n",
              "      <td>NorthView Acquisition</td>\n",
              "      <td>$10.00</td>\n",
              "      <td>$10.03</td>\n",
              "      <td>0.30%</td>\n",
              "      <td>Dec 21</td>\n",
              "      <td>2021</td>\n",
              "    </tr>\n",
              "    <tr>\n",
              "      <th>1</th>\n",
              "      <td>2</td>\n",
              "      <td>LSPR</td>\n",
              "      <td>Larkspur Health Acquisition</td>\n",
              "      <td>$10.00</td>\n",
              "      <td>$9.98</td>\n",
              "      <td>-0.20%</td>\n",
              "      <td>Dec 21</td>\n",
              "      <td>2021</td>\n",
              "    </tr>\n",
              "    <tr>\n",
              "      <th>2</th>\n",
              "      <td>3</td>\n",
              "      <td>SAGA</td>\n",
              "      <td>Sagaliam Acquisition</td>\n",
              "      <td>$10.00</td>\n",
              "      <td>$9.97</td>\n",
              "      <td>-0.30%</td>\n",
              "      <td>Dec 21</td>\n",
              "      <td>2021</td>\n",
              "    </tr>\n",
              "    <tr>\n",
              "      <th>3</th>\n",
              "      <td>4</td>\n",
              "      <td>RCAC</td>\n",
              "      <td>Revelstone Capital Acquisition</td>\n",
              "      <td>$10.00</td>\n",
              "      <td>$9.90</td>\n",
              "      <td>-1.00%</td>\n",
              "      <td>Dec 17</td>\n",
              "      <td>2021</td>\n",
              "    </tr>\n",
              "    <tr>\n",
              "      <th>4</th>\n",
              "      <td>5</td>\n",
              "      <td>APCA</td>\n",
              "      <td>AP Acquisition</td>\n",
              "      <td>$10.00</td>\n",
              "      <td>$10.11</td>\n",
              "      <td>1.10%</td>\n",
              "      <td>Dec 17</td>\n",
              "      <td>2021</td>\n",
              "    </tr>\n",
              "    <tr>\n",
              "      <th>...</th>\n",
              "      <td>...</td>\n",
              "      <td>...</td>\n",
              "      <td>...</td>\n",
              "      <td>...</td>\n",
              "      <td>...</td>\n",
              "      <td>...</td>\n",
              "      <td>...</td>\n",
              "      <td>...</td>\n",
              "    </tr>\n",
              "    <tr>\n",
              "      <th>1760</th>\n",
              "      <td>1761</td>\n",
              "      <td>RBKB</td>\n",
              "      <td>Rhinebeck Bancorp</td>\n",
              "      <td>$10.00</td>\n",
              "      <td>$10.61</td>\n",
              "      <td>6.10%</td>\n",
              "      <td>Jan 17</td>\n",
              "      <td>2019</td>\n",
              "    </tr>\n",
              "    <tr>\n",
              "      <th>1761</th>\n",
              "      <td>1762</td>\n",
              "      <td>BCOW</td>\n",
              "      <td>1895 Bancorp of Wisconsin</td>\n",
              "      <td>$10.00</td>\n",
              "      <td>$10.93</td>\n",
              "      <td>9.30%</td>\n",
              "      <td>Jan 9</td>\n",
              "      <td>2019</td>\n",
              "    </tr>\n",
              "    <tr>\n",
              "      <th>1762</th>\n",
              "      <td>1763</td>\n",
              "      <td>MDJH</td>\n",
              "      <td>MDJM Ltd.</td>\n",
              "      <td>$5.00</td>\n",
              "      <td>$1.91</td>\n",
              "      <td>-61.80%</td>\n",
              "      <td>Jan 8</td>\n",
              "      <td>2019</td>\n",
              "    </tr>\n",
              "    <tr>\n",
              "      <th>1763</th>\n",
              "      <td>1764</td>\n",
              "      <td>MTC</td>\n",
              "      <td>MMTec</td>\n",
              "      <td>$4.00</td>\n",
              "      <td>$0.85</td>\n",
              "      <td>-78.73%</td>\n",
              "      <td>Jan 8</td>\n",
              "      <td>2019</td>\n",
              "    </tr>\n",
              "    <tr>\n",
              "      <th>1764</th>\n",
              "      <td>1765</td>\n",
              "      <td>SXTC</td>\n",
              "      <td>China SXT Pharmaceuticals</td>\n",
              "      <td>$4.00</td>\n",
              "      <td>$0.58</td>\n",
              "      <td>-85.60%</td>\n",
              "      <td>Jan 4</td>\n",
              "      <td>2019</td>\n",
              "    </tr>\n",
              "  </tbody>\n",
              "</table>\n",
              "<p>1765 rows × 8 columns</p>\n",
              "</div>\n",
              "      <button class=\"colab-df-convert\" onclick=\"convertToInteractive('df-bbdcc230-dd55-4f19-a6c2-3c7f46c698e1')\"\n",
              "              title=\"Convert this dataframe to an interactive table.\"\n",
              "              style=\"display:none;\">\n",
              "        \n",
              "  <svg xmlns=\"http://www.w3.org/2000/svg\" height=\"24px\"viewBox=\"0 0 24 24\"\n",
              "       width=\"24px\">\n",
              "    <path d=\"M0 0h24v24H0V0z\" fill=\"none\"/>\n",
              "    <path d=\"M18.56 5.44l.94 2.06.94-2.06 2.06-.94-2.06-.94-.94-2.06-.94 2.06-2.06.94zm-11 1L8.5 8.5l.94-2.06 2.06-.94-2.06-.94L8.5 2.5l-.94 2.06-2.06.94zm10 10l.94 2.06.94-2.06 2.06-.94-2.06-.94-.94-2.06-.94 2.06-2.06.94z\"/><path d=\"M17.41 7.96l-1.37-1.37c-.4-.4-.92-.59-1.43-.59-.52 0-1.04.2-1.43.59L10.3 9.45l-7.72 7.72c-.78.78-.78 2.05 0 2.83L4 21.41c.39.39.9.59 1.41.59.51 0 1.02-.2 1.41-.59l7.78-7.78 2.81-2.81c.8-.78.8-2.07 0-2.86zM5.41 20L4 18.59l7.72-7.72 1.47 1.35L5.41 20z\"/>\n",
              "  </svg>\n",
              "      </button>\n",
              "      \n",
              "  <style>\n",
              "    .colab-df-container {\n",
              "      display:flex;\n",
              "      flex-wrap:wrap;\n",
              "      gap: 12px;\n",
              "    }\n",
              "\n",
              "    .colab-df-convert {\n",
              "      background-color: #E8F0FE;\n",
              "      border: none;\n",
              "      border-radius: 50%;\n",
              "      cursor: pointer;\n",
              "      display: none;\n",
              "      fill: #1967D2;\n",
              "      height: 32px;\n",
              "      padding: 0 0 0 0;\n",
              "      width: 32px;\n",
              "    }\n",
              "\n",
              "    .colab-df-convert:hover {\n",
              "      background-color: #E2EBFA;\n",
              "      box-shadow: 0px 1px 2px rgba(60, 64, 67, 0.3), 0px 1px 3px 1px rgba(60, 64, 67, 0.15);\n",
              "      fill: #174EA6;\n",
              "    }\n",
              "\n",
              "    [theme=dark] .colab-df-convert {\n",
              "      background-color: #3B4455;\n",
              "      fill: #D2E3FC;\n",
              "    }\n",
              "\n",
              "    [theme=dark] .colab-df-convert:hover {\n",
              "      background-color: #434B5C;\n",
              "      box-shadow: 0px 1px 3px 1px rgba(0, 0, 0, 0.15);\n",
              "      filter: drop-shadow(0px 1px 2px rgba(0, 0, 0, 0.3));\n",
              "      fill: #FFFFFF;\n",
              "    }\n",
              "  </style>\n",
              "\n",
              "      <script>\n",
              "        const buttonEl =\n",
              "          document.querySelector('#df-bbdcc230-dd55-4f19-a6c2-3c7f46c698e1 button.colab-df-convert');\n",
              "        buttonEl.style.display =\n",
              "          google.colab.kernel.accessAllowed ? 'block' : 'none';\n",
              "\n",
              "        async function convertToInteractive(key) {\n",
              "          const element = document.querySelector('#df-bbdcc230-dd55-4f19-a6c2-3c7f46c698e1');\n",
              "          const dataTable =\n",
              "            await google.colab.kernel.invokeFunction('convertToInteractive',\n",
              "                                                     [key], {});\n",
              "          if (!dataTable) return;\n",
              "\n",
              "          const docLinkHtml = 'Like what you see? Visit the ' +\n",
              "            '<a target=\"_blank\" href=https://colab.research.google.com/notebooks/data_table.ipynb>data table notebook</a>'\n",
              "            + ' to learn more about interactive tables.';\n",
              "          element.innerHTML = '';\n",
              "          dataTable['output_type'] = 'display_data';\n",
              "          await google.colab.output.renderOutput(dataTable, element);\n",
              "          const docLink = document.createElement('div');\n",
              "          docLink.innerHTML = docLinkHtml;\n",
              "          element.appendChild(docLink);\n",
              "        }\n",
              "      </script>\n",
              "    </div>\n",
              "  </div>\n",
              "  "
            ],
            "text/plain": [
              "        ID Symbol  ... IPO Month/Day IPO Year\n",
              "0        1   NVAC  ...        Dec 21     2021\n",
              "1        2   LSPR  ...        Dec 21     2021\n",
              "2        3   SAGA  ...        Dec 21     2021\n",
              "3        4   RCAC  ...        Dec 17     2021\n",
              "4        5   APCA  ...        Dec 17     2021\n",
              "...    ...    ...  ...           ...      ...\n",
              "1760  1761   RBKB  ...        Jan 17     2019\n",
              "1761  1762   BCOW  ...         Jan 9     2019\n",
              "1762  1763   MDJH  ...         Jan 8     2019\n",
              "1763  1764    MTC  ...         Jan 8     2019\n",
              "1764  1765   SXTC  ...         Jan 4     2019\n",
              "\n",
              "[1765 rows x 8 columns]"
            ]
          },
          "metadata": {},
          "execution_count": 4
        }
      ]
    },
    {
      "cell_type": "code",
      "source": [
        "dados.info()"
      ],
      "metadata": {
        "colab": {
          "base_uri": "https://localhost:8080/"
        },
        "id": "A_ObDOrZSq6t",
        "outputId": "80075c36-113a-450c-a284-d7108bf17d20"
      },
      "execution_count": null,
      "outputs": [
        {
          "output_type": "stream",
          "name": "stdout",
          "text": [
            "<class 'pandas.core.frame.DataFrame'>\n",
            "RangeIndex: 1765 entries, 0 to 1764\n",
            "Data columns (total 8 columns):\n",
            " #   Column         Non-Null Count  Dtype \n",
            "---  ------         --------------  ----- \n",
            " 0   ID             1765 non-null   int64 \n",
            " 1   Symbol         1765 non-null   object\n",
            " 2   Company Name   1765 non-null   object\n",
            " 3   IPO Price      1765 non-null   object\n",
            " 4   Current        1765 non-null   object\n",
            " 5   Return         1765 non-null   object\n",
            " 6   IPO Month/Day  1765 non-null   object\n",
            " 7   IPO Year       1765 non-null   object\n",
            "dtypes: int64(1), object(7)\n",
            "memory usage: 110.4+ KB\n"
          ]
        }
      ]
    },
    {
      "cell_type": "markdown",
      "source": [
        "###transformando a coluna 'IPO Year' de str para int\n",
        "\n"
      ],
      "metadata": {
        "id": "1fFoZMZuTZF_"
      }
    },
    {
      "cell_type": "code",
      "source": [
        "dados['IPO Year'] = dados['IPO Year'].astype(int)\n",
        "dados.info()"
      ],
      "metadata": {
        "colab": {
          "base_uri": "https://localhost:8080/"
        },
        "id": "y5x3ilmBTcOt",
        "outputId": "8f5f5147-63d1-4234-edeb-53f061948b5d"
      },
      "execution_count": null,
      "outputs": [
        {
          "output_type": "stream",
          "name": "stdout",
          "text": [
            "<class 'pandas.core.frame.DataFrame'>\n",
            "RangeIndex: 1765 entries, 0 to 1764\n",
            "Data columns (total 8 columns):\n",
            " #   Column         Non-Null Count  Dtype \n",
            "---  ------         --------------  ----- \n",
            " 0   ID             1765 non-null   int64 \n",
            " 1   Symbol         1765 non-null   object\n",
            " 2   Company Name   1765 non-null   object\n",
            " 3   IPO Price      1765 non-null   object\n",
            " 4   Current        1765 non-null   object\n",
            " 5   Return         1765 non-null   object\n",
            " 6   IPO Month/Day  1765 non-null   object\n",
            " 7   IPO Year       1765 non-null   int64 \n",
            "dtypes: int64(2), object(6)\n",
            "memory usage: 110.4+ KB\n"
          ]
        }
      ]
    },
    {
      "cell_type": "markdown",
      "source": [
        "###classes e labels"
      ],
      "metadata": {
        "id": "gwUksvq1RC7i"
      }
    },
    {
      "cell_type": "code",
      "source": [
        "classes = [2018,2019,2020,2021,2022]"
      ],
      "metadata": {
        "id": "Rziko7GlQnOr"
      },
      "execution_count": null,
      "outputs": []
    },
    {
      "cell_type": "code",
      "source": [
        "labels = [2019,2020,2021,2022]"
      ],
      "metadata": {
        "id": "_ZihIZdORwqk"
      },
      "execution_count": null,
      "outputs": []
    },
    {
      "cell_type": "markdown",
      "source": [
        "###colunas de frequência e percentuais"
      ],
      "metadata": {
        "id": "bwGZ6MUhR9Fb"
      }
    },
    {
      "cell_type": "code",
      "source": [
        "frequencia = pd.value_counts(pd.cut(x = dados['IPO Year'],bins = classes,labels = labels,include_lowest = True))\n",
        "frequencia"
      ],
      "metadata": {
        "colab": {
          "base_uri": "https://localhost:8080/"
        },
        "id": "pQm2bRy_R2ej",
        "outputId": "b4eb0b9c-4b1e-4842-90d1-4bd9d81cc496"
      },
      "execution_count": null,
      "outputs": [
        {
          "output_type": "execute_result",
          "data": {
            "text/plain": [
              "2021    1053\n",
              "2020     480\n",
              "2019     232\n",
              "2022       0\n",
              "Name: IPO Year, dtype: int64"
            ]
          },
          "metadata": {},
          "execution_count": 9
        }
      ]
    },
    {
      "cell_type": "code",
      "source": [
        "percentual = pd.value_counts(pd.cut(x = dados['IPO Year'],bins = classes,labels = labels,include_lowest = True),normalize = True) * 100\n",
        "percentual"
      ],
      "metadata": {
        "colab": {
          "base_uri": "https://localhost:8080/"
        },
        "id": "9AVEKcaNSYi8",
        "outputId": "39a34f64-954f-4f16-8a65-2c0ba4ab4c0f"
      },
      "execution_count": null,
      "outputs": [
        {
          "output_type": "execute_result",
          "data": {
            "text/plain": [
              "2021    59.660057\n",
              "2020    27.195467\n",
              "2019    13.144476\n",
              "2022     0.000000\n",
              "Name: IPO Year, dtype: float64"
            ]
          },
          "metadata": {},
          "execution_count": 10
        }
      ]
    },
    {
      "cell_type": "code",
      "source": [
        "dist_freq_renda = pd.DataFrame({'Frequência': frequencia, 'Porcentagem (%)': percentual})\n",
        "dist_freq_renda.sort_index(ascending = True)"
      ],
      "metadata": {
        "colab": {
          "base_uri": "https://localhost:8080/"
        },
        "id": "MrgQlpmaWrkN",
        "outputId": "01c00c49-c694-4f11-c7ae-660513e18a3e"
      },
      "execution_count": null,
      "outputs": [
        {
          "output_type": "execute_result",
          "data": {
            "text/html": [
              "\n",
              "  <div id=\"df-6b6a9a7e-16a2-496c-94cf-3082535e1d78\">\n",
              "    <div class=\"colab-df-container\">\n",
              "      <div>\n",
              "<style scoped>\n",
              "    .dataframe tbody tr th:only-of-type {\n",
              "        vertical-align: middle;\n",
              "    }\n",
              "\n",
              "    .dataframe tbody tr th {\n",
              "        vertical-align: top;\n",
              "    }\n",
              "\n",
              "    .dataframe thead th {\n",
              "        text-align: right;\n",
              "    }\n",
              "</style>\n",
              "<table border=\"1\" class=\"dataframe\">\n",
              "  <thead>\n",
              "    <tr style=\"text-align: right;\">\n",
              "      <th></th>\n",
              "      <th>Frequência</th>\n",
              "      <th>Porcentagem (%)</th>\n",
              "    </tr>\n",
              "  </thead>\n",
              "  <tbody>\n",
              "    <tr>\n",
              "      <th>2019</th>\n",
              "      <td>232</td>\n",
              "      <td>13.144476</td>\n",
              "    </tr>\n",
              "    <tr>\n",
              "      <th>2020</th>\n",
              "      <td>480</td>\n",
              "      <td>27.195467</td>\n",
              "    </tr>\n",
              "    <tr>\n",
              "      <th>2021</th>\n",
              "      <td>1053</td>\n",
              "      <td>59.660057</td>\n",
              "    </tr>\n",
              "    <tr>\n",
              "      <th>2022</th>\n",
              "      <td>0</td>\n",
              "      <td>0.000000</td>\n",
              "    </tr>\n",
              "  </tbody>\n",
              "</table>\n",
              "</div>\n",
              "      <button class=\"colab-df-convert\" onclick=\"convertToInteractive('df-6b6a9a7e-16a2-496c-94cf-3082535e1d78')\"\n",
              "              title=\"Convert this dataframe to an interactive table.\"\n",
              "              style=\"display:none;\">\n",
              "        \n",
              "  <svg xmlns=\"http://www.w3.org/2000/svg\" height=\"24px\"viewBox=\"0 0 24 24\"\n",
              "       width=\"24px\">\n",
              "    <path d=\"M0 0h24v24H0V0z\" fill=\"none\"/>\n",
              "    <path d=\"M18.56 5.44l.94 2.06.94-2.06 2.06-.94-2.06-.94-.94-2.06-.94 2.06-2.06.94zm-11 1L8.5 8.5l.94-2.06 2.06-.94-2.06-.94L8.5 2.5l-.94 2.06-2.06.94zm10 10l.94 2.06.94-2.06 2.06-.94-2.06-.94-.94-2.06-.94 2.06-2.06.94z\"/><path d=\"M17.41 7.96l-1.37-1.37c-.4-.4-.92-.59-1.43-.59-.52 0-1.04.2-1.43.59L10.3 9.45l-7.72 7.72c-.78.78-.78 2.05 0 2.83L4 21.41c.39.39.9.59 1.41.59.51 0 1.02-.2 1.41-.59l7.78-7.78 2.81-2.81c.8-.78.8-2.07 0-2.86zM5.41 20L4 18.59l7.72-7.72 1.47 1.35L5.41 20z\"/>\n",
              "  </svg>\n",
              "      </button>\n",
              "      \n",
              "  <style>\n",
              "    .colab-df-container {\n",
              "      display:flex;\n",
              "      flex-wrap:wrap;\n",
              "      gap: 12px;\n",
              "    }\n",
              "\n",
              "    .colab-df-convert {\n",
              "      background-color: #E8F0FE;\n",
              "      border: none;\n",
              "      border-radius: 50%;\n",
              "      cursor: pointer;\n",
              "      display: none;\n",
              "      fill: #1967D2;\n",
              "      height: 32px;\n",
              "      padding: 0 0 0 0;\n",
              "      width: 32px;\n",
              "    }\n",
              "\n",
              "    .colab-df-convert:hover {\n",
              "      background-color: #E2EBFA;\n",
              "      box-shadow: 0px 1px 2px rgba(60, 64, 67, 0.3), 0px 1px 3px 1px rgba(60, 64, 67, 0.15);\n",
              "      fill: #174EA6;\n",
              "    }\n",
              "\n",
              "    [theme=dark] .colab-df-convert {\n",
              "      background-color: #3B4455;\n",
              "      fill: #D2E3FC;\n",
              "    }\n",
              "\n",
              "    [theme=dark] .colab-df-convert:hover {\n",
              "      background-color: #434B5C;\n",
              "      box-shadow: 0px 1px 3px 1px rgba(0, 0, 0, 0.15);\n",
              "      filter: drop-shadow(0px 1px 2px rgba(0, 0, 0, 0.3));\n",
              "      fill: #FFFFFF;\n",
              "    }\n",
              "  </style>\n",
              "\n",
              "      <script>\n",
              "        const buttonEl =\n",
              "          document.querySelector('#df-6b6a9a7e-16a2-496c-94cf-3082535e1d78 button.colab-df-convert');\n",
              "        buttonEl.style.display =\n",
              "          google.colab.kernel.accessAllowed ? 'block' : 'none';\n",
              "\n",
              "        async function convertToInteractive(key) {\n",
              "          const element = document.querySelector('#df-6b6a9a7e-16a2-496c-94cf-3082535e1d78');\n",
              "          const dataTable =\n",
              "            await google.colab.kernel.invokeFunction('convertToInteractive',\n",
              "                                                     [key], {});\n",
              "          if (!dataTable) return;\n",
              "\n",
              "          const docLinkHtml = 'Like what you see? Visit the ' +\n",
              "            '<a target=\"_blank\" href=https://colab.research.google.com/notebooks/data_table.ipynb>data table notebook</a>'\n",
              "            + ' to learn more about interactive tables.';\n",
              "          element.innerHTML = '';\n",
              "          dataTable['output_type'] = 'display_data';\n",
              "          await google.colab.output.renderOutput(dataTable, element);\n",
              "          const docLink = document.createElement('div');\n",
              "          docLink.innerHTML = docLinkHtml;\n",
              "          element.appendChild(docLink);\n",
              "        }\n",
              "      </script>\n",
              "    </div>\n",
              "  </div>\n",
              "  "
            ],
            "text/plain": [
              "      Frequência  Porcentagem (%)\n",
              "2019         232        13.144476\n",
              "2020         480        27.195467\n",
              "2021        1053        59.660057\n",
              "2022           0         0.000000"
            ]
          },
          "metadata": {},
          "execution_count": 11
        }
      ]
    },
    {
      "cell_type": "markdown",
      "source": [
        "###deletar a linha de 2022"
      ],
      "metadata": {
        "id": "mT3YLV129IqH"
      }
    },
    {
      "cell_type": "code",
      "source": [
        "dist_freq_renda = dist_freq_renda.iloc[:3]\n",
        "dist_freq_renda"
      ],
      "metadata": {
        "colab": {
          "base_uri": "https://localhost:8080/"
        },
        "id": "K0oizvXrWzmd",
        "outputId": "6d415950-aa46-4473-e77e-5805a399d20e"
      },
      "execution_count": null,
      "outputs": [
        {
          "output_type": "execute_result",
          "data": {
            "text/html": [
              "\n",
              "  <div id=\"df-4c8cb806-4d3a-42d9-8062-d551c67d1c73\">\n",
              "    <div class=\"colab-df-container\">\n",
              "      <div>\n",
              "<style scoped>\n",
              "    .dataframe tbody tr th:only-of-type {\n",
              "        vertical-align: middle;\n",
              "    }\n",
              "\n",
              "    .dataframe tbody tr th {\n",
              "        vertical-align: top;\n",
              "    }\n",
              "\n",
              "    .dataframe thead th {\n",
              "        text-align: right;\n",
              "    }\n",
              "</style>\n",
              "<table border=\"1\" class=\"dataframe\">\n",
              "  <thead>\n",
              "    <tr style=\"text-align: right;\">\n",
              "      <th></th>\n",
              "      <th>Frequência</th>\n",
              "      <th>Porcentagem (%)</th>\n",
              "    </tr>\n",
              "  </thead>\n",
              "  <tbody>\n",
              "    <tr>\n",
              "      <th>2021</th>\n",
              "      <td>1053</td>\n",
              "      <td>59.660057</td>\n",
              "    </tr>\n",
              "    <tr>\n",
              "      <th>2020</th>\n",
              "      <td>480</td>\n",
              "      <td>27.195467</td>\n",
              "    </tr>\n",
              "    <tr>\n",
              "      <th>2019</th>\n",
              "      <td>232</td>\n",
              "      <td>13.144476</td>\n",
              "    </tr>\n",
              "  </tbody>\n",
              "</table>\n",
              "</div>\n",
              "      <button class=\"colab-df-convert\" onclick=\"convertToInteractive('df-4c8cb806-4d3a-42d9-8062-d551c67d1c73')\"\n",
              "              title=\"Convert this dataframe to an interactive table.\"\n",
              "              style=\"display:none;\">\n",
              "        \n",
              "  <svg xmlns=\"http://www.w3.org/2000/svg\" height=\"24px\"viewBox=\"0 0 24 24\"\n",
              "       width=\"24px\">\n",
              "    <path d=\"M0 0h24v24H0V0z\" fill=\"none\"/>\n",
              "    <path d=\"M18.56 5.44l.94 2.06.94-2.06 2.06-.94-2.06-.94-.94-2.06-.94 2.06-2.06.94zm-11 1L8.5 8.5l.94-2.06 2.06-.94-2.06-.94L8.5 2.5l-.94 2.06-2.06.94zm10 10l.94 2.06.94-2.06 2.06-.94-2.06-.94-.94-2.06-.94 2.06-2.06.94z\"/><path d=\"M17.41 7.96l-1.37-1.37c-.4-.4-.92-.59-1.43-.59-.52 0-1.04.2-1.43.59L10.3 9.45l-7.72 7.72c-.78.78-.78 2.05 0 2.83L4 21.41c.39.39.9.59 1.41.59.51 0 1.02-.2 1.41-.59l7.78-7.78 2.81-2.81c.8-.78.8-2.07 0-2.86zM5.41 20L4 18.59l7.72-7.72 1.47 1.35L5.41 20z\"/>\n",
              "  </svg>\n",
              "      </button>\n",
              "      \n",
              "  <style>\n",
              "    .colab-df-container {\n",
              "      display:flex;\n",
              "      flex-wrap:wrap;\n",
              "      gap: 12px;\n",
              "    }\n",
              "\n",
              "    .colab-df-convert {\n",
              "      background-color: #E8F0FE;\n",
              "      border: none;\n",
              "      border-radius: 50%;\n",
              "      cursor: pointer;\n",
              "      display: none;\n",
              "      fill: #1967D2;\n",
              "      height: 32px;\n",
              "      padding: 0 0 0 0;\n",
              "      width: 32px;\n",
              "    }\n",
              "\n",
              "    .colab-df-convert:hover {\n",
              "      background-color: #E2EBFA;\n",
              "      box-shadow: 0px 1px 2px rgba(60, 64, 67, 0.3), 0px 1px 3px 1px rgba(60, 64, 67, 0.15);\n",
              "      fill: #174EA6;\n",
              "    }\n",
              "\n",
              "    [theme=dark] .colab-df-convert {\n",
              "      background-color: #3B4455;\n",
              "      fill: #D2E3FC;\n",
              "    }\n",
              "\n",
              "    [theme=dark] .colab-df-convert:hover {\n",
              "      background-color: #434B5C;\n",
              "      box-shadow: 0px 1px 3px 1px rgba(0, 0, 0, 0.15);\n",
              "      filter: drop-shadow(0px 1px 2px rgba(0, 0, 0, 0.3));\n",
              "      fill: #FFFFFF;\n",
              "    }\n",
              "  </style>\n",
              "\n",
              "      <script>\n",
              "        const buttonEl =\n",
              "          document.querySelector('#df-4c8cb806-4d3a-42d9-8062-d551c67d1c73 button.colab-df-convert');\n",
              "        buttonEl.style.display =\n",
              "          google.colab.kernel.accessAllowed ? 'block' : 'none';\n",
              "\n",
              "        async function convertToInteractive(key) {\n",
              "          const element = document.querySelector('#df-4c8cb806-4d3a-42d9-8062-d551c67d1c73');\n",
              "          const dataTable =\n",
              "            await google.colab.kernel.invokeFunction('convertToInteractive',\n",
              "                                                     [key], {});\n",
              "          if (!dataTable) return;\n",
              "\n",
              "          const docLinkHtml = 'Like what you see? Visit the ' +\n",
              "            '<a target=\"_blank\" href=https://colab.research.google.com/notebooks/data_table.ipynb>data table notebook</a>'\n",
              "            + ' to learn more about interactive tables.';\n",
              "          element.innerHTML = '';\n",
              "          dataTable['output_type'] = 'display_data';\n",
              "          await google.colab.output.renderOutput(dataTable, element);\n",
              "          const docLink = document.createElement('div');\n",
              "          docLink.innerHTML = docLinkHtml;\n",
              "          element.appendChild(docLink);\n",
              "        }\n",
              "      </script>\n",
              "    </div>\n",
              "  </div>\n",
              "  "
            ],
            "text/plain": [
              "      Frequência  Porcentagem (%)\n",
              "2021        1053        59.660057\n",
              "2020         480        27.195467\n",
              "2019         232        13.144476"
            ]
          },
          "metadata": {},
          "execution_count": 12
        }
      ]
    },
    {
      "cell_type": "code",
      "source": [
        "dist_freq_renda['Frequência'].plot.bar(width = 1, color = 'blue', alpha = 0.2, figsize=(6,3))"
      ],
      "metadata": {
        "colab": {
          "base_uri": "https://localhost:8080/"
        },
        "id": "pDyeIBJZ-6si",
        "outputId": "86980501-e0c8-403f-9299-97e4eb51939e"
      },
      "execution_count": null,
      "outputs": [
        {
          "output_type": "execute_result",
          "data": {
            "text/plain": [
              "<matplotlib.axes._subplots.AxesSubplot at 0x7f6bcc0b66d0>"
            ]
          },
          "metadata": {},
          "execution_count": 13
        },
        {
          "output_type": "display_data",
          "data": {
            "image/png": "[encoded data removed]",
            "text/plain": [
              "<Figure size 432x216 with 1 Axes>"
            ]
          },
          "metadata": {
            "needs_background": "light"
          }
        }
      ]
    },
    {
      "cell_type": "markdown",
      "source": [
        "<font color='green'>Conclusão: o ano de 2021 foi o que mais teve IPOs, com quase 60% dos últimos 3 anos."
      ],
      "metadata": {
        "id": "8xXvKlRP91NL"
      }
    },
    {
      "cell_type": "code",
      "source": [
        "dados = pd.read_csv(\"company_ipo.csv\", sep= \",\")\n",
        "\n",
        "dados"
      ],
      "metadata": {
        "colab": {
          "base_uri": "https://localhost:8080/",
          "height": 424
        },
        "id": "LbNrwJH1Ld37",
        "outputId": "d907db1d-31b7-4500-c036-1cbefb7938ef"
      },
      "execution_count": null,
      "outputs": [
        {
          "output_type": "execute_result",
          "data": {
            "text/html": [
              "\n",
              "  <div id=\"df-b187e5c4-a3bd-4c36-bf10-b74a0367b5fe\">\n",
              "    <div class=\"colab-df-container\">\n",
              "      <div>\n",
              "<style scoped>\n",
              "    .dataframe tbody tr th:only-of-type {\n",
              "        vertical-align: middle;\n",
              "    }\n",
              "\n",
              "    .dataframe tbody tr th {\n",
              "        vertical-align: top;\n",
              "    }\n",
              "\n",
              "    .dataframe thead th {\n",
              "        text-align: right;\n",
              "    }\n",
              "</style>\n",
              "<table border=\"1\" class=\"dataframe\">\n",
              "  <thead>\n",
              "    <tr style=\"text-align: right;\">\n",
              "      <th></th>\n",
              "      <th>ID</th>\n",
              "      <th>IPO Date</th>\n",
              "      <th>Symbol</th>\n",
              "      <th>Company Name</th>\n",
              "      <th>IPO Price</th>\n",
              "      <th>Current</th>\n",
              "      <th>Return</th>\n",
              "    </tr>\n",
              "  </thead>\n",
              "  <tbody>\n",
              "    <tr>\n",
              "      <th>0</th>\n",
              "      <td>1</td>\n",
              "      <td>Dec 21, 2021</td>\n",
              "      <td>NVAC</td>\n",
              "      <td>NorthView Acquisition</td>\n",
              "      <td>$10.00</td>\n",
              "      <td>$10.03</td>\n",
              "      <td>0.30%</td>\n",
              "    </tr>\n",
              "    <tr>\n",
              "      <th>1</th>\n",
              "      <td>2</td>\n",
              "      <td>Dec 21, 2021</td>\n",
              "      <td>LSPR</td>\n",
              "      <td>Larkspur Health Acquisition</td>\n",
              "      <td>$10.00</td>\n",
              "      <td>$9.98</td>\n",
              "      <td>-0.20%</td>\n",
              "    </tr>\n",
              "    <tr>\n",
              "      <th>2</th>\n",
              "      <td>3</td>\n",
              "      <td>Dec 21, 2021</td>\n",
              "      <td>SAGA</td>\n",
              "      <td>Sagaliam Acquisition</td>\n",
              "      <td>$10.00</td>\n",
              "      <td>$9.97</td>\n",
              "      <td>-0.30%</td>\n",
              "    </tr>\n",
              "    <tr>\n",
              "      <th>3</th>\n",
              "      <td>4</td>\n",
              "      <td>Dec 17, 2021</td>\n",
              "      <td>RCAC</td>\n",
              "      <td>Revelstone Capital Acquisition</td>\n",
              "      <td>$10.00</td>\n",
              "      <td>$9.90</td>\n",
              "      <td>-1.00%</td>\n",
              "    </tr>\n",
              "    <tr>\n",
              "      <th>4</th>\n",
              "      <td>5</td>\n",
              "      <td>Dec 17, 2021</td>\n",
              "      <td>APCA</td>\n",
              "      <td>AP Acquisition</td>\n",
              "      <td>$10.00</td>\n",
              "      <td>$10.11</td>\n",
              "      <td>1.10%</td>\n",
              "    </tr>\n",
              "    <tr>\n",
              "      <th>...</th>\n",
              "      <td>...</td>\n",
              "      <td>...</td>\n",
              "      <td>...</td>\n",
              "      <td>...</td>\n",
              "      <td>...</td>\n",
              "      <td>...</td>\n",
              "      <td>...</td>\n",
              "    </tr>\n",
              "    <tr>\n",
              "      <th>1760</th>\n",
              "      <td>1761</td>\n",
              "      <td>Jan 17, 2019</td>\n",
              "      <td>RBKB</td>\n",
              "      <td>Rhinebeck Bancorp</td>\n",
              "      <td>$10.00</td>\n",
              "      <td>$10.61</td>\n",
              "      <td>6.10%</td>\n",
              "    </tr>\n",
              "    <tr>\n",
              "      <th>1761</th>\n",
              "      <td>1762</td>\n",
              "      <td>Jan 9, 2019</td>\n",
              "      <td>BCOW</td>\n",
              "      <td>1895 Bancorp of Wisconsin</td>\n",
              "      <td>$10.00</td>\n",
              "      <td>$10.93</td>\n",
              "      <td>9.30%</td>\n",
              "    </tr>\n",
              "    <tr>\n",
              "      <th>1762</th>\n",
              "      <td>1763</td>\n",
              "      <td>Jan 8, 2019</td>\n",
              "      <td>MDJH</td>\n",
              "      <td>MDJM Ltd.</td>\n",
              "      <td>$5.00</td>\n",
              "      <td>$1.91</td>\n",
              "      <td>-61.80%</td>\n",
              "    </tr>\n",
              "    <tr>\n",
              "      <th>1763</th>\n",
              "      <td>1764</td>\n",
              "      <td>Jan 8, 2019</td>\n",
              "      <td>MTC</td>\n",
              "      <td>MMTec</td>\n",
              "      <td>$4.00</td>\n",
              "      <td>$0.85</td>\n",
              "      <td>-78.73%</td>\n",
              "    </tr>\n",
              "    <tr>\n",
              "      <th>1764</th>\n",
              "      <td>1765</td>\n",
              "      <td>Jan 4, 2019</td>\n",
              "      <td>SXTC</td>\n",
              "      <td>China SXT Pharmaceuticals</td>\n",
              "      <td>$4.00</td>\n",
              "      <td>$0.58</td>\n",
              "      <td>-85.60%</td>\n",
              "    </tr>\n",
              "  </tbody>\n",
              "</table>\n",
              "<p>1765 rows × 7 columns</p>\n",
              "</div>\n",
              "      <button class=\"colab-df-convert\" onclick=\"convertToInteractive('df-b187e5c4-a3bd-4c36-bf10-b74a0367b5fe')\"\n",
              "              title=\"Convert this dataframe to an interactive table.\"\n",
              "              style=\"display:none;\">\n",
              "        \n",
              "  <svg xmlns=\"http://www.w3.org/2000/svg\" height=\"24px\"viewBox=\"0 0 24 24\"\n",
              "       width=\"24px\">\n",
              "    <path d=\"M0 0h24v24H0V0z\" fill=\"none\"/>\n",
              "    <path d=\"M18.56 5.44l.94 2.06.94-2.06 2.06-.94-2.06-.94-.94-2.06-.94 2.06-2.06.94zm-11 1L8.5 8.5l.94-2.06 2.06-.94-2.06-.94L8.5 2.5l-.94 2.06-2.06.94zm10 10l.94 2.06.94-2.06 2.06-.94-2.06-.94-.94-2.06-.94 2.06-2.06.94z\"/><path d=\"M17.41 7.96l-1.37-1.37c-.4-.4-.92-.59-1.43-.59-.52 0-1.04.2-1.43.59L10.3 9.45l-7.72 7.72c-.78.78-.78 2.05 0 2.83L4 21.41c.39.39.9.59 1.41.59.51 0 1.02-.2 1.41-.59l7.78-7.78 2.81-2.81c.8-.78.8-2.07 0-2.86zM5.41 20L4 18.59l7.72-7.72 1.47 1.35L5.41 20z\"/>\n",
              "  </svg>\n",
              "      </button>\n",
              "      \n",
              "  <style>\n",
              "    .colab-df-container {\n",
              "      display:flex;\n",
              "      flex-wrap:wrap;\n",
              "      gap: 12px;\n",
              "    }\n",
              "\n",
              "    .colab-df-convert {\n",
              "      background-color: #E8F0FE;\n",
              "      border: none;\n",
              "      border-radius: 50%;\n",
              "      cursor: pointer;\n",
              "      display: none;\n",
              "      fill: #1967D2;\n",
              "      height: 32px;\n",
              "      padding: 0 0 0 0;\n",
              "      width: 32px;\n",
              "    }\n",
              "\n",
              "    .colab-df-convert:hover {\n",
              "      background-color: #E2EBFA;\n",
              "      box-shadow: 0px 1px 2px rgba(60, 64, 67, 0.3), 0px 1px 3px 1px rgba(60, 64, 67, 0.15);\n",
              "      fill: #174EA6;\n",
              "    }\n",
              "\n",
              "    [theme=dark] .colab-df-convert {\n",
              "      background-color: #3B4455;\n",
              "      fill: #D2E3FC;\n",
              "    }\n",
              "\n",
              "    [theme=dark] .colab-df-convert:hover {\n",
              "      background-color: #434B5C;\n",
              "      box-shadow: 0px 1px 3px 1px rgba(0, 0, 0, 0.15);\n",
              "      filter: drop-shadow(0px 1px 2px rgba(0, 0, 0, 0.3));\n",
              "      fill: #FFFFFF;\n",
              "    }\n",
              "  </style>\n",
              "\n",
              "      <script>\n",
              "        const buttonEl =\n",
              "          document.querySelector('#df-b187e5c4-a3bd-4c36-bf10-b74a0367b5fe button.colab-df-convert');\n",
              "        buttonEl.style.display =\n",
              "          google.colab.kernel.accessAllowed ? 'block' : 'none';\n",
              "\n",
              "        async function convertToInteractive(key) {\n",
              "          const element = document.querySelector('#df-b187e5c4-a3bd-4c36-bf10-b74a0367b5fe');\n",
              "          const dataTable =\n",
              "            await google.colab.kernel.invokeFunction('convertToInteractive',\n",
              "                                                     [key], {});\n",
              "          if (!dataTable) return;\n",
              "\n",
              "          const docLinkHtml = 'Like what you see? Visit the ' +\n",
              "            '<a target=\"_blank\" href=https://colab.research.google.com/notebooks/data_table.ipynb>data table notebook</a>'\n",
              "            + ' to learn more about interactive tables.';\n",
              "          element.innerHTML = '';\n",
              "          dataTable['output_type'] = 'display_data';\n",
              "          await google.colab.output.renderOutput(dataTable, element);\n",
              "          const docLink = document.createElement('div');\n",
              "          docLink.innerHTML = docLinkHtml;\n",
              "          element.appendChild(docLink);\n",
              "        }\n",
              "      </script>\n",
              "    </div>\n",
              "  </div>\n",
              "  "
            ],
            "text/plain": [
              "        ID      IPO Date Symbol  ... IPO Price Current   Return\n",
              "0        1  Dec 21, 2021   NVAC  ...    $10.00  $10.03    0.30%\n",
              "1        2  Dec 21, 2021   LSPR  ...    $10.00   $9.98   -0.20%\n",
              "2        3  Dec 21, 2021   SAGA  ...    $10.00   $9.97   -0.30%\n",
              "3        4  Dec 17, 2021   RCAC  ...    $10.00   $9.90   -1.00%\n",
              "4        5  Dec 17, 2021   APCA  ...    $10.00  $10.11    1.10%\n",
              "...    ...           ...    ...  ...       ...     ...      ...\n",
              "1760  1761  Jan 17, 2019   RBKB  ...    $10.00  $10.61    6.10%\n",
              "1761  1762   Jan 9, 2019   BCOW  ...    $10.00  $10.93    9.30%\n",
              "1762  1763   Jan 8, 2019   MDJH  ...     $5.00   $1.91  -61.80%\n",
              "1763  1764   Jan 8, 2019    MTC  ...     $4.00   $0.85  -78.73%\n",
              "1764  1765   Jan 4, 2019   SXTC  ...     $4.00   $0.58  -85.60%\n",
              "\n",
              "[1765 rows x 7 columns]"
            ]
          },
          "metadata": {},
          "execution_count": 3
        }
      ]
    },
    {
      "cell_type": "markdown",
      "source": [
        "###quebrando a coluna IPO Date em duas\n",
        "\n",
        "\n"
      ],
      "metadata": {
        "id": "8gikgFTi-suZ"
      }
    },
    {
      "cell_type": "code",
      "source": [
        "dados['IPO Month/Day'], dados['IPO Year'] = dados['IPO Date'].str.split(',', 1).str\n",
        "del dados['IPO Date']\n",
        "dados"
      ],
      "metadata": {
        "colab": {
          "base_uri": "https://localhost:8080/",
          "height": 458
        },
        "outputId": "0ed2b58b-d760-45ed-df95-5d07e20c6268",
        "id": "S2BJu0xJ-suZ"
      },
      "execution_count": null,
      "outputs": [
        {
          "output_type": "stream",
          "name": "stderr",
          "text": [
            "/usr/local/lib/python3.7/dist-packages/ipykernel_launcher.py:1: FutureWarning: Columnar iteration over characters will be deprecated in future releases.\n",
            "  \"\"\"Entry point for launching an IPython kernel.\n"
          ]
        },
        {
          "output_type": "execute_result",
          "data": {
            "text/html": [
              "\n",
              "  <div id=\"df-bbdcc230-dd55-4f19-a6c2-3c7f46c698e1\">\n",
              "    <div class=\"colab-df-container\">\n",
              "      <div>\n",
              "<style scoped>\n",
              "    .dataframe tbody tr th:only-of-type {\n",
              "        vertical-align: middle;\n",
              "    }\n",
              "\n",
              "    .dataframe tbody tr th {\n",
              "        vertical-align: top;\n",
              "    }\n",
              "\n",
              "    .dataframe thead th {\n",
              "        text-align: right;\n",
              "    }\n",
              "</style>\n",
              "<table border=\"1\" class=\"dataframe\">\n",
              "  <thead>\n",
              "    <tr style=\"text-align: right;\">\n",
              "      <th></th>\n",
              "      <th>ID</th>\n",
              "      <th>Symbol</th>\n",
              "      <th>Company Name</th>\n",
              "      <th>IPO Price</th>\n",
              "      <th>Current</th>\n",
              "      <th>Return</th>\n",
              "      <th>IPO Month/Day</th>\n",
              "      <th>IPO Year</th>\n",
              "    </tr>\n",
              "  </thead>\n",
              "  <tbody>\n",
              "    <tr>\n",
              "      <th>0</th>\n",
              "      <td>1</td>\n",
              "      <td>NVAC</td>\n",
              "      <td>NorthView Acquisition</td>\n",
              "      <td>$10.00</td>\n",
              "      <td>$10.03</td>\n",
              "      <td>0.30%</td>\n",
              "      <td>Dec 21</td>\n",
              "      <td>2021</td>\n",
              "    </tr>\n",
              "    <tr>\n",
              "      <th>1</th>\n",
              "      <td>2</td>\n",
              "      <td>LSPR</td>\n",
              "      <td>Larkspur Health Acquisition</td>\n",
              "      <td>$10.00</td>\n",
              "      <td>$9.98</td>\n",
              "      <td>-0.20%</td>\n",
              "      <td>Dec 21</td>\n",
              "      <td>2021</td>\n",
              "    </tr>\n",
              "    <tr>\n",
              "      <th>2</th>\n",
              "      <td>3</td>\n",
              "      <td>SAGA</td>\n",
              "      <td>Sagaliam Acquisition</td>\n",
              "      <td>$10.00</td>\n",
              "      <td>$9.97</td>\n",
              "      <td>-0.30%</td>\n",
              "      <td>Dec 21</td>\n",
              "      <td>2021</td>\n",
              "    </tr>\n",
              "    <tr>\n",
              "      <th>3</th>\n",
              "      <td>4</td>\n",
              "      <td>RCAC</td>\n",
              "      <td>Revelstone Capital Acquisition</td>\n",
              "      <td>$10.00</td>\n",
              "      <td>$9.90</td>\n",
              "      <td>-1.00%</td>\n",
              "      <td>Dec 17</td>\n",
              "      <td>2021</td>\n",
              "    </tr>\n",
              "    <tr>\n",
              "      <th>4</th>\n",
              "      <td>5</td>\n",
              "      <td>APCA</td>\n",
              "      <td>AP Acquisition</td>\n",
              "      <td>$10.00</td>\n",
              "      <td>$10.11</td>\n",
              "      <td>1.10%</td>\n",
              "      <td>Dec 17</td>\n",
              "      <td>2021</td>\n",
              "    </tr>\n",
              "    <tr>\n",
              "      <th>...</th>\n",
              "      <td>...</td>\n",
              "      <td>...</td>\n",
              "      <td>...</td>\n",
              "      <td>...</td>\n",
              "      <td>...</td>\n",
              "      <td>...</td>\n",
              "      <td>...</td>\n",
              "      <td>...</td>\n",
              "    </tr>\n",
              "    <tr>\n",
              "      <th>1760</th>\n",
              "      <td>1761</td>\n",
              "      <td>RBKB</td>\n",
              "      <td>Rhinebeck Bancorp</td>\n",
              "      <td>$10.00</td>\n",
              "      <td>$10.61</td>\n",
              "      <td>6.10%</td>\n",
              "      <td>Jan 17</td>\n",
              "      <td>2019</td>\n",
              "    </tr>\n",
              "    <tr>\n",
              "      <th>1761</th>\n",
              "      <td>1762</td>\n",
              "      <td>BCOW</td>\n",
              "      <td>1895 Bancorp of Wisconsin</td>\n",
              "      <td>$10.00</td>\n",
              "      <td>$10.93</td>\n",
              "      <td>9.30%</td>\n",
              "      <td>Jan 9</td>\n",
              "      <td>2019</td>\n",
              "    </tr>\n",
              "    <tr>\n",
              "      <th>1762</th>\n",
              "      <td>1763</td>\n",
              "      <td>MDJH</td>\n",
              "      <td>MDJM Ltd.</td>\n",
              "      <td>$5.00</td>\n",
              "      <td>$1.91</td>\n",
              "      <td>-61.80%</td>\n",
              "      <td>Jan 8</td>\n",
              "      <td>2019</td>\n",
              "    </tr>\n",
              "    <tr>\n",
              "      <th>1763</th>\n",
              "      <td>1764</td>\n",
              "      <td>MTC</td>\n",
              "      <td>MMTec</td>\n",
              "      <td>$4.00</td>\n",
              "      <td>$0.85</td>\n",
              "      <td>-78.73%</td>\n",
              "      <td>Jan 8</td>\n",
              "      <td>2019</td>\n",
              "    </tr>\n",
              "    <tr>\n",
              "      <th>1764</th>\n",
              "      <td>1765</td>\n",
              "      <td>SXTC</td>\n",
              "      <td>China SXT Pharmaceuticals</td>\n",
              "      <td>$4.00</td>\n",
              "      <td>$0.58</td>\n",
              "      <td>-85.60%</td>\n",
              "      <td>Jan 4</td>\n",
              "      <td>2019</td>\n",
              "    </tr>\n",
              "  </tbody>\n",
              "</table>\n",
              "<p>1765 rows × 8 columns</p>\n",
              "</div>\n",
              "      <button class=\"colab-df-convert\" onclick=\"convertToInteractive('df-bbdcc230-dd55-4f19-a6c2-3c7f46c698e1')\"\n",
              "              title=\"Convert this dataframe to an interactive table.\"\n",
              "              style=\"display:none;\">\n",
              "        \n",
              "  <svg xmlns=\"http://www.w3.org/2000/svg\" height=\"24px\"viewBox=\"0 0 24 24\"\n",
              "       width=\"24px\">\n",
              "    <path d=\"M0 0h24v24H0V0z\" fill=\"none\"/>\n",
              "    <path d=\"M18.56 5.44l.94 2.06.94-2.06 2.06-.94-2.06-.94-.94-2.06-.94 2.06-2.06.94zm-11 1L8.5 8.5l.94-2.06 2.06-.94-2.06-.94L8.5 2.5l-.94 2.06-2.06.94zm10 10l.94 2.06.94-2.06 2.06-.94-2.06-.94-.94-2.06-.94 2.06-2.06.94z\"/><path d=\"M17.41 7.96l-1.37-1.37c-.4-.4-.92-.59-1.43-.59-.52 0-1.04.2-1.43.59L10.3 9.45l-7.72 7.72c-.78.78-.78 2.05 0 2.83L4 21.41c.39.39.9.59 1.41.59.51 0 1.02-.2 1.41-.59l7.78-7.78 2.81-2.81c.8-.78.8-2.07 0-2.86zM5.41 20L4 18.59l7.72-7.72 1.47 1.35L5.41 20z\"/>\n",
              "  </svg>\n",
              "      </button>\n",
              "      \n",
              "  <style>\n",
              "    .colab-df-container {\n",
              "      display:flex;\n",
              "      flex-wrap:wrap;\n",
              "      gap: 12px;\n",
              "    }\n",
              "\n",
              "    .colab-df-convert {\n",
              "      background-color: #E8F0FE;\n",
              "      border: none;\n",
              "      border-radius: 50%;\n",
              "      cursor: pointer;\n",
              "      display: none;\n",
              "      fill: #1967D2;\n",
              "      height: 32px;\n",
              "      padding: 0 0 0 0;\n",
              "      width: 32px;\n",
              "    }\n",
              "\n",
              "    .colab-df-convert:hover {\n",
              "      background-color: #E2EBFA;\n",
              "      box-shadow: 0px 1px 2px rgba(60, 64, 67, 0.3), 0px 1px 3px 1px rgba(60, 64, 67, 0.15);\n",
              "      fill: #174EA6;\n",
              "    }\n",
              "\n",
              "    [theme=dark] .colab-df-convert {\n",
              "      background-color: #3B4455;\n",
              "      fill: #D2E3FC;\n",
              "    }\n",
              "\n",
              "    [theme=dark] .colab-df-convert:hover {\n",
              "      background-color: #434B5C;\n",
              "      box-shadow: 0px 1px 3px 1px rgba(0, 0, 0, 0.15);\n",
              "      filter: drop-shadow(0px 1px 2px rgba(0, 0, 0, 0.3));\n",
              "      fill: #FFFFFF;\n",
              "    }\n",
              "  </style>\n",
              "\n",
              "      <script>\n",
              "        const buttonEl =\n",
              "          document.querySelector('#df-bbdcc230-dd55-4f19-a6c2-3c7f46c698e1 button.colab-df-convert');\n",
              "        buttonEl.style.display =\n",
              "          google.colab.kernel.accessAllowed ? 'block' : 'none';\n",
              "\n",
              "        async function convertToInteractive(key) {\n",
              "          const element = document.querySelector('#df-bbdcc230-dd55-4f19-a6c2-3c7f46c698e1');\n",
              "          const dataTable =\n",
              "            await google.colab.kernel.invokeFunction('convertToInteractive',\n",
              "                                                     [key], {});\n",
              "          if (!dataTable) return;\n",
              "\n",
              "          const docLinkHtml = 'Like what you see? Visit the ' +\n",
              "            '<a target=\"_blank\" href=https://colab.research.google.com/notebooks/data_table.ipynb>data table notebook</a>'\n",
              "            + ' to learn more about interactive tables.';\n",
              "          element.innerHTML = '';\n",
              "          dataTable['output_type'] = 'display_data';\n",
              "          await google.colab.output.renderOutput(dataTable, element);\n",
              "          const docLink = document.createElement('div');\n",
              "          docLink.innerHTML = docLinkHtml;\n",
              "          element.appendChild(docLink);\n",
              "        }\n",
              "      </script>\n",
              "    </div>\n",
              "  </div>\n",
              "  "
            ],
            "text/plain": [
              "        ID Symbol  ... IPO Month/Day IPO Year\n",
              "0        1   NVAC  ...        Dec 21     2021\n",
              "1        2   LSPR  ...        Dec 21     2021\n",
              "2        3   SAGA  ...        Dec 21     2021\n",
              "3        4   RCAC  ...        Dec 17     2021\n",
              "4        5   APCA  ...        Dec 17     2021\n",
              "...    ...    ...  ...           ...      ...\n",
              "1760  1761   RBKB  ...        Jan 17     2019\n",
              "1761  1762   BCOW  ...         Jan 9     2019\n",
              "1762  1763   MDJH  ...         Jan 8     2019\n",
              "1763  1764    MTC  ...         Jan 8     2019\n",
              "1764  1765   SXTC  ...         Jan 4     2019\n",
              "\n",
              "[1765 rows x 8 columns]"
            ]
          },
          "metadata": {},
          "execution_count": 4
        }
      ]
    },
    {
      "cell_type": "code",
      "source": [
        "dados.info()"
      ],
      "metadata": {
        "colab": {
          "base_uri": "https://localhost:8080/"
        },
        "outputId": "80075c36-113a-450c-a284-d7108bf17d20",
        "id": "O-_vSDy2-sua"
      },
      "execution_count": null,
      "outputs": [
        {
          "output_type": "stream",
          "name": "stdout",
          "text": [
            "<class 'pandas.core.frame.DataFrame'>\n",
            "RangeIndex: 1765 entries, 0 to 1764\n",
            "Data columns (total 8 columns):\n",
            " #   Column         Non-Null Count  Dtype \n",
            "---  ------         --------------  ----- \n",
            " 0   ID             1765 non-null   int64 \n",
            " 1   Symbol         1765 non-null   object\n",
            " 2   Company Name   1765 non-null   object\n",
            " 3   IPO Price      1765 non-null   object\n",
            " 4   Current        1765 non-null   object\n",
            " 5   Return         1765 non-null   object\n",
            " 6   IPO Month/Day  1765 non-null   object\n",
            " 7   IPO Year       1765 non-null   object\n",
            "dtypes: int64(1), object(7)\n",
            "memory usage: 110.4+ KB\n"
          ]
        }
      ]
    },
    {
      "cell_type": "markdown",
      "source": [
        "###transformando a coluna 'IPO Year' de str para int\n",
        "\n"
      ],
      "metadata": {
        "id": "FZjkBpnO-sub"
      }
    },
    {
      "cell_type": "code",
      "source": [
        "dados['IPO Year'] = dados['IPO Year'].astype(int)\n",
        "dados.info()"
      ],
      "metadata": {
        "colab": {
          "base_uri": "https://localhost:8080/"
        },
        "outputId": "8f5f5147-63d1-4234-edeb-53f061948b5d",
        "id": "UoiFkMmq-sub"
      },
      "execution_count": null,
      "outputs": [
        {
          "output_type": "stream",
          "name": "stdout",
          "text": [
            "<class 'pandas.core.frame.DataFrame'>\n",
            "RangeIndex: 1765 entries, 0 to 1764\n",
            "Data columns (total 8 columns):\n",
            " #   Column         Non-Null Count  Dtype \n",
            "---  ------         --------------  ----- \n",
            " 0   ID             1765 non-null   int64 \n",
            " 1   Symbol         1765 non-null   object\n",
            " 2   Company Name   1765 non-null   object\n",
            " 3   IPO Price      1765 non-null   object\n",
            " 4   Current        1765 non-null   object\n",
            " 5   Return         1765 non-null   object\n",
            " 6   IPO Month/Day  1765 non-null   object\n",
            " 7   IPO Year       1765 non-null   int64 \n",
            "dtypes: int64(2), object(6)\n",
            "memory usage: 110.4+ KB\n"
          ]
        }
      ]
    },
    {
      "cell_type": "markdown",
      "source": [
        "###classes e labels"
      ],
      "metadata": {
        "id": "0NLMuQ_L-suc"
      }
    },
    {
      "cell_type": "code",
      "source": [
        "classes = [2018,2019,2020,2021,2022]"
      ],
      "metadata": {
        "id": "DqxoA7HU-suc"
      },
      "execution_count": null,
      "outputs": []
    },
    {
      "cell_type": "code",
      "source": [
        "labels = [2019,2020,2021,2022]"
      ],
      "metadata": {
        "id": "kVEDIYta-suc"
      },
      "execution_count": null,
      "outputs": []
    },
    {
      "cell_type": "markdown",
      "source": [
        "###colunas de frequência e percentuais"
      ],
      "metadata": {
        "id": "pgfHi5L6-suc"
      }
    },
    {
      "cell_type": "code",
      "source": [
        "frequencia = pd.value_counts(pd.cut(x = dados['IPO Year'],bins = classes,labels = labels,include_lowest = True))\n",
        "frequencia"
      ],
      "metadata": {
        "colab": {
          "base_uri": "https://localhost:8080/"
        },
        "outputId": "b4eb0b9c-4b1e-4842-90d1-4bd9d81cc496",
        "id": "jC6_7npT-sud"
      },
      "execution_count": null,
      "outputs": [
        {
          "output_type": "execute_result",
          "data": {
            "text/plain": [
              "2021    1053\n",
              "2020     480\n",
              "2019     232\n",
              "2022       0\n",
              "Name: IPO Year, dtype: int64"
            ]
          },
          "metadata": {},
          "execution_count": 9
        }
      ]
    },
    {
      "cell_type": "code",
      "source": [
        "percentual = pd.value_counts(pd.cut(x = dados['IPO Year'],bins = classes,labels = labels,include_lowest = True),normalize = True) * 100\n",
        "percentual"
      ],
      "metadata": {
        "colab": {
          "base_uri": "https://localhost:8080/"
        },
        "outputId": "39a34f64-954f-4f16-8a65-2c0ba4ab4c0f",
        "id": "NVXbtlC2-sud"
      },
      "execution_count": null,
      "outputs": [
        {
          "output_type": "execute_result",
          "data": {
            "text/plain": [
              "2021    59.660057\n",
              "2020    27.195467\n",
              "2019    13.144476\n",
              "2022     0.000000\n",
              "Name: IPO Year, dtype: float64"
            ]
          },
          "metadata": {},
          "execution_count": 10
        }
      ]
    },
    {
      "cell_type": "code",
      "source": [
        "dist_freq_renda = pd.DataFrame({'Frequência': frequencia, 'Porcentagem (%)': percentual})\n",
        "dist_freq_renda.sort_index(ascending = True)"
      ],
      "metadata": {
        "colab": {
          "base_uri": "https://localhost:8080/",
          "height": 175
        },
        "outputId": "01c00c49-c694-4f11-c7ae-660513e18a3e",
        "id": "6AZS-cKR-sud"
      },
      "execution_count": null,
      "outputs": [
        {
          "output_type": "execute_result",
          "data": {
            "text/html": [
              "\n",
              "  <div id=\"df-6b6a9a7e-16a2-496c-94cf-3082535e1d78\">\n",
              "    <div class=\"colab-df-container\">\n",
              "      <div>\n",
              "<style scoped>\n",
              "    .dataframe tbody tr th:only-of-type {\n",
              "        vertical-align: middle;\n",
              "    }\n",
              "\n",
              "    .dataframe tbody tr th {\n",
              "        vertical-align: top;\n",
              "    }\n",
              "\n",
              "    .dataframe thead th {\n",
              "        text-align: right;\n",
              "    }\n",
              "</style>\n",
              "<table border=\"1\" class=\"dataframe\">\n",
              "  <thead>\n",
              "    <tr style=\"text-align: right;\">\n",
              "      <th></th>\n",
              "      <th>Frequência</th>\n",
              "      <th>Porcentagem (%)</th>\n",
              "    </tr>\n",
              "  </thead>\n",
              "  <tbody>\n",
              "    <tr>\n",
              "      <th>2019</th>\n",
              "      <td>232</td>\n",
              "      <td>13.144476</td>\n",
              "    </tr>\n",
              "    <tr>\n",
              "      <th>2020</th>\n",
              "      <td>480</td>\n",
              "      <td>27.195467</td>\n",
              "    </tr>\n",
              "    <tr>\n",
              "      <th>2021</th>\n",
              "      <td>1053</td>\n",
              "      <td>59.660057</td>\n",
              "    </tr>\n",
              "    <tr>\n",
              "      <th>2022</th>\n",
              "      <td>0</td>\n",
              "      <td>0.000000</td>\n",
              "    </tr>\n",
              "  </tbody>\n",
              "</table>\n",
              "</div>\n",
              "      <button class=\"colab-df-convert\" onclick=\"convertToInteractive('df-6b6a9a7e-16a2-496c-94cf-3082535e1d78')\"\n",
              "              title=\"Convert this dataframe to an interactive table.\"\n",
              "              style=\"display:none;\">\n",
              "        \n",
              "  <svg xmlns=\"http://www.w3.org/2000/svg\" height=\"24px\"viewBox=\"0 0 24 24\"\n",
              "       width=\"24px\">\n",
              "    <path d=\"M0 0h24v24H0V0z\" fill=\"none\"/>\n",
              "    <path d=\"M18.56 5.44l.94 2.06.94-2.06 2.06-.94-2.06-.94-.94-2.06-.94 2.06-2.06.94zm-11 1L8.5 8.5l.94-2.06 2.06-.94-2.06-.94L8.5 2.5l-.94 2.06-2.06.94zm10 10l.94 2.06.94-2.06 2.06-.94-2.06-.94-.94-2.06-.94 2.06-2.06.94z\"/><path d=\"M17.41 7.96l-1.37-1.37c-.4-.4-.92-.59-1.43-.59-.52 0-1.04.2-1.43.59L10.3 9.45l-7.72 7.72c-.78.78-.78 2.05 0 2.83L4 21.41c.39.39.9.59 1.41.59.51 0 1.02-.2 1.41-.59l7.78-7.78 2.81-2.81c.8-.78.8-2.07 0-2.86zM5.41 20L4 18.59l7.72-7.72 1.47 1.35L5.41 20z\"/>\n",
              "  </svg>\n",
              "      </button>\n",
              "      \n",
              "  <style>\n",
              "    .colab-df-container {\n",
              "      display:flex;\n",
              "      flex-wrap:wrap;\n",
              "      gap: 12px;\n",
              "    }\n",
              "\n",
              "    .colab-df-convert {\n",
              "      background-color: #E8F0FE;\n",
              "      border: none;\n",
              "      border-radius: 50%;\n",
              "      cursor: pointer;\n",
              "      display: none;\n",
              "      fill: #1967D2;\n",
              "      height: 32px;\n",
              "      padding: 0 0 0 0;\n",
              "      width: 32px;\n",
              "    }\n",
              "\n",
              "    .colab-df-convert:hover {\n",
              "      background-color: #E2EBFA;\n",
              "      box-shadow: 0px 1px 2px rgba(60, 64, 67, 0.3), 0px 1px 3px 1px rgba(60, 64, 67, 0.15);\n",
              "      fill: #174EA6;\n",
              "    }\n",
              "\n",
              "    [theme=dark] .colab-df-convert {\n",
              "      background-color: #3B4455;\n",
              "      fill: #D2E3FC;\n",
              "    }\n",
              "\n",
              "    [theme=dark] .colab-df-convert:hover {\n",
              "      background-color: #434B5C;\n",
              "      box-shadow: 0px 1px 3px 1px rgba(0, 0, 0, 0.15);\n",
              "      filter: drop-shadow(0px 1px 2px rgba(0, 0, 0, 0.3));\n",
              "      fill: #FFFFFF;\n",
              "    }\n",
              "  </style>\n",
              "\n",
              "      <script>\n",
              "        const buttonEl =\n",
              "          document.querySelector('#df-6b6a9a7e-16a2-496c-94cf-3082535e1d78 button.colab-df-convert');\n",
              "        buttonEl.style.display =\n",
              "          google.colab.kernel.accessAllowed ? 'block' : 'none';\n",
              "\n",
              "        async function convertToInteractive(key) {\n",
              "          const element = document.querySelector('#df-6b6a9a7e-16a2-496c-94cf-3082535e1d78');\n",
              "          const dataTable =\n",
              "            await google.colab.kernel.invokeFunction('convertToInteractive',\n",
              "                                                     [key], {});\n",
              "          if (!dataTable) return;\n",
              "\n",
              "          const docLinkHtml = 'Like what you see? Visit the ' +\n",
              "            '<a target=\"_blank\" href=https://colab.research.google.com/notebooks/data_table.ipynb>data table notebook</a>'\n",
              "            + ' to learn more about interactive tables.';\n",
              "          element.innerHTML = '';\n",
              "          dataTable['output_type'] = 'display_data';\n",
              "          await google.colab.output.renderOutput(dataTable, element);\n",
              "          const docLink = document.createElement('div');\n",
              "          docLink.innerHTML = docLinkHtml;\n",
              "          element.appendChild(docLink);\n",
              "        }\n",
              "      </script>\n",
              "    </div>\n",
              "  </div>\n",
              "  "
            ],
            "text/plain": [
              "      Frequência  Porcentagem (%)\n",
              "2019         232        13.144476\n",
              "2020         480        27.195467\n",
              "2021        1053        59.660057\n",
              "2022           0         0.000000"
            ]
          },
          "metadata": {},
          "execution_count": 11
        }
      ]
    },
    {
      "cell_type": "markdown",
      "source": [
        "###deletar a linha de 2022"
      ],
      "metadata": {
        "id": "mxnPbv4H-sue"
      }
    },
    {
      "cell_type": "code",
      "source": [
        "dist_freq_renda = dist_freq_renda.iloc[:3]\n",
        "dist_freq_renda"
      ],
      "metadata": {
        "colab": {
          "base_uri": "https://localhost:8080/",
          "height": 143
        },
        "outputId": "6d415950-aa46-4473-e77e-5805a399d20e",
        "id": "9GSuysBv-sue"
      },
      "execution_count": null,
      "outputs": [
        {
          "output_type": "execute_result",
          "data": {
            "text/html": [
              "\n",
              "  <div id=\"df-4c8cb806-4d3a-42d9-8062-d551c67d1c73\">\n",
              "    <div class=\"colab-df-container\">\n",
              "      <div>\n",
              "<style scoped>\n",
              "    .dataframe tbody tr th:only-of-type {\n",
              "        vertical-align: middle;\n",
              "    }\n",
              "\n",
              "    .dataframe tbody tr th {\n",
              "        vertical-align: top;\n",
              "    }\n",
              "\n",
              "    .dataframe thead th {\n",
              "        text-align: right;\n",
              "    }\n",
              "</style>\n",
              "<table border=\"1\" class=\"dataframe\">\n",
              "  <thead>\n",
              "    <tr style=\"text-align: right;\">\n",
              "      <th></th>\n",
              "      <th>Frequência</th>\n",
              "      <th>Porcentagem (%)</th>\n",
              "    </tr>\n",
              "  </thead>\n",
              "  <tbody>\n",
              "    <tr>\n",
              "      <th>2021</th>\n",
              "      <td>1053</td>\n",
              "      <td>59.660057</td>\n",
              "    </tr>\n",
              "    <tr>\n",
              "      <th>2020</th>\n",
              "      <td>480</td>\n",
              "      <td>27.195467</td>\n",
              "    </tr>\n",
              "    <tr>\n",
              "      <th>2019</th>\n",
              "      <td>232</td>\n",
              "      <td>13.144476</td>\n",
              "    </tr>\n",
              "  </tbody>\n",
              "</table>\n",
              "</div>\n",
              "      <button class=\"colab-df-convert\" onclick=\"convertToInteractive('df-4c8cb806-4d3a-42d9-8062-d551c67d1c73')\"\n",
              "              title=\"Convert this dataframe to an interactive table.\"\n",
              "              style=\"display:none;\">\n",
              "        \n",
              "  <svg xmlns=\"http://www.w3.org/2000/svg\" height=\"24px\"viewBox=\"0 0 24 24\"\n",
              "       width=\"24px\">\n",
              "    <path d=\"M0 0h24v24H0V0z\" fill=\"none\"/>\n",
              "    <path d=\"M18.56 5.44l.94 2.06.94-2.06 2.06-.94-2.06-.94-.94-2.06-.94 2.06-2.06.94zm-11 1L8.5 8.5l.94-2.06 2.06-.94-2.06-.94L8.5 2.5l-.94 2.06-2.06.94zm10 10l.94 2.06.94-2.06 2.06-.94-2.06-.94-.94-2.06-.94 2.06-2.06.94z\"/><path d=\"M17.41 7.96l-1.37-1.37c-.4-.4-.92-.59-1.43-.59-.52 0-1.04.2-1.43.59L10.3 9.45l-7.72 7.72c-.78.78-.78 2.05 0 2.83L4 21.41c.39.39.9.59 1.41.59.51 0 1.02-.2 1.41-.59l7.78-7.78 2.81-2.81c.8-.78.8-2.07 0-2.86zM5.41 20L4 18.59l7.72-7.72 1.47 1.35L5.41 20z\"/>\n",
              "  </svg>\n",
              "      </button>\n",
              "      \n",
              "  <style>\n",
              "    .colab-df-container {\n",
              "      display:flex;\n",
              "      flex-wrap:wrap;\n",
              "      gap: 12px;\n",
              "    }\n",
              "\n",
              "    .colab-df-convert {\n",
              "      background-color: #E8F0FE;\n",
              "      border: none;\n",
              "      border-radius: 50%;\n",
              "      cursor: pointer;\n",
              "      display: none;\n",
              "      fill: #1967D2;\n",
              "      height: 32px;\n",
              "      padding: 0 0 0 0;\n",
              "      width: 32px;\n",
              "    }\n",
              "\n",
              "    .colab-df-convert:hover {\n",
              "      background-color: #E2EBFA;\n",
              "      box-shadow: 0px 1px 2px rgba(60, 64, 67, 0.3), 0px 1px 3px 1px rgba(60, 64, 67, 0.15);\n",
              "      fill: #174EA6;\n",
              "    }\n",
              "\n",
              "    [theme=dark] .colab-df-convert {\n",
              "      background-color: #3B4455;\n",
              "      fill: #D2E3FC;\n",
              "    }\n",
              "\n",
              "    [theme=dark] .colab-df-convert:hover {\n",
              "      background-color: #434B5C;\n",
              "      box-shadow: 0px 1px 3px 1px rgba(0, 0, 0, 0.15);\n",
              "      filter: drop-shadow(0px 1px 2px rgba(0, 0, 0, 0.3));\n",
              "      fill: #FFFFFF;\n",
              "    }\n",
              "  </style>\n",
              "\n",
              "      <script>\n",
              "        const buttonEl =\n",
              "          document.querySelector('#df-4c8cb806-4d3a-42d9-8062-d551c67d1c73 button.colab-df-convert');\n",
              "        buttonEl.style.display =\n",
              "          google.colab.kernel.accessAllowed ? 'block' : 'none';\n",
              "\n",
              "        async function convertToInteractive(key) {\n",
              "          const element = document.querySelector('#df-4c8cb806-4d3a-42d9-8062-d551c67d1c73');\n",
              "          const dataTable =\n",
              "            await google.colab.kernel.invokeFunction('convertToInteractive',\n",
              "                                                     [key], {});\n",
              "          if (!dataTable) return;\n",
              "\n",
              "          const docLinkHtml = 'Like what you see? Visit the ' +\n",
              "            '<a target=\"_blank\" href=https://colab.research.google.com/notebooks/data_table.ipynb>data table notebook</a>'\n",
              "            + ' to learn more about interactive tables.';\n",
              "          element.innerHTML = '';\n",
              "          dataTable['output_type'] = 'display_data';\n",
              "          await google.colab.output.renderOutput(dataTable, element);\n",
              "          const docLink = document.createElement('div');\n",
              "          docLink.innerHTML = docLinkHtml;\n",
              "          element.appendChild(docLink);\n",
              "        }\n",
              "      </script>\n",
              "    </div>\n",
              "  </div>\n",
              "  "
            ],
            "text/plain": [
              "      Frequência  Porcentagem (%)\n",
              "2021        1053        59.660057\n",
              "2020         480        27.195467\n",
              "2019         232        13.144476"
            ]
          },
          "metadata": {},
          "execution_count": 12
        }
      ]
    },
    {
      "cell_type": "code",
      "source": [
        "dist_freq_renda['Frequência'].plot.bar(width = 1, color = 'blue', alpha = 0.2, figsize=(6,3))"
      ],
      "metadata": {
        "colab": {
          "base_uri": "https://localhost:8080/",
          "height": 243
        },
        "outputId": "86980501-e0c8-403f-9299-97e4eb51939e",
        "id": "lJDsCElE-sue"
      },
      "execution_count": null,
      "outputs": [
        {
          "output_type": "execute_result",
          "data": {
            "text/plain": [
              "<matplotlib.axes._subplots.AxesSubplot at 0x7f6bcc0b66d0>"
            ]
          },
          "metadata": {},
          "execution_count": 13
        },
        {
          "output_type": "display_data",
          "data": {
            "image/png": "[encoded data removed]",
            "text/plain": [
              "<Figure size 432x216 with 1 Axes>"
            ]
          },
          "metadata": {
            "needs_background": "light"
          }
        }
      ]
    },
    {
      "cell_type": "markdown",
      "source": [
        "<font color='green'>Conclusão: o ano de 2021 foi o que mais teve IPOs, com quase 60% dos últimos 3 anos."
      ],
      "metadata": {
        "id": "QRB1De__-suf"
      }
    },
    {
      "cell_type": "markdown",
      "source": [
        "##<font color='blue'>Pergunta 2: como foi a distribuição de frequências dos retornos do período todo?"
      ],
      "metadata": {
        "id": "6iq0_uO6-cXB"
      }
    },
    {
      "cell_type": "code",
      "source": [
        "dados"
      ],
      "metadata": {
        "id": "72FXNpyZXUbG",
        "colab": {
          "base_uri": "https://localhost:8080/",
          "height": 424
        },
        "outputId": "391b804c-ca06-481e-9444-cc58c739c928"
      },
      "execution_count": null,
      "outputs": [
        {
          "output_type": "execute_result",
          "data": {
            "text/html": [
              "\n",
              "  <div id=\"df-1bf48d0d-969c-4ed2-a967-c09b9bf75236\">\n",
              "    <div class=\"colab-df-container\">\n",
              "      <div>\n",
              "<style scoped>\n",
              "    .dataframe tbody tr th:only-of-type {\n",
              "        vertical-align: middle;\n",
              "    }\n",
              "\n",
              "    .dataframe tbody tr th {\n",
              "        vertical-align: top;\n",
              "    }\n",
              "\n",
              "    .dataframe thead th {\n",
              "        text-align: right;\n",
              "    }\n",
              "</style>\n",
              "<table border=\"1\" class=\"dataframe\">\n",
              "  <thead>\n",
              "    <tr style=\"text-align: right;\">\n",
              "      <th></th>\n",
              "      <th>ID</th>\n",
              "      <th>Symbol</th>\n",
              "      <th>Company Name</th>\n",
              "      <th>IPO Price</th>\n",
              "      <th>Current</th>\n",
              "      <th>Return</th>\n",
              "      <th>IPO Month/Day</th>\n",
              "      <th>IPO Year</th>\n",
              "    </tr>\n",
              "  </thead>\n",
              "  <tbody>\n",
              "    <tr>\n",
              "      <th>0</th>\n",
              "      <td>1</td>\n",
              "      <td>NVAC</td>\n",
              "      <td>NorthView Acquisition</td>\n",
              "      <td>$10.00</td>\n",
              "      <td>$10.03</td>\n",
              "      <td>0.30%</td>\n",
              "      <td>Dec 21</td>\n",
              "      <td>2021</td>\n",
              "    </tr>\n",
              "    <tr>\n",
              "      <th>1</th>\n",
              "      <td>2</td>\n",
              "      <td>LSPR</td>\n",
              "      <td>Larkspur Health Acquisition</td>\n",
              "      <td>$10.00</td>\n",
              "      <td>$9.98</td>\n",
              "      <td>-0.20%</td>\n",
              "      <td>Dec 21</td>\n",
              "      <td>2021</td>\n",
              "    </tr>\n",
              "    <tr>\n",
              "      <th>2</th>\n",
              "      <td>3</td>\n",
              "      <td>SAGA</td>\n",
              "      <td>Sagaliam Acquisition</td>\n",
              "      <td>$10.00</td>\n",
              "      <td>$9.97</td>\n",
              "      <td>-0.30%</td>\n",
              "      <td>Dec 21</td>\n",
              "      <td>2021</td>\n",
              "    </tr>\n",
              "    <tr>\n",
              "      <th>3</th>\n",
              "      <td>4</td>\n",
              "      <td>RCAC</td>\n",
              "      <td>Revelstone Capital Acquisition</td>\n",
              "      <td>$10.00</td>\n",
              "      <td>$9.90</td>\n",
              "      <td>-1.00%</td>\n",
              "      <td>Dec 17</td>\n",
              "      <td>2021</td>\n",
              "    </tr>\n",
              "    <tr>\n",
              "      <th>4</th>\n",
              "      <td>5</td>\n",
              "      <td>APCA</td>\n",
              "      <td>AP Acquisition</td>\n",
              "      <td>$10.00</td>\n",
              "      <td>$10.11</td>\n",
              "      <td>1.10%</td>\n",
              "      <td>Dec 17</td>\n",
              "      <td>2021</td>\n",
              "    </tr>\n",
              "    <tr>\n",
              "      <th>...</th>\n",
              "      <td>...</td>\n",
              "      <td>...</td>\n",
              "      <td>...</td>\n",
              "      <td>...</td>\n",
              "      <td>...</td>\n",
              "      <td>...</td>\n",
              "      <td>...</td>\n",
              "      <td>...</td>\n",
              "    </tr>\n",
              "    <tr>\n",
              "      <th>1760</th>\n",
              "      <td>1761</td>\n",
              "      <td>RBKB</td>\n",
              "      <td>Rhinebeck Bancorp</td>\n",
              "      <td>$10.00</td>\n",
              "      <td>$10.61</td>\n",
              "      <td>6.10%</td>\n",
              "      <td>Jan 17</td>\n",
              "      <td>2019</td>\n",
              "    </tr>\n",
              "    <tr>\n",
              "      <th>1761</th>\n",
              "      <td>1762</td>\n",
              "      <td>BCOW</td>\n",
              "      <td>1895 Bancorp of Wisconsin</td>\n",
              "      <td>$10.00</td>\n",
              "      <td>$10.93</td>\n",
              "      <td>9.30%</td>\n",
              "      <td>Jan 9</td>\n",
              "      <td>2019</td>\n",
              "    </tr>\n",
              "    <tr>\n",
              "      <th>1762</th>\n",
              "      <td>1763</td>\n",
              "      <td>MDJH</td>\n",
              "      <td>MDJM Ltd.</td>\n",
              "      <td>$5.00</td>\n",
              "      <td>$1.91</td>\n",
              "      <td>-61.80%</td>\n",
              "      <td>Jan 8</td>\n",
              "      <td>2019</td>\n",
              "    </tr>\n",
              "    <tr>\n",
              "      <th>1763</th>\n",
              "      <td>1764</td>\n",
              "      <td>MTC</td>\n",
              "      <td>MMTec</td>\n",
              "      <td>$4.00</td>\n",
              "      <td>$0.85</td>\n",
              "      <td>-78.73%</td>\n",
              "      <td>Jan 8</td>\n",
              "      <td>2019</td>\n",
              "    </tr>\n",
              "    <tr>\n",
              "      <th>1764</th>\n",
              "      <td>1765</td>\n",
              "      <td>SXTC</td>\n",
              "      <td>China SXT Pharmaceuticals</td>\n",
              "      <td>$4.00</td>\n",
              "      <td>$0.58</td>\n",
              "      <td>-85.60%</td>\n",
              "      <td>Jan 4</td>\n",
              "      <td>2019</td>\n",
              "    </tr>\n",
              "  </tbody>\n",
              "</table>\n",
              "<p>1765 rows × 8 columns</p>\n",
              "</div>\n",
              "      <button class=\"colab-df-convert\" onclick=\"convertToInteractive('df-1bf48d0d-969c-4ed2-a967-c09b9bf75236')\"\n",
              "              title=\"Convert this dataframe to an interactive table.\"\n",
              "              style=\"display:none;\">\n",
              "        \n",
              "  <svg xmlns=\"http://www.w3.org/2000/svg\" height=\"24px\"viewBox=\"0 0 24 24\"\n",
              "       width=\"24px\">\n",
              "    <path d=\"M0 0h24v24H0V0z\" fill=\"none\"/>\n",
              "    <path d=\"M18.56 5.44l.94 2.06.94-2.06 2.06-.94-2.06-.94-.94-2.06-.94 2.06-2.06.94zm-11 1L8.5 8.5l.94-2.06 2.06-.94-2.06-.94L8.5 2.5l-.94 2.06-2.06.94zm10 10l.94 2.06.94-2.06 2.06-.94-2.06-.94-.94-2.06-.94 2.06-2.06.94z\"/><path d=\"M17.41 7.96l-1.37-1.37c-.4-.4-.92-.59-1.43-.59-.52 0-1.04.2-1.43.59L10.3 9.45l-7.72 7.72c-.78.78-.78 2.05 0 2.83L4 21.41c.39.39.9.59 1.41.59.51 0 1.02-.2 1.41-.59l7.78-7.78 2.81-2.81c.8-.78.8-2.07 0-2.86zM5.41 20L4 18.59l7.72-7.72 1.47 1.35L5.41 20z\"/>\n",
              "  </svg>\n",
              "      </button>\n",
              "      \n",
              "  <style>\n",
              "    .colab-df-container {\n",
              "      display:flex;\n",
              "      flex-wrap:wrap;\n",
              "      gap: 12px;\n",
              "    }\n",
              "\n",
              "    .colab-df-convert {\n",
              "      background-color: #E8F0FE;\n",
              "      border: none;\n",
              "      border-radius: 50%;\n",
              "      cursor: pointer;\n",
              "      display: none;\n",
              "      fill: #1967D2;\n",
              "      height: 32px;\n",
              "      padding: 0 0 0 0;\n",
              "      width: 32px;\n",
              "    }\n",
              "\n",
              "    .colab-df-convert:hover {\n",
              "      background-color: #E2EBFA;\n",
              "      box-shadow: 0px 1px 2px rgba(60, 64, 67, 0.3), 0px 1px 3px 1px rgba(60, 64, 67, 0.15);\n",
              "      fill: #174EA6;\n",
              "    }\n",
              "\n",
              "    [theme=dark] .colab-df-convert {\n",
              "      background-color: #3B4455;\n",
              "      fill: #D2E3FC;\n",
              "    }\n",
              "\n",
              "    [theme=dark] .colab-df-convert:hover {\n",
              "      background-color: #434B5C;\n",
              "      box-shadow: 0px 1px 3px 1px rgba(0, 0, 0, 0.15);\n",
              "      filter: drop-shadow(0px 1px 2px rgba(0, 0, 0, 0.3));\n",
              "      fill: #FFFFFF;\n",
              "    }\n",
              "  </style>\n",
              "\n",
              "      <script>\n",
              "        const buttonEl =\n",
              "          document.querySelector('#df-1bf48d0d-969c-4ed2-a967-c09b9bf75236 button.colab-df-convert');\n",
              "        buttonEl.style.display =\n",
              "          google.colab.kernel.accessAllowed ? 'block' : 'none';\n",
              "\n",
              "        async function convertToInteractive(key) {\n",
              "          const element = document.querySelector('#df-1bf48d0d-969c-4ed2-a967-c09b9bf75236');\n",
              "          const dataTable =\n",
              "            await google.colab.kernel.invokeFunction('convertToInteractive',\n",
              "                                                     [key], {});\n",
              "          if (!dataTable) return;\n",
              "\n",
              "          const docLinkHtml = 'Like what you see? Visit the ' +\n",
              "            '<a target=\"_blank\" href=https://colab.research.google.com/notebooks/data_table.ipynb>data table notebook</a>'\n",
              "            + ' to learn more about interactive tables.';\n",
              "          element.innerHTML = '';\n",
              "          dataTable['output_type'] = 'display_data';\n",
              "          await google.colab.output.renderOutput(dataTable, element);\n",
              "          const docLink = document.createElement('div');\n",
              "          docLink.innerHTML = docLinkHtml;\n",
              "          element.appendChild(docLink);\n",
              "        }\n",
              "      </script>\n",
              "    </div>\n",
              "  </div>\n",
              "  "
            ],
            "text/plain": [
              "        ID Symbol  ... IPO Month/Day IPO Year\n",
              "0        1   NVAC  ...        Dec 21     2021\n",
              "1        2   LSPR  ...        Dec 21     2021\n",
              "2        3   SAGA  ...        Dec 21     2021\n",
              "3        4   RCAC  ...        Dec 17     2021\n",
              "4        5   APCA  ...        Dec 17     2021\n",
              "...    ...    ...  ...           ...      ...\n",
              "1760  1761   RBKB  ...        Jan 17     2019\n",
              "1761  1762   BCOW  ...         Jan 9     2019\n",
              "1762  1763   MDJH  ...         Jan 8     2019\n",
              "1763  1764    MTC  ...         Jan 8     2019\n",
              "1764  1765   SXTC  ...         Jan 4     2019\n",
              "\n",
              "[1765 rows x 8 columns]"
            ]
          },
          "metadata": {},
          "execution_count": 14
        }
      ]
    },
    {
      "cell_type": "markdown",
      "source": [
        "###tirando o símbolo '%' da coluna 'Return'\n",
        "\n",
        "\n"
      ],
      "metadata": {
        "id": "XC12rWTLA0BX"
      }
    },
    {
      "cell_type": "code",
      "source": [
        "dados['Return [%]'], dados['resto'] = dados['Return'].str.split('%', 1).str\n",
        "del dados['resto']\n",
        "del dados['Return']\n",
        "dados"
      ],
      "metadata": {
        "colab": {
          "base_uri": "https://localhost:8080/",
          "height": 458
        },
        "id": "kC7pC0b9A_y6",
        "outputId": "e7bdd34c-d347-4390-8c50-631708d8cc95"
      },
      "execution_count": null,
      "outputs": [
        {
          "output_type": "stream",
          "name": "stderr",
          "text": [
            "/usr/local/lib/python3.7/dist-packages/ipykernel_launcher.py:1: FutureWarning: Columnar iteration over characters will be deprecated in future releases.\n",
            "  \"\"\"Entry point for launching an IPython kernel.\n"
          ]
        },
        {
          "output_type": "execute_result",
          "data": {
            "text/html": [
              "\n",
              "  <div id=\"df-05f8ed67-aa97-4628-a82b-06070dd14c1b\">\n",
              "    <div class=\"colab-df-container\">\n",
              "      <div>\n",
              "<style scoped>\n",
              "    .dataframe tbody tr th:only-of-type {\n",
              "        vertical-align: middle;\n",
              "    }\n",
              "\n",
              "    .dataframe tbody tr th {\n",
              "        vertical-align: top;\n",
              "    }\n",
              "\n",
              "    .dataframe thead th {\n",
              "        text-align: right;\n",
              "    }\n",
              "</style>\n",
              "<table border=\"1\" class=\"dataframe\">\n",
              "  <thead>\n",
              "    <tr style=\"text-align: right;\">\n",
              "      <th></th>\n",
              "      <th>ID</th>\n",
              "      <th>Symbol</th>\n",
              "      <th>Company Name</th>\n",
              "      <th>IPO Price</th>\n",
              "      <th>Current</th>\n",
              "      <th>IPO Month/Day</th>\n",
              "      <th>IPO Year</th>\n",
              "      <th>Return [%]</th>\n",
              "    </tr>\n",
              "  </thead>\n",
              "  <tbody>\n",
              "    <tr>\n",
              "      <th>0</th>\n",
              "      <td>1</td>\n",
              "      <td>NVAC</td>\n",
              "      <td>NorthView Acquisition</td>\n",
              "      <td>$10.00</td>\n",
              "      <td>$10.03</td>\n",
              "      <td>Dec 21</td>\n",
              "      <td>2021</td>\n",
              "      <td>0.30</td>\n",
              "    </tr>\n",
              "    <tr>\n",
              "      <th>1</th>\n",
              "      <td>2</td>\n",
              "      <td>LSPR</td>\n",
              "      <td>Larkspur Health Acquisition</td>\n",
              "      <td>$10.00</td>\n",
              "      <td>$9.98</td>\n",
              "      <td>Dec 21</td>\n",
              "      <td>2021</td>\n",
              "      <td>-0.20</td>\n",
              "    </tr>\n",
              "    <tr>\n",
              "      <th>2</th>\n",
              "      <td>3</td>\n",
              "      <td>SAGA</td>\n",
              "      <td>Sagaliam Acquisition</td>\n",
              "      <td>$10.00</td>\n",
              "      <td>$9.97</td>\n",
              "      <td>Dec 21</td>\n",
              "      <td>2021</td>\n",
              "      <td>-0.30</td>\n",
              "    </tr>\n",
              "    <tr>\n",
              "      <th>3</th>\n",
              "      <td>4</td>\n",
              "      <td>RCAC</td>\n",
              "      <td>Revelstone Capital Acquisition</td>\n",
              "      <td>$10.00</td>\n",
              "      <td>$9.90</td>\n",
              "      <td>Dec 17</td>\n",
              "      <td>2021</td>\n",
              "      <td>-1.00</td>\n",
              "    </tr>\n",
              "    <tr>\n",
              "      <th>4</th>\n",
              "      <td>5</td>\n",
              "      <td>APCA</td>\n",
              "      <td>AP Acquisition</td>\n",
              "      <td>$10.00</td>\n",
              "      <td>$10.11</td>\n",
              "      <td>Dec 17</td>\n",
              "      <td>2021</td>\n",
              "      <td>1.10</td>\n",
              "    </tr>\n",
              "    <tr>\n",
              "      <th>...</th>\n",
              "      <td>...</td>\n",
              "      <td>...</td>\n",
              "      <td>...</td>\n",
              "      <td>...</td>\n",
              "      <td>...</td>\n",
              "      <td>...</td>\n",
              "      <td>...</td>\n",
              "      <td>...</td>\n",
              "    </tr>\n",
              "    <tr>\n",
              "      <th>1760</th>\n",
              "      <td>1761</td>\n",
              "      <td>RBKB</td>\n",
              "      <td>Rhinebeck Bancorp</td>\n",
              "      <td>$10.00</td>\n",
              "      <td>$10.61</td>\n",
              "      <td>Jan 17</td>\n",
              "      <td>2019</td>\n",
              "      <td>6.10</td>\n",
              "    </tr>\n",
              "    <tr>\n",
              "      <th>1761</th>\n",
              "      <td>1762</td>\n",
              "      <td>BCOW</td>\n",
              "      <td>1895 Bancorp of Wisconsin</td>\n",
              "      <td>$10.00</td>\n",
              "      <td>$10.93</td>\n",
              "      <td>Jan 9</td>\n",
              "      <td>2019</td>\n",
              "      <td>9.30</td>\n",
              "    </tr>\n",
              "    <tr>\n",
              "      <th>1762</th>\n",
              "      <td>1763</td>\n",
              "      <td>MDJH</td>\n",
              "      <td>MDJM Ltd.</td>\n",
              "      <td>$5.00</td>\n",
              "      <td>$1.91</td>\n",
              "      <td>Jan 8</td>\n",
              "      <td>2019</td>\n",
              "      <td>-61.80</td>\n",
              "    </tr>\n",
              "    <tr>\n",
              "      <th>1763</th>\n",
              "      <td>1764</td>\n",
              "      <td>MTC</td>\n",
              "      <td>MMTec</td>\n",
              "      <td>$4.00</td>\n",
              "      <td>$0.85</td>\n",
              "      <td>Jan 8</td>\n",
              "      <td>2019</td>\n",
              "      <td>-78.73</td>\n",
              "    </tr>\n",
              "    <tr>\n",
              "      <th>1764</th>\n",
              "      <td>1765</td>\n",
              "      <td>SXTC</td>\n",
              "      <td>China SXT Pharmaceuticals</td>\n",
              "      <td>$4.00</td>\n",
              "      <td>$0.58</td>\n",
              "      <td>Jan 4</td>\n",
              "      <td>2019</td>\n",
              "      <td>-85.60</td>\n",
              "    </tr>\n",
              "  </tbody>\n",
              "</table>\n",
              "<p>1765 rows × 8 columns</p>\n",
              "</div>\n",
              "      <button class=\"colab-df-convert\" onclick=\"convertToInteractive('df-05f8ed67-aa97-4628-a82b-06070dd14c1b')\"\n",
              "              title=\"Convert this dataframe to an interactive table.\"\n",
              "              style=\"display:none;\">\n",
              "        \n",
              "  <svg xmlns=\"http://www.w3.org/2000/svg\" height=\"24px\"viewBox=\"0 0 24 24\"\n",
              "       width=\"24px\">\n",
              "    <path d=\"M0 0h24v24H0V0z\" fill=\"none\"/>\n",
              "    <path d=\"M18.56 5.44l.94 2.06.94-2.06 2.06-.94-2.06-.94-.94-2.06-.94 2.06-2.06.94zm-11 1L8.5 8.5l.94-2.06 2.06-.94-2.06-.94L8.5 2.5l-.94 2.06-2.06.94zm10 10l.94 2.06.94-2.06 2.06-.94-2.06-.94-.94-2.06-.94 2.06-2.06.94z\"/><path d=\"M17.41 7.96l-1.37-1.37c-.4-.4-.92-.59-1.43-.59-.52 0-1.04.2-1.43.59L10.3 9.45l-7.72 7.72c-.78.78-.78 2.05 0 2.83L4 21.41c.39.39.9.59 1.41.59.51 0 1.02-.2 1.41-.59l7.78-7.78 2.81-2.81c.8-.78.8-2.07 0-2.86zM5.41 20L4 18.59l7.72-7.72 1.47 1.35L5.41 20z\"/>\n",
              "  </svg>\n",
              "      </button>\n",
              "      \n",
              "  <style>\n",
              "    .colab-df-container {\n",
              "      display:flex;\n",
              "      flex-wrap:wrap;\n",
              "      gap: 12px;\n",
              "    }\n",
              "\n",
              "    .colab-df-convert {\n",
              "      background-color: #E8F0FE;\n",
              "      border: none;\n",
              "      border-radius: 50%;\n",
              "      cursor: pointer;\n",
              "      display: none;\n",
              "      fill: #1967D2;\n",
              "      height: 32px;\n",
              "      padding: 0 0 0 0;\n",
              "      width: 32px;\n",
              "    }\n",
              "\n",
              "    .colab-df-convert:hover {\n",
              "      background-color: #E2EBFA;\n",
              "      box-shadow: 0px 1px 2px rgba(60, 64, 67, 0.3), 0px 1px 3px 1px rgba(60, 64, 67, 0.15);\n",
              "      fill: #174EA6;\n",
              "    }\n",
              "\n",
              "    [theme=dark] .colab-df-convert {\n",
              "      background-color: #3B4455;\n",
              "      fill: #D2E3FC;\n",
              "    }\n",
              "\n",
              "    [theme=dark] .colab-df-convert:hover {\n",
              "      background-color: #434B5C;\n",
              "      box-shadow: 0px 1px 3px 1px rgba(0, 0, 0, 0.15);\n",
              "      filter: drop-shadow(0px 1px 2px rgba(0, 0, 0, 0.3));\n",
              "      fill: #FFFFFF;\n",
              "    }\n",
              "  </style>\n",
              "\n",
              "      <script>\n",
              "        const buttonEl =\n",
              "          document.querySelector('#df-05f8ed67-aa97-4628-a82b-06070dd14c1b button.colab-df-convert');\n",
              "        buttonEl.style.display =\n",
              "          google.colab.kernel.accessAllowed ? 'block' : 'none';\n",
              "\n",
              "        async function convertToInteractive(key) {\n",
              "          const element = document.querySelector('#df-05f8ed67-aa97-4628-a82b-06070dd14c1b');\n",
              "          const dataTable =\n",
              "            await google.colab.kernel.invokeFunction('convertToInteractive',\n",
              "                                                     [key], {});\n",
              "          if (!dataTable) return;\n",
              "\n",
              "          const docLinkHtml = 'Like what you see? Visit the ' +\n",
              "            '<a target=\"_blank\" href=https://colab.research.google.com/notebooks/data_table.ipynb>data table notebook</a>'\n",
              "            + ' to learn more about interactive tables.';\n",
              "          element.innerHTML = '';\n",
              "          dataTable['output_type'] = 'display_data';\n",
              "          await google.colab.output.renderOutput(dataTable, element);\n",
              "          const docLink = document.createElement('div');\n",
              "          docLink.innerHTML = docLinkHtml;\n",
              "          element.appendChild(docLink);\n",
              "        }\n",
              "      </script>\n",
              "    </div>\n",
              "  </div>\n",
              "  "
            ],
            "text/plain": [
              "        ID Symbol  ... IPO Year Return [%]\n",
              "0        1   NVAC  ...     2021       0.30\n",
              "1        2   LSPR  ...     2021      -0.20\n",
              "2        3   SAGA  ...     2021      -0.30\n",
              "3        4   RCAC  ...     2021      -1.00\n",
              "4        5   APCA  ...     2021       1.10\n",
              "...    ...    ...  ...      ...        ...\n",
              "1760  1761   RBKB  ...     2019       6.10\n",
              "1761  1762   BCOW  ...     2019       9.30\n",
              "1762  1763   MDJH  ...     2019     -61.80\n",
              "1763  1764    MTC  ...     2019     -78.73\n",
              "1764  1765   SXTC  ...     2019     -85.60\n",
              "\n",
              "[1765 rows x 8 columns]"
            ]
          },
          "metadata": {},
          "execution_count": 15
        }
      ]
    },
    {
      "cell_type": "markdown",
      "source": [
        "###reorganizando a ordem das colunas no DataFrame"
      ],
      "metadata": {
        "id": "83YOms8xCRxE"
      }
    },
    {
      "cell_type": "code",
      "source": [
        "dados = dados.reindex(columns=['ID','Symbol','Company Name','IPO Price','Current','Return [%]','IPO Month/Day','IPO Year'])\n",
        "dados"
      ],
      "metadata": {
        "colab": {
          "base_uri": "https://localhost:8080/",
          "height": 424
        },
        "id": "qYCb0PyDCQqe",
        "outputId": "421ddc5a-27fb-40f5-d7cc-0832975092f7"
      },
      "execution_count": null,
      "outputs": [
        {
          "output_type": "execute_result",
          "data": {
            "text/html": [
              "\n",
              "  <div id=\"df-c669dee2-4816-42d1-899d-ca483cd10a5a\">\n",
              "    <div class=\"colab-df-container\">\n",
              "      <div>\n",
              "<style scoped>\n",
              "    .dataframe tbody tr th:only-of-type {\n",
              "        vertical-align: middle;\n",
              "    }\n",
              "\n",
              "    .dataframe tbody tr th {\n",
              "        vertical-align: top;\n",
              "    }\n",
              "\n",
              "    .dataframe thead th {\n",
              "        text-align: right;\n",
              "    }\n",
              "</style>\n",
              "<table border=\"1\" class=\"dataframe\">\n",
              "  <thead>\n",
              "    <tr style=\"text-align: right;\">\n",
              "      <th></th>\n",
              "      <th>ID</th>\n",
              "      <th>Symbol</th>\n",
              "      <th>Company Name</th>\n",
              "      <th>IPO Price</th>\n",
              "      <th>Current</th>\n",
              "      <th>Return [%]</th>\n",
              "      <th>IPO Month/Day</th>\n",
              "      <th>IPO Year</th>\n",
              "    </tr>\n",
              "  </thead>\n",
              "  <tbody>\n",
              "    <tr>\n",
              "      <th>0</th>\n",
              "      <td>1</td>\n",
              "      <td>NVAC</td>\n",
              "      <td>NorthView Acquisition</td>\n",
              "      <td>$10.00</td>\n",
              "      <td>$10.03</td>\n",
              "      <td>0.30</td>\n",
              "      <td>Dec 21</td>\n",
              "      <td>2021</td>\n",
              "    </tr>\n",
              "    <tr>\n",
              "      <th>1</th>\n",
              "      <td>2</td>\n",
              "      <td>LSPR</td>\n",
              "      <td>Larkspur Health Acquisition</td>\n",
              "      <td>$10.00</td>\n",
              "      <td>$9.98</td>\n",
              "      <td>-0.20</td>\n",
              "      <td>Dec 21</td>\n",
              "      <td>2021</td>\n",
              "    </tr>\n",
              "    <tr>\n",
              "      <th>2</th>\n",
              "      <td>3</td>\n",
              "      <td>SAGA</td>\n",
              "      <td>Sagaliam Acquisition</td>\n",
              "      <td>$10.00</td>\n",
              "      <td>$9.97</td>\n",
              "      <td>-0.30</td>\n",
              "      <td>Dec 21</td>\n",
              "      <td>2021</td>\n",
              "    </tr>\n",
              "    <tr>\n",
              "      <th>3</th>\n",
              "      <td>4</td>\n",
              "      <td>RCAC</td>\n",
              "      <td>Revelstone Capital Acquisition</td>\n",
              "      <td>$10.00</td>\n",
              "      <td>$9.90</td>\n",
              "      <td>-1.00</td>\n",
              "      <td>Dec 17</td>\n",
              "      <td>2021</td>\n",
              "    </tr>\n",
              "    <tr>\n",
              "      <th>4</th>\n",
              "      <td>5</td>\n",
              "      <td>APCA</td>\n",
              "      <td>AP Acquisition</td>\n",
              "      <td>$10.00</td>\n",
              "      <td>$10.11</td>\n",
              "      <td>1.10</td>\n",
              "      <td>Dec 17</td>\n",
              "      <td>2021</td>\n",
              "    </tr>\n",
              "    <tr>\n",
              "      <th>...</th>\n",
              "      <td>...</td>\n",
              "      <td>...</td>\n",
              "      <td>...</td>\n",
              "      <td>...</td>\n",
              "      <td>...</td>\n",
              "      <td>...</td>\n",
              "      <td>...</td>\n",
              "      <td>...</td>\n",
              "    </tr>\n",
              "    <tr>\n",
              "      <th>1760</th>\n",
              "      <td>1761</td>\n",
              "      <td>RBKB</td>\n",
              "      <td>Rhinebeck Bancorp</td>\n",
              "      <td>$10.00</td>\n",
              "      <td>$10.61</td>\n",
              "      <td>6.10</td>\n",
              "      <td>Jan 17</td>\n",
              "      <td>2019</td>\n",
              "    </tr>\n",
              "    <tr>\n",
              "      <th>1761</th>\n",
              "      <td>1762</td>\n",
              "      <td>BCOW</td>\n",
              "      <td>1895 Bancorp of Wisconsin</td>\n",
              "      <td>$10.00</td>\n",
              "      <td>$10.93</td>\n",
              "      <td>9.30</td>\n",
              "      <td>Jan 9</td>\n",
              "      <td>2019</td>\n",
              "    </tr>\n",
              "    <tr>\n",
              "      <th>1762</th>\n",
              "      <td>1763</td>\n",
              "      <td>MDJH</td>\n",
              "      <td>MDJM Ltd.</td>\n",
              "      <td>$5.00</td>\n",
              "      <td>$1.91</td>\n",
              "      <td>-61.80</td>\n",
              "      <td>Jan 8</td>\n",
              "      <td>2019</td>\n",
              "    </tr>\n",
              "    <tr>\n",
              "      <th>1763</th>\n",
              "      <td>1764</td>\n",
              "      <td>MTC</td>\n",
              "      <td>MMTec</td>\n",
              "      <td>$4.00</td>\n",
              "      <td>$0.85</td>\n",
              "      <td>-78.73</td>\n",
              "      <td>Jan 8</td>\n",
              "      <td>2019</td>\n",
              "    </tr>\n",
              "    <tr>\n",
              "      <th>1764</th>\n",
              "      <td>1765</td>\n",
              "      <td>SXTC</td>\n",
              "      <td>China SXT Pharmaceuticals</td>\n",
              "      <td>$4.00</td>\n",
              "      <td>$0.58</td>\n",
              "      <td>-85.60</td>\n",
              "      <td>Jan 4</td>\n",
              "      <td>2019</td>\n",
              "    </tr>\n",
              "  </tbody>\n",
              "</table>\n",
              "<p>1765 rows × 8 columns</p>\n",
              "</div>\n",
              "      <button class=\"colab-df-convert\" onclick=\"convertToInteractive('df-c669dee2-4816-42d1-899d-ca483cd10a5a')\"\n",
              "              title=\"Convert this dataframe to an interactive table.\"\n",
              "              style=\"display:none;\">\n",
              "        \n",
              "  <svg xmlns=\"http://www.w3.org/2000/svg\" height=\"24px\"viewBox=\"0 0 24 24\"\n",
              "       width=\"24px\">\n",
              "    <path d=\"M0 0h24v24H0V0z\" fill=\"none\"/>\n",
              "    <path d=\"M18.56 5.44l.94 2.06.94-2.06 2.06-.94-2.06-.94-.94-2.06-.94 2.06-2.06.94zm-11 1L8.5 8.5l.94-2.06 2.06-.94-2.06-.94L8.5 2.5l-.94 2.06-2.06.94zm10 10l.94 2.06.94-2.06 2.06-.94-2.06-.94-.94-2.06-.94 2.06-2.06.94z\"/><path d=\"M17.41 7.96l-1.37-1.37c-.4-.4-.92-.59-1.43-.59-.52 0-1.04.2-1.43.59L10.3 9.45l-7.72 7.72c-.78.78-.78 2.05 0 2.83L4 21.41c.39.39.9.59 1.41.59.51 0 1.02-.2 1.41-.59l7.78-7.78 2.81-2.81c.8-.78.8-2.07 0-2.86zM5.41 20L4 18.59l7.72-7.72 1.47 1.35L5.41 20z\"/>\n",
              "  </svg>\n",
              "      </button>\n",
              "      \n",
              "  <style>\n",
              "    .colab-df-container {\n",
              "      display:flex;\n",
              "      flex-wrap:wrap;\n",
              "      gap: 12px;\n",
              "    }\n",
              "\n",
              "    .colab-df-convert {\n",
              "      background-color: #E8F0FE;\n",
              "      border: none;\n",
              "      border-radius: 50%;\n",
              "      cursor: pointer;\n",
              "      display: none;\n",
              "      fill: #1967D2;\n",
              "      height: 32px;\n",
              "      padding: 0 0 0 0;\n",
              "      width: 32px;\n",
              "    }\n",
              "\n",
              "    .colab-df-convert:hover {\n",
              "      background-color: #E2EBFA;\n",
              "      box-shadow: 0px 1px 2px rgba(60, 64, 67, 0.3), 0px 1px 3px 1px rgba(60, 64, 67, 0.15);\n",
              "      fill: #174EA6;\n",
              "    }\n",
              "\n",
              "    [theme=dark] .colab-df-convert {\n",
              "      background-color: #3B4455;\n",
              "      fill: #D2E3FC;\n",
              "    }\n",
              "\n",
              "    [theme=dark] .colab-df-convert:hover {\n",
              "      background-color: #434B5C;\n",
              "      box-shadow: 0px 1px 3px 1px rgba(0, 0, 0, 0.15);\n",
              "      filter: drop-shadow(0px 1px 2px rgba(0, 0, 0, 0.3));\n",
              "      fill: #FFFFFF;\n",
              "    }\n",
              "  </style>\n",
              "\n",
              "      <script>\n",
              "        const buttonEl =\n",
              "          document.querySelector('#df-c669dee2-4816-42d1-899d-ca483cd10a5a button.colab-df-convert');\n",
              "        buttonEl.style.display =\n",
              "          google.colab.kernel.accessAllowed ? 'block' : 'none';\n",
              "\n",
              "        async function convertToInteractive(key) {\n",
              "          const element = document.querySelector('#df-c669dee2-4816-42d1-899d-ca483cd10a5a');\n",
              "          const dataTable =\n",
              "            await google.colab.kernel.invokeFunction('convertToInteractive',\n",
              "                                                     [key], {});\n",
              "          if (!dataTable) return;\n",
              "\n",
              "          const docLinkHtml = 'Like what you see? Visit the ' +\n",
              "            '<a target=\"_blank\" href=https://colab.research.google.com/notebooks/data_table.ipynb>data table notebook</a>'\n",
              "            + ' to learn more about interactive tables.';\n",
              "          element.innerHTML = '';\n",
              "          dataTable['output_type'] = 'display_data';\n",
              "          await google.colab.output.renderOutput(dataTable, element);\n",
              "          const docLink = document.createElement('div');\n",
              "          docLink.innerHTML = docLinkHtml;\n",
              "          element.appendChild(docLink);\n",
              "        }\n",
              "      </script>\n",
              "    </div>\n",
              "  </div>\n",
              "  "
            ],
            "text/plain": [
              "        ID Symbol  ... IPO Month/Day IPO Year\n",
              "0        1   NVAC  ...        Dec 21     2021\n",
              "1        2   LSPR  ...        Dec 21     2021\n",
              "2        3   SAGA  ...        Dec 21     2021\n",
              "3        4   RCAC  ...        Dec 17     2021\n",
              "4        5   APCA  ...        Dec 17     2021\n",
              "...    ...    ...  ...           ...      ...\n",
              "1760  1761   RBKB  ...        Jan 17     2019\n",
              "1761  1762   BCOW  ...         Jan 9     2019\n",
              "1762  1763   MDJH  ...         Jan 8     2019\n",
              "1763  1764    MTC  ...         Jan 8     2019\n",
              "1764  1765   SXTC  ...         Jan 4     2019\n",
              "\n",
              "[1765 rows x 8 columns]"
            ]
          },
          "metadata": {},
          "execution_count": 16
        }
      ]
    },
    {
      "cell_type": "markdown",
      "source": [
        "###transformando a coluna 'Return' de str para float"
      ],
      "metadata": {
        "id": "AYx2LGu3_vFR"
      }
    },
    {
      "cell_type": "code",
      "source": [
        "dados['Return [%]'] = dados['Return [%]'].astype(float)\n",
        "dados.info()"
      ],
      "metadata": {
        "colab": {
          "base_uri": "https://localhost:8080/"
        },
        "id": "kE8TFU6YAOf5",
        "outputId": "ab889c78-a8f9-435d-f387-b2ca28029454"
      },
      "execution_count": null,
      "outputs": [
        {
          "output_type": "stream",
          "name": "stdout",
          "text": [
            "<class 'pandas.core.frame.DataFrame'>\n",
            "RangeIndex: 1765 entries, 0 to 1764\n",
            "Data columns (total 8 columns):\n",
            " #   Column         Non-Null Count  Dtype  \n",
            "---  ------         --------------  -----  \n",
            " 0   ID             1765 non-null   int64  \n",
            " 1   Symbol         1765 non-null   object \n",
            " 2   Company Name   1765 non-null   object \n",
            " 3   IPO Price      1765 non-null   object \n",
            " 4   Current        1765 non-null   object \n",
            " 5   Return [%]     1765 non-null   float64\n",
            " 6   IPO Month/Day  1765 non-null   object \n",
            " 7   IPO Year       1765 non-null   int64  \n",
            "dtypes: float64(1), int64(2), object(5)\n",
            "memory usage: 110.4+ KB\n"
          ]
        }
      ]
    },
    {
      "cell_type": "code",
      "source": [
        "ax = sns.distplot(dados['Return [%]'])\n",
        "ax.figure.set_size_inches(14, 6)\n",
        "ax.set_title('Distribuição de Frequências - Retornos das Ações nos IPOs da Bolsa NY', fontsize=18)\n",
        "ax.set_xlabel('%', fontsize=14)\n",
        "ax"
      ],
      "metadata": {
        "colab": {
          "base_uri": "https://localhost:8080/",
          "height": 485
        },
        "id": "YGsl-ELy-qLq",
        "outputId": "9ea2264a-8ec6-4c86-c99b-0fa040e3e6fc"
      },
      "execution_count": null,
      "outputs": [
        {
          "output_type": "stream",
          "name": "stderr",
          "text": [
            "/usr/local/lib/python3.7/dist-packages/seaborn/distributions.py:2619: FutureWarning: `distplot` is a deprecated function and will be removed in a future version. Please adapt your code to use either `displot` (a figure-level function with similar flexibility) or `histplot` (an axes-level function for histograms).\n",
            "  warnings.warn(msg, FutureWarning)\n"
          ]
        },
        {
          "output_type": "execute_result",
          "data": {
            "text/plain": [
              "<matplotlib.axes._subplots.AxesSubplot at 0x7f6bca812dd0>"
            ]
          },
          "metadata": {},
          "execution_count": 18
        },
        {
          "output_type": "display_data",
          "data": {
            "image/png": "[encoded data removed]",
            "text/plain": [
              "<Figure size 1008x432 with 1 Axes>"
            ]
          },
          "metadata": {
            "needs_background": "light"
          }
        }
      ]
    },
    {
      "cell_type": "markdown",
      "source": [
        "<font color='green'>Conclusão: no curto prazo, a maioria dos IPOs dá retorno baixíssimo."
      ],
      "metadata": {
        "id": "MhXOOp4BKXau"
      }
    },
    {
      "cell_type": "markdown",
      "source": [
        "##<font color='blue'>Pergunta 3: como é o boxplot da distribuição de frequências dos retornos do período todo?"
      ],
      "metadata": {
        "id": "2zHRXpdbKlfD"
      }
    },
    {
      "cell_type": "code",
      "source": [
        "ax = sns.boxplot(x = 'Return [%]', data = dados, orient = 'h')\n",
        "ax.figure.set_size_inches(12, 4)\n",
        "ax.set_title('Boxplot dos Retornos dos IPOs da Bolsa de NY', fontsize=18)\n",
        "ax.set_xlabel('%', fontsize=14)\n",
        "ax"
      ],
      "metadata": {
        "colab": {
          "base_uri": "https://localhost:8080/",
          "height": 320
        },
        "id": "6uVaNPjo_pxr",
        "outputId": "a11a5189-a40c-4e92-c6ef-a9498ff1a6e4"
      },
      "execution_count": null,
      "outputs": [
        {
          "output_type": "execute_result",
          "data": {
            "text/plain": [
              "<matplotlib.axes._subplots.AxesSubplot at 0x7f6bca7249d0>"
            ]
          },
          "metadata": {},
          "execution_count": 19
        },
        {
          "output_type": "display_data",
          "data": {
            "image/png": "[encoded data removed]",
            "text/plain": [
              "<Figure size 864x288 with 1 Axes>"
            ]
          },
          "metadata": {
            "needs_background": "light"
          }
        }
      ]
    },
    {
      "cell_type": "markdown",
      "source": [
        "###mudando o nome da coluna 'Return [%]' para 'Return', por causa do boxplot"
      ],
      "metadata": {
        "id": "iMMe7FUxNXqU"
      }
    },
    {
      "cell_type": "code",
      "source": [
        "dados.rename({\"Return [%]\": \"Return\"}, axis=1, inplace=True)\n",
        "dados"
      ],
      "metadata": {
        "colab": {
          "base_uri": "https://localhost:8080/",
          "height": 424
        },
        "id": "AxVfEyNGNkrl",
        "outputId": "de62537b-d85d-436f-ceb1-23787b8f82eb"
      },
      "execution_count": null,
      "outputs": [
        {
          "output_type": "execute_result",
          "data": {
            "text/html": [
              "\n",
              "  <div id=\"df-910ab7e8-e0a4-4a76-ad59-f67a2c3bc86d\">\n",
              "    <div class=\"colab-df-container\">\n",
              "      <div>\n",
              "<style scoped>\n",
              "    .dataframe tbody tr th:only-of-type {\n",
              "        vertical-align: middle;\n",
              "    }\n",
              "\n",
              "    .dataframe tbody tr th {\n",
              "        vertical-align: top;\n",
              "    }\n",
              "\n",
              "    .dataframe thead th {\n",
              "        text-align: right;\n",
              "    }\n",
              "</style>\n",
              "<table border=\"1\" class=\"dataframe\">\n",
              "  <thead>\n",
              "    <tr style=\"text-align: right;\">\n",
              "      <th></th>\n",
              "      <th>ID</th>\n",
              "      <th>Symbol</th>\n",
              "      <th>Company Name</th>\n",
              "      <th>IPO Price</th>\n",
              "      <th>Current</th>\n",
              "      <th>Return</th>\n",
              "      <th>IPO Month/Day</th>\n",
              "      <th>IPO Year</th>\n",
              "    </tr>\n",
              "  </thead>\n",
              "  <tbody>\n",
              "    <tr>\n",
              "      <th>0</th>\n",
              "      <td>1</td>\n",
              "      <td>NVAC</td>\n",
              "      <td>NorthView Acquisition</td>\n",
              "      <td>$10.00</td>\n",
              "      <td>$10.03</td>\n",
              "      <td>0.30</td>\n",
              "      <td>Dec 21</td>\n",
              "      <td>2021</td>\n",
              "    </tr>\n",
              "    <tr>\n",
              "      <th>1</th>\n",
              "      <td>2</td>\n",
              "      <td>LSPR</td>\n",
              "      <td>Larkspur Health Acquisition</td>\n",
              "      <td>$10.00</td>\n",
              "      <td>$9.98</td>\n",
              "      <td>-0.20</td>\n",
              "      <td>Dec 21</td>\n",
              "      <td>2021</td>\n",
              "    </tr>\n",
              "    <tr>\n",
              "      <th>2</th>\n",
              "      <td>3</td>\n",
              "      <td>SAGA</td>\n",
              "      <td>Sagaliam Acquisition</td>\n",
              "      <td>$10.00</td>\n",
              "      <td>$9.97</td>\n",
              "      <td>-0.30</td>\n",
              "      <td>Dec 21</td>\n",
              "      <td>2021</td>\n",
              "    </tr>\n",
              "    <tr>\n",
              "      <th>3</th>\n",
              "      <td>4</td>\n",
              "      <td>RCAC</td>\n",
              "      <td>Revelstone Capital Acquisition</td>\n",
              "      <td>$10.00</td>\n",
              "      <td>$9.90</td>\n",
              "      <td>-1.00</td>\n",
              "      <td>Dec 17</td>\n",
              "      <td>2021</td>\n",
              "    </tr>\n",
              "    <tr>\n",
              "      <th>4</th>\n",
              "      <td>5</td>\n",
              "      <td>APCA</td>\n",
              "      <td>AP Acquisition</td>\n",
              "      <td>$10.00</td>\n",
              "      <td>$10.11</td>\n",
              "      <td>1.10</td>\n",
              "      <td>Dec 17</td>\n",
              "      <td>2021</td>\n",
              "    </tr>\n",
              "    <tr>\n",
              "      <th>...</th>\n",
              "      <td>...</td>\n",
              "      <td>...</td>\n",
              "      <td>...</td>\n",
              "      <td>...</td>\n",
              "      <td>...</td>\n",
              "      <td>...</td>\n",
              "      <td>...</td>\n",
              "      <td>...</td>\n",
              "    </tr>\n",
              "    <tr>\n",
              "      <th>1760</th>\n",
              "      <td>1761</td>\n",
              "      <td>RBKB</td>\n",
              "      <td>Rhinebeck Bancorp</td>\n",
              "      <td>$10.00</td>\n",
              "      <td>$10.61</td>\n",
              "      <td>6.10</td>\n",
              "      <td>Jan 17</td>\n",
              "      <td>2019</td>\n",
              "    </tr>\n",
              "    <tr>\n",
              "      <th>1761</th>\n",
              "      <td>1762</td>\n",
              "      <td>BCOW</td>\n",
              "      <td>1895 Bancorp of Wisconsin</td>\n",
              "      <td>$10.00</td>\n",
              "      <td>$10.93</td>\n",
              "      <td>9.30</td>\n",
              "      <td>Jan 9</td>\n",
              "      <td>2019</td>\n",
              "    </tr>\n",
              "    <tr>\n",
              "      <th>1762</th>\n",
              "      <td>1763</td>\n",
              "      <td>MDJH</td>\n",
              "      <td>MDJM Ltd.</td>\n",
              "      <td>$5.00</td>\n",
              "      <td>$1.91</td>\n",
              "      <td>-61.80</td>\n",
              "      <td>Jan 8</td>\n",
              "      <td>2019</td>\n",
              "    </tr>\n",
              "    <tr>\n",
              "      <th>1763</th>\n",
              "      <td>1764</td>\n",
              "      <td>MTC</td>\n",
              "      <td>MMTec</td>\n",
              "      <td>$4.00</td>\n",
              "      <td>$0.85</td>\n",
              "      <td>-78.73</td>\n",
              "      <td>Jan 8</td>\n",
              "      <td>2019</td>\n",
              "    </tr>\n",
              "    <tr>\n",
              "      <th>1764</th>\n",
              "      <td>1765</td>\n",
              "      <td>SXTC</td>\n",
              "      <td>China SXT Pharmaceuticals</td>\n",
              "      <td>$4.00</td>\n",
              "      <td>$0.58</td>\n",
              "      <td>-85.60</td>\n",
              "      <td>Jan 4</td>\n",
              "      <td>2019</td>\n",
              "    </tr>\n",
              "  </tbody>\n",
              "</table>\n",
              "<p>1765 rows × 8 columns</p>\n",
              "</div>\n",
              "      <button class=\"colab-df-convert\" onclick=\"convertToInteractive('df-910ab7e8-e0a4-4a76-ad59-f67a2c3bc86d')\"\n",
              "              title=\"Convert this dataframe to an interactive table.\"\n",
              "              style=\"display:none;\">\n",
              "        \n",
              "  <svg xmlns=\"http://www.w3.org/2000/svg\" height=\"24px\"viewBox=\"0 0 24 24\"\n",
              "       width=\"24px\">\n",
              "    <path d=\"M0 0h24v24H0V0z\" fill=\"none\"/>\n",
              "    <path d=\"M18.56 5.44l.94 2.06.94-2.06 2.06-.94-2.06-.94-.94-2.06-.94 2.06-2.06.94zm-11 1L8.5 8.5l.94-2.06 2.06-.94-2.06-.94L8.5 2.5l-.94 2.06-2.06.94zm10 10l.94 2.06.94-2.06 2.06-.94-2.06-.94-.94-2.06-.94 2.06-2.06.94z\"/><path d=\"M17.41 7.96l-1.37-1.37c-.4-.4-.92-.59-1.43-.59-.52 0-1.04.2-1.43.59L10.3 9.45l-7.72 7.72c-.78.78-.78 2.05 0 2.83L4 21.41c.39.39.9.59 1.41.59.51 0 1.02-.2 1.41-.59l7.78-7.78 2.81-2.81c.8-.78.8-2.07 0-2.86zM5.41 20L4 18.59l7.72-7.72 1.47 1.35L5.41 20z\"/>\n",
              "  </svg>\n",
              "      </button>\n",
              "      \n",
              "  <style>\n",
              "    .colab-df-container {\n",
              "      display:flex;\n",
              "      flex-wrap:wrap;\n",
              "      gap: 12px;\n",
              "    }\n",
              "\n",
              "    .colab-df-convert {\n",
              "      background-color: #E8F0FE;\n",
              "      border: none;\n",
              "      border-radius: 50%;\n",
              "      cursor: pointer;\n",
              "      display: none;\n",
              "      fill: #1967D2;\n",
              "      height: 32px;\n",
              "      padding: 0 0 0 0;\n",
              "      width: 32px;\n",
              "    }\n",
              "\n",
              "    .colab-df-convert:hover {\n",
              "      background-color: #E2EBFA;\n",
              "      box-shadow: 0px 1px 2px rgba(60, 64, 67, 0.3), 0px 1px 3px 1px rgba(60, 64, 67, 0.15);\n",
              "      fill: #174EA6;\n",
              "    }\n",
              "\n",
              "    [theme=dark] .colab-df-convert {\n",
              "      background-color: #3B4455;\n",
              "      fill: #D2E3FC;\n",
              "    }\n",
              "\n",
              "    [theme=dark] .colab-df-convert:hover {\n",
              "      background-color: #434B5C;\n",
              "      box-shadow: 0px 1px 3px 1px rgba(0, 0, 0, 0.15);\n",
              "      filter: drop-shadow(0px 1px 2px rgba(0, 0, 0, 0.3));\n",
              "      fill: #FFFFFF;\n",
              "    }\n",
              "  </style>\n",
              "\n",
              "      <script>\n",
              "        const buttonEl =\n",
              "          document.querySelector('#df-910ab7e8-e0a4-4a76-ad59-f67a2c3bc86d button.colab-df-convert');\n",
              "        buttonEl.style.display =\n",
              "          google.colab.kernel.accessAllowed ? 'block' : 'none';\n",
              "\n",
              "        async function convertToInteractive(key) {\n",
              "          const element = document.querySelector('#df-910ab7e8-e0a4-4a76-ad59-f67a2c3bc86d');\n",
              "          const dataTable =\n",
              "            await google.colab.kernel.invokeFunction('convertToInteractive',\n",
              "                                                     [key], {});\n",
              "          if (!dataTable) return;\n",
              "\n",
              "          const docLinkHtml = 'Like what you see? Visit the ' +\n",
              "            '<a target=\"_blank\" href=https://colab.research.google.com/notebooks/data_table.ipynb>data table notebook</a>'\n",
              "            + ' to learn more about interactive tables.';\n",
              "          element.innerHTML = '';\n",
              "          dataTable['output_type'] = 'display_data';\n",
              "          await google.colab.output.renderOutput(dataTable, element);\n",
              "          const docLink = document.createElement('div');\n",
              "          docLink.innerHTML = docLinkHtml;\n",
              "          element.appendChild(docLink);\n",
              "        }\n",
              "      </script>\n",
              "    </div>\n",
              "  </div>\n",
              "  "
            ],
            "text/plain": [
              "        ID Symbol  ... IPO Month/Day IPO Year\n",
              "0        1   NVAC  ...        Dec 21     2021\n",
              "1        2   LSPR  ...        Dec 21     2021\n",
              "2        3   SAGA  ...        Dec 21     2021\n",
              "3        4   RCAC  ...        Dec 17     2021\n",
              "4        5   APCA  ...        Dec 17     2021\n",
              "...    ...    ...  ...           ...      ...\n",
              "1760  1761   RBKB  ...        Jan 17     2019\n",
              "1761  1762   BCOW  ...         Jan 9     2019\n",
              "1762  1763   MDJH  ...         Jan 8     2019\n",
              "1763  1764    MTC  ...         Jan 8     2019\n",
              "1764  1765   SXTC  ...         Jan 4     2019\n",
              "\n",
              "[1765 rows x 8 columns]"
            ]
          },
          "metadata": {},
          "execution_count": 20
        }
      ]
    },
    {
      "cell_type": "markdown",
      "source": [
        "###retirando retornos acima de 100%, o boxplot fica mais fácil de ler"
      ],
      "metadata": {
        "id": "RSwV6HOCLd0D"
      }
    },
    {
      "cell_type": "code",
      "source": [
        "ax = sns.boxplot(x = 'Return', data = dados.query('Return < 100'), orient = 'h')\n",
        "ax.figure.set_size_inches(12, 4)\n",
        "ax.set_title('Distribuição de Frequências - Retornos das Ações nos IPOs da Bolsa NY', fontsize=18)\n",
        "ax.set_xlabel('%', fontsize=14)\n",
        "ax"
      ],
      "metadata": {
        "colab": {
          "base_uri": "https://localhost:8080/",
          "height": 321
        },
        "id": "pCeBM_zFLOrN",
        "outputId": "af55f527-e290-459c-ec97-d311ae46aac0"
      },
      "execution_count": null,
      "outputs": [
        {
          "output_type": "execute_result",
          "data": {
            "text/plain": [
              "<matplotlib.axes._subplots.AxesSubplot at 0x7f6bca7c1a90>"
            ]
          },
          "metadata": {},
          "execution_count": 21
        },
        {
          "output_type": "display_data",
          "data": {
            "image/png": "[encoded data removed]",
            "text/plain": [
              "<Figure size 864x288 with 1 Axes>"
            ]
          },
          "metadata": {
            "needs_background": "light"
          }
        }
      ]
    },
    {
      "cell_type": "markdown",
      "source": [
        "##<font color='blue'>Pergunta 4: qual o % de IPOs que dão retorno negativo?"
      ],
      "metadata": {
        "id": "OLIzI_vYQQ-f"
      }
    },
    {
      "cell_type": "code",
      "source": [
        "from scipy import stats\n",
        "\n",
        "percentual = stats.percentileofscore(dados.Return, 0, kind = 'weak')\n",
        "print(\"{0:.2f}%\".format(percentual))"
      ],
      "metadata": {
        "colab": {
          "base_uri": "https://localhost:8080/"
        },
        "id": "v1agiv7ePNMI",
        "outputId": "0e58a6ad-5c6d-4f8b-d978-3312444304cf"
      },
      "execution_count": null,
      "outputs": [
        {
          "output_type": "stream",
          "name": "stdout",
          "text": [
            "64.99%\n"
          ]
        }
      ]
    },
    {
      "cell_type": "markdown",
      "source": [
        "##<font color='blue'>Pergunta 5: qual o % de IPOs que dão retorno maior que 100%?"
      ],
      "metadata": {
        "id": "3idaWzzyQkeq"
      }
    },
    {
      "cell_type": "code",
      "source": [
        "percentual2 = stats.percentileofscore(dados.Return, 100, kind = 'weak')\n",
        "print(\"{0:.2f}%\".format(percentual2))"
      ],
      "metadata": {
        "colab": {
          "base_uri": "https://localhost:8080/"
        },
        "id": "nJJnEM9zQM95",
        "outputId": "04e7c512-6b1f-4aa8-de0c-c1f7a985d8ee"
      },
      "execution_count": null,
      "outputs": [
        {
          "output_type": "stream",
          "name": "stdout",
          "text": [
            "93.82%\n"
          ]
        }
      ]
    },
    {
      "cell_type": "code",
      "source": [
        "percentual3 = 100 - percentual2\n",
        "print(percentual3)"
      ],
      "metadata": {
        "colab": {
          "base_uri": "https://localhost:8080/"
        },
        "id": "8-OfpOBYQwjU",
        "outputId": "7ac92ef8-929f-4ee6-b855-513bc4b3baf9"
      },
      "execution_count": null,
      "outputs": [
        {
          "output_type": "stream",
          "name": "stdout",
          "text": [
            "6.175637393767701\n"
          ]
        }
      ]
    },
    {
      "cell_type": "markdown",
      "source": [
        "##<font color='blue'>Pergunta 6: quais os 3 quartis da população? e os decis?"
      ],
      "metadata": {
        "id": "avMSUsYY5Wee"
      }
    },
    {
      "cell_type": "code",
      "source": [
        "dados.Return.quantile([0.25, 0.5, 0.75])"
      ],
      "metadata": {
        "colab": {
          "base_uri": "https://localhost:8080/"
        },
        "id": "MJTmbSYN46zO",
        "outputId": "7a029258-c7d3-4532-f5e6-b41455d6d8f6"
      },
      "execution_count": null,
      "outputs": [
        {
          "output_type": "execute_result",
          "data": {
            "text/plain": [
              "0.25   -14.8\n",
              "0.50    -1.7\n",
              "0.75     3.0\n",
              "Name: Return, dtype: float64"
            ]
          },
          "metadata": {},
          "execution_count": 28
        }
      ]
    },
    {
      "cell_type": "code",
      "source": [
        "dados.Return.quantile([i / 10 for i in range(1, 10)])"
      ],
      "metadata": {
        "colab": {
          "base_uri": "https://localhost:8080/"
        },
        "id": "oyD3f4y35QGD",
        "outputId": "5f855be6-ddea-4ca8-8ef0-d1061bafa0eb"
      },
      "execution_count": null,
      "outputs": [
        {
          "output_type": "execute_result",
          "data": {
            "text/plain": [
              "0.1   -57.768\n",
              "0.2   -27.352\n",
              "0.3    -5.188\n",
              "0.4    -2.594\n",
              "0.5    -1.700\n",
              "0.6    -0.300\n",
              "0.7     0.898\n",
              "0.8    11.944\n",
              "0.9    54.912\n",
              "Name: Return, dtype: float64"
            ]
          },
          "metadata": {},
          "execution_count": 29
        }
      ]
    },
    {
      "cell_type": "code",
      "source": [
        "ax = sns.distplot(dados.Return, \n",
        "                  hist_kws = {'cumulative': True},\n",
        "                  kde_kws = {'cumulative': True},\n",
        "                  bins = 10)\n",
        "ax.figure.set_size_inches(14, 6)\n",
        "ax.set_title('Distribuição de Frequências Acumulada', fontsize=18)\n",
        "ax.set_ylabel('Acumulado', fontsize=14)\n",
        "ax.set_xlabel('%', fontsize=14)\n",
        "ax"
      ],
      "metadata": {
        "colab": {
          "base_uri": "https://localhost:8080/",
          "height": 485
        },
        "id": "cBpDZZRb5mYd",
        "outputId": "e3cd7af1-9d2a-4079-b8cf-29312d82707d"
      },
      "execution_count": null,
      "outputs": [
        {
          "output_type": "stream",
          "name": "stderr",
          "text": [
            "/usr/local/lib/python3.7/dist-packages/seaborn/distributions.py:2619: FutureWarning: `distplot` is a deprecated function and will be removed in a future version. Please adapt your code to use either `displot` (a figure-level function with similar flexibility) or `histplot` (an axes-level function for histograms).\n",
            "  warnings.warn(msg, FutureWarning)\n"
          ]
        },
        {
          "output_type": "execute_result",
          "data": {
            "text/plain": [
              "<matplotlib.axes._subplots.AxesSubplot at 0x7f6bc84d60d0>"
            ]
          },
          "metadata": {},
          "execution_count": 31
        },
        {
          "output_type": "display_data",
          "data": {
            "image/png": "[encoded data removed]",
            "text/plain": [
              "<Figure size 1008x432 with 1 Axes>"
            ]
          },
          "metadata": {
            "needs_background": "light"
          }
        }
      ]
    },
    {
      "cell_type": "markdown",
      "source": [
        "##<font color='blue'>Pergunta 7: quais as 10 mais rentáveis? e as 10 piores?"
      ],
      "metadata": {
        "id": "uXf7wFa86LBF"
      }
    },
    {
      "cell_type": "code",
      "source": [
        "dados['Return'].describe()"
      ],
      "metadata": {
        "colab": {
          "base_uri": "https://localhost:8080/"
        },
        "id": "ZElfF7Zy55VH",
        "outputId": "dfc7dbf1-f91e-4583-eafa-2c8e5e95d675"
      },
      "execution_count": null,
      "outputs": [
        {
          "output_type": "execute_result",
          "data": {
            "text/plain": [
              "count    1765.000000\n",
              "mean        9.998028\n",
              "std       105.417759\n",
              "min       -97.500000\n",
              "25%       -14.800000\n",
              "50%        -1.700000\n",
              "75%         3.000000\n",
              "max      1998.770000\n",
              "Name: Return, dtype: float64"
            ]
          },
          "metadata": {},
          "execution_count": 36
        }
      ]
    },
    {
      "cell_type": "markdown",
      "source": [
        "###10 maiores retornos"
      ],
      "metadata": {
        "id": "a1HC0CCQ9tcA"
      }
    },
    {
      "cell_type": "code",
      "source": [
        "dados.sort_values(by = ['Return'], ascending=False, inplace = True)\n",
        "dados.head(10)"
      ],
      "metadata": {
        "colab": {
          "base_uri": "https://localhost:8080/",
          "height": 363
        },
        "id": "JP5SMiBC8AKp",
        "outputId": "7c7e0b45-3a4a-409c-af3b-6e1b135ad1e9"
      },
      "execution_count": null,
      "outputs": [
        {
          "output_type": "execute_result",
          "data": {
            "text/html": [
              "\n",
              "  <div id=\"df-d49111dc-43ea-4d00-a22d-14800b2de82c\">\n",
              "    <div class=\"colab-df-container\">\n",
              "      <div>\n",
              "<style scoped>\n",
              "    .dataframe tbody tr th:only-of-type {\n",
              "        vertical-align: middle;\n",
              "    }\n",
              "\n",
              "    .dataframe tbody tr th {\n",
              "        vertical-align: top;\n",
              "    }\n",
              "\n",
              "    .dataframe thead th {\n",
              "        text-align: right;\n",
              "    }\n",
              "</style>\n",
              "<table border=\"1\" class=\"dataframe\">\n",
              "  <thead>\n",
              "    <tr style=\"text-align: right;\">\n",
              "      <th></th>\n",
              "      <th>ID</th>\n",
              "      <th>Symbol</th>\n",
              "      <th>Company Name</th>\n",
              "      <th>IPO Price</th>\n",
              "      <th>Current</th>\n",
              "      <th>Return</th>\n",
              "      <th>IPO Month/Day</th>\n",
              "      <th>IPO Year</th>\n",
              "    </tr>\n",
              "  </thead>\n",
              "  <tbody>\n",
              "    <tr>\n",
              "      <th>1551</th>\n",
              "      <td>1552</td>\n",
              "      <td>SITM</td>\n",
              "      <td>SiTime</td>\n",
              "      <td>$13.00</td>\n",
              "      <td>$272.84</td>\n",
              "      <td>1998.77</td>\n",
              "      <td>Nov 21</td>\n",
              "      <td>2019</td>\n",
              "    </tr>\n",
              "    <tr>\n",
              "      <th>1587</th>\n",
              "      <td>1588</td>\n",
              "      <td>BNTX</td>\n",
              "      <td>BioNTech SE</td>\n",
              "      <td>$15.00</td>\n",
              "      <td>$271.46</td>\n",
              "      <td>1709.73</td>\n",
              "      <td>Oct 10</td>\n",
              "      <td>2019</td>\n",
              "    </tr>\n",
              "    <tr>\n",
              "      <th>1565</th>\n",
              "      <td>1566</td>\n",
              "      <td>SI</td>\n",
              "      <td>Silvergate Capital</td>\n",
              "      <td>$12.00</td>\n",
              "      <td>$144.07</td>\n",
              "      <td>1100.58</td>\n",
              "      <td>Nov 7</td>\n",
              "      <td>2019</td>\n",
              "    </tr>\n",
              "    <tr>\n",
              "      <th>1540</th>\n",
              "      <td>1541</td>\n",
              "      <td>BILL</td>\n",
              "      <td>Bill.com Holdings</td>\n",
              "      <td>$22.00</td>\n",
              "      <td>$256.29</td>\n",
              "      <td>1064.95</td>\n",
              "      <td>Dec 12</td>\n",
              "      <td>2019</td>\n",
              "    </tr>\n",
              "    <tr>\n",
              "      <th>1735</th>\n",
              "      <td>1736</td>\n",
              "      <td>SWAV</td>\n",
              "      <td>ShockWave Medical</td>\n",
              "      <td>$17.00</td>\n",
              "      <td>$177.75</td>\n",
              "      <td>945.59</td>\n",
              "      <td>Mar 7</td>\n",
              "      <td>2019</td>\n",
              "    </tr>\n",
              "    <tr>\n",
              "      <th>1600</th>\n",
              "      <td>1601</td>\n",
              "      <td>NET</td>\n",
              "      <td>Cloudflare</td>\n",
              "      <td>$15.00</td>\n",
              "      <td>$144.34</td>\n",
              "      <td>862.27</td>\n",
              "      <td>Sep 13</td>\n",
              "      <td>2019</td>\n",
              "    </tr>\n",
              "    <tr>\n",
              "      <th>1650</th>\n",
              "      <td>1651</td>\n",
              "      <td>KRTX</td>\n",
              "      <td>Karuna Therapeutics</td>\n",
              "      <td>$16.00</td>\n",
              "      <td>$122.76</td>\n",
              "      <td>667.25</td>\n",
              "      <td>Jun 28</td>\n",
              "      <td>2019</td>\n",
              "    </tr>\n",
              "    <tr>\n",
              "      <th>1075</th>\n",
              "      <td>1076</td>\n",
              "      <td>UPST</td>\n",
              "      <td>Upstart Holdings</td>\n",
              "      <td>$20.00</td>\n",
              "      <td>$149.48</td>\n",
              "      <td>647.40</td>\n",
              "      <td>Dec 16</td>\n",
              "      <td>2020</td>\n",
              "    </tr>\n",
              "    <tr>\n",
              "      <th>1594</th>\n",
              "      <td>1595</td>\n",
              "      <td>DDOG</td>\n",
              "      <td>Datadog</td>\n",
              "      <td>$27.00</td>\n",
              "      <td>$177.49</td>\n",
              "      <td>557.37</td>\n",
              "      <td>Sep 19</td>\n",
              "      <td>2019</td>\n",
              "    </tr>\n",
              "    <tr>\n",
              "      <th>1750</th>\n",
              "      <td>1751</td>\n",
              "      <td>ANCN</td>\n",
              "      <td>Anchiano Therapeutics</td>\n",
              "      <td>$11.50</td>\n",
              "      <td>$75.36</td>\n",
              "      <td>555.30</td>\n",
              "      <td>Feb 12</td>\n",
              "      <td>2019</td>\n",
              "    </tr>\n",
              "  </tbody>\n",
              "</table>\n",
              "</div>\n",
              "      <button class=\"colab-df-convert\" onclick=\"convertToInteractive('df-d49111dc-43ea-4d00-a22d-14800b2de82c')\"\n",
              "              title=\"Convert this dataframe to an interactive table.\"\n",
              "              style=\"display:none;\">\n",
              "        \n",
              "  <svg xmlns=\"http://www.w3.org/2000/svg\" height=\"24px\"viewBox=\"0 0 24 24\"\n",
              "       width=\"24px\">\n",
              "    <path d=\"M0 0h24v24H0V0z\" fill=\"none\"/>\n",
              "    <path d=\"M18.56 5.44l.94 2.06.94-2.06 2.06-.94-2.06-.94-.94-2.06-.94 2.06-2.06.94zm-11 1L8.5 8.5l.94-2.06 2.06-.94-2.06-.94L8.5 2.5l-.94 2.06-2.06.94zm10 10l.94 2.06.94-2.06 2.06-.94-2.06-.94-.94-2.06-.94 2.06-2.06.94z\"/><path d=\"M17.41 7.96l-1.37-1.37c-.4-.4-.92-.59-1.43-.59-.52 0-1.04.2-1.43.59L10.3 9.45l-7.72 7.72c-.78.78-.78 2.05 0 2.83L4 21.41c.39.39.9.59 1.41.59.51 0 1.02-.2 1.41-.59l7.78-7.78 2.81-2.81c.8-.78.8-2.07 0-2.86zM5.41 20L4 18.59l7.72-7.72 1.47 1.35L5.41 20z\"/>\n",
              "  </svg>\n",
              "      </button>\n",
              "      \n",
              "  <style>\n",
              "    .colab-df-container {\n",
              "      display:flex;\n",
              "      flex-wrap:wrap;\n",
              "      gap: 12px;\n",
              "    }\n",
              "\n",
              "    .colab-df-convert {\n",
              "      background-color: #E8F0FE;\n",
              "      border: none;\n",
              "      border-radius: 50%;\n",
              "      cursor: pointer;\n",
              "      display: none;\n",
              "      fill: #1967D2;\n",
              "      height: 32px;\n",
              "      padding: 0 0 0 0;\n",
              "      width: 32px;\n",
              "    }\n",
              "\n",
              "    .colab-df-convert:hover {\n",
              "      background-color: #E2EBFA;\n",
              "      box-shadow: 0px 1px 2px rgba(60, 64, 67, 0.3), 0px 1px 3px 1px rgba(60, 64, 67, 0.15);\n",
              "      fill: #174EA6;\n",
              "    }\n",
              "\n",
              "    [theme=dark] .colab-df-convert {\n",
              "      background-color: #3B4455;\n",
              "      fill: #D2E3FC;\n",
              "    }\n",
              "\n",
              "    [theme=dark] .colab-df-convert:hover {\n",
              "      background-color: #434B5C;\n",
              "      box-shadow: 0px 1px 3px 1px rgba(0, 0, 0, 0.15);\n",
              "      filter: drop-shadow(0px 1px 2px rgba(0, 0, 0, 0.3));\n",
              "      fill: #FFFFFF;\n",
              "    }\n",
              "  </style>\n",
              "\n",
              "      <script>\n",
              "        const buttonEl =\n",
              "          document.querySelector('#df-d49111dc-43ea-4d00-a22d-14800b2de82c button.colab-df-convert');\n",
              "        buttonEl.style.display =\n",
              "          google.colab.kernel.accessAllowed ? 'block' : 'none';\n",
              "\n",
              "        async function convertToInteractive(key) {\n",
              "          const element = document.querySelector('#df-d49111dc-43ea-4d00-a22d-14800b2de82c');\n",
              "          const dataTable =\n",
              "            await google.colab.kernel.invokeFunction('convertToInteractive',\n",
              "                                                     [key], {});\n",
              "          if (!dataTable) return;\n",
              "\n",
              "          const docLinkHtml = 'Like what you see? Visit the ' +\n",
              "            '<a target=\"_blank\" href=https://colab.research.google.com/notebooks/data_table.ipynb>data table notebook</a>'\n",
              "            + ' to learn more about interactive tables.';\n",
              "          element.innerHTML = '';\n",
              "          dataTable['output_type'] = 'display_data';\n",
              "          await google.colab.output.renderOutput(dataTable, element);\n",
              "          const docLink = document.createElement('div');\n",
              "          docLink.innerHTML = docLinkHtml;\n",
              "          element.appendChild(docLink);\n",
              "        }\n",
              "      </script>\n",
              "    </div>\n",
              "  </div>\n",
              "  "
            ],
            "text/plain": [
              "        ID Symbol           Company Name  ...   Return IPO Month/Day  IPO Year\n",
              "1551  1552   SITM                 SiTime  ...  1998.77        Nov 21      2019\n",
              "1587  1588   BNTX            BioNTech SE  ...  1709.73        Oct 10      2019\n",
              "1565  1566     SI     Silvergate Capital  ...  1100.58         Nov 7      2019\n",
              "1540  1541   BILL      Bill.com Holdings  ...  1064.95        Dec 12      2019\n",
              "1735  1736   SWAV      ShockWave Medical  ...   945.59         Mar 7      2019\n",
              "1600  1601    NET             Cloudflare  ...   862.27        Sep 13      2019\n",
              "1650  1651   KRTX    Karuna Therapeutics  ...   667.25        Jun 28      2019\n",
              "1075  1076   UPST       Upstart Holdings  ...   647.40        Dec 16      2020\n",
              "1594  1595   DDOG                Datadog  ...   557.37        Sep 19      2019\n",
              "1750  1751   ANCN  Anchiano Therapeutics  ...   555.30        Feb 12      2019\n",
              "\n",
              "[10 rows x 8 columns]"
            ]
          },
          "metadata": {},
          "execution_count": 42
        }
      ]
    },
    {
      "cell_type": "markdown",
      "source": [
        "###10 piores retornos"
      ],
      "metadata": {
        "id": "JGBiRa_N90x_"
      }
    },
    {
      "cell_type": "code",
      "source": [
        "dados.sort_values(by = ['Return'], ascending=True, inplace = True)\n",
        "dados.head(10)"
      ],
      "metadata": {
        "colab": {
          "base_uri": "https://localhost:8080/",
          "height": 363
        },
        "id": "z47uLlNG7FVA",
        "outputId": "f04a8b59-443c-48d5-98c3-df84edaeed19"
      },
      "execution_count": null,
      "outputs": [
        {
          "output_type": "execute_result",
          "data": {
            "text/html": [
              "\n",
              "  <div id=\"df-fc41d112-1a5b-46e2-bce1-2572ae55236d\">\n",
              "    <div class=\"colab-df-container\">\n",
              "      <div>\n",
              "<style scoped>\n",
              "    .dataframe tbody tr th:only-of-type {\n",
              "        vertical-align: middle;\n",
              "    }\n",
              "\n",
              "    .dataframe tbody tr th {\n",
              "        vertical-align: top;\n",
              "    }\n",
              "\n",
              "    .dataframe thead th {\n",
              "        text-align: right;\n",
              "    }\n",
              "</style>\n",
              "<table border=\"1\" class=\"dataframe\">\n",
              "  <thead>\n",
              "    <tr style=\"text-align: right;\">\n",
              "      <th></th>\n",
              "      <th>ID</th>\n",
              "      <th>Symbol</th>\n",
              "      <th>Company Name</th>\n",
              "      <th>IPO Price</th>\n",
              "      <th>Current</th>\n",
              "      <th>Return</th>\n",
              "      <th>IPO Month/Day</th>\n",
              "      <th>IPO Year</th>\n",
              "    </tr>\n",
              "  </thead>\n",
              "  <tbody>\n",
              "    <tr>\n",
              "      <th>1566</th>\n",
              "      <td>1567</td>\n",
              "      <td>QK</td>\n",
              "      <td>Q&amp;K International Group</td>\n",
              "      <td>$17.00</td>\n",
              "      <td>$0.42</td>\n",
              "      <td>-97.50</td>\n",
              "      <td>Nov 5</td>\n",
              "      <td>2019</td>\n",
              "    </tr>\n",
              "    <tr>\n",
              "      <th>1570</th>\n",
              "      <td>1571</td>\n",
              "      <td>DUO</td>\n",
              "      <td>Fangdd Network Group</td>\n",
              "      <td>$13.00</td>\n",
              "      <td>$0.51</td>\n",
              "      <td>-96.08</td>\n",
              "      <td>Nov 1</td>\n",
              "      <td>2019</td>\n",
              "    </tr>\n",
              "    <tr>\n",
              "      <th>1533</th>\n",
              "      <td>1534</td>\n",
              "      <td>MKD</td>\n",
              "      <td>Molecular Data</td>\n",
              "      <td>$5.38</td>\n",
              "      <td>$0.23</td>\n",
              "      <td>-95.63</td>\n",
              "      <td>Dec 30</td>\n",
              "      <td>2019</td>\n",
              "    </tr>\n",
              "    <tr>\n",
              "      <th>1561</th>\n",
              "      <td>1562</td>\n",
              "      <td>MOHO</td>\n",
              "      <td>ECMOHO</td>\n",
              "      <td>$10.00</td>\n",
              "      <td>$0.45</td>\n",
              "      <td>-95.52</td>\n",
              "      <td>Nov 8</td>\n",
              "      <td>2019</td>\n",
              "    </tr>\n",
              "    <tr>\n",
              "      <th>1618</th>\n",
              "      <td>1619</td>\n",
              "      <td>SNDL</td>\n",
              "      <td>Sundial Growers</td>\n",
              "      <td>$13.00</td>\n",
              "      <td>$0.63</td>\n",
              "      <td>-95.19</td>\n",
              "      <td>Aug 1</td>\n",
              "      <td>2019</td>\n",
              "    </tr>\n",
              "    <tr>\n",
              "      <th>1697</th>\n",
              "      <td>1698</td>\n",
              "      <td>YJ</td>\n",
              "      <td>Yunji</td>\n",
              "      <td>$11.00</td>\n",
              "      <td>$0.58</td>\n",
              "      <td>-94.73</td>\n",
              "      <td>May 3</td>\n",
              "      <td>2019</td>\n",
              "    </tr>\n",
              "    <tr>\n",
              "      <th>1708</th>\n",
              "      <td>1709</td>\n",
              "      <td>GNLN</td>\n",
              "      <td>Greenlane Holdings</td>\n",
              "      <td>$17.00</td>\n",
              "      <td>$1.02</td>\n",
              "      <td>-94.00</td>\n",
              "      <td>Apr 18</td>\n",
              "      <td>2019</td>\n",
              "    </tr>\n",
              "    <tr>\n",
              "      <th>1695</th>\n",
              "      <td>1696</td>\n",
              "      <td>TRVI</td>\n",
              "      <td>Trevi Therapeutics</td>\n",
              "      <td>$10.00</td>\n",
              "      <td>$0.69</td>\n",
              "      <td>-93.06</td>\n",
              "      <td>May 7</td>\n",
              "      <td>2019</td>\n",
              "    </tr>\n",
              "    <tr>\n",
              "      <th>1434</th>\n",
              "      <td>1435</td>\n",
              "      <td>ADTX</td>\n",
              "      <td>Aditx</td>\n",
              "      <td>$9.00</td>\n",
              "      <td>$0.63</td>\n",
              "      <td>-93.02</td>\n",
              "      <td>Jun 30</td>\n",
              "      <td>2020</td>\n",
              "    </tr>\n",
              "    <tr>\n",
              "      <th>1744</th>\n",
              "      <td>1745</td>\n",
              "      <td>MITO</td>\n",
              "      <td>Stealth BioTherapeutics</td>\n",
              "      <td>$12.00</td>\n",
              "      <td>$0.86</td>\n",
              "      <td>-92.83</td>\n",
              "      <td>Feb 15</td>\n",
              "      <td>2019</td>\n",
              "    </tr>\n",
              "  </tbody>\n",
              "</table>\n",
              "</div>\n",
              "      <button class=\"colab-df-convert\" onclick=\"convertToInteractive('df-fc41d112-1a5b-46e2-bce1-2572ae55236d')\"\n",
              "              title=\"Convert this dataframe to an interactive table.\"\n",
              "              style=\"display:none;\">\n",
              "        \n",
              "  <svg xmlns=\"http://www.w3.org/2000/svg\" height=\"24px\"viewBox=\"0 0 24 24\"\n",
              "       width=\"24px\">\n",
              "    <path d=\"M0 0h24v24H0V0z\" fill=\"none\"/>\n",
              "    <path d=\"M18.56 5.44l.94 2.06.94-2.06 2.06-.94-2.06-.94-.94-2.06-.94 2.06-2.06.94zm-11 1L8.5 8.5l.94-2.06 2.06-.94-2.06-.94L8.5 2.5l-.94 2.06-2.06.94zm10 10l.94 2.06.94-2.06 2.06-.94-2.06-.94-.94-2.06-.94 2.06-2.06.94z\"/><path d=\"M17.41 7.96l-1.37-1.37c-.4-.4-.92-.59-1.43-.59-.52 0-1.04.2-1.43.59L10.3 9.45l-7.72 7.72c-.78.78-.78 2.05 0 2.83L4 21.41c.39.39.9.59 1.41.59.51 0 1.02-.2 1.41-.59l7.78-7.78 2.81-2.81c.8-.78.8-2.07 0-2.86zM5.41 20L4 18.59l7.72-7.72 1.47 1.35L5.41 20z\"/>\n",
              "  </svg>\n",
              "      </button>\n",
              "      \n",
              "  <style>\n",
              "    .colab-df-container {\n",
              "      display:flex;\n",
              "      flex-wrap:wrap;\n",
              "      gap: 12px;\n",
              "    }\n",
              "\n",
              "    .colab-df-convert {\n",
              "      background-color: #E8F0FE;\n",
              "      border: none;\n",
              "      border-radius: 50%;\n",
              "      cursor: pointer;\n",
              "      display: none;\n",
              "      fill: #1967D2;\n",
              "      height: 32px;\n",
              "      padding: 0 0 0 0;\n",
              "      width: 32px;\n",
              "    }\n",
              "\n",
              "    .colab-df-convert:hover {\n",
              "      background-color: #E2EBFA;\n",
              "      box-shadow: 0px 1px 2px rgba(60, 64, 67, 0.3), 0px 1px 3px 1px rgba(60, 64, 67, 0.15);\n",
              "      fill: #174EA6;\n",
              "    }\n",
              "\n",
              "    [theme=dark] .colab-df-convert {\n",
              "      background-color: #3B4455;\n",
              "      fill: #D2E3FC;\n",
              "    }\n",
              "\n",
              "    [theme=dark] .colab-df-convert:hover {\n",
              "      background-color: #434B5C;\n",
              "      box-shadow: 0px 1px 3px 1px rgba(0, 0, 0, 0.15);\n",
              "      filter: drop-shadow(0px 1px 2px rgba(0, 0, 0, 0.3));\n",
              "      fill: #FFFFFF;\n",
              "    }\n",
              "  </style>\n",
              "\n",
              "      <script>\n",
              "        const buttonEl =\n",
              "          document.querySelector('#df-fc41d112-1a5b-46e2-bce1-2572ae55236d button.colab-df-convert');\n",
              "        buttonEl.style.display =\n",
              "          google.colab.kernel.accessAllowed ? 'block' : 'none';\n",
              "\n",
              "        async function convertToInteractive(key) {\n",
              "          const element = document.querySelector('#df-fc41d112-1a5b-46e2-bce1-2572ae55236d');\n",
              "          const dataTable =\n",
              "            await google.colab.kernel.invokeFunction('convertToInteractive',\n",
              "                                                     [key], {});\n",
              "          if (!dataTable) return;\n",
              "\n",
              "          const docLinkHtml = 'Like what you see? Visit the ' +\n",
              "            '<a target=\"_blank\" href=https://colab.research.google.com/notebooks/data_table.ipynb>data table notebook</a>'\n",
              "            + ' to learn more about interactive tables.';\n",
              "          element.innerHTML = '';\n",
              "          dataTable['output_type'] = 'display_data';\n",
              "          await google.colab.output.renderOutput(dataTable, element);\n",
              "          const docLink = document.createElement('div');\n",
              "          docLink.innerHTML = docLinkHtml;\n",
              "          element.appendChild(docLink);\n",
              "        }\n",
              "      </script>\n",
              "    </div>\n",
              "  </div>\n",
              "  "
            ],
            "text/plain": [
              "        ID Symbol             Company Name  ... Return IPO Month/Day  IPO Year\n",
              "1566  1567     QK  Q&K International Group  ... -97.50         Nov 5      2019\n",
              "1570  1571    DUO     Fangdd Network Group  ... -96.08         Nov 1      2019\n",
              "1533  1534    MKD           Molecular Data  ... -95.63        Dec 30      2019\n",
              "1561  1562   MOHO                   ECMOHO  ... -95.52         Nov 8      2019\n",
              "1618  1619   SNDL          Sundial Growers  ... -95.19         Aug 1      2019\n",
              "1697  1698     YJ                    Yunji  ... -94.73         May 3      2019\n",
              "1708  1709   GNLN       Greenlane Holdings  ... -94.00        Apr 18      2019\n",
              "1695  1696   TRVI       Trevi Therapeutics  ... -93.06         May 7      2019\n",
              "1434  1435   ADTX                    Aditx  ... -93.02        Jun 30      2020\n",
              "1744  1745   MITO  Stealth BioTherapeutics  ... -92.83        Feb 15      2019\n",
              "\n",
              "[10 rows x 8 columns]"
            ]
          },
          "metadata": {},
          "execution_count": 41
        }
      ]
    },
    {
      "cell_type": "code",
      "source": [
        ""
      ],
      "metadata": {
        "id": "vbWlULBv9jxg"
      },
      "execution_count": null,
      "outputs": []
    }
  ]
}