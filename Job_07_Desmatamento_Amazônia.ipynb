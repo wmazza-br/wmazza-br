{
  "nbformat": 4,
  "nbformat_minor": 0,
  "metadata": {
    "colab": {
      "name": "Job 07 - Desmatamento Amazônia.ipynb",
      "provenance": [],
      "collapsed_sections": [
        "RFvBo2zrVEfd",
        "ycwYP_mAcooG",
        "6hNFdu8fciFz",
        "JaOCRawSVJFf",
        "-6lQNTNLVR3S",
        "z3oILmpLdAvQ",
        "vNvEpciedH7n",
        "Bhiz_d_5dNqK",
        "OF_RDSgadZBJ",
        "FkPMZdEIdfk3",
        "Rnq2G_6rdmB8",
        "CBsLVbzadqqv",
        "3-PFJNH6dzlo",
        "nVUXLUAbfFG8"
      ],
      "authorship_tag": "ABX9TyPlnGnCqwpE2X7WrIH5dgl5",
      "include_colab_link": true
    },
    "kernelspec": {
      "name": "python3",
      "display_name": "Python 3"
    },
    "language_info": {
      "name": "python"
    }
  },
  "cells": [
    {
      "cell_type": "markdown",
      "metadata": {
        "id": "view-in-github",
        "colab_type": "text"
      },
      "source": [
        "<a href=\"https://colab.research.google.com/github/wmazza-br/wmazza-br/blob/main/Job_07_Desmatamento_Amaz%C3%B4nia.ipynb\" target=\"_parent\"><img src=\"https://colab.research.google.com/assets/colab-badge.svg\" alt=\"Open In Colab\"/></a>"
      ]
    },
    {
      "cell_type": "markdown",
      "source": [
        "# <font color='red' style='font-size: 30px;'>Desmatamento na Amazônia Legal</font>\n",
        "<hr style='border: 2px solid red;'>"
      ],
      "metadata": {
        "id": "RFvBo2zrVEfd"
      }
    },
    {
      "cell_type": "markdown",
      "source": [
        "###<font color='red' style='font-size: 30px;'>Qual o % de desmatamento da Amazônia ocorrido em cada governo desde o ano 2000? Seria o atual governo o maior destruidor de florestas? É essa pergunta que quero responder, baseado nos fatos e dados.</font>"
      ],
      "metadata": {
        "id": "ycwYP_mAcooG"
      }
    },
    {
      "cell_type": "markdown",
      "source": [
        "##<font color='blue' style='font-size: 30px;'>Sobre a base de dados</font>"
      ],
      "metadata": {
        "id": "6hNFdu8fciFz"
      }
    },
    {
      "cell_type": "markdown",
      "source": [
        "###fonte: Instituto Nacional de Pesquisas Espaciais (INPE)"
      ],
      "metadata": {
        "id": "JaOCRawSVJFf"
      }
    },
    {
      "cell_type": "markdown",
      "source": [
        "###extraído de https://basedosdados.org/dataset/br-inpe-prodes"
      ],
      "metadata": {
        "id": "-6lQNTNLVR3S"
      }
    },
    {
      "cell_type": "markdown",
      "source": [
        "O projeto PRODES realiza o monitoramento por satélites do desmatamento por corte raso na Amazônia Legal e produz, desde 1988, as taxas anuais de desmatamento na região, que são usadas pelo governo brasileiro para o estabelecimento de políticas públicas. As taxas anuais são estimadas a partir dos incrementos de desmatamento identificados em cada imagem de satélite que cobre a Amazônia Legal. A primeira apresentação dos dados é realizada para dezembro de cada ano, na forma de estimativa. Os dados consolidados são apresentados no primeiro semestre do ano seguinte.\n",
        "\n",
        "O PRODES utiliza imagens de satélites da classe LANDSAT (20 a 30 metros de resolução espacial e taxa de revisita de 16 dias) numa combinação que busca minimizar o problema da cobertura de nuvens e garantir critérios de interoperabilidade. As imagens do satélite americano LANDSAT-5/TM foram, historicamente, as mais utilizadas pelo projeto, mas as imagens do sensor CCD a bordo do CBERS-2/2B, satélites do programa sino-brasileiro de sensoriamento remoto, foram bastante usadas. O PRODES também fez uso de imagens LISS-3 do satélite indiano IRS-1 e também das imagens do satélite inglês UK-DMC2. Atualmente faz uso massivo das imagens do LANDSAT 8/OLI, CBERS 4 e IRS-2. Independente do instrumento utilizado, a área mínima mapeada pelo PRODES é de 6,25 hectares.\n",
        "\n",
        "As estimativas do PRODES são consideradas confiáveis pelos cientistas nacionais e internacionais (Kintish, 2007). Esse sistema tem demonstrado ser de grande importância para ações e planejamento de políticas públicas da Amazônia. Resultados recentes, a partir de análises realizadas com especialistas independentes, indicam nível de precisão próximo a 95%."
      ],
      "metadata": {
        "id": "7yeoWPhwU-8I"
      }
    },
    {
      "cell_type": "markdown",
      "source": [
        "###<font color='red' style='font-size: 30px;'>Qual o % de desmatamento da Amazônia ocorrido em cada governo desde o ano 2000? Seria o atual governo o maior destruidor de florestas? É essa pergunta que quero responder, baseado nos fatos e dados.</font>"
      ],
      "metadata": {
        "id": "7Gi8x3CnLzCo"
      }
    },
    {
      "cell_type": "markdown",
      "source": [
        "##<font color='blue' style='font-size: 30px;'>Importando a base de dados</font>"
      ],
      "metadata": {
        "id": "z3oILmpLdAvQ"
      }
    },
    {
      "cell_type": "code",
      "execution_count": null,
      "metadata": {
        "id": "Y7HYtVLoPpy-"
      },
      "outputs": [],
      "source": [
        "import pandas as pd"
      ]
    },
    {
      "cell_type": "code",
      "source": [
        "from google.colab import drive\n",
        "drive.mount('/content/drive')"
      ],
      "metadata": {
        "colab": {
          "base_uri": "https://localhost:8080/"
        },
        "id": "7Z0OnLt_QYGy",
        "outputId": "ec689d20-f75c-47c2-8e3a-9ef711f3110c"
      },
      "execution_count": null,
      "outputs": [
        {
          "output_type": "stream",
          "name": "stdout",
          "text": [
            "Drive already mounted at /content/drive; to attempt to forcibly remount, call drive.mount(\"/content/drive\", force_remount=True).\n"
          ]
        }
      ]
    },
    {
      "cell_type": "code",
      "source": [
        "dados = pd.read_csv('/content/drive/MyDrive/Colab Notebooks/Portfólio próprio/desmatamento_municipio.csv')"
      ],
      "metadata": {
        "id": "doWU9Lg-QaGC"
      },
      "execution_count": null,
      "outputs": []
    },
    {
      "cell_type": "markdown",
      "source": [
        "##<font color='blue' style='font-size: 30px;'>Conhecendo o dataset</font>"
      ],
      "metadata": {
        "id": "vNvEpciedH7n"
      }
    },
    {
      "cell_type": "code",
      "source": [
        "dados.head()"
      ],
      "metadata": {
        "colab": {
          "base_uri": "https://localhost:8080/",
          "height": 206
        },
        "id": "z0eLjWJVQjHJ",
        "outputId": "249a83ab-b4be-4005-e597-bb4ca34e49ea"
      },
      "execution_count": null,
      "outputs": [
        {
          "output_type": "execute_result",
          "data": {
            "text/html": [
              "\n",
              "  <div id=\"df-4a63c18f-cae5-47d9-8f64-86a64d2e8611\">\n",
              "    <div class=\"colab-df-container\">\n",
              "      <div>\n",
              "<style scoped>\n",
              "    .dataframe tbody tr th:only-of-type {\n",
              "        vertical-align: middle;\n",
              "    }\n",
              "\n",
              "    .dataframe tbody tr th {\n",
              "        vertical-align: top;\n",
              "    }\n",
              "\n",
              "    .dataframe thead th {\n",
              "        text-align: right;\n",
              "    }\n",
              "</style>\n",
              "<table border=\"1\" class=\"dataframe\">\n",
              "  <thead>\n",
              "    <tr style=\"text-align: right;\">\n",
              "      <th></th>\n",
              "      <th>ano</th>\n",
              "      <th>id_municipio</th>\n",
              "      <th>area</th>\n",
              "      <th>desmatado</th>\n",
              "      <th>incremento</th>\n",
              "      <th>floresta</th>\n",
              "      <th>nuvem</th>\n",
              "      <th>nao_observado</th>\n",
              "      <th>nao_floresta</th>\n",
              "      <th>hidrografia</th>\n",
              "    </tr>\n",
              "  </thead>\n",
              "  <tbody>\n",
              "    <tr>\n",
              "      <th>0</th>\n",
              "      <td>2000</td>\n",
              "      <td>1100015</td>\n",
              "      <td>7137</td>\n",
              "      <td>1761.1</td>\n",
              "      <td>NaN</td>\n",
              "      <td>3639.6</td>\n",
              "      <td>0.0</td>\n",
              "      <td>6.1</td>\n",
              "      <td>1708.0</td>\n",
              "      <td>22.2</td>\n",
              "    </tr>\n",
              "    <tr>\n",
              "      <th>1</th>\n",
              "      <td>2001</td>\n",
              "      <td>1100015</td>\n",
              "      <td>7137</td>\n",
              "      <td>1834.2</td>\n",
              "      <td>73.1</td>\n",
              "      <td>3566.5</td>\n",
              "      <td>0.0</td>\n",
              "      <td>6.1</td>\n",
              "      <td>1708.0</td>\n",
              "      <td>22.2</td>\n",
              "    </tr>\n",
              "    <tr>\n",
              "      <th>2</th>\n",
              "      <td>2002</td>\n",
              "      <td>1100015</td>\n",
              "      <td>7137</td>\n",
              "      <td>1948.9</td>\n",
              "      <td>114.7</td>\n",
              "      <td>3451.8</td>\n",
              "      <td>0.0</td>\n",
              "      <td>6.1</td>\n",
              "      <td>1708.0</td>\n",
              "      <td>22.2</td>\n",
              "    </tr>\n",
              "    <tr>\n",
              "      <th>3</th>\n",
              "      <td>2003</td>\n",
              "      <td>1100015</td>\n",
              "      <td>7137</td>\n",
              "      <td>2014.9</td>\n",
              "      <td>66.0</td>\n",
              "      <td>3385.8</td>\n",
              "      <td>0.0</td>\n",
              "      <td>6.1</td>\n",
              "      <td>1708.0</td>\n",
              "      <td>22.2</td>\n",
              "    </tr>\n",
              "    <tr>\n",
              "      <th>4</th>\n",
              "      <td>2004</td>\n",
              "      <td>1100015</td>\n",
              "      <td>7137</td>\n",
              "      <td>2092.0</td>\n",
              "      <td>77.1</td>\n",
              "      <td>3308.7</td>\n",
              "      <td>0.0</td>\n",
              "      <td>6.1</td>\n",
              "      <td>1708.0</td>\n",
              "      <td>22.2</td>\n",
              "    </tr>\n",
              "  </tbody>\n",
              "</table>\n",
              "</div>\n",
              "      <button class=\"colab-df-convert\" onclick=\"convertToInteractive('df-4a63c18f-cae5-47d9-8f64-86a64d2e8611')\"\n",
              "              title=\"Convert this dataframe to an interactive table.\"\n",
              "              style=\"display:none;\">\n",
              "        \n",
              "  <svg xmlns=\"http://www.w3.org/2000/svg\" height=\"24px\"viewBox=\"0 0 24 24\"\n",
              "       width=\"24px\">\n",
              "    <path d=\"M0 0h24v24H0V0z\" fill=\"none\"/>\n",
              "    <path d=\"M18.56 5.44l.94 2.06.94-2.06 2.06-.94-2.06-.94-.94-2.06-.94 2.06-2.06.94zm-11 1L8.5 8.5l.94-2.06 2.06-.94-2.06-.94L8.5 2.5l-.94 2.06-2.06.94zm10 10l.94 2.06.94-2.06 2.06-.94-2.06-.94-.94-2.06-.94 2.06-2.06.94z\"/><path d=\"M17.41 7.96l-1.37-1.37c-.4-.4-.92-.59-1.43-.59-.52 0-1.04.2-1.43.59L10.3 9.45l-7.72 7.72c-.78.78-.78 2.05 0 2.83L4 21.41c.39.39.9.59 1.41.59.51 0 1.02-.2 1.41-.59l7.78-7.78 2.81-2.81c.8-.78.8-2.07 0-2.86zM5.41 20L4 18.59l7.72-7.72 1.47 1.35L5.41 20z\"/>\n",
              "  </svg>\n",
              "      </button>\n",
              "      \n",
              "  <style>\n",
              "    .colab-df-container {\n",
              "      display:flex;\n",
              "      flex-wrap:wrap;\n",
              "      gap: 12px;\n",
              "    }\n",
              "\n",
              "    .colab-df-convert {\n",
              "      background-color: #E8F0FE;\n",
              "      border: none;\n",
              "      border-radius: 50%;\n",
              "      cursor: pointer;\n",
              "      display: none;\n",
              "      fill: #1967D2;\n",
              "      height: 32px;\n",
              "      padding: 0 0 0 0;\n",
              "      width: 32px;\n",
              "    }\n",
              "\n",
              "    .colab-df-convert:hover {\n",
              "      background-color: #E2EBFA;\n",
              "      box-shadow: 0px 1px 2px rgba(60, 64, 67, 0.3), 0px 1px 3px 1px rgba(60, 64, 67, 0.15);\n",
              "      fill: #174EA6;\n",
              "    }\n",
              "\n",
              "    [theme=dark] .colab-df-convert {\n",
              "      background-color: #3B4455;\n",
              "      fill: #D2E3FC;\n",
              "    }\n",
              "\n",
              "    [theme=dark] .colab-df-convert:hover {\n",
              "      background-color: #434B5C;\n",
              "      box-shadow: 0px 1px 3px 1px rgba(0, 0, 0, 0.15);\n",
              "      filter: drop-shadow(0px 1px 2px rgba(0, 0, 0, 0.3));\n",
              "      fill: #FFFFFF;\n",
              "    }\n",
              "  </style>\n",
              "\n",
              "      <script>\n",
              "        const buttonEl =\n",
              "          document.querySelector('#df-4a63c18f-cae5-47d9-8f64-86a64d2e8611 button.colab-df-convert');\n",
              "        buttonEl.style.display =\n",
              "          google.colab.kernel.accessAllowed ? 'block' : 'none';\n",
              "\n",
              "        async function convertToInteractive(key) {\n",
              "          const element = document.querySelector('#df-4a63c18f-cae5-47d9-8f64-86a64d2e8611');\n",
              "          const dataTable =\n",
              "            await google.colab.kernel.invokeFunction('convertToInteractive',\n",
              "                                                     [key], {});\n",
              "          if (!dataTable) return;\n",
              "\n",
              "          const docLinkHtml = 'Like what you see? Visit the ' +\n",
              "            '<a target=\"_blank\" href=https://colab.research.google.com/notebooks/data_table.ipynb>data table notebook</a>'\n",
              "            + ' to learn more about interactive tables.';\n",
              "          element.innerHTML = '';\n",
              "          dataTable['output_type'] = 'display_data';\n",
              "          await google.colab.output.renderOutput(dataTable, element);\n",
              "          const docLink = document.createElement('div');\n",
              "          docLink.innerHTML = docLinkHtml;\n",
              "          element.appendChild(docLink);\n",
              "        }\n",
              "      </script>\n",
              "    </div>\n",
              "  </div>\n",
              "  "
            ],
            "text/plain": [
              "    ano  id_municipio  area  ...  nao_observado  nao_floresta  hidrografia\n",
              "0  2000       1100015  7137  ...            6.1        1708.0         22.2\n",
              "1  2001       1100015  7137  ...            6.1        1708.0         22.2\n",
              "2  2002       1100015  7137  ...            6.1        1708.0         22.2\n",
              "3  2003       1100015  7137  ...            6.1        1708.0         22.2\n",
              "4  2004       1100015  7137  ...            6.1        1708.0         22.2\n",
              "\n",
              "[5 rows x 10 columns]"
            ]
          },
          "metadata": {},
          "execution_count": 54
        }
      ]
    },
    {
      "cell_type": "code",
      "source": [
        "dados.shape"
      ],
      "metadata": {
        "colab": {
          "base_uri": "https://localhost:8080/"
        },
        "id": "_GGxib_cQj7o",
        "outputId": "a689e4bf-f11a-470d-b806-b38fbbee6b8d"
      },
      "execution_count": null,
      "outputs": [
        {
          "output_type": "execute_result",
          "data": {
            "text/plain": [
              "(15960, 10)"
            ]
          },
          "metadata": {},
          "execution_count": 55
        }
      ]
    },
    {
      "cell_type": "code",
      "source": [
        "dados.info()"
      ],
      "metadata": {
        "colab": {
          "base_uri": "https://localhost:8080/"
        },
        "id": "rgryk1ouQxgw",
        "outputId": "fda61060-2d03-450a-954b-9ad8bba99dda"
      },
      "execution_count": null,
      "outputs": [
        {
          "output_type": "stream",
          "name": "stdout",
          "text": [
            "<class 'pandas.core.frame.DataFrame'>\n",
            "RangeIndex: 15960 entries, 0 to 15959\n",
            "Data columns (total 10 columns):\n",
            " #   Column         Non-Null Count  Dtype  \n",
            "---  ------         --------------  -----  \n",
            " 0   ano            15960 non-null  int64  \n",
            " 1   id_municipio   15960 non-null  int64  \n",
            " 2   area           15960 non-null  int64  \n",
            " 3   desmatado      15960 non-null  float64\n",
            " 4   incremento     15200 non-null  float64\n",
            " 5   floresta       15960 non-null  float64\n",
            " 6   nuvem          15960 non-null  float64\n",
            " 7   nao_observado  15960 non-null  float64\n",
            " 8   nao_floresta   15960 non-null  float64\n",
            " 9   hidrografia    15960 non-null  float64\n",
            "dtypes: float64(7), int64(3)\n",
            "memory usage: 1.2 MB\n"
          ]
        }
      ]
    },
    {
      "cell_type": "markdown",
      "source": [
        "##<font color='blue' style='font-size: 30px;'>Acrescentando a coluna \"% desmatado\"</font>"
      ],
      "metadata": {
        "id": "Bhiz_d_5dNqK"
      }
    },
    {
      "cell_type": "code",
      "source": [
        "dados['% desmatado'] = dados['desmatado'] / dados['area'] * 100\n",
        "dados"
      ],
      "metadata": {
        "colab": {
          "base_uri": "https://localhost:8080/",
          "height": 424
        },
        "id": "NrMednmfVnSm",
        "outputId": "3fc00f37-7922-4265-e911-0a28b1bb61d2"
      },
      "execution_count": null,
      "outputs": [
        {
          "output_type": "execute_result",
          "data": {
            "text/html": [
              "\n",
              "  <div id=\"df-4f08022f-e342-43b7-8227-506108e8e0e8\">\n",
              "    <div class=\"colab-df-container\">\n",
              "      <div>\n",
              "<style scoped>\n",
              "    .dataframe tbody tr th:only-of-type {\n",
              "        vertical-align: middle;\n",
              "    }\n",
              "\n",
              "    .dataframe tbody tr th {\n",
              "        vertical-align: top;\n",
              "    }\n",
              "\n",
              "    .dataframe thead th {\n",
              "        text-align: right;\n",
              "    }\n",
              "</style>\n",
              "<table border=\"1\" class=\"dataframe\">\n",
              "  <thead>\n",
              "    <tr style=\"text-align: right;\">\n",
              "      <th></th>\n",
              "      <th>ano</th>\n",
              "      <th>id_municipio</th>\n",
              "      <th>area</th>\n",
              "      <th>desmatado</th>\n",
              "      <th>incremento</th>\n",
              "      <th>floresta</th>\n",
              "      <th>nuvem</th>\n",
              "      <th>nao_observado</th>\n",
              "      <th>nao_floresta</th>\n",
              "      <th>hidrografia</th>\n",
              "      <th>% desmatado</th>\n",
              "    </tr>\n",
              "  </thead>\n",
              "  <tbody>\n",
              "    <tr>\n",
              "      <th>0</th>\n",
              "      <td>2000</td>\n",
              "      <td>1100015</td>\n",
              "      <td>7137</td>\n",
              "      <td>1761.1</td>\n",
              "      <td>NaN</td>\n",
              "      <td>3639.6</td>\n",
              "      <td>0.0</td>\n",
              "      <td>6.1</td>\n",
              "      <td>1708.0</td>\n",
              "      <td>22.2</td>\n",
              "      <td>24.675634</td>\n",
              "    </tr>\n",
              "    <tr>\n",
              "      <th>1</th>\n",
              "      <td>2001</td>\n",
              "      <td>1100015</td>\n",
              "      <td>7137</td>\n",
              "      <td>1834.2</td>\n",
              "      <td>73.1</td>\n",
              "      <td>3566.5</td>\n",
              "      <td>0.0</td>\n",
              "      <td>6.1</td>\n",
              "      <td>1708.0</td>\n",
              "      <td>22.2</td>\n",
              "      <td>25.699874</td>\n",
              "    </tr>\n",
              "    <tr>\n",
              "      <th>2</th>\n",
              "      <td>2002</td>\n",
              "      <td>1100015</td>\n",
              "      <td>7137</td>\n",
              "      <td>1948.9</td>\n",
              "      <td>114.7</td>\n",
              "      <td>3451.8</td>\n",
              "      <td>0.0</td>\n",
              "      <td>6.1</td>\n",
              "      <td>1708.0</td>\n",
              "      <td>22.2</td>\n",
              "      <td>27.306992</td>\n",
              "    </tr>\n",
              "    <tr>\n",
              "      <th>3</th>\n",
              "      <td>2003</td>\n",
              "      <td>1100015</td>\n",
              "      <td>7137</td>\n",
              "      <td>2014.9</td>\n",
              "      <td>66.0</td>\n",
              "      <td>3385.8</td>\n",
              "      <td>0.0</td>\n",
              "      <td>6.1</td>\n",
              "      <td>1708.0</td>\n",
              "      <td>22.2</td>\n",
              "      <td>28.231750</td>\n",
              "    </tr>\n",
              "    <tr>\n",
              "      <th>4</th>\n",
              "      <td>2004</td>\n",
              "      <td>1100015</td>\n",
              "      <td>7137</td>\n",
              "      <td>2092.0</td>\n",
              "      <td>77.1</td>\n",
              "      <td>3308.7</td>\n",
              "      <td>0.0</td>\n",
              "      <td>6.1</td>\n",
              "      <td>1708.0</td>\n",
              "      <td>22.2</td>\n",
              "      <td>29.312036</td>\n",
              "    </tr>\n",
              "    <tr>\n",
              "      <th>...</th>\n",
              "      <td>...</td>\n",
              "      <td>...</td>\n",
              "      <td>...</td>\n",
              "      <td>...</td>\n",
              "      <td>...</td>\n",
              "      <td>...</td>\n",
              "      <td>...</td>\n",
              "      <td>...</td>\n",
              "      <td>...</td>\n",
              "      <td>...</td>\n",
              "      <td>...</td>\n",
              "    </tr>\n",
              "    <tr>\n",
              "      <th>15955</th>\n",
              "      <td>2016</td>\n",
              "      <td>5108956</td>\n",
              "      <td>5277</td>\n",
              "      <td>2393.4</td>\n",
              "      <td>18.4</td>\n",
              "      <td>2864.0</td>\n",
              "      <td>0.0</td>\n",
              "      <td>0.0</td>\n",
              "      <td>12.9</td>\n",
              "      <td>6.7</td>\n",
              "      <td>45.355316</td>\n",
              "    </tr>\n",
              "    <tr>\n",
              "      <th>15956</th>\n",
              "      <td>2017</td>\n",
              "      <td>5108956</td>\n",
              "      <td>5277</td>\n",
              "      <td>2414.3</td>\n",
              "      <td>21.0</td>\n",
              "      <td>2843.1</td>\n",
              "      <td>0.0</td>\n",
              "      <td>0.0</td>\n",
              "      <td>12.9</td>\n",
              "      <td>6.7</td>\n",
              "      <td>45.751374</td>\n",
              "    </tr>\n",
              "    <tr>\n",
              "      <th>15957</th>\n",
              "      <td>2018</td>\n",
              "      <td>5108956</td>\n",
              "      <td>5277</td>\n",
              "      <td>2428.2</td>\n",
              "      <td>17.3</td>\n",
              "      <td>2829.2</td>\n",
              "      <td>0.0</td>\n",
              "      <td>0.0</td>\n",
              "      <td>12.9</td>\n",
              "      <td>6.7</td>\n",
              "      <td>46.014781</td>\n",
              "    </tr>\n",
              "    <tr>\n",
              "      <th>15958</th>\n",
              "      <td>2019</td>\n",
              "      <td>5108956</td>\n",
              "      <td>5277</td>\n",
              "      <td>2468.2</td>\n",
              "      <td>40.0</td>\n",
              "      <td>2789.2</td>\n",
              "      <td>0.0</td>\n",
              "      <td>0.0</td>\n",
              "      <td>12.9</td>\n",
              "      <td>6.7</td>\n",
              "      <td>46.772788</td>\n",
              "    </tr>\n",
              "    <tr>\n",
              "      <th>15959</th>\n",
              "      <td>2020</td>\n",
              "      <td>5108956</td>\n",
              "      <td>5277</td>\n",
              "      <td>2491.2</td>\n",
              "      <td>23.0</td>\n",
              "      <td>2766.2</td>\n",
              "      <td>0.0</td>\n",
              "      <td>0.0</td>\n",
              "      <td>12.9</td>\n",
              "      <td>6.7</td>\n",
              "      <td>47.208641</td>\n",
              "    </tr>\n",
              "  </tbody>\n",
              "</table>\n",
              "<p>15960 rows × 11 columns</p>\n",
              "</div>\n",
              "      <button class=\"colab-df-convert\" onclick=\"convertToInteractive('df-4f08022f-e342-43b7-8227-506108e8e0e8')\"\n",
              "              title=\"Convert this dataframe to an interactive table.\"\n",
              "              style=\"display:none;\">\n",
              "        \n",
              "  <svg xmlns=\"http://www.w3.org/2000/svg\" height=\"24px\"viewBox=\"0 0 24 24\"\n",
              "       width=\"24px\">\n",
              "    <path d=\"M0 0h24v24H0V0z\" fill=\"none\"/>\n",
              "    <path d=\"M18.56 5.44l.94 2.06.94-2.06 2.06-.94-2.06-.94-.94-2.06-.94 2.06-2.06.94zm-11 1L8.5 8.5l.94-2.06 2.06-.94-2.06-.94L8.5 2.5l-.94 2.06-2.06.94zm10 10l.94 2.06.94-2.06 2.06-.94-2.06-.94-.94-2.06-.94 2.06-2.06.94z\"/><path d=\"M17.41 7.96l-1.37-1.37c-.4-.4-.92-.59-1.43-.59-.52 0-1.04.2-1.43.59L10.3 9.45l-7.72 7.72c-.78.78-.78 2.05 0 2.83L4 21.41c.39.39.9.59 1.41.59.51 0 1.02-.2 1.41-.59l7.78-7.78 2.81-2.81c.8-.78.8-2.07 0-2.86zM5.41 20L4 18.59l7.72-7.72 1.47 1.35L5.41 20z\"/>\n",
              "  </svg>\n",
              "      </button>\n",
              "      \n",
              "  <style>\n",
              "    .colab-df-container {\n",
              "      display:flex;\n",
              "      flex-wrap:wrap;\n",
              "      gap: 12px;\n",
              "    }\n",
              "\n",
              "    .colab-df-convert {\n",
              "      background-color: #E8F0FE;\n",
              "      border: none;\n",
              "      border-radius: 50%;\n",
              "      cursor: pointer;\n",
              "      display: none;\n",
              "      fill: #1967D2;\n",
              "      height: 32px;\n",
              "      padding: 0 0 0 0;\n",
              "      width: 32px;\n",
              "    }\n",
              "\n",
              "    .colab-df-convert:hover {\n",
              "      background-color: #E2EBFA;\n",
              "      box-shadow: 0px 1px 2px rgba(60, 64, 67, 0.3), 0px 1px 3px 1px rgba(60, 64, 67, 0.15);\n",
              "      fill: #174EA6;\n",
              "    }\n",
              "\n",
              "    [theme=dark] .colab-df-convert {\n",
              "      background-color: #3B4455;\n",
              "      fill: #D2E3FC;\n",
              "    }\n",
              "\n",
              "    [theme=dark] .colab-df-convert:hover {\n",
              "      background-color: #434B5C;\n",
              "      box-shadow: 0px 1px 3px 1px rgba(0, 0, 0, 0.15);\n",
              "      filter: drop-shadow(0px 1px 2px rgba(0, 0, 0, 0.3));\n",
              "      fill: #FFFFFF;\n",
              "    }\n",
              "  </style>\n",
              "\n",
              "      <script>\n",
              "        const buttonEl =\n",
              "          document.querySelector('#df-4f08022f-e342-43b7-8227-506108e8e0e8 button.colab-df-convert');\n",
              "        buttonEl.style.display =\n",
              "          google.colab.kernel.accessAllowed ? 'block' : 'none';\n",
              "\n",
              "        async function convertToInteractive(key) {\n",
              "          const element = document.querySelector('#df-4f08022f-e342-43b7-8227-506108e8e0e8');\n",
              "          const dataTable =\n",
              "            await google.colab.kernel.invokeFunction('convertToInteractive',\n",
              "                                                     [key], {});\n",
              "          if (!dataTable) return;\n",
              "\n",
              "          const docLinkHtml = 'Like what you see? Visit the ' +\n",
              "            '<a target=\"_blank\" href=https://colab.research.google.com/notebooks/data_table.ipynb>data table notebook</a>'\n",
              "            + ' to learn more about interactive tables.';\n",
              "          element.innerHTML = '';\n",
              "          dataTable['output_type'] = 'display_data';\n",
              "          await google.colab.output.renderOutput(dataTable, element);\n",
              "          const docLink = document.createElement('div');\n",
              "          docLink.innerHTML = docLinkHtml;\n",
              "          element.appendChild(docLink);\n",
              "        }\n",
              "      </script>\n",
              "    </div>\n",
              "  </div>\n",
              "  "
            ],
            "text/plain": [
              "        ano  id_municipio  area  ...  nao_floresta  hidrografia  % desmatado\n",
              "0      2000       1100015  7137  ...        1708.0         22.2    24.675634\n",
              "1      2001       1100015  7137  ...        1708.0         22.2    25.699874\n",
              "2      2002       1100015  7137  ...        1708.0         22.2    27.306992\n",
              "3      2003       1100015  7137  ...        1708.0         22.2    28.231750\n",
              "4      2004       1100015  7137  ...        1708.0         22.2    29.312036\n",
              "...     ...           ...   ...  ...           ...          ...          ...\n",
              "15955  2016       5108956  5277  ...          12.9          6.7    45.355316\n",
              "15956  2017       5108956  5277  ...          12.9          6.7    45.751374\n",
              "15957  2018       5108956  5277  ...          12.9          6.7    46.014781\n",
              "15958  2019       5108956  5277  ...          12.9          6.7    46.772788\n",
              "15959  2020       5108956  5277  ...          12.9          6.7    47.208641\n",
              "\n",
              "[15960 rows x 11 columns]"
            ]
          },
          "metadata": {},
          "execution_count": 57
        }
      ]
    },
    {
      "cell_type": "markdown",
      "source": [
        "##<font color='blue' style='font-size: 30px;'>Conhecendo os dados por ano</font>"
      ],
      "metadata": {
        "id": "OF_RDSgadZBJ"
      }
    },
    {
      "cell_type": "code",
      "source": [
        "grupo_ano = dados.groupby('ano')"
      ],
      "metadata": {
        "id": "aWzytEHySs2X"
      },
      "execution_count": null,
      "outputs": []
    },
    {
      "cell_type": "code",
      "source": [
        "df = pd.DataFrame(columns=['Ano','Área desmatada'])\n",
        "\n",
        "for ano, data in grupo_ano:\n",
        "    print('{} -> {}'.format(ano, data.desmatado.sum()))\n",
        "    df = df.append({'Ano': ano,'Área desmatada': data.desmatado.sum()},ignore_index=True)\n",
        "   "
      ],
      "metadata": {
        "colab": {
          "base_uri": "https://localhost:8080/"
        },
        "id": "h60yP8fMToAe",
        "outputId": "1f1fce49-b004-448f-a8d3-bd753cdb50c1"
      },
      "execution_count": null,
      "outputs": [
        {
          "output_type": "stream",
          "name": "stdout",
          "text": [
            "2000 -> 532920.5\n",
            "2001 -> 587431.6\n",
            "2002 -> 613144.6000000001\n",
            "2003 -> 643523.7\n",
            "2004 -> 670690.2\n",
            "2005 -> 694580.0\n",
            "2006 -> 705478.5\n",
            "2007 -> 716979.2\n",
            "2008 -> 730279.8999999999\n",
            "2009 -> 736830.7\n",
            "2010 -> 743164.3\n",
            "2011 -> 748774.0\n",
            "2012 -> 753228.2\n",
            "2013 -> 758637.2\n",
            "2014 -> 763760.7999999999\n",
            "2015 -> 769905.1000000001\n",
            "2016 -> 777170.8\n",
            "2017 -> 780968.2\n",
            "2018 -> 791854.5\n",
            "2019 -> 802898.3\n",
            "2020 -> 813485.8\n"
          ]
        }
      ]
    },
    {
      "cell_type": "code",
      "source": [
        "df.info()"
      ],
      "metadata": {
        "colab": {
          "base_uri": "https://localhost:8080/"
        },
        "id": "F0SNYi7Bhel6",
        "outputId": "c40b3007-8ae1-4cb3-9b68-0d76a2dbf505"
      },
      "execution_count": null,
      "outputs": [
        {
          "output_type": "stream",
          "name": "stdout",
          "text": [
            "<class 'pandas.core.frame.DataFrame'>\n",
            "RangeIndex: 21 entries, 0 to 20\n",
            "Data columns (total 2 columns):\n",
            " #   Column          Non-Null Count  Dtype  \n",
            "---  ------          --------------  -----  \n",
            " 0   Ano             21 non-null     float64\n",
            " 1   Área desmatada  21 non-null     float64\n",
            "dtypes: float64(2)\n",
            "memory usage: 464.0 bytes\n"
          ]
        }
      ]
    },
    {
      "cell_type": "markdown",
      "source": [
        "##<font color='blue' style='font-size: 30px;'>Hora de plotar os gráficos</font>"
      ],
      "metadata": {
        "id": "FkPMZdEIdfk3"
      }
    },
    {
      "cell_type": "code",
      "source": [
        "import matplotlib.pyplot as plt\n",
        "import numpy as np\n"
      ],
      "metadata": {
        "id": "YzOY5JU-k9SU"
      },
      "execution_count": null,
      "outputs": []
    },
    {
      "cell_type": "markdown",
      "source": [
        "###<font color='blue' style='font-size: 30px;'>Primeiro, por área desmatada</font>"
      ],
      "metadata": {
        "id": "Rnq2G_6rdmB8"
      }
    },
    {
      "cell_type": "code",
      "source": [
        "fig = plt.figure(figsize=(11.91,10)) #proporção recomendada pelo Linkedin\n",
        "eixo = fig.add_axes([0, 0, 1, 1])\n",
        "eixo.bar(df['Ano'], df['Área desmatada'], color = 'green', width=1, edgecolor=\"white\", linewidth=0.7)\n",
        "\n",
        "eixo.set_title('Evolução do Desmatamento na Amazônia nos últimos 20 anos', fontsize=25)\n",
        "eixo.set_ylabel('Área Desmatada Total (km2)', fontsize=20)\n",
        "eixo.set_xlabel('ano', fontsize=20)\n",
        "eixo.legend(['Área desmatada'], loc = 'upper left', fontsize=15)\n",
        "eixo.set_ylim([500000, 820000])\n"
      ],
      "metadata": {
        "colab": {
          "base_uri": "https://localhost:8080/",
          "height": 834
        },
        "id": "ICJU1g3kkuuf",
        "outputId": "d48a736c-3572-4676-81ec-f0a4e476dff6"
      },
      "execution_count": null,
      "outputs": [
        {
          "output_type": "execute_result",
          "data": {
            "text/plain": [
              "(500000.0, 820000.0)"
            ]
          },
          "metadata": {},
          "execution_count": 62
        },
        {
          "output_type": "display_data",
          "data": {
            "image/png": "[encoded data removed]",
            "text/plain": [
              "<Figure size 857.52x720 with 1 Axes>"
            ]
          },
          "metadata": {
            "needs_background": "light"
          }
        }
      ]
    },
    {
      "cell_type": "markdown",
      "source": [
        "###<font color='blue' style='font-size: 30px;'>Depois, por % de área desmatada</font>"
      ],
      "metadata": {
        "id": "CBsLVbzadqqv"
      }
    },
    {
      "cell_type": "code",
      "source": [
        "df = pd.DataFrame(columns=['Ano','% Área desmatada'])\n",
        "\n",
        "for ano, data in grupo_ano:\n",
        "    print('{} -> {}'.format(ano, data['% desmatado'].mean()))\n",
        "    df = df.append({'Ano': ano,'% Área desmatada': data['% desmatado'].mean()},ignore_index=True)"
      ],
      "metadata": {
        "colab": {
          "base_uri": "https://localhost:8080/"
        },
        "id": "rlr9jmF-UK_v",
        "outputId": "f1489317-84a4-4742-c6b7-6a03da217a89"
      },
      "execution_count": null,
      "outputs": [
        {
          "output_type": "stream",
          "name": "stdout",
          "text": [
            "2000 -> 27.85855087953522\n",
            "2001 -> 31.973784435372913\n",
            "2002 -> 32.7563053581227\n",
            "2003 -> 33.600462626382814\n",
            "2004 -> 34.23949602663731\n",
            "2005 -> 34.87015599749638\n",
            "2006 -> 35.13216472177302\n",
            "2007 -> 35.36511058530883\n",
            "2008 -> 35.71418246078029\n",
            "2009 -> 35.90246450157756\n",
            "2010 -> 36.056886564462445\n",
            "2011 -> 36.178335015945855\n",
            "2012 -> 36.27385755480967\n",
            "2013 -> 36.38188231003261\n",
            "2014 -> 36.4852715193571\n",
            "2015 -> 36.60098335133249\n",
            "2016 -> 36.72443181843238\n",
            "2017 -> 36.724047231265125\n",
            "2018 -> 36.991173816499085\n",
            "2019 -> 37.16545062508115\n",
            "2020 -> 37.32568868243272\n"
          ]
        }
      ]
    },
    {
      "cell_type": "code",
      "source": [
        "df['Ano'] = pd.to_numeric(df['Ano'], downcast='integer')"
      ],
      "metadata": {
        "id": "h9J00d3YcCB8"
      },
      "execution_count": null,
      "outputs": []
    },
    {
      "cell_type": "code",
      "source": [
        "df.info()"
      ],
      "metadata": {
        "colab": {
          "base_uri": "https://localhost:8080/"
        },
        "id": "La7s3cBYORUa",
        "outputId": "a0fffb2d-29c9-47c3-d689-12fceefd6780"
      },
      "execution_count": null,
      "outputs": [
        {
          "output_type": "stream",
          "name": "stdout",
          "text": [
            "<class 'pandas.core.frame.DataFrame'>\n",
            "RangeIndex: 21 entries, 0 to 20\n",
            "Data columns (total 2 columns):\n",
            " #   Column            Non-Null Count  Dtype  \n",
            "---  ------            --------------  -----  \n",
            " 0   Ano               21 non-null     int16  \n",
            " 1   % Área desmatada  21 non-null     float64\n",
            "dtypes: float64(1), int16(1)\n",
            "memory usage: 338.0 bytes\n"
          ]
        }
      ]
    },
    {
      "cell_type": "code",
      "source": [
        "fig = plt.figure(figsize=(11.91,10)) #proporção recomendada pelo Linkedin\n",
        "eixo = fig.add_axes([0, 0, 1, 1])\n",
        "eixo.bar(df['Ano'], df['% Área desmatada'], color = 'b', width=1, edgecolor=\"white\", linewidth=0.7,tick_label=df['Ano'])\n",
        "\n",
        "eixo.set_title('Evolução do % de Área Desmatada na Amazônia nos últimos 20 anos', fontsize=25)\n",
        "eixo.set_ylabel('% Área Desmatada', fontsize=20)\n",
        "eixo.set_xlabel('ano', fontsize=20)\n",
        "eixo.legend(['% Área Desmatada, ano a ano'], loc = 'upper left', fontsize=15)\n",
        "eixo.set_ylim([27, 38])\n",
        "eixo.tick_params(axis='both', which='major', labelsize=20,rotation=90)\n"
      ],
      "metadata": {
        "colab": {
          "base_uri": "https://localhost:8080/",
          "height": 861
        },
        "id": "zrn8fZ7fMRrv",
        "outputId": "e2361d13-28f4-4346-d97b-9df994b4697f"
      },
      "execution_count": null,
      "outputs": [
        {
          "output_type": "display_data",
          "data": {
            "image/png": "[encoded data removed]",
            "text/plain": [
              "<Figure size 857.52x720 with 1 Axes>"
            ]
          },
          "metadata": {
            "needs_background": "light"
          }
        }
      ]
    },
    {
      "cell_type": "code",
      "source": [
        "desmatamento_fhc = (33.6 - 27.85)/27.85 * 100\n",
        "desmatamento_lula = (36.17 - 33.6)/33.6 * 100\n",
        "desmatamento_dilma = (36.72 - 36.17)/36.17 * 100\n",
        "desmatamento_temer = (37.16 - 36.72)/36.72 * 100\n",
        "desmatamento_bolsonaro = (37.33 - 37.16)/37.16 * 100"
      ],
      "metadata": {
        "id": "VVyugetOWRL0"
      },
      "execution_count": null,
      "outputs": []
    },
    {
      "cell_type": "markdown",
      "source": [
        "##<font color='blue' style='font-size: 30px;'>Por fim, atribuindo os percentuais, por governo</font>"
      ],
      "metadata": {
        "id": "3-PFJNH6dzlo"
      }
    },
    {
      "cell_type": "code",
      "source": [
        "print(\"As 'contribuições' de cada presidente no aumento do % de área desmatada na Amazônia Legal:\\n\",\n",
        "      \"\\nFHC: \", round(desmatamento_fhc,2), \n",
        "      \"%\\nLULA: \", round(desmatamento_lula,2), \n",
        "      \"%\\nDILMA: \",round(desmatamento_dilma,2),\n",
        "      \"%\\nTEMER: \",round(desmatamento_temer,2), \n",
        "      \"%\\nBOLSONARO: \",round(desmatamento_bolsonaro,2),\"%\")"
      ],
      "metadata": {
        "id": "S4PMTHg_XlnV",
        "colab": {
          "base_uri": "https://localhost:8080/"
        },
        "outputId": "0a66457f-495e-4a0d-f3b6-2af8b1d5d7e2"
      },
      "execution_count": null,
      "outputs": [
        {
          "output_type": "stream",
          "name": "stdout",
          "text": [
            "As 'contribuições' de cada presidente no aumento do % de área desmatada na Amazônia Legal:\n",
            " \n",
            "FHC:  20.65 %\n",
            "LULA:  7.65 %\n",
            "DILMA:  1.52 %\n",
            "TEMER:  1.2 %\n",
            "BOLSONARO:  0.46 %\n"
          ]
        }
      ]
    },
    {
      "cell_type": "markdown",
      "source": [
        "##<font color='blue' style='font-size: 30px;'>Conclusão: os dados mostram que a cada governo que passa, o % de desmatamento amazônico diminui, ao contrário daquilo que a mídia propaga.</font>"
      ],
      "metadata": {
        "id": "nVUXLUAbfFG8"
      }
    }
  ]
}